{
  "nbformat": 4,
  "nbformat_minor": 0,
  "metadata": {
    "colab": {
      "name": "gcnn_classification.ipynb",
      "provenance": [],
      "collapsed_sections": [],
      "machine_shape": "hm"
    },
    "kernelspec": {
      "display_name": "Python 3",
      "name": "python3"
    },
    "language_info": {
      "name": "python"
    },
    "accelerator": "GPU"
  },
  "cells": [
    {
      "cell_type": "markdown",
      "metadata": {
        "id": "KIfzk8peUlWX"
      },
      "source": [
        "**Imports**"
      ]
    },
    {
      "cell_type": "code",
      "metadata": {
        "id": "rG4fkC1VUFR7"
      },
      "source": [
        "import os\n",
        "import sys\n",
        "import glob\n",
        "import time\n",
        "import yaml as yl\n",
        "import pickle as pk\n",
        "import numpy as np\n",
        "import pandas as pd\n",
        "import subprocess\n",
        "import datetime\n",
        "import matplotlib.pyplot as plt\n",
        "\n",
        "from google.colab import drive\n",
        "from sklearn import model_selection\n",
        "from sklearn.metrics import confusion_matrix, classification_report"
      ],
      "execution_count": null,
      "outputs": []
    },
    {
      "cell_type": "markdown",
      "metadata": {
        "id": "7FA-arG-UsiH"
      },
      "source": [
        "**Stellar** **Graph**"
      ]
    },
    {
      "cell_type": "code",
      "metadata": {
        "id": "1VLdG5pEUTWI"
      },
      "source": [
        "%pip install -q stellargraph==1.2.1\n",
        "\n",
        "import stellargraph as sg\n",
        "\n",
        "from stellargraph.mapper import PaddedGraphGenerator\n",
        "from stellargraph.layer import DeepGraphCNN\n",
        "from stellargraph import StellarDiGraph"
      ],
      "execution_count": null,
      "outputs": []
    },
    {
      "cell_type": "markdown",
      "metadata": {
        "id": "VhUKaVaOU4Mn"
      },
      "source": [
        "**Tensorflow**"
      ]
    },
    {
      "cell_type": "code",
      "metadata": {
        "id": "lxcBHGoKVF68"
      },
      "source": [
        "from tensorflow.keras import Model\n",
        "from tensorflow.keras.optimizers import Adam\n",
        "from tensorflow.keras.layers import Dense, Conv1D, MaxPool1D, Dropout, Flatten\n",
        "from tensorflow.keras.losses import categorical_crossentropy"
      ],
      "execution_count": null,
      "outputs": []
    },
    {
      "cell_type": "markdown",
      "metadata": {
        "id": "cF3BDjZlhrPo"
      },
      "source": [
        "**Profiler**"
      ]
    },
    {
      "cell_type": "code",
      "metadata": {
        "id": "AU-O4pOUhrml",
        "colab": {
          "base_uri": "https://localhost:8080/"
        },
        "outputId": "3480bf84-309e-408d-8cf8-90934b52b53c"
      },
      "source": [
        "#%pip install line_profiler\n",
        "%pip install memory_profiler\n",
        "%pip install wandb\n",
        "\n",
        "#import line_profiler\n",
        "%load_ext memory_profiler\n",
        "#import wandb"
      ],
      "execution_count": null,
      "outputs": [
        {
          "output_type": "stream",
          "text": [
            "Requirement already satisfied: memory_profiler in /usr/local/lib/python3.7/dist-packages (0.58.0)\n",
            "Requirement already satisfied: psutil in /usr/local/lib/python3.7/dist-packages (from memory_profiler) (5.4.8)\n",
            "Requirement already satisfied: wandb in /usr/local/lib/python3.7/dist-packages (0.12.0)\n",
            "Requirement already satisfied: shortuuid>=0.5.0 in /usr/local/lib/python3.7/dist-packages (from wandb) (1.0.1)\n",
            "Requirement already satisfied: docker-pycreds>=0.4.0 in /usr/local/lib/python3.7/dist-packages (from wandb) (0.4.0)\n",
            "Requirement already satisfied: psutil>=5.0.0 in /usr/local/lib/python3.7/dist-packages (from wandb) (5.4.8)\n",
            "Requirement already satisfied: pathtools in /usr/local/lib/python3.7/dist-packages (from wandb) (0.1.2)\n",
            "Requirement already satisfied: GitPython>=1.0.0 in /usr/local/lib/python3.7/dist-packages (from wandb) (3.1.18)\n",
            "Requirement already satisfied: Click!=8.0.0,>=7.0 in /usr/local/lib/python3.7/dist-packages (from wandb) (7.1.2)\n",
            "Requirement already satisfied: requests<3,>=2.0.0 in /usr/local/lib/python3.7/dist-packages (from wandb) (2.23.0)\n",
            "Requirement already satisfied: subprocess32>=3.5.3 in /usr/local/lib/python3.7/dist-packages (from wandb) (3.5.4)\n",
            "Requirement already satisfied: protobuf>=3.12.0 in /usr/local/lib/python3.7/dist-packages (from wandb) (3.17.3)\n",
            "Requirement already satisfied: sentry-sdk>=1.0.0 in /usr/local/lib/python3.7/dist-packages (from wandb) (1.3.1)\n",
            "Requirement already satisfied: configparser>=3.8.1 in /usr/local/lib/python3.7/dist-packages (from wandb) (5.0.2)\n",
            "Requirement already satisfied: six>=1.13.0 in /usr/local/lib/python3.7/dist-packages (from wandb) (1.15.0)\n",
            "Requirement already satisfied: promise<3,>=2.0 in /usr/local/lib/python3.7/dist-packages (from wandb) (2.3)\n",
            "Requirement already satisfied: PyYAML in /usr/local/lib/python3.7/dist-packages (from wandb) (3.13)\n",
            "Requirement already satisfied: python-dateutil>=2.6.1 in /usr/local/lib/python3.7/dist-packages (from wandb) (2.8.2)\n",
            "Requirement already satisfied: typing-extensions>=3.7.4.0 in /usr/local/lib/python3.7/dist-packages (from GitPython>=1.0.0->wandb) (3.7.4.3)\n",
            "Requirement already satisfied: gitdb<5,>=4.0.1 in /usr/local/lib/python3.7/dist-packages (from GitPython>=1.0.0->wandb) (4.0.7)\n",
            "Requirement already satisfied: smmap<5,>=3.0.1 in /usr/local/lib/python3.7/dist-packages (from gitdb<5,>=4.0.1->GitPython>=1.0.0->wandb) (4.0.0)\n",
            "Requirement already satisfied: idna<3,>=2.5 in /usr/local/lib/python3.7/dist-packages (from requests<3,>=2.0.0->wandb) (2.10)\n",
            "Requirement already satisfied: certifi>=2017.4.17 in /usr/local/lib/python3.7/dist-packages (from requests<3,>=2.0.0->wandb) (2021.5.30)\n",
            "Requirement already satisfied: chardet<4,>=3.0.2 in /usr/local/lib/python3.7/dist-packages (from requests<3,>=2.0.0->wandb) (3.0.4)\n",
            "Requirement already satisfied: urllib3!=1.25.0,!=1.25.1,<1.26,>=1.21.1 in /usr/local/lib/python3.7/dist-packages (from requests<3,>=2.0.0->wandb) (1.24.3)\n",
            "The memory_profiler extension is already loaded. To reload it, use:\n",
            "  %reload_ext memory_profiler\n"
          ],
          "name": "stdout"
        }
      ]
    },
    {
      "cell_type": "markdown",
      "metadata": {
        "id": "sX6EawME2ssQ"
      },
      "source": [
        "**Functions**"
      ]
    },
    {
      "cell_type": "code",
      "metadata": {
        "id": "74gj4vi22xEF"
      },
      "source": [
        "def execute(cmdline):\n",
        "  \"\"\"Execute a command.\"\"\"\n",
        "  try:\n",
        "    ret = subprocess.run(cmdline,\n",
        "                        shell=True,\n",
        "                        check=True,\n",
        "                        capture_output=True)\n",
        "  except subprocess.CalledProcessError:\n",
        "    print('Execute: {}'.format(cmdline))\n",
        "    return ''\n",
        "\n",
        "  return ret.stdout.decode(), ret.stderr.decode()\n",
        "\n",
        "def save(filename, data):\n",
        "  \"\"\"Save a file.\"\"\"\n",
        "  fout = open(filename, 'w')\n",
        "  fout.write(data)\n",
        "  fout.close()\n",
        "\n",
        "def get_edges_dataFrame(edges, edge_type='original'):\n",
        "  \"\"\"Return the edges.\"\"\"\n",
        "  source = []\n",
        "  target = []\n",
        "  type_ = []\n",
        "  for node1, node2, data in edges:\n",
        "      source.append(node1)\n",
        "      target.append(node2)\n",
        "      if edge_type == 'original':\n",
        "          type_.append(data)\n",
        "      elif edge_type == 'default':\n",
        "          type_.append('default')\n",
        "      elif edge_type == 'random':\n",
        "          type_.append(np.random.random())\n",
        "      else:\n",
        "          print('Error: edge_type', edge_type)\n",
        "          sys.exit(1)\n",
        "\n",
        "  return pd.DataFrame({'source': source, 'target': target, 'type': type_})\n",
        "\n",
        "def stellar_graph_no_edge_features(graph):\n",
        "  \"\"\"Remove the type of the edges: <type> -> default.\"\"\"\n",
        "\n",
        "  edges = get_edges_dataFrame(graph.edges(1), 'default')\n",
        "\n",
        "  s_graph = StellarDiGraph(graph.node_features(),\n",
        "                           edges=edges,\n",
        "                           edge_type_column=\"type\")\n",
        "  return s_graph\n",
        "\n",
        "def stellar_graph_no_node_features(graph):\n",
        "  \"\"\"Remove the node features.\"\"\"\n",
        "\n",
        "  edges = get_edges_dataFrame(graph.edges(1), 'original')\n",
        "\n",
        "  nof_nodes = graph.number_of_nodes()\n",
        "  nof_features = graph.node_feature_shapes()['default'][0]\n",
        "\n",
        "  node_features = np.zeros((nof_nodes, nof_features))\n",
        "\n",
        "  s_graph = StellarDiGraph(node_features,\n",
        "                           edges=edges,\n",
        "                           edge_type_column=\"type\")\n",
        "  return s_graph\n",
        "\n",
        "def stellar_graph_random_edge_features(graph):\n",
        "  \"\"\"Add random edge features.\"\"\"\n",
        "\n",
        "  edges = get_edges_dataFrame(graph.edges(1), 'random')\n",
        "\n",
        "  s_graph = StellarDiGraph(graph.node_features(),\n",
        "                           edges=edges,\n",
        "                           edge_type_column=\"type\")\n",
        "  return s_graph\n",
        "\n",
        "def stellar_graph_random_node_features(graph):\n",
        "  \"\"\"Add random node features.\"\"\"\n",
        "\n",
        "  edges = get_edges_dataFrame(graph.edges(1), 'original')\n",
        "\n",
        "  nof_nodes = graph.number_of_nodes()\n",
        "  nof_features = graph.node_feature_shapes()['default'][0]\n",
        "\n",
        "  node_features = np.random.random((nof_nodes, nof_features))\n",
        "\n",
        "  s_graph = StellarDiGraph(node_features,\n",
        "                           edges=edges,\n",
        "                           edge_type_column=\"type\")\n",
        "  return s_graph\n",
        "\n",
        "def stellar_graph_no_features(graph):\n",
        "  \"\"\"Remove the egde/node features.\"\"\"\n",
        "\n",
        "  edges = get_edges_dataFrame(graph.edges(1), 'default')\n",
        "\n",
        "  nof_nodes = graph.number_of_nodes()\n",
        "  nof_features = graph.node_feature_shapes()['default'][0]\n",
        "\n",
        "  node_features = np.zeros((nof_nodes, nof_features))\n",
        "\n",
        "  s_graph = StellarDiGraph(node_features,\n",
        "                           edges=edges,\n",
        "                           edge_type_column=\"type\")\n",
        "  return s_graph\n",
        "\n",
        "def create_model(graphs, classes, model_type='1_gcnn_32_v1'):\n",
        "  print('Generator ...')\n",
        "  %memit generator = PaddedGraphGenerator(graphs=graphs)\n",
        "\n",
        "  if model_type == '1_gcnn_32_v1':\n",
        "    k = 35  # the number of rows for the output tensor\n",
        "    layer_sizes = [32]\n",
        "\n",
        "    dgcnn_model = DeepGraphCNN(\n",
        "      layer_sizes=layer_sizes,\n",
        "      activations=[\"relu\"],\n",
        "      k=k,\n",
        "      bias=False,\n",
        "      generator=generator,  \n",
        "    )\n",
        "    x_inp, x_out = dgcnn_model.in_out_tensors()\n",
        "\n",
        "    # Add the convolutional, max pooling, and dense layers\n",
        "    x_out = Conv1D(filters=16, kernel_size=3, activation=\"relu\")(x_out)\n",
        "    x_out = MaxPool1D(pool_size=2)(x_out)\n",
        "    x_out = Conv1D(filters=32, kernel_size=5, activation=\"relu\")(x_out)\n",
        "    x_out = MaxPool1D(pool_size=2)(x_out)\n",
        "    x_out = Flatten()(x_out)\n",
        "    x_out = Dense(units=128, activation=\"relu\")(x_out)\n",
        "    x_out = Dropout(rate=0.5)(x_out)\n",
        "    outputs = Dense(units=classes, activation=\"sigmoid\")(x_out)\n",
        "\n",
        "    #\n",
        "    # Create the model and prepare it for training by specifying the loss and optimization algorithm\n",
        "    #\n",
        "    model = Model(inputs=x_inp, outputs=outputs)\n",
        "  elif model_type == '1_gcnn_32_v2':\n",
        "    k = 35  # the number of rows for the output tensor\n",
        "    layer_sizes = [32]\n",
        "\n",
        "    dgcnn_model = DeepGraphCNN(\n",
        "      layer_sizes=layer_sizes,\n",
        "      activations=[\"relu\"],\n",
        "      k=k,\n",
        "      bias=False,\n",
        "      generator=generator,\n",
        "    )\n",
        "    x_inp, x_out = dgcnn_model.in_out_tensors()\n",
        "\n",
        "    # Add the convolutional, max pooling, and dense layers\n",
        "    x_out = Conv1D(filters=16, kernel_size=sum(layer_sizes), strides=sum(layer_sizes))(x_out)\n",
        "    x_out = MaxPool1D(pool_size=2)(x_out)\n",
        "    x_out = Conv1D(filters=32, kernel_size=5, strides=1)(x_out)\n",
        "    x_out = Flatten()(x_out)\n",
        "    x_out = Dense(units=128, activation=\"relu\")(x_out)\n",
        "    x_out = Dropout(rate=0.5)(x_out)\n",
        "    outputs = Dense(units=classes, activation=\"sigmoid\")(x_out)\n",
        "    \n",
        "    #\n",
        "    # Create the model and prepare it for training by specifying the loss and optimization algorithm\n",
        "    #\n",
        "    model = Model(inputs=x_inp, outputs=outputs) \n",
        "  elif model_type == '1_gcnn_256_v1':\n",
        "    k = 35  # the number of rows for the output tensor\n",
        "    layer_sizes = [256]\n",
        "\n",
        "    dgcnn_model = DeepGraphCNN(\n",
        "      layer_sizes=layer_sizes,\n",
        "      activations=[\"relu\"],\n",
        "      k=k,\n",
        "      bias=False,\n",
        "      generator=generator,\n",
        "    )\n",
        "    x_inp, x_out = dgcnn_model.in_out_tensors()\n",
        "\n",
        "    # Add the convolutional, max pooling, and dense layers\n",
        "    x_out = Conv1D(filters=16, kernel_size=3, activation=\"relu\")(x_out)\n",
        "    x_out = MaxPool1D(pool_size=2)(x_out)\n",
        "    x_out = Conv1D(filters=32, kernel_size=5, activation=\"relu\")(x_out)\n",
        "    x_out = MaxPool1D(pool_size=2)(x_out)\n",
        "    x_out = Flatten()(x_out)\n",
        "    x_out = Dense(units=128, activation=\"relu\")(x_out)\n",
        "    x_out = Dropout(rate=0.5)(x_out)\n",
        "    outputs = Dense(units=classes, activation=\"sigmoid\")(x_out)\n",
        "    \n",
        "    #\n",
        "    # Create the model and prepare it for training by specifying the loss and optimization algorithm\n",
        "    #\n",
        "    model = Model(inputs=x_inp, outputs=outputs)  \n",
        "  elif model_type == '1_gcnn_256_v2':\n",
        "    k = 35  # the number of rows for the output tensor\n",
        "    layer_sizes = [256]\n",
        "\n",
        "    dgcnn_model = DeepGraphCNN(\n",
        "      layer_sizes=layer_sizes,\n",
        "      activations=[\"relu\"],\n",
        "      k=k,\n",
        "      bias=False,\n",
        "      generator=generator,\n",
        "    )\n",
        "    x_inp, x_out = dgcnn_model.in_out_tensors()\n",
        "\n",
        "    # Add the convolutional, max pooling, and dense layers\n",
        "    x_out = Conv1D(filters=16, kernel_size=sum(layer_sizes), strides=sum(layer_sizes))(x_out)\n",
        "    x_out = MaxPool1D(pool_size=2)(x_out)\n",
        "    x_out = Conv1D(filters=32, kernel_size=5, strides=1)(x_out)\n",
        "    x_out = Flatten()(x_out)\n",
        "    x_out = Dense(units=128, activation=\"relu\")(x_out)\n",
        "    x_out = Dropout(rate=0.5)(x_out)\n",
        "    outputs = Dense(units=classes, activation=\"sigmoid\")(x_out)\n",
        "    \n",
        "    #\n",
        "    # Create the model and prepare it for training by specifying the loss and optimization algorithm\n",
        "    #\n",
        "    model = Model(inputs=x_inp, outputs=outputs)           \n",
        "  elif model_type == '4_gcnn_v1':\n",
        "    k = 35  # the number of rows for the output tensor\n",
        "    layer_sizes = [256, 256, 256, classes]\n",
        "\n",
        "    dgcnn_model = DeepGraphCNN(\n",
        "      layer_sizes=layer_sizes,\n",
        "      activations=[\"relu\", \"relu\", \"relu\", \"relu\"],\n",
        "      k=k,\n",
        "      bias=False,\n",
        "      generator=generator,\n",
        "    )\n",
        "    x_inp, x_out = dgcnn_model.in_out_tensors()\n",
        "\n",
        "    # Add the convolutional, max pooling, and dense layers\n",
        "    x_out = Conv1D(filters=16, kernel_size=sum(layer_sizes), strides=sum(layer_sizes))(x_out)\n",
        "    x_out = MaxPool1D(pool_size=2)(x_out)\n",
        "    x_out = Conv1D(filters=32, kernel_size=5, strides=1)(x_out)\n",
        "    x_out = Flatten()(x_out)\n",
        "    x_out = Dense(units=128, activation=\"relu\")(x_out)\n",
        "    x_out = Dropout(rate=0.5)(x_out)\n",
        "    outputs = Dense(units=classes, activation=\"sigmoid\")(x_out)\n",
        "    \n",
        "    #\n",
        "    # Create the model and prepare it for training by specifying the loss and optimization algorithm\n",
        "    #\n",
        "    model = Model(inputs=x_inp, outputs=outputs) \n",
        "\n",
        "  return model"
      ],
      "execution_count": null,
      "outputs": []
    },
    {
      "cell_type": "markdown",
      "metadata": {
        "id": "A9MTLD1djY3l"
      },
      "source": [
        "**Arguments**"
      ]
    },
    {
      "cell_type": "code",
      "metadata": {
        "id": "o4AqVescjcvB"
      },
      "source": [
        "# Google Driver\n",
        "FLAGS_driver = '/content/drive'\n",
        "\n",
        "# Train data ratio\n",
        "FLAGS_train_ratio = 0.75\n",
        "\n",
        "# Validation data ratio\n",
        "FLAGS_val_ratio = 0.25\n",
        "\n",
        "# Test data ratio\n",
        "FLAGS_test_ratio = 0.20\n",
        "\n",
        "# Number of epochs\n",
        "FLAGS_epochs = 100\n",
        "\n",
        "# Verbose\n",
        "FLAGS_training_verbose = 1\n",
        "\n",
        "# Store the results?\n",
        "FLAGS_store_results = True\n",
        "\n",
        "# Store the model?\n",
        "FLAGS_store_model = False\n",
        "\n",
        "# Store Wandb data?\n",
        "FLAGS_store_wandb = False\n",
        "\n",
        "# Wandb project name\n",
        "FLAGS_project_name = 'bestseqssblp_200'\n",
        "\n",
        "# Breakdown the runtime\n",
        "FLAGS_times = {}\n",
        "\n",
        "# Dataset\n",
        "#\n",
        "# classifyapp/Oz\n",
        "# classifyapp/Oz\n",
        "# bestseqssblp/O0/group1.1000\n",
        "#\n",
        "FLAGS_dataset = 'bestseqssblp2021.poj/200/Oz'\n",
        "\n",
        "# Result directory\n",
        "#\n",
        "# classifyapp/POJ-104\n",
        "FLAGS_r_d_name = 'bestseqssblp_200'\n",
        "\n",
        "# Result directory suffix\n",
        "FLAGS_suffix = ''\n",
        "\n",
        "# Model\n",
        "FLAGS_model = '1_gcnn_32_v1'\n",
        "\n",
        "# Source ratio (use all data?)\n",
        "#\n",
        "# It is not possible to use all POJ dataset in Colab (error -> out of memory).\n",
        "# It is possible to load 450 sources (90%) per group.\n",
        "#\n",
        "# POJ ratios -> 0.9, 0.45, 0.09\n",
        "FLAGS_source_ratio = 1.0\n",
        "\n",
        "# Filter the source data\n",
        "FLAGS_filter_source = False\n",
        "\n",
        "# Number of labels\n",
        "#\n",
        "# POJ labels -> 104, 52, 10\n",
        "FLAGS_labels = 11\n",
        "\n",
        "# Features type: all, no edges, no nodes\n",
        "FLAGS_features = 'no_features'\n",
        "\n",
        "# Round\n",
        "FLAGS_round = 'round3'\n",
        "\n",
        "# Random state\n",
        "FLAGS_random_state = {'round1': 123456789, 'round2': 12345678, 'round3': 1234567}\n",
        "\n",
        "# Graph\n",
        "#\n",
        "# programlnoroot\n",
        "# cfgcallnoroot\n",
        "# cfgcallcompactnoroot\n",
        "# cfgcallcompact1enoroot\n",
        "# cdfgcallnoroot\n",
        "# cdfgcallcompactnoroot\n",
        "# cdfgcallcompact1enoroot\n",
        "# cdfgplusnoroot\n",
        "FLAGS_graph = 'programlnoroot'\n",
        "\n",
        "# Embeddings\n",
        "#\n",
        "# bag_of_words\n",
        "# inst2vec\n",
        "# ir2vec\n",
        "# opcodes\n",
        "FLAGS_embeddings = 'inst2vec' \n",
        "\n",
        "# Results directory\n",
        "last = '{}_{}_{}'.format(FLAGS_features, FLAGS_labels, FLAGS_source_ratio) if not FLAGS_suffix else '{}_{}_{}_{}'.format(FLAGS_features, FLAGS_labels, FLAGS_source_ratio, FLAGS_suffix)\n",
        "FLAGS_results_directory = os.path.join(FLAGS_driver,\n",
        "                                        'My Drive/classification/{}'.format(FLAGS_r_d_name),\n",
        "                                        FLAGS_round,\n",
        "                                        '{}/{}'.format(FLAGS_graph, FLAGS_embeddings),\n",
        "                                        last)\n",
        "\n",
        "# Dataset directory\n",
        "FLAGS_dataset_directory = os.path.join(FLAGS_graph,\n",
        "                                        FLAGS_embeddings)"
      ],
      "execution_count": null,
      "outputs": []
    },
    {
      "cell_type": "markdown",
      "metadata": {
        "id": "IbxHHwngACel"
      },
      "source": [
        "**Import the dataset**"
      ]
    },
    {
      "cell_type": "code",
      "metadata": {
        "id": "40kx7ji0AH1s",
        "colab": {
          "base_uri": "https://localhost:8080/"
        },
        "outputId": "df3aa75b-b0da-4d49-b63a-294a48c8c261"
      },
      "source": [
        "#\n",
        "# Cleanup\n",
        "#\n",
        "command = 'rm -rf {}* gpu.log gpu_usage.sh graphs-number-of-nodes.yaml'.format(FLAGS_graph)\n",
        "!$command\n",
        "\n",
        "#\n",
        "# The graphs\n",
        "#\n",
        "wget = 'wget www.csl.uem.br/repository/data/{}/{}.tar.xz'.format(FLAGS_dataset, FLAGS_graph)\n",
        "tar = 'tar xfJ {}.tar.xz'.format(FLAGS_graph)\n",
        "!$wget\n",
        "!$tar\n",
        "\n",
        "if FLAGS_filter_source:\n",
        "  # \n",
        "  # Graphs' number of nodes (to filter data)\n",
        "  #\n",
        "  wget = 'wget www.csl.uem.br/repository/data/{}/graphs-number-of-nodes.yaml'.format(FLAGS_dataset)\n",
        "  !$wget\n"
      ],
      "execution_count": null,
      "outputs": [
        {
          "output_type": "stream",
          "text": [
            "--2021-08-23 20:19:45--  http://www.csl.uem.br/repository/data/bestseqssblp2021.poj/200/Oz/programlnoroot.tar.xz\n",
            "Resolving www.csl.uem.br (www.csl.uem.br)... 186.233.153.209\n",
            "Connecting to www.csl.uem.br (www.csl.uem.br)|186.233.153.209|:80... connected.\n",
            "HTTP request sent, awaiting response... 301 Moved Permanently\n",
            "Location: https://www.csl.uem.br/repository/data/bestseqssblp2021.poj/200/Oz/programlnoroot.tar.xz [following]\n",
            "--2021-08-23 20:19:46--  https://www.csl.uem.br/repository/data/bestseqssblp2021.poj/200/Oz/programlnoroot.tar.xz\n",
            "Connecting to www.csl.uem.br (www.csl.uem.br)|186.233.153.209|:443... connected.\n",
            "HTTP request sent, awaiting response... 200 OK\n",
            "Length: 10870744 (10M) [application/octet-stream]\n",
            "Saving to: ‘programlnoroot.tar.xz’\n",
            "\n",
            "programlnoroot.tar. 100%[===================>]  10.37M  2.38MB/s    in 5.1s    \n",
            "\n",
            "2021-08-23 20:19:52 (2.04 MB/s) - ‘programlnoroot.tar.xz’ saved [10870744/10870744]\n",
            "\n"
          ],
          "name": "stdout"
        }
      ]
    },
    {
      "cell_type": "markdown",
      "metadata": {
        "id": "NS2WjpcfB4Fz"
      },
      "source": [
        "**Background Monitor**"
      ]
    },
    {
      "cell_type": "code",
      "metadata": {
        "id": "YsRKDYnee8kH"
      },
      "source": [
        "!rm -f gpu.log gpu_usage.sh"
      ],
      "execution_count": null,
      "outputs": []
    },
    {
      "cell_type": "code",
      "metadata": {
        "id": "XekwTdYcVE-_",
        "colab": {
          "base_uri": "https://localhost:8080/"
        },
        "outputId": "cb7d16e2-4569-4076-836d-94ad74a1025f"
      },
      "source": [
        "%%writefile gpu_usage.sh\n",
        "#! /bin/bash\n",
        "#comment: run for 24 hours, change it as per your use\n",
        "end=$((SECONDS+86400))\n",
        "\n",
        "while [ $SECONDS -lt $end ]; do\n",
        "    nvidia-smi --format=csv --query-gpu=power.draw,utilization.gpu,memory.used,memory.free,fan.speed,temperature.gpu >> gpu.log\n",
        "    #comment: or use below command and comment above using #\n",
        "    #nvidia-smi dmon -i 0 -s mu -d 1 -o TD >> gpu.log\n",
        "done"
      ],
      "execution_count": null,
      "outputs": [
        {
          "output_type": "stream",
          "text": [
            "Writing gpu_usage.sh\n"
          ],
          "name": "stdout"
        }
      ]
    },
    {
      "cell_type": "code",
      "metadata": {
        "id": "T82-knVNVw_V",
        "colab": {
          "base_uri": "https://localhost:8080/"
        },
        "outputId": "ef94181b-5439-4d75-c724-123de4a966a9"
      },
      "source": [
        "%%bash --bg\n",
        "\n",
        "bash gpu_usage.sh"
      ],
      "execution_count": null,
      "outputs": [
        {
          "output_type": "stream",
          "text": [
            "Starting job # 10 in a separate thread.\n"
          ],
          "name": "stdout"
        }
      ]
    },
    {
      "cell_type": "markdown",
      "metadata": {
        "id": "r9uUXaGgmC0r"
      },
      "source": [
        "**Open Google Drive**"
      ]
    },
    {
      "cell_type": "code",
      "metadata": {
        "id": "6n5wyoVLmHJN",
        "colab": {
          "base_uri": "https://localhost:8080/"
        },
        "outputId": "abb08b92-5420-449a-907d-b839767d2746"
      },
      "source": [
        "if FLAGS_store_results:\n",
        "  drive.mount('/content/drive')"
      ],
      "execution_count": null,
      "outputs": [
        {
          "output_type": "stream",
          "text": [
            "Mounted at /content/drive\n"
          ],
          "name": "stdout"
        }
      ]
    },
    {
      "cell_type": "markdown",
      "metadata": {
        "id": "xccaNp8obm1a"
      },
      "source": [
        "**Initiate Wandb**"
      ]
    },
    {
      "cell_type": "code",
      "metadata": {
        "id": "gSyfMH6ebqAt"
      },
      "source": [
        "if FLAGS_store_wandb:\n",
        "  PROJECT_NAME = '{}_{}_{}_{}_{}'.format(FLAGS_project_name,\n",
        "                                        FLAGS_round,\n",
        "                                        FLAGS_graph,\n",
        "                                        FLAGS_embeddings,\n",
        "                                        '{}_{}_{}'.format(FLAGS_features,\n",
        "                                                          FLAGS_labels,\n",
        "                                                          FLAGS_source_ratio)\n",
        "                                            )\n",
        "  wandb.init(project=PROJECT_NAME, entity='andersonfaustino')"
      ],
      "execution_count": null,
      "outputs": []
    },
    {
      "cell_type": "markdown",
      "metadata": {
        "id": "nzhgQOwFg-Au"
      },
      "source": [
        "**Load the dataset statistics**"
      ]
    },
    {
      "cell_type": "code",
      "metadata": {
        "id": "I1AfL2fKg-X6"
      },
      "source": [
        "if FLAGS_filter_source:\n",
        "  fin = open('graphs-number-of-nodes.yaml', 'r')\n",
        "  graphs_size = yl.load(fin)\n",
        "  fin.close()"
      ],
      "execution_count": null,
      "outputs": []
    },
    {
      "cell_type": "markdown",
      "metadata": {
        "id": "4XwBQyf7auFe"
      },
      "source": [
        "**Load the dataset**"
      ]
    },
    {
      "cell_type": "code",
      "metadata": {
        "id": "3e-ZpxHYawzh"
      },
      "source": [
        "labels = []\n",
        "graphs = [] \n",
        "\n",
        "start = time.time()\n",
        "\n",
        "if FLAGS_filter_source:\n",
        "\n",
        "  for label in range(1, FLAGS_labels+1):\n",
        "    sources = graphs_size[label]\n",
        "    sources.sort()        \n",
        "    \n",
        "    nof_sources = int(len(sources) * FLAGS_source_ratio)  \n",
        "\n",
        "    for i, source in enumerate(sources):\n",
        "      try:\n",
        "        filename = '{}/{}/{}.pk'.format(FLAGS_dataset_directory, label, source[1])\n",
        "        fin = open(filename, 'rb')\n",
        "        graph = pk.load(fin)\n",
        "        fin.close()\n",
        "      except:\n",
        "        print('Erro load', FLAGS_dataset_directory, label, source[1], flush=True)\n",
        "        continue\n",
        "\n",
        "      if FLAGS_features == 'no_edge_features':\n",
        "        graph = stellar_graph_no_edge_features(graph)\n",
        "      elif FLAGS_features == 'no_node_features':\n",
        "        graph = stellar_graph_no_node_features(graph)\n",
        "      elif FLAGS_features == 'random_edge_features':\n",
        "        graph = stellar_graph_random_edge_features(graph)        \n",
        "      elif FLAGS_features == 'random_node_features':\n",
        "        graph = stellar_graph_random_node_features(graph)       \n",
        "      elif FLAGS_features == 'no_features':\n",
        "        graph = stellar_graph_no_features(graph)\n",
        "\n",
        "      labels.append(label-1)\n",
        "      graphs.append(graph)      \n",
        "\n",
        "      if i == nof_sources - 1:\n",
        "        break\n",
        "else:\n",
        "\n",
        "  for label in range(1, FLAGS_labels+1):\n",
        "    sources = glob.glob('{}/{}/*.pk'.format(FLAGS_dataset_directory, label))          \n",
        "    \n",
        "    nof_sources = int(len(sources) * FLAGS_source_ratio)  \n",
        "\n",
        "    for i, source in enumerate(sources):\n",
        "      try:\n",
        "        fin = open(source, 'rb')\n",
        "        graph = pk.load(fin)\n",
        "        fin.close()\n",
        "      except:\n",
        "        print('Erro load', source, flush=True)\n",
        "        continue\n",
        "\n",
        "      if FLAGS_features == 'no_edge_features':\n",
        "        graph = stellar_graph_no_edge_features(graph)\n",
        "      elif FLAGS_features == 'no_node_features':\n",
        "        graph = stellar_graph_no_node_features(graph)\n",
        "      elif FLAGS_features == 'random_edge_features':\n",
        "        graph = stellar_graph_random_edge_features(graph)         \n",
        "      elif FLAGS_features == 'random_node_features':\n",
        "        graph = stellar_graph_random_node_features(graph)         \n",
        "      elif FLAGS_features == 'no_features':\n",
        "        graph = stellar_graph_no_features(graph)\n",
        "\n",
        "      labels.append(label-1)\n",
        "      graphs.append(graph)      \n",
        "\n",
        "      if i == nof_sources - 1:\n",
        "        break\n",
        "\n",
        "end = time.time()\n",
        "\n",
        "FLAGS_times['loading'] = end - start\n",
        "\n"
      ],
      "execution_count": null,
      "outputs": []
    },
    {
      "cell_type": "markdown",
      "metadata": {
        "id": "GEqGETrDaSNn"
      },
      "source": [
        "**Encode the class values**"
      ]
    },
    {
      "cell_type": "code",
      "metadata": {
        "id": "0QkrkoQkaWD0",
        "colab": {
          "base_uri": "https://localhost:8080/"
        },
        "outputId": "25d9556b-9c7a-4889-8029-8551ba3f58df"
      },
      "source": [
        "graphs_label = pd.Series(labels, name='label', dtype=\"category\")  \n",
        "\n",
        "summary = pd.DataFrame(\n",
        "  [(g.number_of_nodes(), g.number_of_edges()) for g in graphs],\n",
        "  columns=['nodes', 'edges'],\n",
        ")\n",
        "print('\\n', summary.describe().round(1), flush=True)\n",
        "print('\\n', graphs_label.value_counts().to_frame(), flush=True)\n",
        "\n",
        "graphs_label = pd.get_dummies(graphs_label)\n",
        "classes = graphs_label.shape[1]"
      ],
      "execution_count": null,
      "outputs": [
        {
          "output_type": "stream",
          "text": [
            "\n",
            "         nodes   edges\n",
            "count  2200.0  2200.0\n",
            "mean    177.0   297.1\n",
            "std      91.8   168.8\n",
            "min      10.0     9.0\n",
            "25%     124.0   206.0\n",
            "50%     153.0   255.0\n",
            "75%     217.0   364.0\n",
            "max    1584.0  2904.0\n",
            "\n",
            "     label\n",
            "10    200\n",
            "9     200\n",
            "8     200\n",
            "7     200\n",
            "6     200\n",
            "5     200\n",
            "4     200\n",
            "3     200\n",
            "2     200\n",
            "1     200\n",
            "0     200\n"
          ],
          "name": "stdout"
        }
      ]
    },
    {
      "cell_type": "markdown",
      "metadata": {
        "id": "k-61I4RgZ5gj"
      },
      "source": [
        "**Create the model**"
      ]
    },
    {
      "cell_type": "code",
      "metadata": {
        "id": "Co-j9Rj4Z707",
        "colab": {
          "base_uri": "https://localhost:8080/"
        },
        "outputId": "68e60025-6a70-4809-bbae-9f0d53baca67"
      },
      "source": [
        "model = create_model(graphs, classes, FLAGS_model)\n",
        "model.compile(optimizer=Adam(learning_rate=0.0001), loss=categorical_crossentropy, metrics=['accuracy'])\n",
        "model.summary()"
      ],
      "execution_count": null,
      "outputs": [
        {
          "output_type": "stream",
          "text": [
            "Generator ...\n",
            "peak memory: 11113.31 MiB, increment: 0.02 MiB\n",
            "Model: \"model_9\"\n",
            "__________________________________________________________________________________________________\n",
            "Layer (type)                    Output Shape         Param #     Connected to                     \n",
            "==================================================================================================\n",
            "input_28 (InputLayer)           [(None, None, 200)]  0                                            \n",
            "__________________________________________________________________________________________________\n",
            "dropout_18 (Dropout)            (None, None, 200)    0           input_28[0][0]                   \n",
            "__________________________________________________________________________________________________\n",
            "input_30 (InputLayer)           [(None, None, None)] 0                                            \n",
            "__________________________________________________________________________________________________\n",
            "graph_convolution_9 (GraphConvo (None, None, 32)     6400        dropout_18[0][0]                 \n",
            "                                                                 input_30[0][0]                   \n",
            "__________________________________________________________________________________________________\n",
            "tf.identity_9 (TFOpLambda)      (None, None, 32)     0           graph_convolution_9[0][0]        \n",
            "__________________________________________________________________________________________________\n",
            "input_29 (InputLayer)           [(None, None)]       0                                            \n",
            "__________________________________________________________________________________________________\n",
            "sort_pooling_9 (SortPooling)    (None, 1120, 1)      0           tf.identity_9[0][0]              \n",
            "                                                                 input_29[0][0]                   \n",
            "__________________________________________________________________________________________________\n",
            "conv1d_18 (Conv1D)              (None, 1118, 16)     64          sort_pooling_9[0][0]             \n",
            "__________________________________________________________________________________________________\n",
            "max_pooling1d_18 (MaxPooling1D) (None, 559, 16)      0           conv1d_18[0][0]                  \n",
            "__________________________________________________________________________________________________\n",
            "conv1d_19 (Conv1D)              (None, 555, 32)      2592        max_pooling1d_18[0][0]           \n",
            "__________________________________________________________________________________________________\n",
            "max_pooling1d_19 (MaxPooling1D) (None, 277, 32)      0           conv1d_19[0][0]                  \n",
            "__________________________________________________________________________________________________\n",
            "flatten_9 (Flatten)             (None, 8864)         0           max_pooling1d_19[0][0]           \n",
            "__________________________________________________________________________________________________\n",
            "dense_18 (Dense)                (None, 128)          1134720     flatten_9[0][0]                  \n",
            "__________________________________________________________________________________________________\n",
            "dropout_19 (Dropout)            (None, 128)          0           dense_18[0][0]                   \n",
            "__________________________________________________________________________________________________\n",
            "dense_19 (Dense)                (None, 11)           1419        dropout_19[0][0]                 \n",
            "==================================================================================================\n",
            "Total params: 1,145,195\n",
            "Trainable params: 1,145,195\n",
            "Non-trainable params: 0\n",
            "__________________________________________________________________________________________________\n"
          ],
          "name": "stdout"
        }
      ]
    },
    {
      "cell_type": "markdown",
      "metadata": {
        "id": "woargju4WJ-J"
      },
      "source": [
        "**Prepare the dataaset**"
      ]
    },
    {
      "cell_type": "code",
      "metadata": {
        "id": "qiZcIqKSZnRs",
        "colab": {
          "base_uri": "https://localhost:8080/"
        },
        "outputId": "a594b5c2-a5eb-4269-86ac-f1091f5e3e44"
      },
      "source": [
        "train_graphs, test_graphs = model_selection.train_test_split(\n",
        "  graphs_label,\n",
        "  train_size=1.0-FLAGS_test_ratio,\n",
        "  test_size=FLAGS_test_ratio,\n",
        "  stratify=graphs_label,\n",
        "  random_state=FLAGS_random_state[FLAGS_round]\n",
        ")\n",
        "\n",
        "train_graphs, val_graphs = model_selection.train_test_split(\n",
        "  train_graphs,\n",
        "  train_size=FLAGS_train_ratio,\n",
        "  test_size=FLAGS_val_ratio,\n",
        "  stratify=train_graphs,\n",
        "  random_state=FLAGS_random_state[FLAGS_round]\n",
        ")\n",
        "\n",
        "%memit gen = PaddedGraphGenerator(graphs=graphs)\n",
        "%memit train_gen = gen.flow(list(train_graphs.index), targets=train_graphs.values, batch_size=50, symmetric_normalization=False)\n",
        "%memit val_gen = gen.flow(list(val_graphs.index), targets=val_graphs.values, batch_size=1, symmetric_normalization=False)\n",
        "%memit test_gen = gen.flow(list(test_graphs.index), targets=test_graphs.values, batch_size=1, symmetric_normalization=False) \n",
        "\n",
        "print('Training:', train_graphs.shape[0], flush=True)\n",
        "print('Validation:', val_graphs.shape[0], flush=True)\n",
        "print('Test:', test_graphs.shape[0], flush=True)"
      ],
      "execution_count": null,
      "outputs": [
        {
          "output_type": "stream",
          "text": [
            "peak memory: 11113.32 MiB, increment: 0.00 MiB\n",
            "peak memory: 11113.57 MiB, increment: 0.25 MiB\n",
            "peak memory: 11115.16 MiB, increment: 1.60 MiB\n",
            "peak memory: 11116.89 MiB, increment: 1.72 MiB\n",
            "Training: 1320\n",
            "Validation: 440\n",
            "Test: 440\n"
          ],
          "name": "stdout"
        }
      ]
    },
    {
      "cell_type": "markdown",
      "metadata": {
        "id": "S9zn2-s6V681"
      },
      "source": [
        "**Training**"
      ]
    },
    {
      "cell_type": "code",
      "metadata": {
        "id": "udFCunxrV-qK",
        "colab": {
          "base_uri": "https://localhost:8080/"
        },
        "outputId": "a0a9ec6a-54ed-47a8-b868-44cf3be99678"
      },
      "source": [
        "start = time.time()\n",
        "%memit history = model.fit(train_gen, epochs=FLAGS_epochs, verbose=FLAGS_training_verbose, validation_data=val_gen, shuffle=True)\n",
        "end = time.time()\n",
        "\n",
        "FLAGS_times['training'] = end - start"
      ],
      "execution_count": null,
      "outputs": [
        {
          "output_type": "stream",
          "text": [
            "Epoch 1/100\n"
          ],
          "name": "stdout"
        },
        {
          "output_type": "stream",
          "text": [
            "/usr/local/lib/python3.7/dist-packages/tensorflow/python/framework/indexed_slices.py:449: UserWarning: Converting sparse IndexedSlices(IndexedSlices(indices=Tensor(\"gradient_tape/model_9/sort_pooling_9/map/while/gradients/model_9/sort_pooling_9/map/while/GatherV2_grad/Reshape_1:0\", shape=(None,), dtype=int32), values=Tensor(\"gradient_tape/model_9/sort_pooling_9/map/while/gradients/model_9/sort_pooling_9/map/while/GatherV2_grad/Reshape:0\", shape=(None, None), dtype=float32), dense_shape=Tensor(\"gradient_tape/model_9/sort_pooling_9/map/while/gradients/model_9/sort_pooling_9/map/while/GatherV2_grad/Cast:0\", shape=(2,), dtype=int32))) to a dense Tensor of unknown shape. This may consume a large amount of memory.\n",
            "  \"shape. This may consume a large amount of memory.\" % value)\n"
          ],
          "name": "stderr"
        },
        {
          "output_type": "stream",
          "text": [
            "27/27 [==============================] - 10s 307ms/step - loss: 2.3979 - accuracy: 0.0833 - val_loss: 2.3979 - val_accuracy: 0.0909\n",
            "Epoch 2/100\n",
            "27/27 [==============================] - 6s 206ms/step - loss: 2.3979 - accuracy: 0.0909 - val_loss: 2.3979 - val_accuracy: 0.0909\n",
            "Epoch 3/100\n",
            "27/27 [==============================] - 6s 240ms/step - loss: 2.3979 - accuracy: 0.0909 - val_loss: 2.3979 - val_accuracy: 0.0909\n",
            "Epoch 4/100\n",
            "27/27 [==============================] - 6s 240ms/step - loss: 2.3979 - accuracy: 0.0909 - val_loss: 2.3979 - val_accuracy: 0.0909\n",
            "Epoch 5/100\n",
            "27/27 [==============================] - 6s 236ms/step - loss: 2.3979 - accuracy: 0.0909 - val_loss: 2.3979 - val_accuracy: 0.0909\n",
            "Epoch 6/100\n",
            "27/27 [==============================] - 6s 242ms/step - loss: 2.3979 - accuracy: 0.0909 - val_loss: 2.3979 - val_accuracy: 0.0909\n",
            "Epoch 7/100\n",
            "27/27 [==============================] - 6s 234ms/step - loss: 2.3979 - accuracy: 0.0909 - val_loss: 2.3979 - val_accuracy: 0.0909\n",
            "Epoch 8/100\n",
            "27/27 [==============================] - 6s 236ms/step - loss: 2.3979 - accuracy: 0.0909 - val_loss: 2.3979 - val_accuracy: 0.0909\n",
            "Epoch 9/100\n",
            "27/27 [==============================] - 6s 226ms/step - loss: 2.3979 - accuracy: 0.0909 - val_loss: 2.3979 - val_accuracy: 0.0909\n",
            "Epoch 10/100\n",
            "27/27 [==============================] - 6s 236ms/step - loss: 2.3979 - accuracy: 0.0909 - val_loss: 2.3979 - val_accuracy: 0.0909\n",
            "Epoch 11/100\n",
            "27/27 [==============================] - 6s 237ms/step - loss: 2.3979 - accuracy: 0.0909 - val_loss: 2.3979 - val_accuracy: 0.0909\n",
            "Epoch 12/100\n",
            "27/27 [==============================] - 6s 237ms/step - loss: 2.3979 - accuracy: 0.0909 - val_loss: 2.3979 - val_accuracy: 0.0909\n",
            "Epoch 13/100\n",
            "27/27 [==============================] - 6s 225ms/step - loss: 2.3979 - accuracy: 0.0909 - val_loss: 2.3979 - val_accuracy: 0.0909\n",
            "Epoch 14/100\n",
            "27/27 [==============================] - 6s 236ms/step - loss: 2.3979 - accuracy: 0.0909 - val_loss: 2.3979 - val_accuracy: 0.0909\n",
            "Epoch 15/100\n",
            "27/27 [==============================] - 6s 236ms/step - loss: 2.3979 - accuracy: 0.0909 - val_loss: 2.3979 - val_accuracy: 0.0909\n",
            "Epoch 16/100\n",
            "27/27 [==============================] - 6s 240ms/step - loss: 2.3979 - accuracy: 0.0909 - val_loss: 2.3979 - val_accuracy: 0.0909\n",
            "Epoch 17/100\n",
            "27/27 [==============================] - 6s 233ms/step - loss: 2.3979 - accuracy: 0.0909 - val_loss: 2.3979 - val_accuracy: 0.0909\n",
            "Epoch 18/100\n",
            "27/27 [==============================] - 6s 236ms/step - loss: 2.3979 - accuracy: 0.0909 - val_loss: 2.3979 - val_accuracy: 0.0909\n",
            "Epoch 19/100\n",
            "27/27 [==============================] - 6s 237ms/step - loss: 2.3979 - accuracy: 0.0909 - val_loss: 2.3979 - val_accuracy: 0.0909\n",
            "Epoch 20/100\n",
            "27/27 [==============================] - 7s 242ms/step - loss: 2.3979 - accuracy: 0.0909 - val_loss: 2.3979 - val_accuracy: 0.0909\n",
            "Epoch 21/100\n",
            "27/27 [==============================] - 6s 234ms/step - loss: 2.3979 - accuracy: 0.0909 - val_loss: 2.3979 - val_accuracy: 0.0909\n",
            "Epoch 22/100\n",
            "27/27 [==============================] - 6s 234ms/step - loss: 2.3979 - accuracy: 0.0909 - val_loss: 2.3979 - val_accuracy: 0.0909\n",
            "Epoch 23/100\n",
            "27/27 [==============================] - 6s 230ms/step - loss: 2.3979 - accuracy: 0.0909 - val_loss: 2.3979 - val_accuracy: 0.0909\n",
            "Epoch 24/100\n",
            "27/27 [==============================] - 6s 223ms/step - loss: 2.3979 - accuracy: 0.0909 - val_loss: 2.3979 - val_accuracy: 0.0909\n",
            "Epoch 25/100\n",
            "27/27 [==============================] - 6s 231ms/step - loss: 2.3979 - accuracy: 0.0909 - val_loss: 2.3979 - val_accuracy: 0.0909\n",
            "Epoch 26/100\n",
            "27/27 [==============================] - 6s 236ms/step - loss: 2.3979 - accuracy: 0.0909 - val_loss: 2.3979 - val_accuracy: 0.0909\n",
            "Epoch 27/100\n",
            "27/27 [==============================] - 6s 240ms/step - loss: 2.3979 - accuracy: 0.0909 - val_loss: 2.3979 - val_accuracy: 0.0909\n",
            "Epoch 28/100\n",
            "27/27 [==============================] - 6s 233ms/step - loss: 2.3979 - accuracy: 0.0909 - val_loss: 2.3979 - val_accuracy: 0.0909\n",
            "Epoch 29/100\n",
            "27/27 [==============================] - 6s 224ms/step - loss: 2.3979 - accuracy: 0.0909 - val_loss: 2.3979 - val_accuracy: 0.0909\n",
            "Epoch 30/100\n",
            "27/27 [==============================] - 6s 230ms/step - loss: 2.3979 - accuracy: 0.0909 - val_loss: 2.3979 - val_accuracy: 0.0909\n",
            "Epoch 31/100\n",
            "27/27 [==============================] - 6s 234ms/step - loss: 2.3979 - accuracy: 0.0909 - val_loss: 2.3979 - val_accuracy: 0.0909\n",
            "Epoch 32/100\n",
            "27/27 [==============================] - 6s 230ms/step - loss: 2.3979 - accuracy: 0.0909 - val_loss: 2.3979 - val_accuracy: 0.0909\n",
            "Epoch 33/100\n",
            "27/27 [==============================] - 6s 234ms/step - loss: 2.3979 - accuracy: 0.0909 - val_loss: 2.3979 - val_accuracy: 0.0909\n",
            "Epoch 34/100\n",
            "27/27 [==============================] - 6s 237ms/step - loss: 2.3979 - accuracy: 0.0909 - val_loss: 2.3979 - val_accuracy: 0.0909\n",
            "Epoch 35/100\n",
            "27/27 [==============================] - 6s 239ms/step - loss: 2.3979 - accuracy: 0.0909 - val_loss: 2.3979 - val_accuracy: 0.0909\n",
            "Epoch 36/100\n",
            "27/27 [==============================] - 6s 234ms/step - loss: 2.3979 - accuracy: 0.0909 - val_loss: 2.3979 - val_accuracy: 0.0909\n",
            "Epoch 37/100\n",
            "27/27 [==============================] - 6s 239ms/step - loss: 2.3979 - accuracy: 0.0909 - val_loss: 2.3979 - val_accuracy: 0.0909\n",
            "Epoch 38/100\n",
            "27/27 [==============================] - 6s 233ms/step - loss: 2.3979 - accuracy: 0.0909 - val_loss: 2.3979 - val_accuracy: 0.0909\n",
            "Epoch 39/100\n",
            "27/27 [==============================] - 6s 236ms/step - loss: 2.3979 - accuracy: 0.0909 - val_loss: 2.3979 - val_accuracy: 0.0909\n",
            "Epoch 40/100\n",
            "27/27 [==============================] - 6s 239ms/step - loss: 2.3979 - accuracy: 0.0909 - val_loss: 2.3979 - val_accuracy: 0.0909\n",
            "Epoch 41/100\n",
            "27/27 [==============================] - 6s 239ms/step - loss: 2.3979 - accuracy: 0.0909 - val_loss: 2.3979 - val_accuracy: 0.0909\n",
            "Epoch 42/100\n",
            "27/27 [==============================] - 6s 235ms/step - loss: 2.3979 - accuracy: 0.0909 - val_loss: 2.3979 - val_accuracy: 0.0909\n",
            "Epoch 43/100\n",
            "27/27 [==============================] - 6s 233ms/step - loss: 2.3979 - accuracy: 0.0909 - val_loss: 2.3979 - val_accuracy: 0.0909\n",
            "Epoch 44/100\n",
            "27/27 [==============================] - 6s 237ms/step - loss: 2.3979 - accuracy: 0.0909 - val_loss: 2.3979 - val_accuracy: 0.0909\n",
            "Epoch 45/100\n",
            "27/27 [==============================] - 6s 232ms/step - loss: 2.3979 - accuracy: 0.0909 - val_loss: 2.3979 - val_accuracy: 0.0909\n",
            "Epoch 46/100\n",
            "27/27 [==============================] - 6s 242ms/step - loss: 2.3979 - accuracy: 0.0909 - val_loss: 2.3979 - val_accuracy: 0.0909\n",
            "Epoch 47/100\n",
            "27/27 [==============================] - 6s 231ms/step - loss: 2.3979 - accuracy: 0.0909 - val_loss: 2.3979 - val_accuracy: 0.0909\n",
            "Epoch 48/100\n",
            "27/27 [==============================] - 6s 238ms/step - loss: 2.3979 - accuracy: 0.0909 - val_loss: 2.3979 - val_accuracy: 0.0909\n",
            "Epoch 49/100\n",
            "27/27 [==============================] - 6s 206ms/step - loss: 2.3979 - accuracy: 0.0909 - val_loss: 2.3979 - val_accuracy: 0.0909\n",
            "Epoch 50/100\n",
            "27/27 [==============================] - 6s 241ms/step - loss: 2.3979 - accuracy: 0.0909 - val_loss: 2.3979 - val_accuracy: 0.0909\n",
            "Epoch 51/100\n",
            "27/27 [==============================] - 6s 206ms/step - loss: 2.3979 - accuracy: 0.0909 - val_loss: 2.3979 - val_accuracy: 0.0909\n",
            "Epoch 52/100\n",
            "27/27 [==============================] - 6s 235ms/step - loss: 2.3979 - accuracy: 0.0909 - val_loss: 2.3979 - val_accuracy: 0.0909\n",
            "Epoch 53/100\n",
            "27/27 [==============================] - 6s 232ms/step - loss: 2.3979 - accuracy: 0.0909 - val_loss: 2.3979 - val_accuracy: 0.0909\n",
            "Epoch 54/100\n",
            "27/27 [==============================] - 6s 230ms/step - loss: 2.3979 - accuracy: 0.0909 - val_loss: 2.3979 - val_accuracy: 0.0909\n",
            "Epoch 55/100\n",
            "27/27 [==============================] - 6s 235ms/step - loss: 2.3979 - accuracy: 0.0909 - val_loss: 2.3979 - val_accuracy: 0.0909\n",
            "Epoch 56/100\n",
            "27/27 [==============================] - 6s 239ms/step - loss: 2.3979 - accuracy: 0.0909 - val_loss: 2.3979 - val_accuracy: 0.0909\n",
            "Epoch 57/100\n",
            "27/27 [==============================] - 6s 238ms/step - loss: 2.3979 - accuracy: 0.0909 - val_loss: 2.3979 - val_accuracy: 0.0909\n",
            "Epoch 58/100\n",
            "27/27 [==============================] - 6s 238ms/step - loss: 2.3979 - accuracy: 0.0909 - val_loss: 2.3979 - val_accuracy: 0.0909\n",
            "Epoch 59/100\n",
            "27/27 [==============================] - 6s 237ms/step - loss: 2.3979 - accuracy: 0.0909 - val_loss: 2.3979 - val_accuracy: 0.0909\n",
            "Epoch 60/100\n",
            "27/27 [==============================] - 6s 239ms/step - loss: 2.3979 - accuracy: 0.0909 - val_loss: 2.3979 - val_accuracy: 0.0909\n",
            "Epoch 61/100\n",
            "27/27 [==============================] - 6s 236ms/step - loss: 2.3979 - accuracy: 0.0909 - val_loss: 2.3979 - val_accuracy: 0.0909\n",
            "Epoch 62/100\n",
            "27/27 [==============================] - 6s 238ms/step - loss: 2.3979 - accuracy: 0.0909 - val_loss: 2.3979 - val_accuracy: 0.0909\n",
            "Epoch 63/100\n",
            "27/27 [==============================] - 7s 212ms/step - loss: 2.3979 - accuracy: 0.0909 - val_loss: 2.3979 - val_accuracy: 0.0909\n",
            "Epoch 64/100\n",
            "27/27 [==============================] - 6s 230ms/step - loss: 2.3979 - accuracy: 0.0909 - val_loss: 2.3979 - val_accuracy: 0.0909\n",
            "Epoch 65/100\n",
            "27/27 [==============================] - 6s 233ms/step - loss: 2.3979 - accuracy: 0.0909 - val_loss: 2.3979 - val_accuracy: 0.0909\n",
            "Epoch 66/100\n",
            "27/27 [==============================] - 6s 238ms/step - loss: 2.3979 - accuracy: 0.0909 - val_loss: 2.3979 - val_accuracy: 0.0909\n",
            "Epoch 67/100\n",
            "27/27 [==============================] - 6s 240ms/step - loss: 2.3979 - accuracy: 0.0909 - val_loss: 2.3979 - val_accuracy: 0.0909\n",
            "Epoch 68/100\n",
            "27/27 [==============================] - 6s 241ms/step - loss: 2.3979 - accuracy: 0.0909 - val_loss: 2.3979 - val_accuracy: 0.0909\n",
            "Epoch 69/100\n",
            "27/27 [==============================] - 6s 239ms/step - loss: 2.3979 - accuracy: 0.0909 - val_loss: 2.3979 - val_accuracy: 0.0909\n",
            "Epoch 70/100\n",
            "27/27 [==============================] - 6s 230ms/step - loss: 2.3979 - accuracy: 0.0909 - val_loss: 2.3979 - val_accuracy: 0.0909\n",
            "Epoch 71/100\n",
            "27/27 [==============================] - 6s 232ms/step - loss: 2.3979 - accuracy: 0.0909 - val_loss: 2.3979 - val_accuracy: 0.0909\n",
            "Epoch 72/100\n",
            "27/27 [==============================] - 6s 238ms/step - loss: 2.3979 - accuracy: 0.0909 - val_loss: 2.3979 - val_accuracy: 0.0909\n",
            "Epoch 73/100\n",
            "27/27 [==============================] - 6s 236ms/step - loss: 2.3979 - accuracy: 0.0909 - val_loss: 2.3979 - val_accuracy: 0.0909\n",
            "Epoch 74/100\n",
            "27/27 [==============================] - 6s 237ms/step - loss: 2.3979 - accuracy: 0.0909 - val_loss: 2.3979 - val_accuracy: 0.0909\n",
            "Epoch 75/100\n",
            "27/27 [==============================] - 6s 240ms/step - loss: 2.3979 - accuracy: 0.0909 - val_loss: 2.3979 - val_accuracy: 0.0909\n",
            "Epoch 76/100\n",
            "27/27 [==============================] - 6s 232ms/step - loss: 2.3979 - accuracy: 0.0909 - val_loss: 2.3979 - val_accuracy: 0.0909\n",
            "Epoch 77/100\n",
            "27/27 [==============================] - 6s 238ms/step - loss: 2.3979 - accuracy: 0.0909 - val_loss: 2.3979 - val_accuracy: 0.0909\n",
            "Epoch 78/100\n",
            "27/27 [==============================] - 6s 236ms/step - loss: 2.3979 - accuracy: 0.0909 - val_loss: 2.3979 - val_accuracy: 0.0909\n",
            "Epoch 79/100\n",
            "27/27 [==============================] - 6s 239ms/step - loss: 2.3979 - accuracy: 0.0909 - val_loss: 2.3979 - val_accuracy: 0.0909\n",
            "Epoch 80/100\n",
            "27/27 [==============================] - 6s 242ms/step - loss: 2.3979 - accuracy: 0.0909 - val_loss: 2.3979 - val_accuracy: 0.0909\n",
            "Epoch 81/100\n",
            "27/27 [==============================] - 6s 233ms/step - loss: 2.3979 - accuracy: 0.0909 - val_loss: 2.3979 - val_accuracy: 0.0909\n",
            "Epoch 82/100\n",
            "27/27 [==============================] - 6s 239ms/step - loss: 2.3979 - accuracy: 0.0909 - val_loss: 2.3979 - val_accuracy: 0.0909\n",
            "Epoch 83/100\n",
            "27/27 [==============================] - 6s 239ms/step - loss: 2.3979 - accuracy: 0.0909 - val_loss: 2.3979 - val_accuracy: 0.0909\n",
            "Epoch 84/100\n",
            "27/27 [==============================] - 6s 238ms/step - loss: 2.3979 - accuracy: 0.0909 - val_loss: 2.3979 - val_accuracy: 0.0909\n",
            "Epoch 85/100\n",
            "27/27 [==============================] - 6s 230ms/step - loss: 2.3979 - accuracy: 0.0909 - val_loss: 2.3979 - val_accuracy: 0.0909\n",
            "Epoch 86/100\n",
            "27/27 [==============================] - 6s 232ms/step - loss: 2.3979 - accuracy: 0.0909 - val_loss: 2.3979 - val_accuracy: 0.0909\n",
            "Epoch 87/100\n",
            "27/27 [==============================] - 6s 238ms/step - loss: 2.3979 - accuracy: 0.0909 - val_loss: 2.3979 - val_accuracy: 0.0909\n",
            "Epoch 88/100\n",
            "27/27 [==============================] - 6s 240ms/step - loss: 2.3979 - accuracy: 0.0909 - val_loss: 2.3979 - val_accuracy: 0.0909\n",
            "Epoch 89/100\n",
            "27/27 [==============================] - 6s 230ms/step - loss: 2.3979 - accuracy: 0.0909 - val_loss: 2.3979 - val_accuracy: 0.0909\n",
            "Epoch 90/100\n",
            "27/27 [==============================] - 6s 199ms/step - loss: 2.3979 - accuracy: 0.0909 - val_loss: 2.3979 - val_accuracy: 0.0909\n",
            "Epoch 91/100\n",
            "27/27 [==============================] - 6s 206ms/step - loss: 2.3979 - accuracy: 0.0909 - val_loss: 2.3979 - val_accuracy: 0.0909\n",
            "Epoch 92/100\n",
            "27/27 [==============================] - 6s 235ms/step - loss: 2.3979 - accuracy: 0.0909 - val_loss: 2.3979 - val_accuracy: 0.0909\n",
            "Epoch 93/100\n",
            "27/27 [==============================] - 6s 237ms/step - loss: 2.3979 - accuracy: 0.0909 - val_loss: 2.3979 - val_accuracy: 0.0909\n",
            "Epoch 94/100\n",
            "27/27 [==============================] - 6s 238ms/step - loss: 2.3979 - accuracy: 0.0909 - val_loss: 2.3979 - val_accuracy: 0.0909\n",
            "Epoch 95/100\n",
            "27/27 [==============================] - 6s 236ms/step - loss: 2.3979 - accuracy: 0.0909 - val_loss: 2.3979 - val_accuracy: 0.0909\n",
            "Epoch 96/100\n",
            "27/27 [==============================] - 6s 230ms/step - loss: 2.3979 - accuracy: 0.0909 - val_loss: 2.3979 - val_accuracy: 0.0909\n",
            "Epoch 97/100\n",
            "27/27 [==============================] - 6s 239ms/step - loss: 2.3979 - accuracy: 0.0909 - val_loss: 2.3979 - val_accuracy: 0.0909\n",
            "Epoch 98/100\n",
            "27/27 [==============================] - 6s 235ms/step - loss: 2.3979 - accuracy: 0.0909 - val_loss: 2.3979 - val_accuracy: 0.0909\n",
            "Epoch 99/100\n",
            "27/27 [==============================] - 6s 230ms/step - loss: 2.3979 - accuracy: 0.0909 - val_loss: 2.3979 - val_accuracy: 0.0909\n",
            "Epoch 100/100\n",
            "27/27 [==============================] - 6s 236ms/step - loss: 2.3979 - accuracy: 0.0909 - val_loss: 2.3979 - val_accuracy: 0.0909\n",
            "peak memory: 11898.81 MiB, increment: 781.82 MiB\n"
          ],
          "name": "stdout"
        }
      ]
    },
    {
      "cell_type": "markdown",
      "metadata": {
        "id": "rbAq_rEeVwuH"
      },
      "source": [
        "**Testing**"
      ]
    },
    {
      "cell_type": "code",
      "metadata": {
        "id": "Ux3SAloSVyiG",
        "colab": {
          "base_uri": "https://localhost:8080/"
        },
        "outputId": "900fbd08-e2bf-4aee-db49-b13d7f48c33d"
      },
      "source": [
        "start = time.time()\n",
        "%memit test_metrics = model.evaluate(test_gen)\n",
        "end = time.time()\n",
        "\n",
        "FLAGS_times['evaluating'] = end - start\n",
        "\n",
        "test_metrics_dict = {}\n",
        "for name, val in zip(model.metrics_names, test_metrics):\n",
        "  print('{}: {:0.4f}'.format(name, val), flush=True)\n",
        "  test_metrics_dict[name] = val"
      ],
      "execution_count": null,
      "outputs": [
        {
          "output_type": "stream",
          "text": [
            "440/440 [==============================] - 2s 5ms/step - loss: 2.3979 - accuracy: 0.0909\n",
            "peak memory: 11898.82 MiB, increment: 0.09 MiB\n",
            "loss: 2.3979\n",
            "accuracy: 0.0909\n"
          ],
          "name": "stdout"
        }
      ]
    },
    {
      "cell_type": "markdown",
      "metadata": {
        "id": "MPh4ll_6VjsF"
      },
      "source": [
        "**Predicting**"
      ]
    },
    {
      "cell_type": "code",
      "metadata": {
        "id": "OzNtToDNVof8",
        "colab": {
          "base_uri": "https://localhost:8080/"
        },
        "outputId": "e033309d-d264-484c-8b46-a642064dd4e1"
      },
      "source": [
        "start = time.time()\n",
        "%memit predicted = model.predict(test_gen)\n",
        "end = time.time()\n",
        "\n",
        "FLAGS_times['predicting'] = end - start"
      ],
      "execution_count": null,
      "outputs": [
        {
          "output_type": "stream",
          "text": [
            "peak memory: 11899.31 MiB, increment: 0.59 MiB\n"
          ],
          "name": "stdout"
        }
      ]
    },
    {
      "cell_type": "markdown",
      "metadata": {
        "id": "_nV6j4cCVTS4"
      },
      "source": [
        "**Statistics**"
      ]
    },
    {
      "cell_type": "code",
      "metadata": {
        "id": "WZ4TtOgWVVoz",
        "colab": {
          "base_uri": "https://localhost:8080/"
        },
        "outputId": "2d40342d-4185-4db0-dfc1-35ddd647e086"
      },
      "source": [
        "pred_y = predicted.argmax(axis=-1)\n",
        "\n",
        "cm = confusion_matrix(test_graphs.idxmax(axis=1), pred_y)\n",
        "print('Confusion matrix')\n",
        "print(cm)\n",
        "\n",
        "cr = classification_report(test_graphs.idxmax(axis=1), pred_y)\n",
        "print('\\n\\nClassification report')\n",
        "print(cr)"
      ],
      "execution_count": null,
      "outputs": [
        {
          "output_type": "stream",
          "text": [
            "Confusion matrix\n",
            "[[ 0  0  0  0  0  0  0  0 40  0  0]\n",
            " [ 0  0  0  0  0  0  0  0 40  0  0]\n",
            " [ 0  0  0  0  0  0  0  0 40  0  0]\n",
            " [ 0  0  0  0  0  0  0  0 40  0  0]\n",
            " [ 0  0  0  0  0  0  0  0 40  0  0]\n",
            " [ 0  0  0  0  0  0  0  0 40  0  0]\n",
            " [ 0  0  0  0  0  0  0  0 40  0  0]\n",
            " [ 0  0  0  0  0  0  0  0 40  0  0]\n",
            " [ 0  0  0  0  0  0  0  0 40  0  0]\n",
            " [ 0  0  0  0  0  0  0  0 40  0  0]\n",
            " [ 0  0  0  0  0  0  0  0 40  0  0]]\n",
            "\n",
            "\n",
            "Classification report\n",
            "              precision    recall  f1-score   support\n",
            "\n",
            "           0       0.00      0.00      0.00        40\n",
            "           1       0.00      0.00      0.00        40\n",
            "           2       0.00      0.00      0.00        40\n",
            "           3       0.00      0.00      0.00        40\n",
            "           4       0.00      0.00      0.00        40\n",
            "           5       0.00      0.00      0.00        40\n",
            "           6       0.00      0.00      0.00        40\n",
            "           7       0.00      0.00      0.00        40\n",
            "           8       0.09      1.00      0.17        40\n",
            "           9       0.00      0.00      0.00        40\n",
            "          10       0.00      0.00      0.00        40\n",
            "\n",
            "    accuracy                           0.09       440\n",
            "   macro avg       0.01      0.09      0.02       440\n",
            "weighted avg       0.01      0.09      0.02       440\n",
            "\n"
          ],
          "name": "stdout"
        },
        {
          "output_type": "stream",
          "text": [
            "/usr/local/lib/python3.7/dist-packages/sklearn/metrics/_classification.py:1272: UndefinedMetricWarning: Precision and F-score are ill-defined and being set to 0.0 in labels with no predicted samples. Use `zero_division` parameter to control this behavior.\n",
            "  _warn_prf(average, modifier, msg_start, len(result))\n"
          ],
          "name": "stderr"
        }
      ]
    },
    {
      "cell_type": "markdown",
      "metadata": {
        "id": "FscZcUzWUdCl"
      },
      "source": [
        "**Store the results**"
      ]
    },
    {
      "cell_type": "code",
      "metadata": {
        "id": "8nxhjSy8UfvO"
      },
      "source": [
        "if FLAGS_store_results:\n",
        "  #\n",
        "  # Create the output directory\n",
        "  #\n",
        "  os.makedirs(FLAGS_results_directory, exist_ok=True)\n",
        "\n",
        "  #\n",
        "  # Store the results\n",
        "  #\n",
        "\n",
        "  # History\n",
        "  fout = open('{}/history.yaml'.format(FLAGS_results_directory), 'w')\n",
        "  yl.dump(history.history, fout)\n",
        "  fout.close()\n",
        "\n",
        "  # Summary\n",
        "  fout = open('{}/summary.yaml'.format(FLAGS_results_directory), 'w')\n",
        "  yl.dump(summary.describe().to_dict(), fout)\n",
        "  fout.close()\n",
        "\n",
        "  # Test metrics\n",
        "  fout = open('{}/test_metrics.yaml'.format(FLAGS_results_directory), 'w')\n",
        "  yl.dump(test_metrics_dict, fout)\n",
        "  fout.close()\n",
        "\n",
        "  # Graphs\n",
        "  train_graphs.to_pickle('{}/train_graphs.pkl'.format(FLAGS_results_directory))\n",
        "  val_graphs.to_pickle('{}/val_graphs.pkl'.format(FLAGS_results_directory))\n",
        "  test_graphs.to_pickle('{}/test_graphs.pkl'.format(FLAGS_results_directory))\n",
        "\n",
        "  # Predicted\n",
        "  np.savez_compressed('{}/predicted'.format(FLAGS_results_directory), values=predicted)\n",
        "\n",
        "  # Confusion matrix\n",
        "  np.savez_compressed('{}/confusion_matrix'.format(FLAGS_results_directory), values=cm)\n",
        "\n",
        "  # Classification report\n",
        "  fout = open('{}/classification_report.pk'.format(FLAGS_results_directory), 'wb')\n",
        "  pk.dump(cr, fout)\n",
        "  fout.close()\n",
        "\n",
        "  # Time\n",
        "  fout = open('{}/elapsed_time.yaml'.format(FLAGS_results_directory), 'w')\n",
        "  yl.dump(FLAGS_times, fout)\n",
        "  fout.close()\n",
        "\n",
        "  # gpu.log\n",
        "  command = 'cp gpu.log \"{}\"'.format(FLAGS_results_directory)\n",
        "  !$command\n",
        "\n",
        "  #\n",
        "  # Store the hadware specifications\n",
        "  #\n",
        "  spec, _ = execute(\"nvidia-smi\")\n",
        "  filename = '{}/nvidia-smi.txt'.format(FLAGS_results_directory)\n",
        "  save(filename, spec)\n",
        "\n",
        "  spec, _ = execute(\"cat /proc/cpuinfo\")\n",
        "  filename = '{}/cpuinfo.txt'.format(FLAGS_results_directory)\n",
        "  save(filename, spec)\n",
        "\n",
        "  spec, _ = execute(\"cat /proc/meminfo\")\n",
        "  filename = '{}/meminfo.txt'.format(FLAGS_results_directory)\n",
        "  save(filename, spec)\n",
        "\n",
        "  #\n",
        "  # Store the model\n",
        "  #\n",
        "  if FLAGS_store_model:\n",
        "    directory = '{}/model'.format(FLAGS_results_directory)\n",
        "    os.makedirs(directory, exist_ok=True)\n",
        "    model.save(directory)\n"
      ],
      "execution_count": null,
      "outputs": []
    },
    {
      "cell_type": "markdown",
      "metadata": {
        "id": "nS69eZErUTBE"
      },
      "source": [
        "**Free the memory**"
      ]
    },
    {
      "cell_type": "code",
      "metadata": {
        "id": "2tKX1dsTUXkY"
      },
      "source": [
        "del labels\n",
        "del graphs\n",
        "del graphs_label\n",
        "del generator\n",
        "del model\n",
        "del train_graphs\n",
        "del test_graphs\n",
        "del val_graphs\n",
        "del gen\n",
        "del train_gen\n",
        "del val_gen\n",
        "del test_gen\n",
        "del history\n",
        "del test_metrics\n",
        "del test_metrics_dict\n",
        "del predicted\n",
        "del cm\n",
        "del cr"
      ],
      "execution_count": null,
      "outputs": []
    },
    {
      "cell_type": "markdown",
      "metadata": {
        "id": "mQPhDT5CGIp-"
      },
      "source": [
        "**Flush Google Driver**"
      ]
    },
    {
      "cell_type": "code",
      "metadata": {
        "id": "J4qPqfYXetkJ"
      },
      "source": [
        "if FLAGS_store_results:\n",
        "  #\n",
        "  # Flush the Driver\n",
        "  #\n",
        "  drive.flush_and_unmount()"
      ],
      "execution_count": null,
      "outputs": []
    },
    {
      "cell_type": "markdown",
      "metadata": {
        "id": "H-HdUj-JGzR0"
      },
      "source": [
        "**Remove the dataset**"
      ]
    },
    {
      "cell_type": "code",
      "metadata": {
        "id": "MRjs3ohmG4Gj"
      },
      "source": [
        "# Kill gpu_usage\n",
        "!pid=`ps -aux |grep gpu_usage.sh | awk '{print $2}' | head -n 1` ; kill -9 $pid\n",
        "\n",
        "# Clean\n",
        "command = 'rm -rf {}* gpu.log gpu_usage.sh graphs-number-of-nodes.yaml'.format(FLAGS_graph)\n",
        "!$command"
      ],
      "execution_count": null,
      "outputs": []
    },
    {
      "cell_type": "markdown",
      "metadata": {
        "id": "LeLjpITQfwcx"
      },
      "source": [
        "**Finish**"
      ]
    },
    {
      "cell_type": "code",
      "metadata": {
        "id": "Jj_NvS_7Hv03",
        "colab": {
          "base_uri": "https://localhost:8080/"
        },
        "outputId": "b9226b1f-ba2f-4576-83ec-40f870abf682"
      },
      "source": [
        "for key, value in FLAGS_times.items():\n",
        "    print(key, value)"
      ],
      "execution_count": null,
      "outputs": [
        {
          "output_type": "stream",
          "text": [
            "loading 6.627687692642212\n",
            "training 641.4394586086273\n",
            "evaluating 2.9691309928894043\n",
            "predicting 2.5142109394073486\n"
          ],
          "name": "stdout"
        }
      ]
    }
  ]
}