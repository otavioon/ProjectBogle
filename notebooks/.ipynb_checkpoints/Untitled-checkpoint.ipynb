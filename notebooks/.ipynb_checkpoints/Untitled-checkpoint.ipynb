{
 "cells": [
  {
   "cell_type": "code",
   "execution_count": 1,
   "id": "71d86082-05e2-43fc-89ad-ec5a1c0531a6",
   "metadata": {},
   "outputs": [],
   "source": [
    "import glob\n",
    "import os\n",
    "import sys\n",
    "import tqdm\n",
    "import time\n",
    "import numpy as np\n",
    "import pickle\n",
    "\n",
    "from yacos.essential import Engine, IO\n",
    "from yacos.info import compy\n",
    "from yacos.info.compy.extractors import LLVMDriver"
   ]
  },
  {
   "cell_type": "code",
   "execution_count": 2,
   "id": "d61ef143-0358-460e-8316-080bb19abced",
   "metadata": {},
   "outputs": [],
   "source": [
    "# Instantiate the LLVM driver.\n",
    "driver = LLVMDriver()\n",
    "# Define the builder\n",
    "builder = compy.LLVMGraphBuilder(driver)"
   ]
  },
  {
   "cell_type": "code",
   "execution_count": 3,
   "id": "29b455cb-0d24-4b58-9756-0f1279190d1d",
   "metadata": {},
   "outputs": [],
   "source": [
    "visitors = {\n",
    "    # Clang\n",
    "    'ast': compy.ASTVisitor,\n",
    "    'astdata': compy.ASTDataVisitor,\n",
    "    'astdatacfg': compy.ASTDataCFGVisitor,\n",
    "    # LLVM\n",
    "    'programl': compy.LLVMProGraMLVisitor,\n",
    "    'programlnoroot': compy.LLVMProGraMLNoRootVisitor,\n",
    "    'cfg': compy.LLVMCFGVisitor,\n",
    "    'cfgcompact': compy.LLVMCFGCompactVisitor,\n",
    "    'cfgcall': compy.LLVMCFGCallVisitor,\n",
    "    'cfgcallnoroot': compy.LLVMCFGCallNoRootVisitor,\n",
    "    'cfgcallcompact': compy.LLVMCFGCallCompactVisitor,\n",
    "    'cfgcallcompact1e': compy.LLVMCFGCallCompactOneEdgeVisitor,\n",
    "    'cfgcallcompactnoroot': compy.LLVMCFGCallCompactNoRootVisitor,\n",
    "    'cfgcallcompact1enoroot': compy.LLVMCFGCallCompactOneEdgeNoRootVisitor,\n",
    "    'cdfg': compy.LLVMCDFGVisitor,\n",
    "    'cdfgcompact': compy.LLVMCDFGCompactVisitor,\n",
    "    'cdfgcompact1e': compy.LLVMCDFGCompactOneEdgeVisitor,\n",
    "    'cdfgcall': compy.LLVMCDFGCallVisitor,\n",
    "    'cdfgcallnoroot': compy.LLVMCDFGCallNoRootVisitor,\n",
    "    'cdfgcallcompact': compy.LLVMCDFGCallCompactVisitor,\n",
    "    'cdfgcallcompact1e': compy.LLVMCDFGCallCompactOneEdgeVisitor,\n",
    "    'cdfgcallcompactnoroot': compy.LLVMCDFGCallCompactNoRootVisitor,\n",
    "    'cdfgcallcompact1enoroot': compy.LLVMCDFGCallCompactOneEdgeNoRootVisitor,\n",
    "    'cdfgplus': compy.LLVMCDFGPlusVisitor,\n",
    "    'cdfgplusnoroot': compy.LLVMCDFGPlusNoRootVisitor\n",
    "}"
   ]
  },
  {
   "cell_type": "code",
   "execution_count": 4,
   "id": "4b8875d2-8fc1-4ac3-94b4-a49b5adabd89",
   "metadata": {},
   "outputs": [
    {
     "name": "stdout",
     "output_type": "stream",
     "text": [
      "There are 5000 directories\n"
     ]
    }
   ],
   "source": [
    "dataset_dir = '/home/nonroot/experiment/datasets/classify_seqs/group1.1000/'\n",
    "folders = glob.glob(f\"{dataset_dir}/*/*/\")\n",
    "print(f\"There are {len(folders)} directories\")"
   ]
  },
  {
   "cell_type": "code",
   "execution_count": 5,
   "id": "5611656c-1589-4882-ac70-26ce049edf42",
   "metadata": {},
   "outputs": [],
   "source": [
    "results_dir = '/home/nonroot/experiment/results/notebook/'\n",
    "os.makedirs(results_dir, exist_ok=True)"
   ]
  },
  {
   "cell_type": "code",
   "execution_count": 6,
   "id": "016684a1-009e-4907-a2cc-69c767ecddca",
   "metadata": {},
   "outputs": [],
   "source": [
    "def extract_graph_data(graph, graph_type):\n",
    "    \"\"\"Convert the graph to StellarGraph representation.\"\"\"\n",
    "\n",
    "    nodes = {}\n",
    "\n",
    "    if 'ast' in graph_type:\n",
    "        nodes['w2v'] = graph.get_nodes_word2vec_embeddings('ast')\n",
    "        nodes['boo'] = graph.get_nodes_bag_of_words_embeddings('ast')\n",
    "    elif 'asm' in graph_type:\n",
    "        nodes['boo'] = graph.get_nodes_bag_of_words_embeddings('ir')\n",
    "    else:\n",
    "        nodes['w2v'] = graph.get_nodes_word2vec_embeddings('ir')\n",
    "        nodes['boo'] = graph.get_nodes_bag_of_words_embeddings('ir')\n",
    "        nodes['i2v'] = graph.get_nodes_inst2vec_embeddings()\n",
    "        nodes['ir2v'] = graph.get_nodes_ir2vec_embeddings()\n",
    "\n",
    "    edges = graph.get_edges_dataFrame()\n",
    "\n",
    "    return edges, nodes"
   ]
  },
  {
   "cell_type": "code",
   "execution_count": 7,
   "id": "9a477519-ddb0-461d-b7dc-e1321071752f",
   "metadata": {},
   "outputs": [
    {
     "name": "stdout",
     "output_type": "stream",
     "text": [
      "Starting with optmization 500-bSum with following passes: -mem2reg -jump-threading -instcombine -early-cse-memssa -jump-threading -licm -early-cse-memssa -sroa -simplifycfg -reassociate -instcombine -slp-vectorizer -early-cse-memssa\n"
     ]
    },
    {
     "name": "stderr",
     "output_type": "stream",
     "text": [
      "SUM.extr_addi-datahwdrv_apci2200.c_i_APCI2200_WriteDigitalOutput:   0%|                                                                                                                                  | 0/5000 [00:00<?, ?it/s]/home/nonroot/.local/lib/python3.8/site-packages/numpy/lib/npyio.py:719: VisibleDeprecationWarning: Creating an ndarray from ragged nested sequences (which is a list-or-tuple of lists-or-tuples-or ndarrays with different lengths or shapes) is deprecated. If you meant to do this, you must specify 'dtype=object' when creating the ndarray.\n",
      "  val = np.asanyarray(val)\n",
      "SUM.extr_book3s_64_mmu_hv.c_kvmppc_book3s_hv_page_fault:   2%|██▍                                                                                                                             | 95/5000 [02:28<2:18:57,  1.70s/it]"
     ]
    },
    {
     "name": "stdout",
     "output_type": "stream",
     "text": [
      "Error extracting representation cfgcompact for /home/nonroot/experiment/datasets/classify_seqs/group1.1000/SUM/extr_book3s_64_mmu_hv.c_kvmppc_book3s_hv_page_fault/: list index out of range\n",
      "Error extracting representation cfgcallcompactnoroot for /home/nonroot/experiment/datasets/classify_seqs/group1.1000/SUM/extr_book3s_64_mmu_hv.c_kvmppc_book3s_hv_page_fault/: list index out of range\n"
     ]
    },
    {
     "name": "stderr",
     "output_type": "stream",
     "text": [
      "SUM.extr_tscParseInsert.c_tscParseSqlForCreateTableOnDemand:   2%|██▍                                                                                                                         | 96/5000 [02:30<2:09:32,  1.59s/it]"
     ]
    },
    {
     "name": "stdout",
     "output_type": "stream",
     "text": [
      "Error extracting representation cfgcallcompact1enoroot for /home/nonroot/experiment/datasets/classify_seqs/group1.1000/SUM/extr_book3s_64_mmu_hv.c_kvmppc_book3s_hv_page_fault/: list index out of range\n"
     ]
    },
    {
     "name": "stderr",
     "output_type": "stream",
     "text": [
      "SUM.extr_atari_falcon.c_PLATFORM_Keyboard:   3%|███▊                                                                                                                                         | 137/5000 [03:34<2:03:09,  1.52s/it]"
     ]
    },
    {
     "name": "stdout",
     "output_type": "stream",
     "text": [
      "Error extracting representation cfgcompact for /home/nonroot/experiment/datasets/classify_seqs/group1.1000/SUM/extr_atari_falcon.c_PLATFORM_Keyboard/: 'shufflevector'\n",
      "Error extracting representation cfgcallcompactnoroot for /home/nonroot/experiment/datasets/classify_seqs/group1.1000/SUM/extr_atari_falcon.c_PLATFORM_Keyboard/: 'shufflevector'\n"
     ]
    },
    {
     "name": "stderr",
     "output_type": "stream",
     "text": [
      "SUM.extr_au1550_ac97.c_au1550_ioctl:   3%|████                                                                                                                                               | 138/5000 [03:36<2:00:20,  1.48s/it]"
     ]
    },
    {
     "name": "stdout",
     "output_type": "stream",
     "text": [
      "Error extracting representation cfgcallcompact1enoroot for /home/nonroot/experiment/datasets/classify_seqs/group1.1000/SUM/extr_atari_falcon.c_PLATFORM_Keyboard/: 'shufflevector'\n"
     ]
    },
    {
     "name": "stderr",
     "output_type": "stream",
     "text": [
      "SUM.extr_rtpenc_h263_rfc2190.c_ff_rtp_send_h263_rfc2190:   5%|██████                                                                                                                         | 239/5000 [06:13<2:18:15,  1.74s/it]"
     ]
    },
    {
     "name": "stdout",
     "output_type": "stream",
     "text": [
      "Error extracting representation cfgcompact for /home/nonroot/experiment/datasets/classify_seqs/group1.1000/SUM/extr_rtpenc_h263_rfc2190.c_ff_rtp_send_h263_rfc2190/: 'shufflevector'\n",
      "Error extracting representation cfgcallcompactnoroot for /home/nonroot/experiment/datasets/classify_seqs/group1.1000/SUM/extr_rtpenc_h263_rfc2190.c_ff_rtp_send_h263_rfc2190/: 'shufflevector'\n"
     ]
    },
    {
     "name": "stderr",
     "output_type": "stream",
     "text": [
      "SUM.extr_icon.c_read_theme_file:   5%|███████▏                                                                                                                                               | 240/5000 [06:14<2:03:48,  1.56s/it]"
     ]
    },
    {
     "name": "stdout",
     "output_type": "stream",
     "text": [
      "Error extracting representation cfgcallcompact1enoroot for /home/nonroot/experiment/datasets/classify_seqs/group1.1000/SUM/extr_rtpenc_h263_rfc2190.c_ff_rtp_send_h263_rfc2190/: 'shufflevector'\n"
     ]
    },
    {
     "name": "stderr",
     "output_type": "stream",
     "text": [
      "SUM.extr_parse-diff.c_parse_binary_patch:  10%|██████████████                                                                                                                                | 495/5000 [12:52<2:09:43,  1.73s/it]"
     ]
    },
    {
     "name": "stdout",
     "output_type": "stream",
     "text": [
      "Error extracting representation cfgcompact for /home/nonroot/experiment/datasets/classify_seqs/group1.1000/SUM/extr_parse-diff.c_parse_binary_patch/: 'shufflevector'\n",
      "Error extracting representation cfgcallcompactnoroot for /home/nonroot/experiment/datasets/classify_seqs/group1.1000/SUM/extr_parse-diff.c_parse_binary_patch/: 'shufflevector'\n"
     ]
    },
    {
     "name": "stderr",
     "output_type": "stream",
     "text": [
      "SUM.extr_cm_polylib.c_ClipWindingEpsilon:  10%|██████████████                                                                                                                                | 496/5000 [12:53<1:53:36,  1.51s/it]"
     ]
    },
    {
     "name": "stdout",
     "output_type": "stream",
     "text": [
      "Error extracting representation cfgcallcompact1enoroot for /home/nonroot/experiment/datasets/classify_seqs/group1.1000/SUM/extr_parse-diff.c_parse_binary_patch/: 'shufflevector'\n"
     ]
    },
    {
     "name": "stderr",
     "output_type": "stream",
     "text": [
      "SUM.extr_gxt4500.c_gxt4500_set_par:  16%|████████████████████████▍                                                                                                                           | 824/5000 [21:27<2:14:14,  1.93s/it]"
     ]
    },
    {
     "name": "stdout",
     "output_type": "stream",
     "text": [
      "Error extracting representation cfgcompact for /home/nonroot/experiment/datasets/classify_seqs/group1.1000/SUM/extr_gxt4500.c_gxt4500_set_par/: 'shufflevector'\n",
      "Error extracting representation cfgcallcompactnoroot for /home/nonroot/experiment/datasets/classify_seqs/group1.1000/SUM/extr_gxt4500.c_gxt4500_set_par/: 'shufflevector'\n"
     ]
    },
    {
     "name": "stderr",
     "output_type": "stream",
     "text": [
      "SUM.extr_mbfilter_cp5022x.c_mbfl_filt_conv_wchar_cp50221:  16%|████████████████████▊                                                                                                         | 825/5000 [21:28<1:55:13,  1.66s/it]"
     ]
    },
    {
     "name": "stdout",
     "output_type": "stream",
     "text": [
      "Error extracting representation cfgcallcompact1enoroot for /home/nonroot/experiment/datasets/classify_seqs/group1.1000/SUM/extr_gxt4500.c_gxt4500_set_par/: 'shufflevector'\n"
     ]
    },
    {
     "name": "stderr",
     "output_type": "stream",
     "text": [
      "SUM.extr_viddc.c_Vdp1ReadTexture:  17%|████████████████████████▊                                                                                                                             | 829/5000 [21:35<1:52:20,  1.62s/it]"
     ]
    },
    {
     "name": "stdout",
     "output_type": "stream",
     "text": [
      "Error extracting representation cfgcompact for /home/nonroot/experiment/datasets/classify_seqs/group1.1000/SUM/extr_viddc.c_Vdp1ReadTexture/: list index out of range\n",
      "Error extracting representation cfgcallcompactnoroot for /home/nonroot/experiment/datasets/classify_seqs/group1.1000/SUM/extr_viddc.c_Vdp1ReadTexture/: list index out of range\n"
     ]
    },
    {
     "name": "stderr",
     "output_type": "stream",
     "text": [
      "SUM.extr_vmt.c_ubi_resize_volume:  17%|████████████████████████▉                                                                                                                             | 830/5000 [21:36<1:51:58,  1.61s/it]"
     ]
    },
    {
     "name": "stdout",
     "output_type": "stream",
     "text": [
      "Error extracting representation cfgcallcompact1enoroot for /home/nonroot/experiment/datasets/classify_seqs/group1.1000/SUM/extr_viddc.c_Vdp1ReadTexture/: list index out of range\n"
     ]
    },
    {
     "name": "stderr",
     "output_type": "stream",
     "text": [
      "SUM.extr_netplay_sync.c_netplay_sync_post_frame:  17%|██████████████████████▋                                                                                                                | 839/5000 [21:50<1:46:57,  1.54s/it]"
     ]
    },
    {
     "name": "stdout",
     "output_type": "stream",
     "text": [
      "Error extracting representation cfgcompact for /home/nonroot/experiment/datasets/classify_seqs/group1.1000/SUM/extr_netplay_sync.c_netplay_sync_post_frame/: 'shufflevector'\n",
      "Error extracting representation cfgcallcompactnoroot for /home/nonroot/experiment/datasets/classify_seqs/group1.1000/SUM/extr_netplay_sync.c_netplay_sync_post_frame/: 'shufflevector'\n"
     ]
    },
    {
     "name": "stderr",
     "output_type": "stream",
     "text": [
      "SUM.extr_Network.c_NewRUDP:  17%|██████████████████████████▏                                                                                                                                 | 840/5000 [21:51<1:39:53,  1.44s/it]"
     ]
    },
    {
     "name": "stdout",
     "output_type": "stream",
     "text": [
      "Error extracting representation cfgcallcompact1enoroot for /home/nonroot/experiment/datasets/classify_seqs/group1.1000/SUM/extr_netplay_sync.c_netplay_sync_post_frame/: 'shufflevector'\n"
     ]
    },
    {
     "name": "stderr",
     "output_type": "stream",
     "text": [
      "SUM.extr_touch.c_main:  18%|████████████████████████████▎                                                                                                                                    | 881/5000 [22:57<1:39:57,  1.46s/it]"
     ]
    },
    {
     "name": "stdout",
     "output_type": "stream",
     "text": [
      "Error extracting representation cfgcompact for /home/nonroot/experiment/datasets/classify_seqs/group1.1000/SUM/extr_touch.c_main/: 'shufflevector'\n",
      "Error extracting representation cfgcallcompactnoroot for /home/nonroot/experiment/datasets/classify_seqs/group1.1000/SUM/extr_touch.c_main/: 'shufflevector'\n"
     ]
    },
    {
     "name": "stderr",
     "output_type": "stream",
     "text": [
      "SUM.extr_test_btf.c_test_btf_id:  18%|██████████████████████████▋                                                                                                                            | 882/5000 [22:58<1:31:31,  1.33s/it]"
     ]
    },
    {
     "name": "stdout",
     "output_type": "stream",
     "text": [
      "Error extracting representation cfgcallcompact1enoroot for /home/nonroot/experiment/datasets/classify_seqs/group1.1000/SUM/extr_touch.c_main/: 'shufflevector'\n"
     ]
    },
    {
     "name": "stderr",
     "output_type": "stream",
     "text": [
      "GEO.extr_verifier.c_adjust_scalar_min_max_vals:  23%|███████████████████████████████▏                                                                                                       | 1157/5000 [30:45<2:03:47,  1.93s/it]"
     ]
    },
    {
     "name": "stdout",
     "output_type": "stream",
     "text": [
      "Error extracting representation cfgcompact for /home/nonroot/experiment/datasets/classify_seqs/group1.1000/GEO/extr_verifier.c_adjust_scalar_min_max_vals/: 'shufflevector'\n",
      "Error extracting representation cfgcallcompactnoroot for /home/nonroot/experiment/datasets/classify_seqs/group1.1000/GEO/extr_verifier.c_adjust_scalar_min_max_vals/: 'shufflevector'\n"
     ]
    },
    {
     "name": "stderr",
     "output_type": "stream",
     "text": [
      "GEO.extr_ngx_http_lua_subrequest.c_ngx_http_lua_post_subrequest:  23%|███████████████████████████▎                                                                                          | 1158/5000 [30:46<1:49:02,  1.70s/it]"
     ]
    },
    {
     "name": "stdout",
     "output_type": "stream",
     "text": [
      "Error extracting representation cfgcallcompact1enoroot for /home/nonroot/experiment/datasets/classify_seqs/group1.1000/GEO/extr_verifier.c_adjust_scalar_min_max_vals/: 'shufflevector'\n"
     ]
    },
    {
     "name": "stderr",
     "output_type": "stream",
     "text": [
      "GEO.extr_msdosfs_lookup.c_msdosfs_lookup_:  24%|██████████████████████████████████▎                                                                                                         | 1224/5000 [32:47<2:39:13,  2.53s/it]"
     ]
    },
    {
     "name": "stdout",
     "output_type": "stream",
     "text": [
      "Error extracting representation cfgcompact for /home/nonroot/experiment/datasets/classify_seqs/group1.1000/GEO/extr_msdosfs_lookup.c_msdosfs_lookup_/: 'bool' object is not iterable\n",
      "Error extracting representation cfgcallcompactnoroot for /home/nonroot/experiment/datasets/classify_seqs/group1.1000/GEO/extr_msdosfs_lookup.c_msdosfs_lookup_/: 'bool' object is not iterable\n"
     ]
    },
    {
     "name": "stderr",
     "output_type": "stream",
     "text": [
      "GEO.extr_halbtc8192e2ant.c_ex_btc8192e2ant_display_coex_info:  24%|█████████████████████████████▋                                                                                           | 1225/5000 [32:48<2:20:34,  2.23s/it]"
     ]
    },
    {
     "name": "stdout",
     "output_type": "stream",
     "text": [
      "Error extracting representation cfgcallcompact1enoroot for /home/nonroot/experiment/datasets/classify_seqs/group1.1000/GEO/extr_msdosfs_lookup.c_msdosfs_lookup_/: 'bool' object is not iterable\n"
     ]
    },
    {
     "name": "stderr",
     "output_type": "stream",
     "text": [
      "GEO.extr_ipath_mad.c_recv_pma_get_portcounters:  28%|██████████████████████████████████████▎                                                                                                | 1419/5000 [38:29<1:46:51,  1.79s/it]"
     ]
    },
    {
     "name": "stdout",
     "output_type": "stream",
     "text": [
      "Error extracting representation cfgcompact for /home/nonroot/experiment/datasets/classify_seqs/group1.1000/GEO/extr_ipath_mad.c_recv_pma_get_portcounters/: 'shufflevector'\n",
      "Error extracting representation cfgcallcompactnoroot for /home/nonroot/experiment/datasets/classify_seqs/group1.1000/GEO/extr_ipath_mad.c_recv_pma_get_portcounters/: 'shufflevector'\n"
     ]
    },
    {
     "name": "stderr",
     "output_type": "stream",
     "text": [
      "GEO.extr_sshkey.c_fingerprint_randomart:  28%|████████████████████████████████████████▎                                                                                                     | 1420/5000 [38:30<1:34:44,  1.59s/it]"
     ]
    },
    {
     "name": "stdout",
     "output_type": "stream",
     "text": [
      "Error extracting representation cfgcallcompact1enoroot for /home/nonroot/experiment/datasets/classify_seqs/group1.1000/GEO/extr_ipath_mad.c_recv_pma_get_portcounters/: 'shufflevector'\n"
     ]
    },
    {
     "name": "stderr",
     "output_type": "stream",
     "text": [
      "GEO.extr_ssl3_record.c_ssl3_get_record:  29%|█████████████████████████████████████████▊                                                                                                     | 1464/5000 [39:50<1:41:56,  1.73s/it]"
     ]
    },
    {
     "name": "stdout",
     "output_type": "stream",
     "text": [
      "Error extracting representation cfgcompact for /home/nonroot/experiment/datasets/classify_seqs/group1.1000/GEO/extr_ssl3_record.c_ssl3_get_record/: 'shufflevector'\n",
      "Error extracting representation cfgcallcompactnoroot for /home/nonroot/experiment/datasets/classify_seqs/group1.1000/GEO/extr_ssl3_record.c_ssl3_get_record/: 'shufflevector'\n"
     ]
    },
    {
     "name": "stderr",
     "output_type": "stream",
     "text": [
      "GEO.extr_utils.c_query_internal_format:  29%|█████████████████████████████████████████▉                                                                                                     | 1465/5000 [39:51<1:39:37,  1.69s/it]"
     ]
    },
    {
     "name": "stdout",
     "output_type": "stream",
     "text": [
      "Error extracting representation cfgcallcompact1enoroot for /home/nonroot/experiment/datasets/classify_seqs/group1.1000/GEO/extr_ssl3_record.c_ssl3_get_record/: 'shufflevector'\n"
     ]
    },
    {
     "name": "stderr",
     "output_type": "stream",
     "text": [
      "GEO.extr_smbfs_io.c_smbfs_readvdir:  31%|█████████████████████████████████████████████                                                                                                      | 1534/5000 [41:57<1:47:25,  1.86s/it]"
     ]
    },
    {
     "name": "stdout",
     "output_type": "stream",
     "text": [
      "Error extracting representation cfgcompact for /home/nonroot/experiment/datasets/classify_seqs/group1.1000/GEO/extr_smbfs_io.c_smbfs_readvdir/: 'shufflevector'\n",
      "Error extracting representation cfgcallcompactnoroot for /home/nonroot/experiment/datasets/classify_seqs/group1.1000/GEO/extr_smbfs_io.c_smbfs_readvdir/: 'shufflevector'\n"
     ]
    },
    {
     "name": "stderr",
     "output_type": "stream",
     "text": [
      "GEO.extr_sys_generic.c_kern_select:  31%|█████████████████████████████████████████████▏                                                                                                     | 1535/5000 [41:58<1:33:52,  1.63s/it]"
     ]
    },
    {
     "name": "stdout",
     "output_type": "stream",
     "text": [
      "Error extracting representation cfgcallcompact1enoroot for /home/nonroot/experiment/datasets/classify_seqs/group1.1000/GEO/extr_smbfs_io.c_smbfs_readvdir/: 'shufflevector'\n"
     ]
    },
    {
     "name": "stderr",
     "output_type": "stream",
     "text": [
      "GEO.extr_wacom_wac.c_wacom_intuos_general:  32%|████████████████████████████████████████████▉                                                                                               | 1604/5000 [43:58<1:32:14,  1.63s/it]"
     ]
    },
    {
     "name": "stdout",
     "output_type": "stream",
     "text": [
      "Error extracting representation cfgcompact for /home/nonroot/experiment/datasets/classify_seqs/group1.1000/GEO/extr_wacom_wac.c_wacom_intuos_general/: 'shufflevector'\n",
      "Error extracting representation cfgcallcompactnoroot for /home/nonroot/experiment/datasets/classify_seqs/group1.1000/GEO/extr_wacom_wac.c_wacom_intuos_general/: 'shufflevector'\n"
     ]
    },
    {
     "name": "stderr",
     "output_type": "stream",
     "text": [
      "GEO.extr_nfs_clvnops.c_nfs_lookitup:  32%|██████████████████████████████████████████████▊                                                                                                   | 1605/5000 [43:59<1:24:01,  1.49s/it]"
     ]
    },
    {
     "name": "stdout",
     "output_type": "stream",
     "text": [
      "Error extracting representation cfgcallcompact1enoroot for /home/nonroot/experiment/datasets/classify_seqs/group1.1000/GEO/extr_wacom_wac.c_wacom_intuos_general/: 'shufflevector'\n"
     ]
    },
    {
     "name": "stderr",
     "output_type": "stream",
     "text": [
      "GEO.extr_x11_window.c_createNativeWindow:  34%|███████████████████████████████████████████████▌                                                                                             | 1685/5000 [46:23<1:33:49,  1.70s/it]"
     ]
    },
    {
     "name": "stdout",
     "output_type": "stream",
     "text": [
      "Error extracting representation cfgcompact for /home/nonroot/experiment/datasets/classify_seqs/group1.1000/GEO/extr_x11_window.c_createNativeWindow/: 'shufflevector'\n",
      "Error extracting representation cfgcallcompactnoroot for /home/nonroot/experiment/datasets/classify_seqs/group1.1000/GEO/extr_x11_window.c_createNativeWindow/: 'shufflevector'\n"
     ]
    },
    {
     "name": "stderr",
     "output_type": "stream",
     "text": [
      "GEO.extr_write.c_fixup_segment:  34%|██████████████████████████████████████████████████▉                                                                                                    | 1686/5000 [46:24<1:24:07,  1.52s/it]"
     ]
    },
    {
     "name": "stdout",
     "output_type": "stream",
     "text": [
      "Error extracting representation cfgcallcompact1enoroot for /home/nonroot/experiment/datasets/classify_seqs/group1.1000/GEO/extr_x11_window.c_createNativeWindow/: 'shufflevector'\n"
     ]
    },
    {
     "name": "stderr",
     "output_type": "stream",
     "text": [
      "GEO.extr_ui_shared.c_Window_Paint:  34%|█████████████████████████████████████████████████▉                                                                                                  | 1688/5000 [46:27<1:26:17,  1.56s/it]"
     ]
    },
    {
     "name": "stdout",
     "output_type": "stream",
     "text": [
      "Error extracting representation cfgcompact for /home/nonroot/experiment/datasets/classify_seqs/group1.1000/GEO/extr_ui_shared.c_Window_Paint/: 'shufflevector'\n",
      "Error extracting representation cfgcallcompactnoroot for /home/nonroot/experiment/datasets/classify_seqs/group1.1000/GEO/extr_ui_shared.c_Window_Paint/: 'shufflevector'\n"
     ]
    },
    {
     "name": "stderr",
     "output_type": "stream",
     "text": [
      "GEO.extr_v4l2-ctrls.c_v4l2_ctrl_new:  34%|█████████████████████████████████████████████████▎                                                                                                | 1689/5000 [46:28<1:18:27,  1.42s/it]"
     ]
    },
    {
     "name": "stdout",
     "output_type": "stream",
     "text": [
      "Error extracting representation cfgcallcompact1enoroot for /home/nonroot/experiment/datasets/classify_seqs/group1.1000/GEO/extr_ui_shared.c_Window_Paint/: 'shufflevector'\n"
     ]
    },
    {
     "name": "stderr",
     "output_type": "stream",
     "text": [
      "GEO.extr_atafb.c_falcon_decode_var:  35%|███████████████████████████████████████████████████▊                                                                                               | 1761/5000 [48:34<1:41:21,  1.88s/it]"
     ]
    },
    {
     "name": "stdout",
     "output_type": "stream",
     "text": [
      "Error extracting representation cfgcompact for /home/nonroot/experiment/datasets/classify_seqs/group1.1000/GEO/extr_atafb.c_falcon_decode_var/: 'shufflevector'\n",
      "Error extracting representation cfgcallcompactnoroot for /home/nonroot/experiment/datasets/classify_seqs/group1.1000/GEO/extr_atafb.c_falcon_decode_var/: 'shufflevector'\n"
     ]
    },
    {
     "name": "stderr",
     "output_type": "stream",
     "text": [
      "GEO.extr_suj.c_ino_trunc:  35%|███████████████████████████████████████████████████████▎                                                                                                     | 1762/5000 [48:36<1:34:57,  1.76s/it]"
     ]
    },
    {
     "name": "stdout",
     "output_type": "stream",
     "text": [
      "Error extracting representation cfgcallcompact1enoroot for /home/nonroot/experiment/datasets/classify_seqs/group1.1000/GEO/extr_atafb.c_falcon_decode_var/: 'shufflevector'\n"
     ]
    },
    {
     "name": "stderr",
     "output_type": "stream",
     "text": [
      "GEO.extr_net-udp.c_udp_writer:  36%|██████████████████████████████████████████████████████▋                                                                                                 | 1799/5000 [49:40<1:29:27,  1.68s/it]"
     ]
    },
    {
     "name": "stdout",
     "output_type": "stream",
     "text": [
      "Error extracting representation cfgcompact for /home/nonroot/experiment/datasets/classify_seqs/group1.1000/GEO/extr_net-udp.c_udp_writer/: 'shufflevector'\n",
      "Error extracting representation cfgcallcompactnoroot for /home/nonroot/experiment/datasets/classify_seqs/group1.1000/GEO/extr_net-udp.c_udp_writer/: 'shufflevector'\n"
     ]
    },
    {
     "name": "stderr",
     "output_type": "stream",
     "text": [
      "GEO.extr_xfs_dir2_data.c_xfs_dir2_data_use_free:  36%|████████████████████████████████████████████████▏                                                                                     | 1800/5000 [49:41<1:19:55,  1.50s/it]"
     ]
    },
    {
     "name": "stdout",
     "output_type": "stream",
     "text": [
      "Error extracting representation cfgcallcompact1enoroot for /home/nonroot/experiment/datasets/classify_seqs/group1.1000/GEO/extr_net-udp.c_udp_writer/: 'shufflevector'\n"
     ]
    },
    {
     "name": "stderr",
     "output_type": "stream",
     "text": [
      "GEO.extr_tree-vrp.c_extract_range_from_binary_expr:  37%|████████████████████████████████████████████████▍                                                                                  | 1851/5000 [51:11<1:32:55,  1.77s/it]"
     ]
    },
    {
     "name": "stdout",
     "output_type": "stream",
     "text": [
      "Error extracting representation cfgcompact for /home/nonroot/experiment/datasets/classify_seqs/group1.1000/GEO/extr_tree-vrp.c_extract_range_from_binary_expr/: 'shufflevector'\n",
      "Error extracting representation cfgcallcompactnoroot for /home/nonroot/experiment/datasets/classify_seqs/group1.1000/GEO/extr_tree-vrp.c_extract_range_from_binary_expr/: 'shufflevector'\n"
     ]
    },
    {
     "name": "stderr",
     "output_type": "stream",
     "text": [
      "GEO.extr_archive_string.c_archive_string_normalize_C:  37%|███████████████████████████████████████████████▊                                                                                 | 1852/5000 [51:12<1:27:55,  1.68s/it]"
     ]
    },
    {
     "name": "stdout",
     "output_type": "stream",
     "text": [
      "Error extracting representation cfgcallcompact1enoroot for /home/nonroot/experiment/datasets/classify_seqs/group1.1000/GEO/extr_tree-vrp.c_extract_range_from_binary_expr/: 'shufflevector'\n"
     ]
    },
    {
     "name": "stderr",
     "output_type": "stream",
     "text": [
      "CAP.extr_ad714x.c_ad714x_probe:  44%|████████████████████████████████████████████████████████████████▉                                                                                    | 2179/5000 [1:00:34<1:13:30,  1.56s/it]"
     ]
    },
    {
     "name": "stdout",
     "output_type": "stream",
     "text": [
      "Error extracting representation cfgcompact for /home/nonroot/experiment/datasets/classify_seqs/group1.1000/CAP/extr_ad714x.c_ad714x_probe/: 'shufflevector'\n",
      "Error extracting representation cfgcallcompactnoroot for /home/nonroot/experiment/datasets/classify_seqs/group1.1000/CAP/extr_ad714x.c_ad714x_probe/: 'shufflevector'\n"
     ]
    },
    {
     "name": "stderr",
     "output_type": "stream",
     "text": [
      "CAP.extr_trace.c_tracing_buffers_splice_read:  44%|██████████████████████████████████████████████████████████▊                                                                            | 2180/5000 [1:00:35<1:09:04,  1.47s/it]"
     ]
    },
    {
     "name": "stdout",
     "output_type": "stream",
     "text": [
      "Error extracting representation cfgcallcompact1enoroot for /home/nonroot/experiment/datasets/classify_seqs/group1.1000/CAP/extr_ad714x.c_ad714x_probe/: 'shufflevector'\n"
     ]
    },
    {
     "name": "stderr",
     "output_type": "stream",
     "text": [
      "CAP.extr_merge-file.c_cmd_merge_file:  49%|███████████████████████████████████████████████████████████████████████▎                                                                         | 2457/5000 [1:08:03<58:25,  1.38s/it]"
     ]
    },
    {
     "name": "stdout",
     "output_type": "stream",
     "text": [
      "Error extracting representation cfgcompact for /home/nonroot/experiment/datasets/classify_seqs/group1.1000/CAP/extr_merge-file.c_cmd_merge_file/: 'shufflevector'\n",
      "Error extracting representation cfgcallcompactnoroot for /home/nonroot/experiment/datasets/classify_seqs/group1.1000/CAP/extr_merge-file.c_cmd_merge_file/: 'shufflevector'\n"
     ]
    },
    {
     "name": "stderr",
     "output_type": "stream",
     "text": [
      "CAP.extr_phy_n.c_b43_nphy_rev2_rssi_cal:  49%|█████████████████████████████████████████████████████████████████████▊                                                                        | 2458/5000 [1:08:04<55:32,  1.31s/it]"
     ]
    },
    {
     "name": "stdout",
     "output_type": "stream",
     "text": [
      "Error extracting representation cfgcallcompact1enoroot for /home/nonroot/experiment/datasets/classify_seqs/group1.1000/CAP/extr_merge-file.c_cmd_merge_file/: 'shufflevector'\n"
     ]
    },
    {
     "name": "stderr",
     "output_type": "stream",
     "text": [
      "CAP.extr_tau32-ddk.c_QrVoB3:  54%|█████████████████████████████████████████████████████████████████████████████████▉                                                                      | 2694/5000 [1:14:32<1:00:59,  1.59s/it]"
     ]
    },
    {
     "name": "stdout",
     "output_type": "stream",
     "text": [
      "Error extracting representation cfgcompact for /home/nonroot/experiment/datasets/classify_seqs/group1.1000/CAP/extr_tau32-ddk.c_QrVoB3/: list index out of range\n",
      "Error extracting representation cfgcallcompactnoroot for /home/nonroot/experiment/datasets/classify_seqs/group1.1000/CAP/extr_tau32-ddk.c_QrVoB3/: list index out of range\n"
     ]
    },
    {
     "name": "stderr",
     "output_type": "stream",
     "text": [
      "CAP.extr_graphics.c_test_pen_thickness:  54%|█████████████████████████████████████████████████████████████████████████████                                                                  | 2695/5000 [1:14:33<57:39,  1.50s/it]"
     ]
    },
    {
     "name": "stdout",
     "output_type": "stream",
     "text": [
      "Error extracting representation cfgcallcompact1enoroot for /home/nonroot/experiment/datasets/classify_seqs/group1.1000/CAP/extr_tau32-ddk.c_QrVoB3/: list index out of range\n"
     ]
    },
    {
     "name": "stderr",
     "output_type": "stream",
     "text": [
      "CAP.extr_h264_nal.c_h264_parse_sequence_parameter_set_rbsp:  57%|█████████████████████████████████████████████████████████████████████▋                                                     | 2835/5000 [1:18:27<59:35,  1.65s/it]"
     ]
    },
    {
     "name": "stdout",
     "output_type": "stream",
     "text": [
      "Error extracting representation cfgcompact for /home/nonroot/experiment/datasets/classify_seqs/group1.1000/CAP/extr_h264_nal.c_h264_parse_sequence_parameter_set_rbsp/: 'shufflevector'\n",
      "Error extracting representation cfgcallcompactnoroot for /home/nonroot/experiment/datasets/classify_seqs/group1.1000/CAP/extr_h264_nal.c_h264_parse_sequence_parameter_set_rbsp/: 'shufflevector'\n"
     ]
    },
    {
     "name": "stderr",
     "output_type": "stream",
     "text": [
      "CAP.extr_convert.c_volumetobin:  57%|█████████████████████████████████████████████████████████████████████████████████████▋                                                                 | 2836/5000 [1:18:28<55:18,  1.53s/it]"
     ]
    },
    {
     "name": "stdout",
     "output_type": "stream",
     "text": [
      "Error extracting representation cfgcallcompact1enoroot for /home/nonroot/experiment/datasets/classify_seqs/group1.1000/CAP/extr_h264_nal.c_h264_parse_sequence_parameter_set_rbsp/: 'shufflevector'\n"
     ]
    },
    {
     "name": "stderr",
     "output_type": "stream",
     "text": [
      "LIM.extr_af_aiir.c_draw_response:  60%|█████████████████████████████████████████████████████████████████████████████████████████▉                                                           | 3016/5000 [1:23:20<52:21,  1.58s/it]"
     ]
    },
    {
     "name": "stdout",
     "output_type": "stream",
     "text": [
      "Error extracting representation cfgcompact for /home/nonroot/experiment/datasets/classify_seqs/group1.1000/LIM/extr_af_aiir.c_draw_response/: 'shufflevector'\n",
      "Error extracting representation cfgcallcompactnoroot for /home/nonroot/experiment/datasets/classify_seqs/group1.1000/LIM/extr_af_aiir.c_draw_response/: 'shufflevector'\n"
     ]
    },
    {
     "name": "stderr",
     "output_type": "stream",
     "text": [
      "LIM.extr_if_run.c_run_select_chan_group:  60%|█████████████████████████████████████████████████████████████████████████████████████▋                                                        | 3017/5000 [1:23:21<48:14,  1.46s/it]"
     ]
    },
    {
     "name": "stdout",
     "output_type": "stream",
     "text": [
      "Error extracting representation cfgcallcompact1enoroot for /home/nonroot/experiment/datasets/classify_seqs/group1.1000/LIM/extr_af_aiir.c_draw_response/: 'shufflevector'\n"
     ]
    },
    {
     "name": "stderr",
     "output_type": "stream",
     "text": [
      "LIM.extr_tc-score.c_data_op2:  67%|██████████████████████████████████████████████████████████████████████████████████████████████████████                                                   | 3336/5000 [1:32:09<44:28,  1.60s/it]"
     ]
    },
    {
     "name": "stdout",
     "output_type": "stream",
     "text": [
      "Error extracting representation cfgcompact for /home/nonroot/experiment/datasets/classify_seqs/group1.1000/LIM/extr_tc-score.c_data_op2/: 'shufflevector'\n",
      "Error extracting representation cfgcallcompactnoroot for /home/nonroot/experiment/datasets/classify_seqs/group1.1000/LIM/extr_tc-score.c_data_op2/: 'shufflevector'\n"
     ]
    },
    {
     "name": "stderr",
     "output_type": "stream",
     "text": [
      "LIM.extr_sunrastenc.c_sunrast_image_write_image:  67%|█████████████████████████████████████████████████████████████████████████████████████████▍                                            | 3337/5000 [1:32:10<42:16,  1.53s/it]"
     ]
    },
    {
     "name": "stdout",
     "output_type": "stream",
     "text": [
      "Error extracting representation cfgcallcompact1enoroot for /home/nonroot/experiment/datasets/classify_seqs/group1.1000/LIM/extr_tc-score.c_data_op2/: 'shufflevector'\n"
     ]
    },
    {
     "name": "stderr",
     "output_type": "stream",
     "text": [
      "LIM.extr_svg-run.c_svg_add_arc:  68%|██████████████████████████████████████████████████████████████████████████████████████████████████████▉                                                | 3410/5000 [1:34:11<43:56,  1.66s/it]"
     ]
    },
    {
     "name": "stdout",
     "output_type": "stream",
     "text": [
      "Error extracting representation cfgcompact for /home/nonroot/experiment/datasets/classify_seqs/group1.1000/LIM/extr_svg-run.c_svg_add_arc/: 'shufflevector'\n",
      "Error extracting representation cfgcallcompactnoroot for /home/nonroot/experiment/datasets/classify_seqs/group1.1000/LIM/extr_svg-run.c_svg_add_arc/: 'shufflevector'\n"
     ]
    },
    {
     "name": "stderr",
     "output_type": "stream",
     "text": [
      "LIM.extr_dib32bpp.c_DIB_32BPP_AlphaBlend:  68%|████████████████████████████████████████████████████████████████████████████████████████████████▏                                            | 3411/5000 [1:34:12<39:18,  1.48s/it]"
     ]
    },
    {
     "name": "stdout",
     "output_type": "stream",
     "text": [
      "Error extracting representation cfgcallcompact1enoroot for /home/nonroot/experiment/datasets/classify_seqs/group1.1000/LIM/extr_svg-run.c_svg_add_arc/: 'shufflevector'\n"
     ]
    },
    {
     "name": "stderr",
     "output_type": "stream",
     "text": [
      "LIM.extr_copyexec-data.c_exec_transaction:  75%|████████████████████████████████████████████████████████████████████████████████████████████████████████▌                                   | 3733/5000 [1:43:12<35:17,  1.67s/it]"
     ]
    },
    {
     "name": "stdout",
     "output_type": "stream",
     "text": [
      "Error extracting representation cfgcompact for /home/nonroot/experiment/datasets/classify_seqs/group1.1000/LIM/extr_copyexec-data.c_exec_transaction/: 'shufflevector'\n",
      "Error extracting representation cfgcallcompactnoroot for /home/nonroot/experiment/datasets/classify_seqs/group1.1000/LIM/extr_copyexec-data.c_exec_transaction/: 'shufflevector'\n"
     ]
    },
    {
     "name": "stderr",
     "output_type": "stream",
     "text": [
      "LIM.extr_nbtsort.c__bt_buildadd:  75%|████████████████████████████████████████████████████████████████████████████████████████████████████████████████                                      | 3734/5000 [1:43:14<33:21,  1.58s/it]"
     ]
    },
    {
     "name": "stdout",
     "output_type": "stream",
     "text": [
      "Error extracting representation cfgcallcompact1enoroot for /home/nonroot/experiment/datasets/classify_seqs/group1.1000/LIM/extr_copyexec-data.c_exec_transaction/: 'shufflevector'\n"
     ]
    },
    {
     "name": "stderr",
     "output_type": "stream",
     "text": [
      "LIM.extr_zfs_main.c_userspace_cb:  76%|████████████████████████████████████████████████████████████████████████████████████████████████████████████████▌                                    | 3777/5000 [1:44:28<35:48,  1.76s/it]"
     ]
    },
    {
     "name": "stdout",
     "output_type": "stream",
     "text": [
      "Error extracting representation cfgcompact for /home/nonroot/experiment/datasets/classify_seqs/group1.1000/LIM/extr_zfs_main.c_userspace_cb/: 'shufflevector'\n",
      "Error extracting representation cfgcallcompactnoroot for /home/nonroot/experiment/datasets/classify_seqs/group1.1000/LIM/extr_zfs_main.c_userspace_cb/: 'shufflevector'\n"
     ]
    },
    {
     "name": "stderr",
     "output_type": "stream",
     "text": [
      "LIM.extr_csum_partial_copy.c_do_csum_c:  76%|████████████████████████████████████████████████████████████████████████████████████████████████████████████                                   | 3778/5000 [1:44:29<32:42,  1.61s/it]"
     ]
    },
    {
     "name": "stdout",
     "output_type": "stream",
     "text": [
      "Error extracting representation cfgcallcompact1enoroot for /home/nonroot/experiment/datasets/classify_seqs/group1.1000/LIM/extr_zfs_main.c_userspace_cb/: 'shufflevector'\n"
     ]
    },
    {
     "name": "stderr",
     "output_type": "stream",
     "text": [
      "LIM.extr_mac_bsdextended.c_ugidfw_rulecheck:  76%|█████████████████████████████████████████████████████████████████████████████████████████████████████████▎                                | 3816/5000 [1:45:30<33:48,  1.71s/it]"
     ]
    },
    {
     "name": "stdout",
     "output_type": "stream",
     "text": [
      "Error extracting representation cfgcompact for /home/nonroot/experiment/datasets/classify_seqs/group1.1000/LIM/extr_mac_bsdextended.c_ugidfw_rulecheck/: 'bool' object is not iterable\n",
      "Error extracting representation cfgcallcompactnoroot for /home/nonroot/experiment/datasets/classify_seqs/group1.1000/LIM/extr_mac_bsdextended.c_ugidfw_rulecheck/: 'bool' object is not iterable\n"
     ]
    },
    {
     "name": "stderr",
     "output_type": "stream",
     "text": [
      "LIM.extr_mn10300-serial.c_mn10300_serial_change_speed:  76%|█████████████████████████████████████████████████████████████████████████████████████████████████▋                              | 3817/5000 [1:45:32<33:42,  1.71s/it]"
     ]
    },
    {
     "name": "stdout",
     "output_type": "stream",
     "text": [
      "Error extracting representation cfgcallcompact1enoroot for /home/nonroot/experiment/datasets/classify_seqs/group1.1000/LIM/extr_mac_bsdextended.c_ugidfw_rulecheck/: 'bool' object is not iterable\n"
     ]
    },
    {
     "name": "stderr",
     "output_type": "stream",
     "text": [
      "LIM.extr_xps-path.c_xps_draw_arc:  78%|███████████████████████████████████████████████████████████████████████████████████████████████████████████████████▌                                 | 3880/5000 [1:47:24<35:01,  1.88s/it]"
     ]
    },
    {
     "name": "stdout",
     "output_type": "stream",
     "text": [
      "Error extracting representation cfgcompact for /home/nonroot/experiment/datasets/classify_seqs/group1.1000/LIM/extr_xps-path.c_xps_draw_arc/: 'shufflevector'\n",
      "Error extracting representation cfgcallcompactnoroot for /home/nonroot/experiment/datasets/classify_seqs/group1.1000/LIM/extr_xps-path.c_xps_draw_arc/: 'shufflevector'\n"
     ]
    },
    {
     "name": "stderr",
     "output_type": "stream",
     "text": [
      "LIM.extr_vmwgfx_stdu.c_vmw_stdu_primary_plane_prepare_fb:  78%|█████████████████████████████████████████████████████████████████████████████████████████████████                            | 3881/5000 [1:47:25<30:30,  1.64s/it]"
     ]
    },
    {
     "name": "stdout",
     "output_type": "stream",
     "text": [
      "Error extracting representation cfgcallcompact1enoroot for /home/nonroot/experiment/datasets/classify_seqs/group1.1000/LIM/extr_xps-path.c_xps_draw_arc/: 'shufflevector'\n"
     ]
    },
    {
     "name": "stderr",
     "output_type": "stream",
     "text": [
      "BST.extr_cxgb2.c_get_stats:  80%|████████████████████████████████████████████████████████████████████████████████████████████████████████████████████████████▎                              | 4011/5000 [1:51:10<30:46,  1.87s/it]"
     ]
    },
    {
     "name": "stdout",
     "output_type": "stream",
     "text": [
      "Error extracting representation cfgcompact for /home/nonroot/experiment/datasets/classify_seqs/group1.1000/BST/extr_cxgb2.c_get_stats/: 'shufflevector'\n",
      "Error extracting representation cfgcallcompactnoroot for /home/nonroot/experiment/datasets/classify_seqs/group1.1000/BST/extr_cxgb2.c_get_stats/: 'shufflevector'\n"
     ]
    },
    {
     "name": "stderr",
     "output_type": "stream",
     "text": [
      "BST.extr_cryptosoft.c_swcr_authenc:  80%|█████████████████████████████████████████████████████████████████████████████████████████████████████████████████████▉                             | 4012/5000 [1:51:11<27:04,  1.64s/it]"
     ]
    },
    {
     "name": "stdout",
     "output_type": "stream",
     "text": [
      "Error extracting representation cfgcallcompact1enoroot for /home/nonroot/experiment/datasets/classify_seqs/group1.1000/BST/extr_cxgb2.c_get_stats/: 'shufflevector'\n"
     ]
    },
    {
     "name": "stderr",
     "output_type": "stream",
     "text": [
      "BST.extr_names.c_parse:  81%|████████████████████████████████████████████████████████████████████████████████████████████████████████████████████████████████▋                              | 4048/5000 [1:52:20<31:11,  1.97s/it]"
     ]
    },
    {
     "name": "stdout",
     "output_type": "stream",
     "text": [
      "Error extracting representation cfgcompact for /home/nonroot/experiment/datasets/classify_seqs/group1.1000/BST/extr_names.c_parse/: 'shufflevector'\n",
      "Error extracting representation cfgcallcompactnoroot for /home/nonroot/experiment/datasets/classify_seqs/group1.1000/BST/extr_names.c_parse/: 'shufflevector'\n"
     ]
    },
    {
     "name": "stderr",
     "output_type": "stream",
     "text": [
      "BST.extr_netjet.c_read_raw:  81%|█████████████████████████████████████████████████████████████████████████████████████████████████████████████████████████████▌                             | 4049/5000 [1:52:21<27:54,  1.76s/it]"
     ]
    },
    {
     "name": "stdout",
     "output_type": "stream",
     "text": [
      "Error extracting representation cfgcallcompact1enoroot for /home/nonroot/experiment/datasets/classify_seqs/group1.1000/BST/extr_names.c_parse/: 'shufflevector'\n"
     ]
    },
    {
     "name": "stderr",
     "output_type": "stream",
     "text": [
      "BST.extr_vga.c_vga_mem_wr_handler:  82%|████████████████████████████████████████████████████████████████████████████████████████████████████████████████████████▉                           | 4086/5000 [1:53:33<28:45,  1.89s/it]"
     ]
    },
    {
     "name": "stdout",
     "output_type": "stream",
     "text": [
      "Error extracting representation cfgcompact for /home/nonroot/experiment/datasets/classify_seqs/group1.1000/BST/extr_vga.c_vga_mem_wr_handler/: 'shufflevector'\n",
      "Error extracting representation cfgcallcompactnoroot for /home/nonroot/experiment/datasets/classify_seqs/group1.1000/BST/extr_vga.c_vga_mem_wr_handler/: 'shufflevector'\n"
     ]
    },
    {
     "name": "stderr",
     "output_type": "stream",
     "text": [
      "BST.extr_xsltutils.c_xsltDefaultSortFunction:  82%|███████████████████████████████████████████████████████████████████████████████████████████████████████████████▉                         | 4087/5000 [1:53:34<25:48,  1.70s/it]"
     ]
    },
    {
     "name": "stdout",
     "output_type": "stream",
     "text": [
      "Error extracting representation cfgcallcompact1enoroot for /home/nonroot/experiment/datasets/classify_seqs/group1.1000/BST/extr_vga.c_vga_mem_wr_handler/: 'shufflevector'\n"
     ]
    },
    {
     "name": "stderr",
     "output_type": "stream",
     "text": [
      "BST.extr_string.c_test_strcat_s:  82%|███████████████████████████████████████████████████████████████████████████████████████████████████████████████████████████▎                          | 4111/5000 [1:54:24<31:23,  2.12s/it]"
     ]
    },
    {
     "name": "stdout",
     "output_type": "stream",
     "text": [
      "Error extracting representation cfgcompact for /home/nonroot/experiment/datasets/classify_seqs/group1.1000/BST/extr_string.c_test_strcat_s/: 'shufflevector'\n",
      "Error extracting representation cfgcallcompactnoroot for /home/nonroot/experiment/datasets/classify_seqs/group1.1000/BST/extr_string.c_test_strcat_s/: 'shufflevector'\n"
     ]
    },
    {
     "name": "stderr",
     "output_type": "stream",
     "text": [
      "BST.extr_........libhandlerfile.c_on_req:  82%|███████████████████████████████████████████████████████████████████████████████████████████████████████████████████▉                         | 4112/5000 [1:54:25<26:53,  1.82s/it]"
     ]
    },
    {
     "name": "stdout",
     "output_type": "stream",
     "text": [
      "Error extracting representation cfgcallcompact1enoroot for /home/nonroot/experiment/datasets/classify_seqs/group1.1000/BST/extr_string.c_test_strcat_s/: 'shufflevector'\n"
     ]
    },
    {
     "name": "stderr",
     "output_type": "stream",
     "text": [
      "BST.extr_freebsd_sysctl.c_do_net_inet_ip_stats:  82%|███████████████████████████████████████████████████████████████████████████████████████████████████████████████▎                       | 4122/5000 [1:54:45<29:04,  1.99s/it]"
     ]
    },
    {
     "name": "stdout",
     "output_type": "stream",
     "text": [
      "Error extracting representation cfgcompact for /home/nonroot/experiment/datasets/classify_seqs/group1.1000/BST/extr_freebsd_sysctl.c_do_net_inet_ip_stats/: 'shufflevector'\n",
      "Error extracting representation cfgcallcompactnoroot for /home/nonroot/experiment/datasets/classify_seqs/group1.1000/BST/extr_freebsd_sysctl.c_do_net_inet_ip_stats/: 'shufflevector'\n"
     ]
    },
    {
     "name": "stderr",
     "output_type": "stream",
     "text": [
      "BST.extr_libmp4mux.c_GetStblBox:  82%|███████████████████████████████████████████████████████████████████████████████████████████████████████████████████████████▋                          | 4123/5000 [1:54:46<25:41,  1.76s/it]"
     ]
    },
    {
     "name": "stdout",
     "output_type": "stream",
     "text": [
      "Error extracting representation cfgcallcompact1enoroot for /home/nonroot/experiment/datasets/classify_seqs/group1.1000/BST/extr_freebsd_sysctl.c_do_net_inet_ip_stats/: 'shufflevector'\n"
     ]
    },
    {
     "name": "stderr",
     "output_type": "stream",
     "text": [
      "BST.extr_combinator.c_combinator_ctx_init:  83%|███████████████████████████████████████████████████████████████████████████████████████████████████████████████████▊                        | 4134/5000 [1:55:08<25:57,  1.80s/it]"
     ]
    },
    {
     "name": "stdout",
     "output_type": "stream",
     "text": [
      "Error extracting representation cfgcompact for /home/nonroot/experiment/datasets/classify_seqs/group1.1000/BST/extr_combinator.c_combinator_ctx_init/: 'shufflevector'\n",
      "Error extracting representation cfgcallcompactnoroot for /home/nonroot/experiment/datasets/classify_seqs/group1.1000/BST/extr_combinator.c_combinator_ctx_init/: 'shufflevector'\n"
     ]
    },
    {
     "name": "stderr",
     "output_type": "stream",
     "text": [
      "BST.extr_binkaudio.c_decode_block:  83%|██████████████████████████████████████████████████████████████████████████████████████████████████████████████████████████▍                         | 4135/5000 [1:55:10<24:05,  1.67s/it]"
     ]
    },
    {
     "name": "stdout",
     "output_type": "stream",
     "text": [
      "Error extracting representation cfgcallcompact1enoroot for /home/nonroot/experiment/datasets/classify_seqs/group1.1000/BST/extr_combinator.c_combinator_ctx_init/: 'shufflevector'\n"
     ]
    },
    {
     "name": "stderr",
     "output_type": "stream",
     "text": [
      "BST.extr_cs35l35.c_cs35l35_handle_of_data:  83%|███████████████████████████████████████████████████████████████████████████████████████████████████████████████████▉                        | 4141/5000 [1:55:21<26:07,  1.82s/it]"
     ]
    },
    {
     "name": "stdout",
     "output_type": "stream",
     "text": [
      "Error extracting representation cfgcompact for /home/nonroot/experiment/datasets/classify_seqs/group1.1000/BST/extr_cs35l35.c_cs35l35_handle_of_data/: 'shufflevector'\n",
      "Error extracting representation cfgcallcompactnoroot for /home/nonroot/experiment/datasets/classify_seqs/group1.1000/BST/extr_cs35l35.c_cs35l35_handle_of_data/: 'shufflevector'\n"
     ]
    },
    {
     "name": "stderr",
     "output_type": "stream",
     "text": [
      "BST.extr_clnt_vc.c_clnt_vc_call:  83%|████████████████████████████████████████████████████████████████████████████████████████████████████████████████████████████▎                         | 4142/5000 [1:55:22<23:50,  1.67s/it]"
     ]
    },
    {
     "name": "stdout",
     "output_type": "stream",
     "text": [
      "Error extracting representation cfgcallcompact1enoroot for /home/nonroot/experiment/datasets/classify_seqs/group1.1000/BST/extr_cs35l35.c_cs35l35_handle_of_data/: 'shufflevector'\n"
     ]
    },
    {
     "name": "stderr",
     "output_type": "stream",
     "text": [
      "BST.extr_ibmvnic.c_handle_query_ip_offload_rsp:  83%|███████████████████████████████████████████████████████████████████████████████████████████████████████████████▉                       | 4146/5000 [1:55:29<23:29,  1.65s/it]"
     ]
    },
    {
     "name": "stdout",
     "output_type": "stream",
     "text": [
      "Error extracting representation cfgcompact for /home/nonroot/experiment/datasets/classify_seqs/group1.1000/BST/extr_ibmvnic.c_handle_query_ip_offload_rsp/: 'shufflevector'\n",
      "Error extracting representation cfgcallcompactnoroot for /home/nonroot/experiment/datasets/classify_seqs/group1.1000/BST/extr_ibmvnic.c_handle_query_ip_offload_rsp/: 'shufflevector'\n"
     ]
    },
    {
     "name": "stderr",
     "output_type": "stream",
     "text": [
      "BST.extr_retroarch.c_recording_init:  83%|█████████████████████████████████████████████████████████████████████████████████████████████████████████████████████████                         | 4147/5000 [1:55:30<21:32,  1.51s/it]"
     ]
    },
    {
     "name": "stdout",
     "output_type": "stream",
     "text": [
      "Error extracting representation cfgcallcompact1enoroot for /home/nonroot/experiment/datasets/classify_seqs/group1.1000/BST/extr_ibmvnic.c_handle_query_ip_offload_rsp/: 'shufflevector'\n"
     ]
    },
    {
     "name": "stderr",
     "output_type": "stream",
     "text": [
      "BST.extr_main.c_ieee80211_alloc_hw:  83%|██████████████████████████████████████████████████████████████████████████████████████████████████████████████████████████                         | 4151/5000 [1:55:38<27:35,  1.95s/it]"
     ]
    },
    {
     "name": "stdout",
     "output_type": "stream",
     "text": [
      "Error extracting representation cfgcompact for /home/nonroot/experiment/datasets/classify_seqs/group1.1000/BST/extr_main.c_ieee80211_alloc_hw/: 'shufflevector'\n",
      "Error extracting representation cfgcallcompactnoroot for /home/nonroot/experiment/datasets/classify_seqs/group1.1000/BST/extr_main.c_ieee80211_alloc_hw/: 'shufflevector'\n"
     ]
    },
    {
     "name": "stderr",
     "output_type": "stream",
     "text": [
      "BST.extr_grp_test.c_test_groups:  83%|████████████████████████████████████████████████████████████████████████████████████████████████████████████████████████████▌                         | 4152/5000 [1:55:39<24:24,  1.73s/it]"
     ]
    },
    {
     "name": "stdout",
     "output_type": "stream",
     "text": [
      "Error extracting representation cfgcallcompact1enoroot for /home/nonroot/experiment/datasets/classify_seqs/group1.1000/BST/extr_main.c_ieee80211_alloc_hw/: 'shufflevector'\n"
     ]
    },
    {
     "name": "stderr",
     "output_type": "stream",
     "text": [
      "BST.extr_camellia.c_Camellia_Ekeygen:  83%|████████████████████████████████████████████████████████████████████████████████████████████████████████████████████████▋                        | 4161/5000 [1:55:55<25:46,  1.84s/it]"
     ]
    },
    {
     "name": "stdout",
     "output_type": "stream",
     "text": [
      "Error extracting representation cfgcompact for /home/nonroot/experiment/datasets/classify_seqs/group1.1000/BST/extr_camellia.c_Camellia_Ekeygen/: 'shufflevector'\n",
      "Error extracting representation cfgcallcompactnoroot for /home/nonroot/experiment/datasets/classify_seqs/group1.1000/BST/extr_camellia.c_Camellia_Ekeygen/: 'shufflevector'\n"
     ]
    },
    {
     "name": "stderr",
     "output_type": "stream",
     "text": [
      "BST.extr_cmsmd5.c_MD5_Transform:  83%|████████████████████████████████████████████████████████████████████████████████████████████████████████████████████████████▊                         | 4162/5000 [1:55:56<22:46,  1.63s/it]"
     ]
    },
    {
     "name": "stdout",
     "output_type": "stream",
     "text": [
      "Error extracting representation cfgcallcompact1enoroot for /home/nonroot/experiment/datasets/classify_seqs/group1.1000/BST/extr_camellia.c_Camellia_Ekeygen/: 'shufflevector'\n"
     ]
    },
    {
     "name": "stderr",
     "output_type": "stream",
     "text": [
      "BST.extr_test_test.c_test_bignum:  84%|█████████████████████████████████████████████████████████████████████████████████████████████████████████████████████████████▍                       | 4209/5000 [1:57:21<23:08,  1.76s/it]"
     ]
    },
    {
     "name": "stdout",
     "output_type": "stream",
     "text": [
      "Error extracting representation cfgcompact for /home/nonroot/experiment/datasets/classify_seqs/group1.1000/BST/extr_test_test.c_test_bignum/: 'shufflevector'\n",
      "Error extracting representation cfgcallcompactnoroot for /home/nonroot/experiment/datasets/classify_seqs/group1.1000/BST/extr_test_test.c_test_bignum/: 'shufflevector'\n"
     ]
    },
    {
     "name": "stderr",
     "output_type": "stream",
     "text": [
      "BST.extr_aoutx.h_adjust_z_magic:  84%|██████████████████████████████████████████████████████████████████████████████████████████████████████████████████████████████▎                       | 4210/5000 [1:57:22<20:44,  1.58s/it]"
     ]
    },
    {
     "name": "stdout",
     "output_type": "stream",
     "text": [
      "Error extracting representation cfgcallcompact1enoroot for /home/nonroot/experiment/datasets/classify_seqs/group1.1000/BST/extr_test_test.c_test_bignum/: 'shufflevector'\n"
     ]
    },
    {
     "name": "stderr",
     "output_type": "stream",
     "text": [
      "BST.extr_aes_impl_generic.c_aes_generic_decrypt:  84%|█████████████████████████████████████████████████████████████████████████████████████████████████████████████████▏                    | 4222/5000 [1:57:43<21:59,  1.70s/it]"
     ]
    },
    {
     "name": "stdout",
     "output_type": "stream",
     "text": [
      "Error extracting representation cfgcompact for /home/nonroot/experiment/datasets/classify_seqs/group1.1000/BST/extr_aes_impl_generic.c_aes_generic_decrypt/: 'shufflevector'\n",
      "Error extracting representation cfgcallcompactnoroot for /home/nonroot/experiment/datasets/classify_seqs/group1.1000/BST/extr_aes_impl_generic.c_aes_generic_decrypt/: 'shufflevector'\n"
     ]
    },
    {
     "name": "stderr",
     "output_type": "stream",
     "text": [
      "BST.extr_mlx4_port.c___mlx4_register_mac:  84%|███████████████████████████████████████████████████████████████████████████████████████████████████████████████████████                      | 4223/5000 [1:57:44<19:50,  1.53s/it]"
     ]
    },
    {
     "name": "stdout",
     "output_type": "stream",
     "text": [
      "Error extracting representation cfgcallcompact1enoroot for /home/nonroot/experiment/datasets/classify_seqs/group1.1000/BST/extr_aes_impl_generic.c_aes_generic_decrypt/: 'shufflevector'\n"
     ]
    },
    {
     "name": "stderr",
     "output_type": "stream",
     "text": [
      "BST.extr_dvenc.c_dv_guess_qnos:  86%|██████████████████████████████████████████████████████████████████████████████████████████████████████████████████████████████████▌                    | 4325/5000 [2:01:01<21:35,  1.92s/it]"
     ]
    },
    {
     "name": "stdout",
     "output_type": "stream",
     "text": [
      "Error extracting representation cfgcompact for /home/nonroot/experiment/datasets/classify_seqs/group1.1000/BST/extr_dvenc.c_dv_guess_qnos/: 'shufflevector'\n",
      "Error extracting representation cfgcallcompactnoroot for /home/nonroot/experiment/datasets/classify_seqs/group1.1000/BST/extr_dvenc.c_dv_guess_qnos/: 'shufflevector'\n"
     ]
    },
    {
     "name": "stderr",
     "output_type": "stream",
     "text": [
      "BST.extr_pretty.c_format_commit_one:  87%|██████████████████████████████████████████████████████████████████████████████████████████████████████████████████████████████▎                   | 4326/5000 [2:01:02<19:26,  1.73s/it]"
     ]
    },
    {
     "name": "stdout",
     "output_type": "stream",
     "text": [
      "Error extracting representation cfgcallcompact1enoroot for /home/nonroot/experiment/datasets/classify_seqs/group1.1000/BST/extr_dvenc.c_dv_guess_qnos/: 'shufflevector'\n"
     ]
    },
    {
     "name": "stderr",
     "output_type": "stream",
     "text": [
      "BST.extr_usbconfig.c_flush_command:  88%|█████████████████████████████████████████████████████████████████████████████████████████████████████████████████████████████████                  | 4388/5000 [2:03:02<20:09,  1.98s/it]"
     ]
    },
    {
     "name": "stdout",
     "output_type": "stream",
     "text": [
      "Error extracting representation cfgcompact for /home/nonroot/experiment/datasets/classify_seqs/group1.1000/BST/extr_usbconfig.c_flush_command/: 'shufflevector'\n",
      "Error extracting representation cfgcallcompactnoroot for /home/nonroot/experiment/datasets/classify_seqs/group1.1000/BST/extr_usbconfig.c_flush_command/: 'shufflevector'\n"
     ]
    },
    {
     "name": "stderr",
     "output_type": "stream",
     "text": [
      "BST.extr_as3722-regulator.c_as3722_regulator_probe:  88%|██████████████████████████████████████████████████████████████████████████████████████████████████████████████████▉                | 4389/5000 [2:03:04<18:17,  1.80s/it]"
     ]
    },
    {
     "name": "stdout",
     "output_type": "stream",
     "text": [
      "Error extracting representation cfgcallcompact1enoroot for /home/nonroot/experiment/datasets/classify_seqs/group1.1000/BST/extr_usbconfig.c_flush_command/: 'shufflevector'\n"
     ]
    },
    {
     "name": "stderr",
     "output_type": "stream",
     "text": [
      "BST.extr_if_axgbe.c_axgbe_attach:  88%|███████████████████████████████████████████████████████████████████████████████████████████████████████████████████████████████████▎                 | 4408/5000 [2:03:39<19:37,  1.99s/it]"
     ]
    },
    {
     "name": "stdout",
     "output_type": "stream",
     "text": [
      "Error extracting representation cfgcompact for /home/nonroot/experiment/datasets/classify_seqs/group1.1000/BST/extr_if_axgbe.c_axgbe_attach/: 'shufflevector'\n",
      "Error extracting representation cfgcallcompactnoroot for /home/nonroot/experiment/datasets/classify_seqs/group1.1000/BST/extr_if_axgbe.c_axgbe_attach/: 'shufflevector'\n"
     ]
    },
    {
     "name": "stderr",
     "output_type": "stream",
     "text": [
      "BST.extr_main.c_ieee80211_alloc_hw_nm:  88%|██████████████████████████████████████████████████████████████████████████████████████████████████████████████████████████████▉                 | 4409/5000 [2:03:40<17:31,  1.78s/it]"
     ]
    },
    {
     "name": "stdout",
     "output_type": "stream",
     "text": [
      "Error extracting representation cfgcallcompact1enoroot for /home/nonroot/experiment/datasets/classify_seqs/group1.1000/BST/extr_if_axgbe.c_axgbe_attach/: 'shufflevector'\n",
      "Error extracting representation cfgcompact for /home/nonroot/experiment/datasets/classify_seqs/group1.1000/BST/extr_main.c_ieee80211_alloc_hw_nm/: 'shufflevector'\n",
      "Error extracting representation cfgcallcompactnoroot for /home/nonroot/experiment/datasets/classify_seqs/group1.1000/BST/extr_main.c_ieee80211_alloc_hw_nm/: 'shufflevector'\n"
     ]
    },
    {
     "name": "stderr",
     "output_type": "stream",
     "text": [
      "BST.extr_dhcp.c_send_DHCP_REQUEST:  88%|██████████████████████████████████████████████████████████████████████████████████████████████████████████████████████████████████▌                 | 4410/5000 [2:03:42<15:50,  1.61s/it]"
     ]
    },
    {
     "name": "stdout",
     "output_type": "stream",
     "text": [
      "Error extracting representation cfgcallcompact1enoroot for /home/nonroot/experiment/datasets/classify_seqs/group1.1000/BST/extr_main.c_ieee80211_alloc_hw_nm/: 'shufflevector'\n"
     ]
    },
    {
     "name": "stderr",
     "output_type": "stream",
     "text": [
      "BST.extr_vf_delogo.c_filter_frame:  88%|██████████████████████████████████████████████████████████████████████████████████████████████████████████████████████████████████▉                 | 4425/5000 [2:04:12<20:52,  2.18s/it]"
     ]
    },
    {
     "name": "stdout",
     "output_type": "stream",
     "text": [
      "Error extracting representation cfgcompact for /home/nonroot/experiment/datasets/classify_seqs/group1.1000/BST/extr_vf_delogo.c_filter_frame/: 'shufflevector'\n",
      "Error extracting representation cfgcallcompactnoroot for /home/nonroot/experiment/datasets/classify_seqs/group1.1000/BST/extr_vf_delogo.c_filter_frame/: 'shufflevector'\n"
     ]
    },
    {
     "name": "stderr",
     "output_type": "stream",
     "text": [
      "BST.extr_wherecode.c_codeEqualityTerm:  89%|███████████████████████████████████████████████████████████████████████████████████████████████████████████████████████████████▍                | 4426/5000 [2:04:13<17:57,  1.88s/it]"
     ]
    },
    {
     "name": "stdout",
     "output_type": "stream",
     "text": [
      "Error extracting representation cfgcallcompact1enoroot for /home/nonroot/experiment/datasets/classify_seqs/group1.1000/BST/extr_vf_delogo.c_filter_frame/: 'shufflevector'\n"
     ]
    },
    {
     "name": "stderr",
     "output_type": "stream",
     "text": [
      "BST.extr_fm_ncsw.c_FmGetSetPortParams:  89%|███████████████████████████████████████████████████████████████████████████████████████████████████████████████████████████████▋                | 4432/5000 [2:04:25<20:07,  2.13s/it]"
     ]
    },
    {
     "name": "stdout",
     "output_type": "stream",
     "text": [
      "Error extracting representation cfgcompact for /home/nonroot/experiment/datasets/classify_seqs/group1.1000/BST/extr_fm_ncsw.c_FmGetSetPortParams/: 'shufflevector'\n",
      "Error extracting representation cfgcallcompactnoroot for /home/nonroot/experiment/datasets/classify_seqs/group1.1000/BST/extr_fm_ncsw.c_FmGetSetPortParams/: 'shufflevector'\n"
     ]
    },
    {
     "name": "stderr",
     "output_type": "stream",
     "text": [
      "BST.extr_chip.c_set_buffer_control:  89%|██████████████████████████████████████████████████████████████████████████████████████████████████████████████████████████████████▎                | 4433/5000 [2:04:27<17:35,  1.86s/it]"
     ]
    },
    {
     "name": "stdout",
     "output_type": "stream",
     "text": [
      "Error extracting representation cfgcallcompact1enoroot for /home/nonroot/experiment/datasets/classify_seqs/group1.1000/BST/extr_fm_ncsw.c_FmGetSetPortParams/: 'shufflevector'\n"
     ]
    },
    {
     "name": "stderr",
     "output_type": "stream",
     "text": [
      "BST.extr_ar5416_attach.c_ar5416SpurMitigate:  89%|██████████████████████████████████████████████████████████████████████████████████████████████████████████████████████████▌               | 4440/5000 [2:04:41<17:54,  1.92s/it]"
     ]
    },
    {
     "name": "stdout",
     "output_type": "stream",
     "text": [
      "Error extracting representation cfgcompact for /home/nonroot/experiment/datasets/classify_seqs/group1.1000/BST/extr_ar5416_attach.c_ar5416SpurMitigate/: 'shufflevector'\n",
      "Error extracting representation cfgcallcompactnoroot for /home/nonroot/experiment/datasets/classify_seqs/group1.1000/BST/extr_ar5416_attach.c_ar5416SpurMitigate/: 'shufflevector'\n"
     ]
    },
    {
     "name": "stderr",
     "output_type": "stream",
     "text": [
      "BST.extr_where.c_wherePathSatisfiesOrderBy:  89%|███████████████████████████████████████████████████████████████████████████████████████████████████████████████████████████▍               | 4441/5000 [2:04:42<16:01,  1.72s/it]"
     ]
    },
    {
     "name": "stdout",
     "output_type": "stream",
     "text": [
      "Error extracting representation cfgcallcompact1enoroot for /home/nonroot/experiment/datasets/classify_seqs/group1.1000/BST/extr_ar5416_attach.c_ar5416SpurMitigate/: 'shufflevector'\n"
     ]
    },
    {
     "name": "stderr",
     "output_type": "stream",
     "text": [
      "BST.extr_camellia_glue.c_camellia_setup_tail:  89%|██████████████████████████████████████████████████████████████████████████████████████████████████████████████████████████▏              | 4458/5000 [2:05:14<16:30,  1.83s/it]"
     ]
    },
    {
     "name": "stdout",
     "output_type": "stream",
     "text": [
      "Error extracting representation cfgcompact for /home/nonroot/experiment/datasets/classify_seqs/group1.1000/BST/extr_camellia_glue.c_camellia_setup_tail/: 'shufflevector'\n",
      "Error extracting representation cfgcallcompactnoroot for /home/nonroot/experiment/datasets/classify_seqs/group1.1000/BST/extr_camellia_glue.c_camellia_setup_tail/: 'shufflevector'\n"
     ]
    },
    {
     "name": "stderr",
     "output_type": "stream",
     "text": [
      "BST.extr_atmel_hlcdc_plane.c_atmel_hlcdc_plane_atomic_check:  89%|████████████████████████████████████████████████████████████████████████████████████████████████████████████▊             | 4459/5000 [2:05:16<14:34,  1.62s/it]"
     ]
    },
    {
     "name": "stdout",
     "output_type": "stream",
     "text": [
      "Error extracting representation cfgcallcompact1enoroot for /home/nonroot/experiment/datasets/classify_seqs/group1.1000/BST/extr_camellia_glue.c_camellia_setup_tail/: 'shufflevector'\n",
      "Error extracting representation cfgcompact for /home/nonroot/experiment/datasets/classify_seqs/group1.1000/BST/extr_atmel_hlcdc_plane.c_atmel_hlcdc_plane_atomic_check/: 'shufflevector'\n",
      "Error extracting representation cfgcallcompactnoroot for /home/nonroot/experiment/datasets/classify_seqs/group1.1000/BST/extr_atmel_hlcdc_plane.c_atmel_hlcdc_plane_atomic_check/: 'shufflevector'\n"
     ]
    },
    {
     "name": "stderr",
     "output_type": "stream",
     "text": [
      "BST.extr_hclge_main.c_hclge_fd_check_spec:  89%|████████████████████████████████████████████████████████████████████████████████████████████████████████████████████████████▉               | 4460/5000 [2:05:17<13:25,  1.49s/it]"
     ]
    },
    {
     "name": "stdout",
     "output_type": "stream",
     "text": [
      "Error extracting representation cfgcallcompact1enoroot for /home/nonroot/experiment/datasets/classify_seqs/group1.1000/BST/extr_atmel_hlcdc_plane.c_atmel_hlcdc_plane_atomic_check/: 'shufflevector'\n"
     ]
    },
    {
     "name": "stderr",
     "output_type": "stream",
     "text": [
      "BST.extr_if_ale.c_ale_stats_update:  90%|███████████████████████████████████████████████████████████████████████████████████████████████████████████████████████████████████▌               | 4476/5000 [2:05:49<16:14,  1.86s/it]"
     ]
    },
    {
     "name": "stdout",
     "output_type": "stream",
     "text": [
      "Error extracting representation cfgcompact for /home/nonroot/experiment/datasets/classify_seqs/group1.1000/BST/extr_if_ale.c_ale_stats_update/: 'shufflevector'\n",
      "Error extracting representation cfgcallcompactnoroot for /home/nonroot/experiment/datasets/classify_seqs/group1.1000/BST/extr_if_ale.c_ale_stats_update/: 'shufflevector'\n"
     ]
    },
    {
     "name": "stderr",
     "output_type": "stream",
     "text": [
      "BST.extr_ena.c_ena_attach:  90%|███████████████████████████████████████████████████████████████████████████████████████████████████████████████████████████████████████████▋                | 4477/5000 [2:05:50<14:31,  1.67s/it]"
     ]
    },
    {
     "name": "stdout",
     "output_type": "stream",
     "text": [
      "Error extracting representation cfgcallcompact1enoroot for /home/nonroot/experiment/datasets/classify_seqs/group1.1000/BST/extr_if_ale.c_ale_stats_update/: 'shufflevector'\n",
      "Error extracting representation cfgcompact for /home/nonroot/experiment/datasets/classify_seqs/group1.1000/BST/extr_ena.c_ena_attach/: 'shufflevector'\n",
      "Error extracting representation cfgcallcompactnoroot for /home/nonroot/experiment/datasets/classify_seqs/group1.1000/BST/extr_ena.c_ena_attach/: 'shufflevector'\n"
     ]
    },
    {
     "name": "stderr",
     "output_type": "stream",
     "text": [
      "BST.extr_if_jme.c_jme_dma_alloc:  90%|██████████████████████████████████████████████████████████████████████████████████████████████████████████████████████████████████████▎               | 4478/5000 [2:05:51<13:18,  1.53s/it]"
     ]
    },
    {
     "name": "stdout",
     "output_type": "stream",
     "text": [
      "Error extracting representation cfgcallcompact1enoroot for /home/nonroot/experiment/datasets/classify_seqs/group1.1000/BST/extr_ena.c_ena_attach/: 'shufflevector'\n"
     ]
    },
    {
     "name": "stderr",
     "output_type": "stream",
     "text": [
      "BST.extr_aes_impl_generic.c_aes_generic_encrypt:  91%|██████████████████████████████████████████████████████████████████████████████████████████████████████████████████████████▏           | 4558/5000 [2:08:31<13:26,  1.83s/it]"
     ]
    },
    {
     "name": "stdout",
     "output_type": "stream",
     "text": [
      "Error extracting representation cfgcompact for /home/nonroot/experiment/datasets/classify_seqs/group1.1000/BST/extr_aes_impl_generic.c_aes_generic_encrypt/: 'shufflevector'\n",
      "Error extracting representation cfgcallcompactnoroot for /home/nonroot/experiment/datasets/classify_seqs/group1.1000/BST/extr_aes_impl_generic.c_aes_generic_encrypt/: 'shufflevector'\n"
     ]
    },
    {
     "name": "stderr",
     "output_type": "stream",
     "text": [
      "BST.extr_btusb.c_btusb_probe:  91%|███████████████████████████████████████████████████████████████████████████████████████████████████████████████████████████████████████████▌             | 4559/5000 [2:08:32<11:55,  1.62s/it]"
     ]
    },
    {
     "name": "stdout",
     "output_type": "stream",
     "text": [
      "Error extracting representation cfgcallcompact1enoroot for /home/nonroot/experiment/datasets/classify_seqs/group1.1000/BST/extr_aes_impl_generic.c_aes_generic_encrypt/: 'shufflevector'\n"
     ]
    },
    {
     "name": "stderr",
     "output_type": "stream",
     "text": [
      "BST.extr_lio_ethtool.c_lio_get_ethtool_stats:  91%|████████████████████████████████████████████████████████████████████████████████████████████████████████████████████████████▉            | 4562/5000 [2:08:39<14:44,  2.02s/it]"
     ]
    },
    {
     "name": "stdout",
     "output_type": "stream",
     "text": [
      "Error extracting representation cfgcompact for /home/nonroot/experiment/datasets/classify_seqs/group1.1000/BST/extr_lio_ethtool.c_lio_get_ethtool_stats/: 'shufflevector'\n",
      "Error extracting representation cfgcallcompactnoroot for /home/nonroot/experiment/datasets/classify_seqs/group1.1000/BST/extr_lio_ethtool.c_lio_get_ethtool_stats/: 'shufflevector'\n"
     ]
    },
    {
     "name": "stderr",
     "output_type": "stream",
     "text": [
      "BST.extr_sge.c_t4_eth_xmit:  91%|█████████████████████████████████████████████████████████████████████████████████████████████████████████████████████████████████████████████▍             | 4563/5000 [2:08:40<13:05,  1.80s/it]"
     ]
    },
    {
     "name": "stdout",
     "output_type": "stream",
     "text": [
      "Error extracting representation cfgcallcompact1enoroot for /home/nonroot/experiment/datasets/classify_seqs/group1.1000/BST/extr_lio_ethtool.c_lio_get_ethtool_stats/: 'shufflevector'\n"
     ]
    },
    {
     "name": "stderr",
     "output_type": "stream",
     "text": [
      "BST.extr_wilc_spi.c_spi_cmd_complete:  92%|█████████████████████████████████████████████████████████████████████████████████████████████████████████████████████████████████████▎           | 4595/5000 [2:09:42<12:44,  1.89s/it]"
     ]
    },
    {
     "name": "stdout",
     "output_type": "stream",
     "text": [
      "Error extracting representation cfgcompact for /home/nonroot/experiment/datasets/classify_seqs/group1.1000/BST/extr_wilc_spi.c_spi_cmd_complete/: 'shufflevector'\n",
      "Error extracting representation cfgcallcompactnoroot for /home/nonroot/experiment/datasets/classify_seqs/group1.1000/BST/extr_wilc_spi.c_spi_cmd_complete/: 'shufflevector'\n"
     ]
    },
    {
     "name": "stderr",
     "output_type": "stream",
     "text": [
      "BST.extr_hid-udraw-ps3.c_udraw_raw_event:  92%|█████████████████████████████████████████████████████████████████████████████████████████████████████████████████████████████████▌           | 4596/5000 [2:09:43<11:37,  1.73s/it]"
     ]
    },
    {
     "name": "stdout",
     "output_type": "stream",
     "text": [
      "Error extracting representation cfgcallcompact1enoroot for /home/nonroot/experiment/datasets/classify_seqs/group1.1000/BST/extr_wilc_spi.c_spi_cmd_complete/: 'shufflevector'\n"
     ]
    },
    {
     "name": "stderr",
     "output_type": "stream",
     "text": [
      "BST.extr_mzpokeysnd.c_advance_ticks:  92%|██████████████████████████████████████████████████████████████████████████████████████████████████████████████████████████████████████▎           | 4600/5000 [2:09:51<12:34,  1.89s/it]"
     ]
    },
    {
     "name": "stdout",
     "output_type": "stream",
     "text": [
      "Error extracting representation cfgcompact for /home/nonroot/experiment/datasets/classify_seqs/group1.1000/BST/extr_mzpokeysnd.c_advance_ticks/: 'shufflevector'\n",
      "Error extracting representation cfgcallcompactnoroot for /home/nonroot/experiment/datasets/classify_seqs/group1.1000/BST/extr_mzpokeysnd.c_advance_ticks/: 'shufflevector'\n"
     ]
    },
    {
     "name": "stderr",
     "output_type": "stream",
     "text": [
      "BST.extr_test_arm_regression.c_snprint_insn_detail:  92%|████████████████████████████████████████████████████████████████████████████████████████████████████████████████████████▌          | 4601/5000 [2:09:52<11:13,  1.69s/it]"
     ]
    },
    {
     "name": "stdout",
     "output_type": "stream",
     "text": [
      "Error extracting representation cfgcallcompact1enoroot for /home/nonroot/experiment/datasets/classify_seqs/group1.1000/BST/extr_mzpokeysnd.c_advance_ticks/: 'shufflevector'\n"
     ]
    },
    {
     "name": "stderr",
     "output_type": "stream",
     "text": [
      "BST.extr_array.c_Array_sort:  92%|██████████████████████████████████████████████████████████████████████████████████████████████████████████████████████████████████████████████            | 4611/5000 [2:10:11<11:39,  1.80s/it]"
     ]
    },
    {
     "name": "stdout",
     "output_type": "stream",
     "text": [
      "Error extracting representation cfgcompact for /home/nonroot/experiment/datasets/classify_seqs/group1.1000/BST/extr_array.c_Array_sort/: 'shufflevector'\n",
      "Error extracting representation cfgcallcompactnoroot for /home/nonroot/experiment/datasets/classify_seqs/group1.1000/BST/extr_array.c_Array_sort/: 'shufflevector'\n"
     ]
    },
    {
     "name": "stderr",
     "output_type": "stream",
     "text": [
      "BST.extr_region_layer.c_get_region_detections:  92%|█████████████████████████████████████████████████████████████████████████████████████████████████████████████████████████████▍          | 4612/5000 [2:10:12<10:42,  1.66s/it]"
     ]
    },
    {
     "name": "stdout",
     "output_type": "stream",
     "text": [
      "Error extracting representation cfgcallcompact1enoroot for /home/nonroot/experiment/datasets/classify_seqs/group1.1000/BST/extr_array.c_Array_sort/: 'shufflevector'\n"
     ]
    },
    {
     "name": "stderr",
     "output_type": "stream",
     "text": [
      "BST.extr_ar5008_phy.c_ar5008_hw_cmn_spur_mitigate:  93%|██████████████████████████████████████████████████████████████████████████████████████████████████████████████████████████▏         | 4626/5000 [2:10:38<11:18,  1.81s/it]"
     ]
    },
    {
     "name": "stdout",
     "output_type": "stream",
     "text": [
      "Error extracting representation cfgcompact for /home/nonroot/experiment/datasets/classify_seqs/group1.1000/BST/extr_ar5008_phy.c_ar5008_hw_cmn_spur_mitigate/: 'shufflevector'\n",
      "Error extracting representation cfgcallcompactnoroot for /home/nonroot/experiment/datasets/classify_seqs/group1.1000/BST/extr_ar5008_phy.c_ar5008_hw_cmn_spur_mitigate/: 'shufflevector'\n"
     ]
    },
    {
     "name": "stderr",
     "output_type": "stream",
     "text": [
      "BST.extr_md5.c_md5_transform:  93%|█████████████████████████████████████████████████████████████████████████████████████████████████████████████████████████████████████████████▌           | 4627/5000 [2:10:40<10:10,  1.64s/it]"
     ]
    },
    {
     "name": "stdout",
     "output_type": "stream",
     "text": [
      "Error extracting representation cfgcallcompact1enoroot for /home/nonroot/experiment/datasets/classify_seqs/group1.1000/BST/extr_ar5008_phy.c_ar5008_hw_cmn_spur_mitigate/: 'shufflevector'\n"
     ]
    },
    {
     "name": "stderr",
     "output_type": "stream",
     "text": [
      "BST.extr_ipu3-css-fw.c_imgu_css_fw_init:  93%|████████████████████████████████████████████████████████████████████████████████████████████████████████████████████████████████████          | 4649/5000 [2:11:22<11:32,  1.97s/it]"
     ]
    },
    {
     "name": "stdout",
     "output_type": "stream",
     "text": [
      "Error extracting representation cfgcompact for /home/nonroot/experiment/datasets/classify_seqs/group1.1000/BST/extr_ipu3-css-fw.c_imgu_css_fw_init/: 'shufflevector'\n",
      "Error extracting representation cfgcallcompactnoroot for /home/nonroot/experiment/datasets/classify_seqs/group1.1000/BST/extr_ipu3-css-fw.c_imgu_css_fw_init/: 'shufflevector'\n"
     ]
    },
    {
     "name": "stderr",
     "output_type": "stream",
     "text": [
      "BST.extr_sli4.c_sli_els_request64_wqe:  93%|█████████████████████████████████████████████████████████████████████████████████████████████████████████████████████████████████████▉          | 4650/5000 [2:11:23<10:19,  1.77s/it]"
     ]
    },
    {
     "name": "stdout",
     "output_type": "stream",
     "text": [
      "Error extracting representation cfgcallcompact1enoroot for /home/nonroot/experiment/datasets/classify_seqs/group1.1000/BST/extr_ipu3-css-fw.c_imgu_css_fw_init/: 'shufflevector'\n"
     ]
    },
    {
     "name": "stderr",
     "output_type": "stream",
     "text": [
      "BST.extr_gdb-stub.c_gdbstub_set_breakpoint:  95%|███████████████████████████████████████████████████████████████████████████████████████████████████████████████████████████████████▌       | 4732/5000 [2:14:09<08:36,  1.93s/it]"
     ]
    },
    {
     "name": "stdout",
     "output_type": "stream",
     "text": [
      "Error extracting representation cfgcompact for /home/nonroot/experiment/datasets/classify_seqs/group1.1000/BST/extr_gdb-stub.c_gdbstub_set_breakpoint/: list index out of range\n",
      "Error extracting representation cfgcallcompactnoroot for /home/nonroot/experiment/datasets/classify_seqs/group1.1000/BST/extr_gdb-stub.c_gdbstub_set_breakpoint/: list index out of range\n"
     ]
    },
    {
     "name": "stderr",
     "output_type": "stream",
     "text": [
      "BST.extr_edma.c_edma_probe:  95%|██████████████████████████████████████████████████████████████████████████████████████████████████████████████████████████████████████████████████▋        | 4733/5000 [2:14:10<07:50,  1.76s/it]"
     ]
    },
    {
     "name": "stdout",
     "output_type": "stream",
     "text": [
      "Error extracting representation cfgcallcompact1enoroot for /home/nonroot/experiment/datasets/classify_seqs/group1.1000/BST/extr_gdb-stub.c_gdbstub_set_breakpoint/: list index out of range\n"
     ]
    },
    {
     "name": "stderr",
     "output_type": "stream",
     "text": [
      "BST.extr_lio_ethtool.c_lio_vf_get_ethtool_stats:  95%|██████████████████████████████████████████████████████████████████████████████████████████████████████████████████████████████▉       | 4736/5000 [2:14:16<08:15,  1.88s/it]"
     ]
    },
    {
     "name": "stdout",
     "output_type": "stream",
     "text": [
      "Error extracting representation cfgcompact for /home/nonroot/experiment/datasets/classify_seqs/group1.1000/BST/extr_lio_ethtool.c_lio_vf_get_ethtool_stats/: 'shufflevector'\n",
      "Error extracting representation cfgcallcompactnoroot for /home/nonroot/experiment/datasets/classify_seqs/group1.1000/BST/extr_lio_ethtool.c_lio_vf_get_ethtool_stats/: 'shufflevector'\n"
     ]
    },
    {
     "name": "stderr",
     "output_type": "stream",
     "text": [
      "BST.extr_nanovg.c_nvg__expandFill:  95%|████████████████████████████████████████████████████████████████████████████████████████████████████████████████████████████████████████████▏       | 4737/5000 [2:14:18<07:23,  1.69s/it]"
     ]
    },
    {
     "name": "stdout",
     "output_type": "stream",
     "text": [
      "Error extracting representation cfgcallcompact1enoroot for /home/nonroot/experiment/datasets/classify_seqs/group1.1000/BST/extr_lio_ethtool.c_lio_vf_get_ethtool_stats/: 'shufflevector'\n"
     ]
    },
    {
     "name": "stderr",
     "output_type": "stream",
     "text": [
      "BST.extr_http.c_HTTP_HttpQueryInfoW:  95%|██████████████████████████████████████████████████████████████████████████████████████████████████████████████████████████████████████████▍       | 4742/5000 [2:14:27<07:57,  1.85s/it]"
     ]
    },
    {
     "name": "stdout",
     "output_type": "stream",
     "text": [
      "Error extracting representation cfgcompact for /home/nonroot/experiment/datasets/classify_seqs/group1.1000/BST/extr_http.c_HTTP_HttpQueryInfoW/: 'shufflevector'\n",
      "Error extracting representation cfgcallcompactnoroot for /home/nonroot/experiment/datasets/classify_seqs/group1.1000/BST/extr_http.c_HTTP_HttpQueryInfoW/: 'shufflevector'\n"
     ]
    },
    {
     "name": "stderr",
     "output_type": "stream",
     "text": [
      "BST.extr_genautomata.c_process_decls:  95%|█████████████████████████████████████████████████████████████████████████████████████████████████████████████████████████████████████████▌       | 4743/5000 [2:14:28<07:18,  1.70s/it]"
     ]
    },
    {
     "name": "stdout",
     "output_type": "stream",
     "text": [
      "Error extracting representation cfgcallcompact1enoroot for /home/nonroot/experiment/datasets/classify_seqs/group1.1000/BST/extr_http.c_HTTP_HttpQueryInfoW/: 'shufflevector'\n"
     ]
    },
    {
     "name": "stderr",
     "output_type": "stream",
     "text": [
      "BST.extr_video.c_transcode_video_process:  95%|█████████████████████████████████████████████████████████████████████████████████████████████████████████████████████████████████████▉       | 4748/5000 [2:14:38<08:03,  1.92s/it]"
     ]
    },
    {
     "name": "stdout",
     "output_type": "stream",
     "text": [
      "Error extracting representation cfgcompact for /home/nonroot/experiment/datasets/classify_seqs/group1.1000/BST/extr_video.c_transcode_video_process/: 'shufflevector'\n",
      "Error extracting representation cfgcallcompactnoroot for /home/nonroot/experiment/datasets/classify_seqs/group1.1000/BST/extr_video.c_transcode_video_process/: 'shufflevector'\n"
     ]
    },
    {
     "name": "stderr",
     "output_type": "stream",
     "text": [
      "BST.extr_videobuf2-v4l2.c_vb2_fill_vb2_v4l2_buffer:  95%|████████████████████████████████████████████████████████████████████████████████████████████████████████████████████████████▍      | 4749/5000 [2:14:39<07:17,  1.74s/it]"
     ]
    },
    {
     "name": "stdout",
     "output_type": "stream",
     "text": [
      "Error extracting representation cfgcallcompact1enoroot for /home/nonroot/experiment/datasets/classify_seqs/group1.1000/BST/extr_video.c_transcode_video_process/: 'shufflevector'\n"
     ]
    },
    {
     "name": "stderr",
     "output_type": "stream",
     "text": [
      "BST.extr_eeprom_4k.c_ath9k_hw_4k_set_board_values:  95%|█████████████████████████████████████████████████████████████████████████████████████████████████████████████████████████████▋      | 4763/5000 [2:15:05<08:08,  2.06s/it]"
     ]
    },
    {
     "name": "stdout",
     "output_type": "stream",
     "text": [
      "Error extracting representation cfgcompact for /home/nonroot/experiment/datasets/classify_seqs/group1.1000/BST/extr_eeprom_4k.c_ath9k_hw_4k_set_board_values/: 'shufflevector'\n",
      "Error extracting representation cfgcallcompactnoroot for /home/nonroot/experiment/datasets/classify_seqs/group1.1000/BST/extr_eeprom_4k.c_ath9k_hw_4k_set_board_values/: 'shufflevector'\n"
     ]
    },
    {
     "name": "stderr",
     "output_type": "stream",
     "text": [
      "BST.extr_dc_resource.c_set_avi_info_frame:  95%|█████████████████████████████████████████████████████████████████████████████████████████████████████████████████████████████████████▍      | 4764/5000 [2:15:06<07:09,  1.82s/it]"
     ]
    },
    {
     "name": "stdout",
     "output_type": "stream",
     "text": [
      "Error extracting representation cfgcallcompact1enoroot for /home/nonroot/experiment/datasets/classify_seqs/group1.1000/BST/extr_eeprom_4k.c_ath9k_hw_4k_set_board_values/: 'shufflevector'\n"
     ]
    },
    {
     "name": "stderr",
     "output_type": "stream",
     "text": [
      "BST.extr_imagelib.c_LoadTGABuffer:  97%|███████████████████████████████████████████████████████████████████████████████████████████████████████████████████████████████████████████████▌    | 4852/5000 [2:18:02<04:22,  1.77s/it]"
     ]
    },
    {
     "name": "stdout",
     "output_type": "stream",
     "text": [
      "Error extracting representation cfgcompact for /home/nonroot/experiment/datasets/classify_seqs/group1.1000/BST/extr_imagelib.c_LoadTGABuffer/: 'shufflevector'\n",
      "Error extracting representation cfgcallcompactnoroot for /home/nonroot/experiment/datasets/classify_seqs/group1.1000/BST/extr_imagelib.c_LoadTGABuffer/: 'shufflevector'\n"
     ]
    },
    {
     "name": "stderr",
     "output_type": "stream",
     "text": [
      "BST.extr_bnx2.c_bnx2_init_board:  97%|█████████████████████████████████████████████████████████████████████████████████████████████████████████████████████████████████████████████████▌    | 4853/5000 [2:18:03<03:59,  1.63s/it]"
     ]
    },
    {
     "name": "stdout",
     "output_type": "stream",
     "text": [
      "Error extracting representation cfgcallcompact1enoroot for /home/nonroot/experiment/datasets/classify_seqs/group1.1000/BST/extr_imagelib.c_LoadTGABuffer/: 'shufflevector'\n"
     ]
    },
    {
     "name": "stderr",
     "output_type": "stream",
     "text": [
      "BST.extr_chacha20_ct.c_br_chacha20_ct_run:  97%|███████████████████████████████████████████████████████████████████████████████████████████████████████████████████████████████████████▉    | 4855/5000 [2:18:09<05:28,  2.27s/it]"
     ]
    },
    {
     "name": "stdout",
     "output_type": "stream",
     "text": [
      "Error extracting representation cfgcompact for /home/nonroot/experiment/datasets/classify_seqs/group1.1000/BST/extr_chacha20_ct.c_br_chacha20_ct_run/: 'shufflevector'\n",
      "Error extracting representation cfgcallcompactnoroot for /home/nonroot/experiment/datasets/classify_seqs/group1.1000/BST/extr_chacha20_ct.c_br_chacha20_ct_run/: 'shufflevector'\n"
     ]
    },
    {
     "name": "stderr",
     "output_type": "stream",
     "text": [
      "BST.extr_des.c_dkey:  97%|█████████████████████████████████████████████████████████████████████████████████████████████████████████████████████████████████████████████████████████████▎    | 4856/5000 [2:18:10<04:42,  1.96s/it]"
     ]
    },
    {
     "name": "stdout",
     "output_type": "stream",
     "text": [
      "Error extracting representation cfgcallcompact1enoroot for /home/nonroot/experiment/datasets/classify_seqs/group1.1000/BST/extr_chacha20_ct.c_br_chacha20_ct_run/: 'shufflevector'\n"
     ]
    },
    {
     "name": "stderr",
     "output_type": "stream",
     "text": [
      "BST.extr_field_10x26_impl.h_secp256k1_fe_set_b32:  98%|██████████████████████████████████████████████████████████████████████████████████████████████████████████████████████████████████▏  | 4896/5000 [2:19:27<03:31,  2.03s/it]"
     ]
    },
    {
     "name": "stdout",
     "output_type": "stream",
     "text": [
      "Error extracting representation cfgcompact for /home/nonroot/experiment/datasets/classify_seqs/group1.1000/BST/extr_field_10x26_impl.h_secp256k1_fe_set_b32/: 'shufflevector'\n",
      "Error extracting representation cfgcallcompactnoroot for /home/nonroot/experiment/datasets/classify_seqs/group1.1000/BST/extr_field_10x26_impl.h_secp256k1_fe_set_b32/: 'shufflevector'\n"
     ]
    },
    {
     "name": "stderr",
     "output_type": "stream",
     "text": [
      "BST.extr_ngx_http_lua_bodyfilterby.c_ngx_http_lua_body_filter_param_set:  98%|███████████████████████████████████████████████████████████████████████████████████████████████████████████▋  | 4897/5000 [2:19:29<03:03,  1.78s/it]"
     ]
    },
    {
     "name": "stdout",
     "output_type": "stream",
     "text": [
      "Error extracting representation cfgcallcompact1enoroot for /home/nonroot/experiment/datasets/classify_seqs/group1.1000/BST/extr_field_10x26_impl.h_secp256k1_fe_set_b32/: 'shufflevector'\n"
     ]
    },
    {
     "name": "stderr",
     "output_type": "stream",
     "text": [
      "BST.extr_aml8726_sdxc-m8.c_aml8726_sdxc_attach:  99%|█████████████████████████████████████████████████████████████████████████████████████████████████████████████████████████████████████  | 4926/5000 [2:20:26<02:14,  1.82s/it]"
     ]
    },
    {
     "name": "stdout",
     "output_type": "stream",
     "text": [
      "Error extracting representation cfgcompact for /home/nonroot/experiment/datasets/classify_seqs/group1.1000/BST/extr_aml8726_sdxc-m8.c_aml8726_sdxc_attach/: 'shufflevector'\n",
      "Error extracting representation cfgcallcompactnoroot for /home/nonroot/experiment/datasets/classify_seqs/group1.1000/BST/extr_aml8726_sdxc-m8.c_aml8726_sdxc_attach/: 'shufflevector'\n"
     ]
    },
    {
     "name": "stderr",
     "output_type": "stream",
     "text": [
      "BST.extr_psxstr.c_str_read_packet:  99%|█████████████████████████████████████████████████████████████████████████████████████████████████████████████████████████████████████████████████▊  | 4927/5000 [2:20:27<02:03,  1.70s/it]"
     ]
    },
    {
     "name": "stdout",
     "output_type": "stream",
     "text": [
      "Error extracting representation cfgcallcompact1enoroot for /home/nonroot/experiment/datasets/classify_seqs/group1.1000/BST/extr_aml8726_sdxc-m8.c_aml8726_sdxc_attach/: 'shufflevector'\n"
     ]
    },
    {
     "name": "stderr",
     "output_type": "stream",
     "text": [
      "BST.extr_psm.c_psmsoftintr:  99%|█████████████████████████████████████████████████████████████████████████████████████████████████████████████████████████████████████████████████████████▎ | 4946/5000 [2:21:04<01:58,  2.20s/it]"
     ]
    },
    {
     "name": "stdout",
     "output_type": "stream",
     "text": [
      "Error extracting representation cfgcompact for /home/nonroot/experiment/datasets/classify_seqs/group1.1000/BST/extr_psm.c_psmsoftintr/: 'shufflevector'\n",
      "Error extracting representation cfgcallcompactnoroot for /home/nonroot/experiment/datasets/classify_seqs/group1.1000/BST/extr_psm.c_psmsoftintr/: 'shufflevector'\n"
     ]
    },
    {
     "name": "stderr",
     "output_type": "stream",
     "text": [
      "BST.extr_dlmmaster.c_dlm_assert_master_handler:  99%|█████████████████████████████████████████████████████████████████████████████████████████████████████████████████████████████████████▌ | 4947/5000 [2:21:06<01:42,  1.94s/it]"
     ]
    },
    {
     "name": "stdout",
     "output_type": "stream",
     "text": [
      "Error extracting representation cfgcallcompact1enoroot for /home/nonroot/experiment/datasets/classify_seqs/group1.1000/BST/extr_psm.c_psmsoftintr/: 'shufflevector'\n"
     ]
    },
    {
     "name": "stderr",
     "output_type": "stream",
     "text": [
      "BST.extr_dragon4.c_FormatPositional: 100%|██████████████████████████████████████████████████████████████████████████████████████████████████████████████████████████████████████████████████| 5000/5000 [2:22:51<00:00,  1.71s/it]\n"
     ]
    },
    {
     "name": "stdout",
     "output_type": "stream",
     "text": [
      "Starting with optmization 4372-bMed with following passes: -mem2reg -early-cse-memssa -correlated-propagation -instcombine -reassociate -simplifycfg -early-cse-memssa -instcombine -licm -jump-threading -simplifycfg -dse -reassociate -early-cse-memssa -instcombine\n"
     ]
    },
    {
     "name": "stderr",
     "output_type": "stream",
     "text": [
      "SUM.extr_book3s_64_mmu_hv.c_kvmppc_book3s_hv_page_fault:   2%|██▍                                                                                                                             | 95/5000 [02:47<2:36:30,  1.91s/it]"
     ]
    },
    {
     "name": "stdout",
     "output_type": "stream",
     "text": [
      "Error extracting representation cfgcompact for /home/nonroot/experiment/datasets/classify_seqs/group1.1000/SUM/extr_book3s_64_mmu_hv.c_kvmppc_book3s_hv_page_fault/: list index out of range\n",
      "Error extracting representation cfgcallcompactnoroot for /home/nonroot/experiment/datasets/classify_seqs/group1.1000/SUM/extr_book3s_64_mmu_hv.c_kvmppc_book3s_hv_page_fault/: list index out of range\n"
     ]
    },
    {
     "name": "stderr",
     "output_type": "stream",
     "text": [
      "SUM.extr_tscParseInsert.c_tscParseSqlForCreateTableOnDemand:   2%|██▍                                                                                                                         | 96/5000 [02:49<2:26:48,  1.80s/it]"
     ]
    },
    {
     "name": "stdout",
     "output_type": "stream",
     "text": [
      "Error extracting representation cfgcallcompact1enoroot for /home/nonroot/experiment/datasets/classify_seqs/group1.1000/SUM/extr_book3s_64_mmu_hv.c_kvmppc_book3s_hv_page_fault/: list index out of range\n"
     ]
    },
    {
     "name": "stderr",
     "output_type": "stream",
     "text": [
      "SUM.extr_viddc.c_Vdp1ReadTexture:  17%|████████████████████████▊                                                                                                                             | 829/5000 [24:08<2:05:47,  1.81s/it]"
     ]
    },
    {
     "name": "stdout",
     "output_type": "stream",
     "text": [
      "Error extracting representation cfgcompact for /home/nonroot/experiment/datasets/classify_seqs/group1.1000/SUM/extr_viddc.c_Vdp1ReadTexture/: list index out of range\n",
      "Error extracting representation cfgcallcompactnoroot for /home/nonroot/experiment/datasets/classify_seqs/group1.1000/SUM/extr_viddc.c_Vdp1ReadTexture/: list index out of range\n"
     ]
    },
    {
     "name": "stderr",
     "output_type": "stream",
     "text": [
      "SUM.extr_vmt.c_ubi_resize_volume:  17%|████████████████████████▉                                                                                                                             | 830/5000 [24:10<2:01:48,  1.75s/it]"
     ]
    },
    {
     "name": "stdout",
     "output_type": "stream",
     "text": [
      "Error extracting representation cfgcallcompact1enoroot for /home/nonroot/experiment/datasets/classify_seqs/group1.1000/SUM/extr_viddc.c_Vdp1ReadTexture/: list index out of range\n"
     ]
    },
    {
     "name": "stderr",
     "output_type": "stream",
     "text": [
      "GEO.extr_msdosfs_lookup.c_msdosfs_lookup_:  24%|██████████████████████████████████▎                                                                                                         | 1224/5000 [36:27<2:44:16,  2.61s/it]"
     ]
    },
    {
     "name": "stdout",
     "output_type": "stream",
     "text": [
      "Error extracting representation cfgcompact for /home/nonroot/experiment/datasets/classify_seqs/group1.1000/GEO/extr_msdosfs_lookup.c_msdosfs_lookup_/: 'bool' object is not iterable\n",
      "Error extracting representation cfgcallcompactnoroot for /home/nonroot/experiment/datasets/classify_seqs/group1.1000/GEO/extr_msdosfs_lookup.c_msdosfs_lookup_/: 'bool' object is not iterable\n"
     ]
    },
    {
     "name": "stderr",
     "output_type": "stream",
     "text": [
      "GEO.extr_halbtc8192e2ant.c_ex_btc8192e2ant_display_coex_info:  24%|█████████████████████████████▋                                                                                           | 1225/5000 [36:29<2:29:37,  2.38s/it]"
     ]
    },
    {
     "name": "stdout",
     "output_type": "stream",
     "text": [
      "Error extracting representation cfgcallcompact1enoroot for /home/nonroot/experiment/datasets/classify_seqs/group1.1000/GEO/extr_msdosfs_lookup.c_msdosfs_lookup_/: 'bool' object is not iterable\n"
     ]
    },
    {
     "name": "stderr",
     "output_type": "stream",
     "text": [
      "CAP.extr_tau32-ddk.c_QrVoB3:  54%|█████████████████████████████████████████████████████████████████████████████████▉                                                                      | 2694/5000 [1:21:36<1:05:00,  1.69s/it]"
     ]
    },
    {
     "name": "stdout",
     "output_type": "stream",
     "text": [
      "Error extracting representation cfgcompact for /home/nonroot/experiment/datasets/classify_seqs/group1.1000/CAP/extr_tau32-ddk.c_QrVoB3/: list index out of range\n",
      "Error extracting representation cfgcallcompactnoroot for /home/nonroot/experiment/datasets/classify_seqs/group1.1000/CAP/extr_tau32-ddk.c_QrVoB3/: list index out of range\n"
     ]
    },
    {
     "name": "stderr",
     "output_type": "stream",
     "text": [
      "CAP.extr_graphics.c_test_pen_thickness:  54%|███████████████████████████████████████████████████████████████████████████▉                                                                 | 2695/5000 [1:21:37<1:01:14,  1.59s/it]"
     ]
    },
    {
     "name": "stdout",
     "output_type": "stream",
     "text": [
      "Error extracting representation cfgcallcompact1enoroot for /home/nonroot/experiment/datasets/classify_seqs/group1.1000/CAP/extr_tau32-ddk.c_QrVoB3/: list index out of range\n"
     ]
    },
    {
     "name": "stderr",
     "output_type": "stream",
     "text": [
      "LIM.extr_mac_bsdextended.c_ugidfw_rulecheck:  76%|█████████████████████████████████████████████████████████████████████████████████████████████████████████▎                                | 3816/5000 [1:54:15<35:01,  1.77s/it]"
     ]
    },
    {
     "name": "stdout",
     "output_type": "stream",
     "text": [
      "Error extracting representation cfgcompact for /home/nonroot/experiment/datasets/classify_seqs/group1.1000/LIM/extr_mac_bsdextended.c_ugidfw_rulecheck/: 'bool' object is not iterable\n",
      "Error extracting representation cfgcallcompactnoroot for /home/nonroot/experiment/datasets/classify_seqs/group1.1000/LIM/extr_mac_bsdextended.c_ugidfw_rulecheck/: 'bool' object is not iterable\n"
     ]
    },
    {
     "name": "stderr",
     "output_type": "stream",
     "text": [
      "LIM.extr_mn10300-serial.c_mn10300_serial_change_speed:  76%|█████████████████████████████████████████████████████████████████████████████████████████████████▋                              | 3817/5000 [1:54:17<34:41,  1.76s/it]"
     ]
    },
    {
     "name": "stdout",
     "output_type": "stream",
     "text": [
      "Error extracting representation cfgcallcompact1enoroot for /home/nonroot/experiment/datasets/classify_seqs/group1.1000/LIM/extr_mac_bsdextended.c_ugidfw_rulecheck/: 'bool' object is not iterable\n"
     ]
    },
    {
     "name": "stderr",
     "output_type": "stream",
     "text": [
      "BST.extr_gdb-stub.c_gdbstub_set_breakpoint:  95%|███████████████████████████████████████████████████████████████████████████████████████████████████████████████████████████████████▌       | 4732/5000 [2:24:04<08:34,  1.92s/it]"
     ]
    },
    {
     "name": "stdout",
     "output_type": "stream",
     "text": [
      "Error extracting representation cfgcompact for /home/nonroot/experiment/datasets/classify_seqs/group1.1000/BST/extr_gdb-stub.c_gdbstub_set_breakpoint/: list index out of range\n",
      "Error extracting representation cfgcallcompactnoroot for /home/nonroot/experiment/datasets/classify_seqs/group1.1000/BST/extr_gdb-stub.c_gdbstub_set_breakpoint/: list index out of range\n"
     ]
    },
    {
     "name": "stderr",
     "output_type": "stream",
     "text": [
      "BST.extr_edma.c_edma_probe:  95%|██████████████████████████████████████████████████████████████████████████████████████████████████████████████████████████████████████████████████▋        | 4733/5000 [2:24:05<07:52,  1.77s/it]"
     ]
    },
    {
     "name": "stdout",
     "output_type": "stream",
     "text": [
      "Error extracting representation cfgcallcompact1enoroot for /home/nonroot/experiment/datasets/classify_seqs/group1.1000/BST/extr_gdb-stub.c_gdbstub_set_breakpoint/: list index out of range\n"
     ]
    },
    {
     "name": "stderr",
     "output_type": "stream",
     "text": [
      "BST.extr_dragon4.c_FormatPositional: 100%|██████████████████████████████████████████████████████████████████████████████████████████████████████████████████████████████████████████████████| 5000/5000 [2:33:03<00:00,  1.84s/it]\n"
     ]
    },
    {
     "name": "stdout",
     "output_type": "stream",
     "text": [
      "Starting with optmization 5624-bLim with following passes: -sroa -early-cse-memssa -reassociate -instcombine -simplifycfg -licm -speculative-execution -jump-threading -early-cse-memssa -simplifycfg -instcombine -simplifycfg\n"
     ]
    },
    {
     "name": "stderr",
     "output_type": "stream",
     "text": [
      "SUM.extr_book3s_64_mmu_hv.c_kvmppc_book3s_hv_page_fault:   2%|██▍                                                                                                                             | 95/5000 [02:52<2:40:49,  1.97s/it]"
     ]
    },
    {
     "name": "stdout",
     "output_type": "stream",
     "text": [
      "Error extracting representation cfgcompact for /home/nonroot/experiment/datasets/classify_seqs/group1.1000/SUM/extr_book3s_64_mmu_hv.c_kvmppc_book3s_hv_page_fault/: list index out of range\n",
      "Error extracting representation cfgcallcompactnoroot for /home/nonroot/experiment/datasets/classify_seqs/group1.1000/SUM/extr_book3s_64_mmu_hv.c_kvmppc_book3s_hv_page_fault/: list index out of range\n"
     ]
    },
    {
     "name": "stderr",
     "output_type": "stream",
     "text": [
      "SUM.extr_tscParseInsert.c_tscParseSqlForCreateTableOnDemand:   2%|██▍                                                                                                                         | 96/5000 [02:54<2:30:32,  1.84s/it]"
     ]
    },
    {
     "name": "stdout",
     "output_type": "stream",
     "text": [
      "Error extracting representation cfgcallcompact1enoroot for /home/nonroot/experiment/datasets/classify_seqs/group1.1000/SUM/extr_book3s_64_mmu_hv.c_kvmppc_book3s_hv_page_fault/: list index out of range\n"
     ]
    },
    {
     "name": "stderr",
     "output_type": "stream",
     "text": [
      "SUM.extr_viddc.c_Vdp1ReadTexture:  17%|████████████████████████▊                                                                                                                             | 829/5000 [24:49<2:09:13,  1.86s/it]"
     ]
    },
    {
     "name": "stdout",
     "output_type": "stream",
     "text": [
      "Error extracting representation cfgcompact for /home/nonroot/experiment/datasets/classify_seqs/group1.1000/SUM/extr_viddc.c_Vdp1ReadTexture/: list index out of range\n",
      "Error extracting representation cfgcallcompactnoroot for /home/nonroot/experiment/datasets/classify_seqs/group1.1000/SUM/extr_viddc.c_Vdp1ReadTexture/: list index out of range\n"
     ]
    },
    {
     "name": "stderr",
     "output_type": "stream",
     "text": [
      "SUM.extr_vmt.c_ubi_resize_volume:  17%|████████████████████████▉                                                                                                                             | 830/5000 [24:50<2:05:31,  1.81s/it]"
     ]
    },
    {
     "name": "stdout",
     "output_type": "stream",
     "text": [
      "Error extracting representation cfgcallcompact1enoroot for /home/nonroot/experiment/datasets/classify_seqs/group1.1000/SUM/extr_viddc.c_Vdp1ReadTexture/: list index out of range\n"
     ]
    },
    {
     "name": "stderr",
     "output_type": "stream",
     "text": [
      "GEO.extr_msdosfs_lookup.c_msdosfs_lookup_:  24%|██████████████████████████████████▎                                                                                                         | 1224/5000 [37:27<2:52:52,  2.75s/it]"
     ]
    },
    {
     "name": "stdout",
     "output_type": "stream",
     "text": [
      "Error extracting representation cfgcompact for /home/nonroot/experiment/datasets/classify_seqs/group1.1000/GEO/extr_msdosfs_lookup.c_msdosfs_lookup_/: 'bool' object is not iterable\n",
      "Error extracting representation cfgcallcompactnoroot for /home/nonroot/experiment/datasets/classify_seqs/group1.1000/GEO/extr_msdosfs_lookup.c_msdosfs_lookup_/: 'bool' object is not iterable\n"
     ]
    },
    {
     "name": "stderr",
     "output_type": "stream",
     "text": [
      "GEO.extr_halbtc8192e2ant.c_ex_btc8192e2ant_display_coex_info:  24%|█████████████████████████████▋                                                                                           | 1225/5000 [37:29<2:35:04,  2.46s/it]"
     ]
    },
    {
     "name": "stdout",
     "output_type": "stream",
     "text": [
      "Error extracting representation cfgcallcompact1enoroot for /home/nonroot/experiment/datasets/classify_seqs/group1.1000/GEO/extr_msdosfs_lookup.c_msdosfs_lookup_/: 'bool' object is not iterable\n"
     ]
    },
    {
     "name": "stderr",
     "output_type": "stream",
     "text": [
      "CAP.extr_tau32-ddk.c_QrVoB3:  54%|█████████████████████████████████████████████████████████████████████████████████▉                                                                      | 2694/5000 [1:23:46<1:06:49,  1.74s/it]"
     ]
    },
    {
     "name": "stdout",
     "output_type": "stream",
     "text": [
      "Error extracting representation cfgcompact for /home/nonroot/experiment/datasets/classify_seqs/group1.1000/CAP/extr_tau32-ddk.c_QrVoB3/: list index out of range\n",
      "Error extracting representation cfgcallcompactnoroot for /home/nonroot/experiment/datasets/classify_seqs/group1.1000/CAP/extr_tau32-ddk.c_QrVoB3/: list index out of range\n"
     ]
    },
    {
     "name": "stderr",
     "output_type": "stream",
     "text": [
      "CAP.extr_graphics.c_test_pen_thickness:  54%|███████████████████████████████████████████████████████████████████████████▉                                                                 | 2695/5000 [1:23:47<1:03:35,  1.66s/it]"
     ]
    },
    {
     "name": "stdout",
     "output_type": "stream",
     "text": [
      "Error extracting representation cfgcallcompact1enoroot for /home/nonroot/experiment/datasets/classify_seqs/group1.1000/CAP/extr_tau32-ddk.c_QrVoB3/: list index out of range\n"
     ]
    },
    {
     "name": "stderr",
     "output_type": "stream",
     "text": [
      "LIM.extr_mac_bsdextended.c_ugidfw_rulecheck:  76%|█████████████████████████████████████████████████████████████████████████████████████████████████████████▎                                | 3816/5000 [1:57:16<35:42,  1.81s/it]"
     ]
    },
    {
     "name": "stdout",
     "output_type": "stream",
     "text": [
      "Error extracting representation cfgcompact for /home/nonroot/experiment/datasets/classify_seqs/group1.1000/LIM/extr_mac_bsdextended.c_ugidfw_rulecheck/: 'bool' object is not iterable\n",
      "Error extracting representation cfgcallcompactnoroot for /home/nonroot/experiment/datasets/classify_seqs/group1.1000/LIM/extr_mac_bsdextended.c_ugidfw_rulecheck/: 'bool' object is not iterable\n"
     ]
    },
    {
     "name": "stderr",
     "output_type": "stream",
     "text": [
      "LIM.extr_mn10300-serial.c_mn10300_serial_change_speed:  76%|█████████████████████████████████████████████████████████████████████████████████████████████████▋                              | 3817/5000 [1:57:18<35:21,  1.79s/it]"
     ]
    },
    {
     "name": "stdout",
     "output_type": "stream",
     "text": [
      "Error extracting representation cfgcallcompact1enoroot for /home/nonroot/experiment/datasets/classify_seqs/group1.1000/LIM/extr_mac_bsdextended.c_ugidfw_rulecheck/: 'bool' object is not iterable\n"
     ]
    },
    {
     "name": "stderr",
     "output_type": "stream",
     "text": [
      "BST.extr_gdb-stub.c_gdbstub_set_breakpoint:  95%|███████████████████████████████████████████████████████████████████████████████████████████████████████████████████████████████████▌       | 4732/5000 [2:28:04<08:55,  2.00s/it]"
     ]
    },
    {
     "name": "stdout",
     "output_type": "stream",
     "text": [
      "Error extracting representation cfgcompact for /home/nonroot/experiment/datasets/classify_seqs/group1.1000/BST/extr_gdb-stub.c_gdbstub_set_breakpoint/: list index out of range\n",
      "Error extracting representation cfgcallcompactnoroot for /home/nonroot/experiment/datasets/classify_seqs/group1.1000/BST/extr_gdb-stub.c_gdbstub_set_breakpoint/: list index out of range\n"
     ]
    },
    {
     "name": "stderr",
     "output_type": "stream",
     "text": [
      "BST.extr_edma.c_edma_probe:  95%|██████████████████████████████████████████████████████████████████████████████████████████████████████████████████████████████████████████████████▋        | 4733/5000 [2:28:05<08:05,  1.82s/it]"
     ]
    },
    {
     "name": "stdout",
     "output_type": "stream",
     "text": [
      "Error extracting representation cfgcallcompact1enoroot for /home/nonroot/experiment/datasets/classify_seqs/group1.1000/BST/extr_gdb-stub.c_gdbstub_set_breakpoint/: list index out of range\n"
     ]
    },
    {
     "name": "stderr",
     "output_type": "stream",
     "text": [
      "BST.extr_dragon4.c_FormatPositional: 100%|██████████████████████████████████████████████████████████████████████████████████████████████████████████████████████████████████████████████████| 5000/5000 [2:37:21<00:00,  1.89s/it]\n"
     ]
    },
    {
     "name": "stdout",
     "output_type": "stream",
     "text": [
      "Starting with optmization 6310-bGeo with following passes: -loop-vectorize -sroa -gvn -instcombine -simplifycfg -instcombine -licm -gvn -correlated-propagation -jump-threading -mldst-motion -early-cse-memssa -instcombine -simplifycfg -instsimplify\n"
     ]
    },
    {
     "name": "stderr",
     "output_type": "stream",
     "text": [
      "SUM.extr_book3s_64_mmu_hv.c_kvmppc_book3s_hv_page_fault:   2%|██▍                                                                                                                             | 95/5000 [03:00<2:47:44,  2.05s/it]"
     ]
    },
    {
     "name": "stdout",
     "output_type": "stream",
     "text": [
      "Error extracting representation cfgcompact for /home/nonroot/experiment/datasets/classify_seqs/group1.1000/SUM/extr_book3s_64_mmu_hv.c_kvmppc_book3s_hv_page_fault/: list index out of range\n",
      "Error extracting representation cfgcallcompactnoroot for /home/nonroot/experiment/datasets/classify_seqs/group1.1000/SUM/extr_book3s_64_mmu_hv.c_kvmppc_book3s_hv_page_fault/: list index out of range\n"
     ]
    },
    {
     "name": "stderr",
     "output_type": "stream",
     "text": [
      "SUM.extr_tscParseInsert.c_tscParseSqlForCreateTableOnDemand:   2%|██▍                                                                                                                         | 96/5000 [03:02<2:37:15,  1.92s/it]"
     ]
    },
    {
     "name": "stdout",
     "output_type": "stream",
     "text": [
      "Error extracting representation cfgcallcompact1enoroot for /home/nonroot/experiment/datasets/classify_seqs/group1.1000/SUM/extr_book3s_64_mmu_hv.c_kvmppc_book3s_hv_page_fault/: list index out of range\n"
     ]
    },
    {
     "name": "stderr",
     "output_type": "stream",
     "text": [
      "SUM.extr_viddc.c_Vdp1ReadTexture:  17%|████████████████████████▊                                                                                                                             | 829/5000 [25:43<2:13:31,  1.92s/it]"
     ]
    },
    {
     "name": "stdout",
     "output_type": "stream",
     "text": [
      "Error extracting representation cfgcompact for /home/nonroot/experiment/datasets/classify_seqs/group1.1000/SUM/extr_viddc.c_Vdp1ReadTexture/: list index out of range\n",
      "Error extracting representation cfgcallcompactnoroot for /home/nonroot/experiment/datasets/classify_seqs/group1.1000/SUM/extr_viddc.c_Vdp1ReadTexture/: list index out of range\n"
     ]
    },
    {
     "name": "stderr",
     "output_type": "stream",
     "text": [
      "SUM.extr_vmt.c_ubi_resize_volume:  17%|████████████████████████▉                                                                                                                             | 830/5000 [25:45<2:09:36,  1.86s/it]"
     ]
    },
    {
     "name": "stdout",
     "output_type": "stream",
     "text": [
      "Error extracting representation cfgcallcompact1enoroot for /home/nonroot/experiment/datasets/classify_seqs/group1.1000/SUM/extr_viddc.c_Vdp1ReadTexture/: list index out of range\n"
     ]
    },
    {
     "name": "stderr",
     "output_type": "stream",
     "text": [
      "GEO.extr_msdosfs_lookup.c_msdosfs_lookup_:  24%|██████████████████████████████████▎                                                                                                         | 1224/5000 [38:43<2:53:21,  2.75s/it]"
     ]
    },
    {
     "name": "stdout",
     "output_type": "stream",
     "text": [
      "Error extracting representation cfgcompact for /home/nonroot/experiment/datasets/classify_seqs/group1.1000/GEO/extr_msdosfs_lookup.c_msdosfs_lookup_/: 'bool' object is not iterable\n",
      "Error extracting representation cfgcallcompactnoroot for /home/nonroot/experiment/datasets/classify_seqs/group1.1000/GEO/extr_msdosfs_lookup.c_msdosfs_lookup_/: 'bool' object is not iterable\n"
     ]
    },
    {
     "name": "stderr",
     "output_type": "stream",
     "text": [
      "GEO.extr_halbtc8192e2ant.c_ex_btc8192e2ant_display_coex_info:  24%|█████████████████████████████▋                                                                                           | 1225/5000 [38:45<2:36:05,  2.48s/it]"
     ]
    },
    {
     "name": "stdout",
     "output_type": "stream",
     "text": [
      "Error extracting representation cfgcallcompact1enoroot for /home/nonroot/experiment/datasets/classify_seqs/group1.1000/GEO/extr_msdosfs_lookup.c_msdosfs_lookup_/: 'bool' object is not iterable\n"
     ]
    },
    {
     "name": "stderr",
     "output_type": "stream",
     "text": [
      "CAP.extr_tau32-ddk.c_QrVoB3:  54%|█████████████████████████████████████████████████████████████████████████████████▉                                                                      | 2694/5000 [1:26:15<1:09:38,  1.81s/it]"
     ]
    },
    {
     "name": "stdout",
     "output_type": "stream",
     "text": [
      "Error extracting representation cfgcompact for /home/nonroot/experiment/datasets/classify_seqs/group1.1000/CAP/extr_tau32-ddk.c_QrVoB3/: list index out of range\n",
      "Error extracting representation cfgcallcompactnoroot for /home/nonroot/experiment/datasets/classify_seqs/group1.1000/CAP/extr_tau32-ddk.c_QrVoB3/: list index out of range\n"
     ]
    },
    {
     "name": "stderr",
     "output_type": "stream",
     "text": [
      "CAP.extr_graphics.c_test_pen_thickness:  54%|███████████████████████████████████████████████████████████████████████████▉                                                                 | 2695/5000 [1:26:16<1:06:27,  1.73s/it]"
     ]
    },
    {
     "name": "stdout",
     "output_type": "stream",
     "text": [
      "Error extracting representation cfgcallcompact1enoroot for /home/nonroot/experiment/datasets/classify_seqs/group1.1000/CAP/extr_tau32-ddk.c_QrVoB3/: list index out of range\n"
     ]
    },
    {
     "name": "stderr",
     "output_type": "stream",
     "text": [
      "LIM.extr_mac_bsdextended.c_ugidfw_rulecheck:  76%|█████████████████████████████████████████████████████████████████████████████████████████████████████████▎                                | 3816/5000 [2:00:58<37:23,  1.89s/it]"
     ]
    },
    {
     "name": "stdout",
     "output_type": "stream",
     "text": [
      "Error extracting representation cfgcompact for /home/nonroot/experiment/datasets/classify_seqs/group1.1000/LIM/extr_mac_bsdextended.c_ugidfw_rulecheck/: 'bool' object is not iterable\n",
      "Error extracting representation cfgcallcompactnoroot for /home/nonroot/experiment/datasets/classify_seqs/group1.1000/LIM/extr_mac_bsdextended.c_ugidfw_rulecheck/: 'bool' object is not iterable\n"
     ]
    },
    {
     "name": "stderr",
     "output_type": "stream",
     "text": [
      "LIM.extr_mn10300-serial.c_mn10300_serial_change_speed:  76%|█████████████████████████████████████████████████████████████████████████████████████████████████▋                              | 3817/5000 [2:01:00<37:04,  1.88s/it]"
     ]
    },
    {
     "name": "stdout",
     "output_type": "stream",
     "text": [
      "Error extracting representation cfgcallcompact1enoroot for /home/nonroot/experiment/datasets/classify_seqs/group1.1000/LIM/extr_mac_bsdextended.c_ugidfw_rulecheck/: 'bool' object is not iterable\n"
     ]
    },
    {
     "name": "stderr",
     "output_type": "stream",
     "text": [
      "BST.extr_gdb-stub.c_gdbstub_set_breakpoint:  95%|███████████████████████████████████████████████████████████████████████████████████████████████████████████████████████████████████▌       | 4732/5000 [2:32:33<09:06,  2.04s/it]"
     ]
    },
    {
     "name": "stdout",
     "output_type": "stream",
     "text": [
      "Error extracting representation cfgcompact for /home/nonroot/experiment/datasets/classify_seqs/group1.1000/BST/extr_gdb-stub.c_gdbstub_set_breakpoint/: list index out of range\n",
      "Error extracting representation cfgcallcompactnoroot for /home/nonroot/experiment/datasets/classify_seqs/group1.1000/BST/extr_gdb-stub.c_gdbstub_set_breakpoint/: list index out of range\n"
     ]
    },
    {
     "name": "stderr",
     "output_type": "stream",
     "text": [
      "BST.extr_edma.c_edma_probe:  95%|██████████████████████████████████████████████████████████████████████████████████████████████████████████████████████████████████████████████████▋        | 4733/5000 [2:32:35<08:21,  1.88s/it]"
     ]
    },
    {
     "name": "stdout",
     "output_type": "stream",
     "text": [
      "Error extracting representation cfgcallcompact1enoroot for /home/nonroot/experiment/datasets/classify_seqs/group1.1000/BST/extr_gdb-stub.c_gdbstub_set_breakpoint/: list index out of range\n"
     ]
    },
    {
     "name": "stderr",
     "output_type": "stream",
     "text": [
      "BST.extr_dragon4.c_FormatPositional: 100%|██████████████████████████████████████████████████████████████████████████████████████████████████████████████████████████████████████████████████| 5000/5000 [2:42:03<00:00,  1.94s/it]\n"
     ]
    },
    {
     "name": "stdout",
     "output_type": "stream",
     "text": [
      "Starting with optmization 4211-bCap with following passes: -loop-rotate -sroa -correlated-propagation -indvars -gvn -tailcallelim -instcombine -jump-threading -reassociate -simplifycfg -instcombine -early-cse-memssa\n"
     ]
    },
    {
     "name": "stderr",
     "output_type": "stream",
     "text": [
      "SUM.extr_22314.c_main:   1%|█▌                                                                                                                                                                | 47/5000 [01:28<2:41:24,  1.96s/it]/home/nonroot/experiment/datasets/classify_seqs/group1.1000/SUM/extr_22314.c_main//a.out_o.bc: /home/nonroot/experiment/datasets/classify_seqs/group1.1000/SUM/extr_22314.c_main//a.out_o.bc: error: Explicit load/store type does not match pointee type of pointer operand (Producer: 'LLVM10.0.1' Reader: 'LLVM 10.0.1')\n",
      "SUM.extr_misc1.c_get_lisp_indent:   1%|█▍                                                                                                                                                     | 48/5000 [01:28<2:00:17,  1.46s/it]"
     ]
    },
    {
     "name": "stdout",
     "output_type": "stream",
     "text": [
      "Error extracting IR from /home/nonroot/experiment/datasets/classify_seqs/group1.1000/SUM/extr_22314.c_main//a.out_o.bc: Failed parse IR file\n"
     ]
    },
    {
     "name": "stderr",
     "output_type": "stream",
     "text": [
      "SUM.extr_book3s_64_mmu_hv.c_kvmppc_book3s_hv_page_fault:   2%|██▍                                                                                                                             | 95/5000 [03:03<2:52:20,  2.11s/it]"
     ]
    },
    {
     "name": "stdout",
     "output_type": "stream",
     "text": [
      "Error extracting representation cfgcompact for /home/nonroot/experiment/datasets/classify_seqs/group1.1000/SUM/extr_book3s_64_mmu_hv.c_kvmppc_book3s_hv_page_fault/: list index out of range\n",
      "Error extracting representation cfgcallcompactnoroot for /home/nonroot/experiment/datasets/classify_seqs/group1.1000/SUM/extr_book3s_64_mmu_hv.c_kvmppc_book3s_hv_page_fault/: list index out of range\n"
     ]
    },
    {
     "name": "stderr",
     "output_type": "stream",
     "text": [
      "SUM.extr_tscParseInsert.c_tscParseSqlForCreateTableOnDemand:   2%|██▍                                                                                                                         | 96/5000 [03:04<2:41:56,  1.98s/it]"
     ]
    },
    {
     "name": "stdout",
     "output_type": "stream",
     "text": [
      "Error extracting representation cfgcallcompact1enoroot for /home/nonroot/experiment/datasets/classify_seqs/group1.1000/SUM/extr_book3s_64_mmu_hv.c_kvmppc_book3s_hv_page_fault/: list index out of range\n"
     ]
    },
    {
     "name": "stderr",
     "output_type": "stream",
     "text": [
      "SUM.extr_viddc.c_Vdp1ReadTexture:  17%|████████████████████████▊                                                                                                                             | 829/5000 [26:34<2:18:32,  1.99s/it]"
     ]
    },
    {
     "name": "stdout",
     "output_type": "stream",
     "text": [
      "Error extracting representation cfgcompact for /home/nonroot/experiment/datasets/classify_seqs/group1.1000/SUM/extr_viddc.c_Vdp1ReadTexture/: list index out of range\n",
      "Error extracting representation cfgcallcompactnoroot for /home/nonroot/experiment/datasets/classify_seqs/group1.1000/SUM/extr_viddc.c_Vdp1ReadTexture/: list index out of range\n"
     ]
    },
    {
     "name": "stderr",
     "output_type": "stream",
     "text": [
      "SUM.extr_vmt.c_ubi_resize_volume:  17%|████████████████████████▉                                                                                                                             | 830/5000 [26:36<2:13:55,  1.93s/it]"
     ]
    },
    {
     "name": "stdout",
     "output_type": "stream",
     "text": [
      "Error extracting representation cfgcallcompact1enoroot for /home/nonroot/experiment/datasets/classify_seqs/group1.1000/SUM/extr_viddc.c_Vdp1ReadTexture/: list index out of range\n"
     ]
    },
    {
     "name": "stderr",
     "output_type": "stream",
     "text": [
      "GEO.extr_msdosfs_lookup.c_msdosfs_lookup_:  24%|██████████████████████████████████▎                                                                                                         | 1224/5000 [40:02<2:58:38,  2.84s/it]"
     ]
    },
    {
     "name": "stdout",
     "output_type": "stream",
     "text": [
      "Error extracting representation cfgcompact for /home/nonroot/experiment/datasets/classify_seqs/group1.1000/GEO/extr_msdosfs_lookup.c_msdosfs_lookup_/: 'bool' object is not iterable\n",
      "Error extracting representation cfgcallcompactnoroot for /home/nonroot/experiment/datasets/classify_seqs/group1.1000/GEO/extr_msdosfs_lookup.c_msdosfs_lookup_/: 'bool' object is not iterable\n"
     ]
    },
    {
     "name": "stderr",
     "output_type": "stream",
     "text": [
      "GEO.extr_halbtc8192e2ant.c_ex_btc8192e2ant_display_coex_info:  24%|█████████████████████████████▋                                                                                           | 1225/5000 [40:04<2:41:25,  2.57s/it]"
     ]
    },
    {
     "name": "stdout",
     "output_type": "stream",
     "text": [
      "Error extracting representation cfgcallcompact1enoroot for /home/nonroot/experiment/datasets/classify_seqs/group1.1000/GEO/extr_msdosfs_lookup.c_msdosfs_lookup_/: 'bool' object is not iterable\n"
     ]
    },
    {
     "name": "stderr",
     "output_type": "stream",
     "text": [
      "CAP.extr_tau32-ddk.c_QrVoB3:  54%|█████████████████████████████████████████████████████████████████████████████████▉                                                                      | 2694/5000 [1:28:58<1:11:35,  1.86s/it]"
     ]
    },
    {
     "name": "stdout",
     "output_type": "stream",
     "text": [
      "Error extracting representation cfgcompact for /home/nonroot/experiment/datasets/classify_seqs/group1.1000/CAP/extr_tau32-ddk.c_QrVoB3/: list index out of range\n",
      "Error extracting representation cfgcallcompactnoroot for /home/nonroot/experiment/datasets/classify_seqs/group1.1000/CAP/extr_tau32-ddk.c_QrVoB3/: list index out of range\n"
     ]
    },
    {
     "name": "stderr",
     "output_type": "stream",
     "text": [
      "CAP.extr_graphics.c_test_pen_thickness:  54%|███████████████████████████████████████████████████████████████████████████▉                                                                 | 2695/5000 [1:28:59<1:08:00,  1.77s/it]"
     ]
    },
    {
     "name": "stdout",
     "output_type": "stream",
     "text": [
      "Error extracting representation cfgcallcompact1enoroot for /home/nonroot/experiment/datasets/classify_seqs/group1.1000/CAP/extr_tau32-ddk.c_QrVoB3/: list index out of range\n"
     ]
    },
    {
     "name": "stderr",
     "output_type": "stream",
     "text": [
      "LIM.extr_mac_bsdextended.c_ugidfw_rulecheck:  76%|█████████████████████████████████████████████████████████████████████████████████████████████████████████▎                                | 3816/5000 [2:04:58<39:11,  1.99s/it]"
     ]
    },
    {
     "name": "stdout",
     "output_type": "stream",
     "text": [
      "Error extracting representation cfgcompact for /home/nonroot/experiment/datasets/classify_seqs/group1.1000/LIM/extr_mac_bsdextended.c_ugidfw_rulecheck/: 'bool' object is not iterable\n",
      "Error extracting representation cfgcallcompactnoroot for /home/nonroot/experiment/datasets/classify_seqs/group1.1000/LIM/extr_mac_bsdextended.c_ugidfw_rulecheck/: 'bool' object is not iterable\n"
     ]
    },
    {
     "name": "stderr",
     "output_type": "stream",
     "text": [
      "LIM.extr_mn10300-serial.c_mn10300_serial_change_speed:  76%|█████████████████████████████████████████████████████████████████████████████████████████████████▋                              | 3817/5000 [2:04:59<38:44,  1.96s/it]"
     ]
    },
    {
     "name": "stdout",
     "output_type": "stream",
     "text": [
      "Error extracting representation cfgcallcompact1enoroot for /home/nonroot/experiment/datasets/classify_seqs/group1.1000/LIM/extr_mac_bsdextended.c_ugidfw_rulecheck/: 'bool' object is not iterable\n"
     ]
    },
    {
     "name": "stderr",
     "output_type": "stream",
     "text": [
      "BST.extr_gdb-stub.c_gdbstub_set_breakpoint:  95%|███████████████████████████████████████████████████████████████████████████████████████████████████████████████████████████████████▌       | 4732/5000 [2:37:44<09:32,  2.14s/it]"
     ]
    },
    {
     "name": "stdout",
     "output_type": "stream",
     "text": [
      "Error extracting representation cfgcompact for /home/nonroot/experiment/datasets/classify_seqs/group1.1000/BST/extr_gdb-stub.c_gdbstub_set_breakpoint/: list index out of range\n",
      "Error extracting representation cfgcallcompactnoroot for /home/nonroot/experiment/datasets/classify_seqs/group1.1000/BST/extr_gdb-stub.c_gdbstub_set_breakpoint/: list index out of range\n"
     ]
    },
    {
     "name": "stderr",
     "output_type": "stream",
     "text": [
      "BST.extr_edma.c_edma_probe:  95%|██████████████████████████████████████████████████████████████████████████████████████████████████████████████████████████████████████████████████▋        | 4733/5000 [2:37:45<08:47,  1.98s/it]"
     ]
    },
    {
     "name": "stdout",
     "output_type": "stream",
     "text": [
      "Error extracting representation cfgcallcompact1enoroot for /home/nonroot/experiment/datasets/classify_seqs/group1.1000/BST/extr_gdb-stub.c_gdbstub_set_breakpoint/: list index out of range\n"
     ]
    },
    {
     "name": "stderr",
     "output_type": "stream",
     "text": [
      "BST.extr_dragon4.c_FormatPositional: 100%|██████████████████████████████████████████████████████████████████████████████████████████████████████████████████████████████████████████████████| 5000/5000 [2:47:33<00:00,  2.01s/it]\n"
     ]
    },
    {
     "name": "stdout",
     "output_type": "stream",
     "text": [
      "Starting with optmization O0 with following passes: -O0\n"
     ]
    },
    {
     "name": "stderr",
     "output_type": "stream",
     "text": [
      "SUM.extr_book3s_64_mmu_hv.c_kvmppc_book3s_hv_page_fault:   2%|██▍                                                                                                                             | 95/5000 [03:45<3:30:54,  2.58s/it]"
     ]
    },
    {
     "name": "stdout",
     "output_type": "stream",
     "text": [
      "Error extracting representation cfgcompact for /home/nonroot/experiment/datasets/classify_seqs/group1.1000/SUM/extr_book3s_64_mmu_hv.c_kvmppc_book3s_hv_page_fault/: list index out of range\n",
      "Error extracting representation cfgcallcompactnoroot for /home/nonroot/experiment/datasets/classify_seqs/group1.1000/SUM/extr_book3s_64_mmu_hv.c_kvmppc_book3s_hv_page_fault/: list index out of range\n"
     ]
    },
    {
     "name": "stderr",
     "output_type": "stream",
     "text": [
      "SUM.extr_tscParseInsert.c_tscParseSqlForCreateTableOnDemand:   2%|██▍                                                                                                                         | 96/5000 [03:47<3:15:03,  2.39s/it]"
     ]
    },
    {
     "name": "stdout",
     "output_type": "stream",
     "text": [
      "Error extracting representation cfgcallcompact1enoroot for /home/nonroot/experiment/datasets/classify_seqs/group1.1000/SUM/extr_book3s_64_mmu_hv.c_kvmppc_book3s_hv_page_fault/: list index out of range\n"
     ]
    },
    {
     "name": "stderr",
     "output_type": "stream",
     "text": [
      "SUM.extr_viddc.c_Vdp1ReadTexture:  17%|████████████████████████▊                                                                                                                             | 829/5000 [32:45<2:49:58,  2.44s/it]"
     ]
    },
    {
     "name": "stdout",
     "output_type": "stream",
     "text": [
      "Error extracting representation cfgcompact for /home/nonroot/experiment/datasets/classify_seqs/group1.1000/SUM/extr_viddc.c_Vdp1ReadTexture/: list index out of range\n",
      "Error extracting representation cfgcallcompactnoroot for /home/nonroot/experiment/datasets/classify_seqs/group1.1000/SUM/extr_viddc.c_Vdp1ReadTexture/: list index out of range\n"
     ]
    },
    {
     "name": "stderr",
     "output_type": "stream",
     "text": [
      "SUM.extr_vmt.c_ubi_resize_volume:  17%|████████████████████████▉                                                                                                                             | 830/5000 [32:47<2:43:18,  2.35s/it]"
     ]
    },
    {
     "name": "stdout",
     "output_type": "stream",
     "text": [
      "Error extracting representation cfgcallcompact1enoroot for /home/nonroot/experiment/datasets/classify_seqs/group1.1000/SUM/extr_viddc.c_Vdp1ReadTexture/: list index out of range\n"
     ]
    },
    {
     "name": "stderr",
     "output_type": "stream",
     "text": [
      "GEO.extr_msdosfs_lookup.c_msdosfs_lookup_:  24%|██████████████████████████████████▎                                                                                                         | 1224/5000 [49:40<3:49:49,  3.65s/it]"
     ]
    },
    {
     "name": "stdout",
     "output_type": "stream",
     "text": [
      "Error extracting representation cfgcompact for /home/nonroot/experiment/datasets/classify_seqs/group1.1000/GEO/extr_msdosfs_lookup.c_msdosfs_lookup_/: 'bool' object is not iterable\n",
      "Error extracting representation cfgcallcompactnoroot for /home/nonroot/experiment/datasets/classify_seqs/group1.1000/GEO/extr_msdosfs_lookup.c_msdosfs_lookup_/: 'bool' object is not iterable\n"
     ]
    },
    {
     "name": "stderr",
     "output_type": "stream",
     "text": [
      "GEO.extr_halbtc8192e2ant.c_ex_btc8192e2ant_display_coex_info:  24%|█████████████████████████████▋                                                                                           | 1225/5000 [49:42<3:25:47,  3.27s/it]"
     ]
    },
    {
     "name": "stdout",
     "output_type": "stream",
     "text": [
      "Error extracting representation cfgcallcompact1enoroot for /home/nonroot/experiment/datasets/classify_seqs/group1.1000/GEO/extr_msdosfs_lookup.c_msdosfs_lookup_/: 'bool' object is not iterable\n"
     ]
    },
    {
     "name": "stderr",
     "output_type": "stream",
     "text": [
      "CAP.extr_tau32-ddk.c_QrVoB3:  54%|█████████████████████████████████████████████████████████████████████████████████▉                                                                      | 2694/5000 [1:51:30<1:29:19,  2.32s/it]"
     ]
    },
    {
     "name": "stdout",
     "output_type": "stream",
     "text": [
      "Error extracting representation cfgcompact for /home/nonroot/experiment/datasets/classify_seqs/group1.1000/CAP/extr_tau32-ddk.c_QrVoB3/: list index out of range\n",
      "Error extracting representation cfgcallcompactnoroot for /home/nonroot/experiment/datasets/classify_seqs/group1.1000/CAP/extr_tau32-ddk.c_QrVoB3/: list index out of range\n"
     ]
    },
    {
     "name": "stderr",
     "output_type": "stream",
     "text": [
      "CAP.extr_graphics.c_test_pen_thickness:  54%|███████████████████████████████████████████████████████████████████████████▉                                                                 | 2695/5000 [1:51:32<1:24:55,  2.21s/it]"
     ]
    },
    {
     "name": "stdout",
     "output_type": "stream",
     "text": [
      "Error extracting representation cfgcallcompact1enoroot for /home/nonroot/experiment/datasets/classify_seqs/group1.1000/CAP/extr_tau32-ddk.c_QrVoB3/: list index out of range\n"
     ]
    },
    {
     "name": "stderr",
     "output_type": "stream",
     "text": [
      "LIM.extr_mac_bsdextended.c_ugidfw_rulecheck:  76%|█████████████████████████████████████████████████████████████████████████████████████████████████████████▎                                | 3816/5000 [2:37:00<50:19,  2.55s/it]"
     ]
    },
    {
     "name": "stdout",
     "output_type": "stream",
     "text": [
      "Error extracting representation cfgcompact for /home/nonroot/experiment/datasets/classify_seqs/group1.1000/LIM/extr_mac_bsdextended.c_ugidfw_rulecheck/: 'bool' object is not iterable\n",
      "Error extracting representation cfgcallcompactnoroot for /home/nonroot/experiment/datasets/classify_seqs/group1.1000/LIM/extr_mac_bsdextended.c_ugidfw_rulecheck/: 'bool' object is not iterable\n"
     ]
    },
    {
     "name": "stderr",
     "output_type": "stream",
     "text": [
      "LIM.extr_mn10300-serial.c_mn10300_serial_change_speed:  76%|█████████████████████████████████████████████████████████████████████████████████████████████████▋                              | 3817/5000 [2:37:03<50:23,  2.56s/it]"
     ]
    },
    {
     "name": "stdout",
     "output_type": "stream",
     "text": [
      "Error extracting representation cfgcallcompact1enoroot for /home/nonroot/experiment/datasets/classify_seqs/group1.1000/LIM/extr_mac_bsdextended.c_ugidfw_rulecheck/: 'bool' object is not iterable\n"
     ]
    },
    {
     "name": "stderr",
     "output_type": "stream",
     "text": [
      "BST.extr_gdb-stub.c_gdbstub_set_breakpoint:  95%|███████████████████████████████████████████████████████████████████████████████████████████████████████████████████████████████████▌       | 4732/5000 [3:19:16<11:49,  2.65s/it]"
     ]
    },
    {
     "name": "stdout",
     "output_type": "stream",
     "text": [
      "Error extracting representation cfgcompact for /home/nonroot/experiment/datasets/classify_seqs/group1.1000/BST/extr_gdb-stub.c_gdbstub_set_breakpoint/: list index out of range\n",
      "Error extracting representation cfgcallcompactnoroot for /home/nonroot/experiment/datasets/classify_seqs/group1.1000/BST/extr_gdb-stub.c_gdbstub_set_breakpoint/: list index out of range\n"
     ]
    },
    {
     "name": "stderr",
     "output_type": "stream",
     "text": [
      "BST.extr_edma.c_edma_probe:  95%|██████████████████████████████████████████████████████████████████████████████████████████████████████████████████████████████████████████████████▋        | 4733/5000 [3:19:18<10:46,  2.42s/it]"
     ]
    },
    {
     "name": "stdout",
     "output_type": "stream",
     "text": [
      "Error extracting representation cfgcallcompact1enoroot for /home/nonroot/experiment/datasets/classify_seqs/group1.1000/BST/extr_gdb-stub.c_gdbstub_set_breakpoint/: list index out of range\n"
     ]
    },
    {
     "name": "stderr",
     "output_type": "stream",
     "text": [
      "BST.extr_dragon4.c_FormatPositional: 100%|██████████████████████████████████████████████████████████████████████████████████████████████████████████████████████████████████████████████████| 5000/5000 [3:32:04<00:00,  2.54s/it]\n"
     ]
    },
    {
     "name": "stdout",
     "output_type": "stream",
     "text": [
      "Starting with optmization Os with following passes: -Os\n"
     ]
    },
    {
     "name": "stderr",
     "output_type": "stream",
     "text": [
      "SUM.extr_gentranslit.c_main:   0%|▏                                                                                                                                                            | 7/5000 [00:14<2:57:23,  2.13s/it]"
     ]
    },
    {
     "name": "stdout",
     "output_type": "stream",
     "text": [
      "Error extracting representation cfgcompact for /home/nonroot/experiment/datasets/classify_seqs/group1.1000/SUM/extr_gentranslit.c_main/: 'shufflevector'\n",
      "Error extracting representation cfgcallcompactnoroot for /home/nonroot/experiment/datasets/classify_seqs/group1.1000/SUM/extr_gentranslit.c_main/: 'shufflevector'\n"
     ]
    },
    {
     "name": "stderr",
     "output_type": "stream",
     "text": [
      "SUM.extr_pf_ioctl.c_pfioctl_ioc_state_kill:   0%|▏                                                                                                                                             | 8/5000 [00:16<2:55:35,  2.11s/it]"
     ]
    },
    {
     "name": "stdout",
     "output_type": "stream",
     "text": [
      "Error extracting representation cfgcallcompact1enoroot for /home/nonroot/experiment/datasets/classify_seqs/group1.1000/SUM/extr_gentranslit.c_main/: 'shufflevector'\n"
     ]
    },
    {
     "name": "stderr",
     "output_type": "stream",
     "text": [
      "SUM.extr_22314.c_main:   1%|█▌                                                                                                                                                                | 47/5000 [01:40<3:05:22,  2.25s/it]/home/nonroot/experiment/datasets/classify_seqs/group1.1000/SUM/extr_22314.c_main//a.out_o.bc: /home/nonroot/experiment/datasets/classify_seqs/group1.1000/SUM/extr_22314.c_main//a.out_o.bc: error: Explicit load/store type does not match pointee type of pointer operand (Producer: 'LLVM10.0.1' Reader: 'LLVM 10.0.1')\n",
      "SUM.extr_misc1.c_get_lisp_indent:   1%|█▍                                                                                                                                                     | 48/5000 [01:40<2:20:56,  1.71s/it]"
     ]
    },
    {
     "name": "stdout",
     "output_type": "stream",
     "text": [
      "Error extracting IR from /home/nonroot/experiment/datasets/classify_seqs/group1.1000/SUM/extr_22314.c_main//a.out_o.bc: Failed parse IR file\n"
     ]
    },
    {
     "name": "stderr",
     "output_type": "stream",
     "text": [
      "SUM.extr_book3s_64_mmu_hv.c_kvmppc_book3s_hv_page_fault:   2%|██▍                                                                                                                             | 95/5000 [03:27<3:13:16,  2.36s/it]"
     ]
    },
    {
     "name": "stdout",
     "output_type": "stream",
     "text": [
      "Error extracting representation cfgcompact for /home/nonroot/experiment/datasets/classify_seqs/group1.1000/SUM/extr_book3s_64_mmu_hv.c_kvmppc_book3s_hv_page_fault/: list index out of range\n",
      "Error extracting representation cfgcallcompactnoroot for /home/nonroot/experiment/datasets/classify_seqs/group1.1000/SUM/extr_book3s_64_mmu_hv.c_kvmppc_book3s_hv_page_fault/: list index out of range\n"
     ]
    },
    {
     "name": "stderr",
     "output_type": "stream",
     "text": [
      "SUM.extr_tscParseInsert.c_tscParseSqlForCreateTableOnDemand:   2%|██▍                                                                                                                         | 96/5000 [03:29<3:03:51,  2.25s/it]"
     ]
    },
    {
     "name": "stdout",
     "output_type": "stream",
     "text": [
      "Error extracting representation cfgcallcompact1enoroot for /home/nonroot/experiment/datasets/classify_seqs/group1.1000/SUM/extr_book3s_64_mmu_hv.c_kvmppc_book3s_hv_page_fault/: list index out of range\n"
     ]
    },
    {
     "name": "stderr",
     "output_type": "stream",
     "text": [
      "SUM.extr_sws.c_send_doc:   4%|█████▋                                                                                                                                                         | 180/5000 [06:39<2:54:10,  2.17s/it]/home/nonroot/experiment/datasets/classify_seqs/group1.1000/SUM/extr_sws.c_send_doc//a.out_o.bc: /home/nonroot/experiment/datasets/classify_seqs/group1.1000/SUM/extr_sws.c_send_doc//a.out_o.bc: error: Could not open input file: No such file or directory\n",
      "SUM.extr_vf_v360.c_xyz_to_cube3x2:   4%|█████▍                                                                                                                                               | 181/5000 [06:39<2:12:19,  1.65s/it]"
     ]
    },
    {
     "name": "stdout",
     "output_type": "stream",
     "text": [
      "Error extracting IR from /home/nonroot/experiment/datasets/classify_seqs/group1.1000/SUM/extr_sws.c_send_doc//a.out_o.bc: Failed parse IR file\n"
     ]
    },
    {
     "name": "stderr",
     "output_type": "stream",
     "text": [
      "SUM.extr_avsscanf.c_decfloat:   4%|█████▉                                                                                                                                                    | 191/5000 [07:01<2:43:36,  2.04s/it]"
     ]
    },
    {
     "name": "stdout",
     "output_type": "stream",
     "text": [
      "Error extracting representation cfgcompact for /home/nonroot/experiment/datasets/classify_seqs/group1.1000/SUM/extr_avsscanf.c_decfloat/: 'shufflevector'\n",
      "Error extracting representation cfgcallcompactnoroot for /home/nonroot/experiment/datasets/classify_seqs/group1.1000/SUM/extr_avsscanf.c_decfloat/: 'shufflevector'\n"
     ]
    },
    {
     "name": "stderr",
     "output_type": "stream",
     "text": [
      "SUM.extr_cs2.c_Cs2FilterData:   4%|█████▉                                                                                                                                                    | 192/5000 [07:03<2:42:24,  2.03s/it]"
     ]
    },
    {
     "name": "stdout",
     "output_type": "stream",
     "text": [
      "Error extracting representation cfgcallcompact1enoroot for /home/nonroot/experiment/datasets/classify_seqs/group1.1000/SUM/extr_avsscanf.c_decfloat/: 'shufflevector'\n"
     ]
    },
    {
     "name": "stderr",
     "output_type": "stream",
     "text": [
      "SUM.extr_rtpenc_h263_rfc2190.c_ff_rtp_send_h263_rfc2190:   5%|██████                                                                                                                         | 239/5000 [08:44<3:07:37,  2.36s/it]"
     ]
    },
    {
     "name": "stdout",
     "output_type": "stream",
     "text": [
      "Error extracting representation cfgcompact for /home/nonroot/experiment/datasets/classify_seqs/group1.1000/SUM/extr_rtpenc_h263_rfc2190.c_ff_rtp_send_h263_rfc2190/: 'shufflevector'\n",
      "Error extracting representation cfgcallcompactnoroot for /home/nonroot/experiment/datasets/classify_seqs/group1.1000/SUM/extr_rtpenc_h263_rfc2190.c_ff_rtp_send_h263_rfc2190/: 'shufflevector'\n"
     ]
    },
    {
     "name": "stderr",
     "output_type": "stream",
     "text": [
      "SUM.extr_icon.c_read_theme_file:   5%|███████▏                                                                                                                                               | 240/5000 [08:45<2:50:07,  2.14s/it]"
     ]
    },
    {
     "name": "stdout",
     "output_type": "stream",
     "text": [
      "Error extracting representation cfgcallcompact1enoroot for /home/nonroot/experiment/datasets/classify_seqs/group1.1000/SUM/extr_rtpenc_h263_rfc2190.c_ff_rtp_send_h263_rfc2190/: 'shufflevector'\n"
     ]
    },
    {
     "name": "stderr",
     "output_type": "stream",
     "text": [
      "SUM.extr_mbfilter.c_mbfl_strpos:   7%|██████████▉                                                                                                                                            | 364/5000 [13:15<3:01:05,  2.34s/it]"
     ]
    },
    {
     "name": "stdout",
     "output_type": "stream",
     "text": [
      "Error extracting representation cfgcompact for /home/nonroot/experiment/datasets/classify_seqs/group1.1000/SUM/extr_mbfilter.c_mbfl_strpos/: 'shufflevector'\n",
      "Error extracting representation cfgcallcompactnoroot for /home/nonroot/experiment/datasets/classify_seqs/group1.1000/SUM/extr_mbfilter.c_mbfl_strpos/: 'shufflevector'\n"
     ]
    },
    {
     "name": "stderr",
     "output_type": "stream",
     "text": [
      "SUM.extr_gssapi_server.c_proto:   7%|███████████                                                                                                                                             | 365/5000 [13:17<2:48:55,  2.19s/it]"
     ]
    },
    {
     "name": "stdout",
     "output_type": "stream",
     "text": [
      "Error extracting representation cfgcallcompact1enoroot for /home/nonroot/experiment/datasets/classify_seqs/group1.1000/SUM/extr_mbfilter.c_mbfl_strpos/: 'shufflevector'\n"
     ]
    },
    {
     "name": "stderr",
     "output_type": "stream",
     "text": [
      "SUM.extr_isa207-common.c_isa207_compute_mmcr:   7%|██████████▎                                                                                                                               | 373/5000 [13:35<2:50:59,  2.22s/it]"
     ]
    },
    {
     "name": "stdout",
     "output_type": "stream",
     "text": [
      "Error extracting representation cfgcompact for /home/nonroot/experiment/datasets/classify_seqs/group1.1000/SUM/extr_isa207-common.c_isa207_compute_mmcr/: 'shufflevector'\n",
      "Error extracting representation cfgcallcompactnoroot for /home/nonroot/experiment/datasets/classify_seqs/group1.1000/SUM/extr_isa207-common.c_isa207_compute_mmcr/: 'shufflevector'\n"
     ]
    },
    {
     "name": "stderr",
     "output_type": "stream",
     "text": [
      "SUM.extr_update_editor.c_svn_wc_add_repos_file4:   7%|██████████                                                                                                                             | 374/5000 [13:37<2:40:29,  2.08s/it]"
     ]
    },
    {
     "name": "stdout",
     "output_type": "stream",
     "text": [
      "Error extracting representation cfgcallcompact1enoroot for /home/nonroot/experiment/datasets/classify_seqs/group1.1000/SUM/extr_isa207-common.c_isa207_compute_mmcr/: 'shufflevector'\n"
     ]
    },
    {
     "name": "stderr",
     "output_type": "stream",
     "text": [
      "SUM.extr_f2c_s_lapack.c_slascl_:   8%|███████████▎                                                                                                                                           | 375/5000 [13:39<2:39:35,  2.07s/it]"
     ]
    },
    {
     "name": "stdout",
     "output_type": "stream",
     "text": [
      "Error extracting representation cfgcompact for /home/nonroot/experiment/datasets/classify_seqs/group1.1000/SUM/extr_f2c_s_lapack.c_slascl_/: 'shufflevector'\n",
      "Error extracting representation cfgcallcompactnoroot for /home/nonroot/experiment/datasets/classify_seqs/group1.1000/SUM/extr_f2c_s_lapack.c_slascl_/: 'shufflevector'\n"
     ]
    },
    {
     "name": "stderr",
     "output_type": "stream",
     "text": [
      "SUM.extr_a52.c_PacketizeBlock:   8%|███████████▌                                                                                                                                             | 376/5000 [13:41<2:41:27,  2.09s/it]"
     ]
    },
    {
     "name": "stdout",
     "output_type": "stream",
     "text": [
      "Error extracting representation cfgcallcompact1enoroot for /home/nonroot/experiment/datasets/classify_seqs/group1.1000/SUM/extr_f2c_s_lapack.c_slascl_/: 'shufflevector'\n"
     ]
    },
    {
     "name": "stderr",
     "output_type": "stream",
     "text": [
      "SUM.extr_mkimg.c_main:   8%|█████████████                                                                                                                                                    | 406/5000 [14:45<2:34:04,  2.01s/it]/home/nonroot/experiment/datasets/classify_seqs/group1.1000/SUM/extr_mkimg.c_main//a.out_o.bc: /home/nonroot/experiment/datasets/classify_seqs/group1.1000/SUM/extr_mkimg.c_main//a.out_o.bc: error: Could not open input file: No such file or directory\n",
      "SUM.extr_conflict.c_test_checkout_conflict__update_only:   8%|██████████▎                                                                                                                    | 407/5000 [14:46<1:57:46,  1.54s/it]"
     ]
    },
    {
     "name": "stdout",
     "output_type": "stream",
     "text": [
      "Error extracting IR from /home/nonroot/experiment/datasets/classify_seqs/group1.1000/SUM/extr_mkimg.c_main//a.out_o.bc: Failed parse IR file\n"
     ]
    },
    {
     "name": "stderr",
     "output_type": "stream",
     "text": [
      "SUM.extr_rc80211_minstrel_ht.c_minstrel_ht_update_stats:   9%|██████████▉                                                                                                                    | 429/5000 [15:32<2:45:42,  2.18s/it]"
     ]
    },
    {
     "name": "stdout",
     "output_type": "stream",
     "text": [
      "Error extracting representation cfgcompact for /home/nonroot/experiment/datasets/classify_seqs/group1.1000/SUM/extr_rc80211_minstrel_ht.c_minstrel_ht_update_stats/: 'shufflevector'\n",
      "Error extracting representation cfgcallcompactnoroot for /home/nonroot/experiment/datasets/classify_seqs/group1.1000/SUM/extr_rc80211_minstrel_ht.c_minstrel_ht_update_stats/: 'shufflevector'\n"
     ]
    },
    {
     "name": "stderr",
     "output_type": "stream",
     "text": [
      "SUM.extr_dict.c_xmlDictQLookup:   9%|█████████████                                                                                                                                           | 430/5000 [15:34<2:34:03,  2.02s/it]"
     ]
    },
    {
     "name": "stdout",
     "output_type": "stream",
     "text": [
      "Error extracting representation cfgcallcompact1enoroot for /home/nonroot/experiment/datasets/classify_seqs/group1.1000/SUM/extr_rc80211_minstrel_ht.c_minstrel_ht_update_stats/: 'shufflevector'\n"
     ]
    },
    {
     "name": "stderr",
     "output_type": "stream",
     "text": [
      "SUM.extr_ui_controls2.c_Controls_Update:   9%|████████████▋                                                                                                                                  | 442/5000 [16:00<2:46:14,  2.19s/it]"
     ]
    },
    {
     "name": "stdout",
     "output_type": "stream",
     "text": [
      "Error extracting representation cfgcompact for /home/nonroot/experiment/datasets/classify_seqs/group1.1000/SUM/extr_ui_controls2.c_Controls_Update/: 'shufflevector'\n",
      "Error extracting representation cfgcallcompactnoroot for /home/nonroot/experiment/datasets/classify_seqs/group1.1000/SUM/extr_ui_controls2.c_Controls_Update/: 'shufflevector'\n"
     ]
    },
    {
     "name": "stderr",
     "output_type": "stream",
     "text": [
      "SUM.extr_quit.c_edstop:   9%|██████████████▏                                                                                                                                                 | 443/5000 [16:02<2:33:11,  2.02s/it]"
     ]
    },
    {
     "name": "stdout",
     "output_type": "stream",
     "text": [
      "Error extracting representation cfgcallcompact1enoroot for /home/nonroot/experiment/datasets/classify_seqs/group1.1000/SUM/extr_ui_controls2.c_Controls_Update/: 'shufflevector'\n"
     ]
    },
    {
     "name": "stderr",
     "output_type": "stream",
     "text": [
      "SUM.extr_parse-diff.c_parse_binary_patch:  10%|██████████████                                                                                                                                | 495/5000 [17:58<2:55:10,  2.33s/it]"
     ]
    },
    {
     "name": "stdout",
     "output_type": "stream",
     "text": [
      "Error extracting representation cfgcompact for /home/nonroot/experiment/datasets/classify_seqs/group1.1000/SUM/extr_parse-diff.c_parse_binary_patch/: 'shufflevector'\n",
      "Error extracting representation cfgcallcompactnoroot for /home/nonroot/experiment/datasets/classify_seqs/group1.1000/SUM/extr_parse-diff.c_parse_binary_patch/: 'shufflevector'\n"
     ]
    },
    {
     "name": "stderr",
     "output_type": "stream",
     "text": [
      "SUM.extr_cm_polylib.c_ClipWindingEpsilon:  10%|██████████████                                                                                                                                | 496/5000 [17:59<2:39:08,  2.12s/it]"
     ]
    },
    {
     "name": "stdout",
     "output_type": "stream",
     "text": [
      "Error extracting representation cfgcallcompact1enoroot for /home/nonroot/experiment/datasets/classify_seqs/group1.1000/SUM/extr_parse-diff.c_parse_binary_patch/: 'shufflevector'\n"
     ]
    },
    {
     "name": "stderr",
     "output_type": "stream",
     "text": [
      "SUM.extr_cluster.c_clusterLoadConfig:  11%|███████████████▌                                                                                                                                  | 534/5000 [19:22<2:54:53,  2.35s/it]/home/nonroot/experiment/datasets/classify_seqs/group1.1000/SUM/extr_cluster.c_clusterLoadConfig//a.out_o.bc: /home/nonroot/experiment/datasets/classify_seqs/group1.1000/SUM/extr_cluster.c_clusterLoadConfig//a.out_o.bc: error: Could not open input file: No such file or directory\n",
      "SUM.extr_memcached.c_server_socket:  11%|███████████████▊                                                                                                                                    | 535/5000 [19:22<2:12:25,  1.78s/it]"
     ]
    },
    {
     "name": "stdout",
     "output_type": "stream",
     "text": [
      "Error extracting IR from /home/nonroot/experiment/datasets/classify_seqs/group1.1000/SUM/extr_cluster.c_clusterLoadConfig//a.out_o.bc: Failed parse IR file\n"
     ]
    },
    {
     "name": "stderr",
     "output_type": "stream",
     "text": [
      "SUM.extr_init.c_ath6kl_configure_target:  12%|████████████████▌                                                                                                                              | 580/5000 [20:58<2:43:25,  2.22s/it]"
     ]
    },
    {
     "name": "stdout",
     "output_type": "stream",
     "text": [
      "Error extracting representation cfgcompact for /home/nonroot/experiment/datasets/classify_seqs/group1.1000/SUM/extr_init.c_ath6kl_configure_target/: 'shufflevector'\n",
      "Error extracting representation cfgcallcompactnoroot for /home/nonroot/experiment/datasets/classify_seqs/group1.1000/SUM/extr_init.c_ath6kl_configure_target/: 'shufflevector'\n"
     ]
    },
    {
     "name": "stderr",
     "output_type": "stream",
     "text": [
      "SUM.extr_bgmac-platform.c_bgmac_probe:  12%|████████████████▊                                                                                                                                | 581/5000 [21:00<2:34:13,  2.09s/it]"
     ]
    },
    {
     "name": "stdout",
     "output_type": "stream",
     "text": [
      "Error extracting representation cfgcallcompact1enoroot for /home/nonroot/experiment/datasets/classify_seqs/group1.1000/SUM/extr_init.c_ath6kl_configure_target/: 'shufflevector'\n"
     ]
    },
    {
     "name": "stderr",
     "output_type": "stream",
     "text": [
      "SUM.extr_rpcserver.c_ScmAssignNewTag:  12%|█████████████████                                                                                                                                 | 586/5000 [21:11<2:43:35,  2.22s/it]"
     ]
    },
    {
     "name": "stdout",
     "output_type": "stream",
     "text": [
      "Error extracting representation cfgcompact for /home/nonroot/experiment/datasets/classify_seqs/group1.1000/SUM/extr_rpcserver.c_ScmAssignNewTag/: 'shufflevector'\n",
      "Error extracting representation cfgcallcompactnoroot for /home/nonroot/experiment/datasets/classify_seqs/group1.1000/SUM/extr_rpcserver.c_ScmAssignNewTag/: 'shufflevector'\n"
     ]
    },
    {
     "name": "stderr",
     "output_type": "stream",
     "text": [
      "SUM.extr_valprint.c_val_print_string:  12%|█████████████████▏                                                                                                                                | 587/5000 [21:13<2:33:31,  2.09s/it]"
     ]
    },
    {
     "name": "stdout",
     "output_type": "stream",
     "text": [
      "Error extracting representation cfgcallcompact1enoroot for /home/nonroot/experiment/datasets/classify_seqs/group1.1000/SUM/extr_rpcserver.c_ScmAssignNewTag/: 'shufflevector'\n"
     ]
    },
    {
     "name": "stderr",
     "output_type": "stream",
     "text": [
      "SUM.extr_rpza.c_rpza_decode_stream:  13%|███████████████████                                                                                                                                 | 644/5000 [23:15<2:36:41,  2.16s/it]"
     ]
    },
    {
     "name": "stdout",
     "output_type": "stream",
     "text": [
      "Error extracting representation cfgcompact for /home/nonroot/experiment/datasets/classify_seqs/group1.1000/SUM/extr_rpza.c_rpza_decode_stream/: 'shufflevector'\n",
      "Error extracting representation cfgcallcompactnoroot for /home/nonroot/experiment/datasets/classify_seqs/group1.1000/SUM/extr_rpza.c_rpza_decode_stream/: 'shufflevector'\n"
     ]
    },
    {
     "name": "stderr",
     "output_type": "stream",
     "text": [
      "SUM.extr_gl-font.c_lookup_glyph:  13%|███████████████████▍                                                                                                                                   | 645/5000 [23:16<2:26:24,  2.02s/it]"
     ]
    },
    {
     "name": "stdout",
     "output_type": "stream",
     "text": [
      "Error extracting representation cfgcallcompact1enoroot for /home/nonroot/experiment/datasets/classify_seqs/group1.1000/SUM/extr_rpza.c_rpza_decode_stream/: 'shufflevector'\n"
     ]
    },
    {
     "name": "stderr",
     "output_type": "stream",
     "text": [
      "SUM.extr_21442.c_main:  13%|████████████████████▉                                                                                                                                            | 649/5000 [23:25<2:31:52,  2.09s/it]"
     ]
    },
    {
     "name": "stdout",
     "output_type": "stream",
     "text": [
      "Error extracting representation cfgcompact for /home/nonroot/experiment/datasets/classify_seqs/group1.1000/SUM/extr_21442.c_main/: 'shufflevector'\n",
      "Error extracting representation cfgcallcompactnoroot for /home/nonroot/experiment/datasets/classify_seqs/group1.1000/SUM/extr_21442.c_main/: 'shufflevector'\n"
     ]
    },
    {
     "name": "stderr",
     "output_type": "stream",
     "text": [
      "SUM.extr_addi-datahwdrv_apci3120.c_i_APCI3120_InsnConfigTimer:  13%|███████████████▋                                                                                                         | 650/5000 [23:26<2:23:16,  1.98s/it]"
     ]
    },
    {
     "name": "stdout",
     "output_type": "stream",
     "text": [
      "Error extracting representation cfgcallcompact1enoroot for /home/nonroot/experiment/datasets/classify_seqs/group1.1000/SUM/extr_21442.c_main/: 'shufflevector'\n"
     ]
    },
    {
     "name": "stderr",
     "output_type": "stream",
     "text": [
      "SUM.extr_teo.c_teo_select:  14%|█████████████████████▋                                                                                                                                       | 692/5000 [24:58<2:31:46,  2.11s/it]"
     ]
    },
    {
     "name": "stdout",
     "output_type": "stream",
     "text": [
      "Error extracting representation cfgcompact for /home/nonroot/experiment/datasets/classify_seqs/group1.1000/SUM/extr_teo.c_teo_select/: 'shufflevector'\n",
      "Error extracting representation cfgcallcompactnoroot for /home/nonroot/experiment/datasets/classify_seqs/group1.1000/SUM/extr_teo.c_teo_select/: 'shufflevector'\n"
     ]
    },
    {
     "name": "stderr",
     "output_type": "stream",
     "text": [
      "SUM.extr_file.c_ocfs2_extend_allocation:  14%|███████████████████▊                                                                                                                           | 693/5000 [24:59<2:23:37,  2.00s/it]"
     ]
    },
    {
     "name": "stdout",
     "output_type": "stream",
     "text": [
      "Error extracting representation cfgcallcompact1enoroot for /home/nonroot/experiment/datasets/classify_seqs/group1.1000/SUM/extr_teo.c_teo_select/: 'shufflevector'\n"
     ]
    },
    {
     "name": "stderr",
     "output_type": "stream",
     "text": [
      "SUM.extr_softing_fw.c_softing_load_app_fw:  15%|████████████████████▋                                                                                                                        | 732/5000 [26:28<2:34:18,  2.17s/it]"
     ]
    },
    {
     "name": "stdout",
     "output_type": "stream",
     "text": [
      "Error extracting representation cfgcompact for /home/nonroot/experiment/datasets/classify_seqs/group1.1000/SUM/extr_softing_fw.c_softing_load_app_fw/: 'shufflevector'\n",
      "Error extracting representation cfgcallcompactnoroot for /home/nonroot/experiment/datasets/classify_seqs/group1.1000/SUM/extr_softing_fw.c_softing_load_app_fw/: 'shufflevector'\n"
     ]
    },
    {
     "name": "stderr",
     "output_type": "stream",
     "text": [
      "SUM.extr_where.c_allocateIndexInfo:  15%|█████████████████████▋                                                                                                                              | 733/5000 [26:30<2:24:35,  2.03s/it]"
     ]
    },
    {
     "name": "stdout",
     "output_type": "stream",
     "text": [
      "Error extracting representation cfgcallcompact1enoroot for /home/nonroot/experiment/datasets/classify_seqs/group1.1000/SUM/extr_softing_fw.c_softing_load_app_fw/: 'shufflevector'\n"
     ]
    },
    {
     "name": "stderr",
     "output_type": "stream",
     "text": [
      "SUM.extr_dragon4.c_FormatScientific:  16%|██████████████████████▉                                                                                                                            | 780/5000 [28:10<2:20:36,  2.00s/it]"
     ]
    },
    {
     "name": "stdout",
     "output_type": "stream",
     "text": [
      "Error extracting representation cfgcompact for /home/nonroot/experiment/datasets/classify_seqs/group1.1000/SUM/extr_dragon4.c_FormatScientific/: 'shufflevector'\n",
      "Error extracting representation cfgcallcompactnoroot for /home/nonroot/experiment/datasets/classify_seqs/group1.1000/SUM/extr_dragon4.c_FormatScientific/: 'shufflevector'\n"
     ]
    },
    {
     "name": "stderr",
     "output_type": "stream",
     "text": [
      "SUM.extr_adv7842.c_adv7842_cp_log_status:  16%|██████████████████████▏                                                                                                                       | 781/5000 [28:12<2:16:00,  1.93s/it]"
     ]
    },
    {
     "name": "stdout",
     "output_type": "stream",
     "text": [
      "Error extracting representation cfgcallcompact1enoroot for /home/nonroot/experiment/datasets/classify_seqs/group1.1000/SUM/extr_dragon4.c_FormatScientific/: 'shufflevector'\n"
     ]
    },
    {
     "name": "stderr",
     "output_type": "stream",
     "text": [
      "SUM.extr_vga16fb.c_vga16fb_check_var:  16%|███████████████████████▍                                                                                                                          | 801/5000 [28:56<2:37:15,  2.25s/it]"
     ]
    },
    {
     "name": "stdout",
     "output_type": "stream",
     "text": [
      "Error extracting representation cfgcompact for /home/nonroot/experiment/datasets/classify_seqs/group1.1000/SUM/extr_vga16fb.c_vga16fb_check_var/: 'shufflevector'\n",
      "Error extracting representation cfgcallcompactnoroot for /home/nonroot/experiment/datasets/classify_seqs/group1.1000/SUM/extr_vga16fb.c_vga16fb_check_var/: 'shufflevector'\n"
     ]
    },
    {
     "name": "stderr",
     "output_type": "stream",
     "text": [
      "SUM.extr_main.c_do_batch:  16%|█████████████████████████▎                                                                                                                                    | 802/5000 [28:58<2:26:41,  2.10s/it]"
     ]
    },
    {
     "name": "stdout",
     "output_type": "stream",
     "text": [
      "Error extracting representation cfgcallcompact1enoroot for /home/nonroot/experiment/datasets/classify_seqs/group1.1000/SUM/extr_vga16fb.c_vga16fb_check_var/: 'shufflevector'\n"
     ]
    },
    {
     "name": "stderr",
     "output_type": "stream",
     "text": [
      "SUM.extr_gxt4500.c_gxt4500_set_par:  16%|████████████████████████▍                                                                                                                           | 824/5000 [29:48<2:57:10,  2.55s/it]"
     ]
    },
    {
     "name": "stdout",
     "output_type": "stream",
     "text": [
      "Error extracting representation cfgcompact for /home/nonroot/experiment/datasets/classify_seqs/group1.1000/SUM/extr_gxt4500.c_gxt4500_set_par/: 'shufflevector'\n",
      "Error extracting representation cfgcallcompactnoroot for /home/nonroot/experiment/datasets/classify_seqs/group1.1000/SUM/extr_gxt4500.c_gxt4500_set_par/: 'shufflevector'\n"
     ]
    },
    {
     "name": "stderr",
     "output_type": "stream",
     "text": [
      "SUM.extr_mbfilter_cp5022x.c_mbfl_filt_conv_wchar_cp50221:  16%|████████████████████▊                                                                                                         | 825/5000 [29:50<2:37:30,  2.26s/it]"
     ]
    },
    {
     "name": "stdout",
     "output_type": "stream",
     "text": [
      "Error extracting representation cfgcallcompact1enoroot for /home/nonroot/experiment/datasets/classify_seqs/group1.1000/SUM/extr_gxt4500.c_gxt4500_set_par/: 'shufflevector'\n"
     ]
    },
    {
     "name": "stderr",
     "output_type": "stream",
     "text": [
      "SUM.extr_viddc.c_Vdp1ReadTexture:  17%|████████████████████████▊                                                                                                                             | 829/5000 [29:59<2:34:57,  2.23s/it]"
     ]
    },
    {
     "name": "stdout",
     "output_type": "stream",
     "text": [
      "Error extracting representation cfgcompact for /home/nonroot/experiment/datasets/classify_seqs/group1.1000/SUM/extr_viddc.c_Vdp1ReadTexture/: list index out of range\n",
      "Error extracting representation cfgcallcompactnoroot for /home/nonroot/experiment/datasets/classify_seqs/group1.1000/SUM/extr_viddc.c_Vdp1ReadTexture/: list index out of range\n"
     ]
    },
    {
     "name": "stderr",
     "output_type": "stream",
     "text": [
      "SUM.extr_vmt.c_ubi_resize_volume:  17%|████████████████████████▉                                                                                                                             | 830/5000 [30:01<2:31:52,  2.19s/it]"
     ]
    },
    {
     "name": "stdout",
     "output_type": "stream",
     "text": [
      "Error extracting representation cfgcallcompact1enoroot for /home/nonroot/experiment/datasets/classify_seqs/group1.1000/SUM/extr_viddc.c_Vdp1ReadTexture/: list index out of range\n"
     ]
    },
    {
     "name": "stderr",
     "output_type": "stream",
     "text": [
      "SUM.extr_netplay_sync.c_netplay_sync_post_frame:  17%|██████████████████████▋                                                                                                                | 839/5000 [30:20<2:30:44,  2.17s/it]"
     ]
    },
    {
     "name": "stdout",
     "output_type": "stream",
     "text": [
      "Error extracting representation cfgcompact for /home/nonroot/experiment/datasets/classify_seqs/group1.1000/SUM/extr_netplay_sync.c_netplay_sync_post_frame/: 'shufflevector'\n",
      "Error extracting representation cfgcallcompactnoroot for /home/nonroot/experiment/datasets/classify_seqs/group1.1000/SUM/extr_netplay_sync.c_netplay_sync_post_frame/: 'shufflevector'\n"
     ]
    },
    {
     "name": "stderr",
     "output_type": "stream",
     "text": [
      "SUM.extr_Network.c_NewRUDP:  17%|██████████████████████████▏                                                                                                                                 | 840/5000 [30:22<2:23:23,  2.07s/it]"
     ]
    },
    {
     "name": "stdout",
     "output_type": "stream",
     "text": [
      "Error extracting representation cfgcallcompact1enoroot for /home/nonroot/experiment/datasets/classify_seqs/group1.1000/SUM/extr_netplay_sync.c_netplay_sync_post_frame/: 'shufflevector'\n"
     ]
    },
    {
     "name": "stderr",
     "output_type": "stream",
     "text": [
      "SUM.extr_ccv_nnc_ew_cpu_ref.c__ccv_nnc_ewdiv_forw_cpu_ref:  17%|█████████████████████▏                                                                                                       | 846/5000 [30:37<2:42:11,  2.34s/it]"
     ]
    },
    {
     "name": "stdout",
     "output_type": "stream",
     "text": [
      "Error extracting representation cfgcompact for /home/nonroot/experiment/datasets/classify_seqs/group1.1000/SUM/extr_ccv_nnc_ew_cpu_ref.c__ccv_nnc_ewdiv_forw_cpu_ref/: 'shufflevector'\n",
      "Error extracting representation cfgcallcompactnoroot for /home/nonroot/experiment/datasets/classify_seqs/group1.1000/SUM/extr_ccv_nnc_ew_cpu_ref.c__ccv_nnc_ewdiv_forw_cpu_ref/: 'shufflevector'\n"
     ]
    },
    {
     "name": "stderr",
     "output_type": "stream",
     "text": [
      "SUM.extr_if_nfe.c_nfe_jrxeof:  17%|██████████████████████████                                                                                                                                | 847/5000 [30:39<2:35:04,  2.24s/it]"
     ]
    },
    {
     "name": "stdout",
     "output_type": "stream",
     "text": [
      "Error extracting representation cfgcallcompact1enoroot for /home/nonroot/experiment/datasets/classify_seqs/group1.1000/SUM/extr_ccv_nnc_ew_cpu_ref.c__ccv_nnc_ewdiv_forw_cpu_ref/: 'shufflevector'\n"
     ]
    },
    {
     "name": "stderr",
     "output_type": "stream",
     "text": [
      "SUM.extr_archive_write_set_format_zip.c_archive_write_zip_header:  17%|████████████████████▍                                                                                                 | 864/5000 [31:14<2:28:29,  2.15s/it]"
     ]
    },
    {
     "name": "stdout",
     "output_type": "stream",
     "text": [
      "Error extracting representation cfgcompact for /home/nonroot/experiment/datasets/classify_seqs/group1.1000/SUM/extr_archive_write_set_format_zip.c_archive_write_zip_header/: 'shufflevector'\n",
      "Error extracting representation cfgcallcompactnoroot for /home/nonroot/experiment/datasets/classify_seqs/group1.1000/SUM/extr_archive_write_set_format_zip.c_archive_write_zip_header/: 'shufflevector'\n"
     ]
    },
    {
     "name": "stderr",
     "output_type": "stream",
     "text": [
      "SUM.extr_vc4_validate_shaders.c_vc4_validate_shader:  17%|██████████████████████▋                                                                                                            | 865/5000 [31:16<2:24:10,  2.09s/it]"
     ]
    },
    {
     "name": "stdout",
     "output_type": "stream",
     "text": [
      "Error extracting representation cfgcallcompact1enoroot for /home/nonroot/experiment/datasets/classify_seqs/group1.1000/SUM/extr_archive_write_set_format_zip.c_archive_write_zip_header/: 'shufflevector'\n"
     ]
    },
    {
     "name": "stderr",
     "output_type": "stream",
     "text": [
      "GEO.extr_changeset.c_main:  21%|████████████████████████████████▏                                                                                                                           | 1033/5000 [37:30<1:48:42,  1.64s/it]/home/nonroot/experiment/datasets/classify_seqs/group1.1000/GEO/extr_changeset.c_main//a.out_o.bc: /home/nonroot/experiment/datasets/classify_seqs/group1.1000/GEO/extr_changeset.c_main//a.out_o.bc: error: Could not open input file: No such file or directory\n",
      "GEO.extr_super.c_adfs_fill_super:  21%|██████████████████████████████▊                                                                                                                      | 1033/5000 [37:30<1:48:42,  1.64s/it]"
     ]
    },
    {
     "name": "stdout",
     "output_type": "stream",
     "text": [
      "Error extracting IR from /home/nonroot/experiment/datasets/classify_seqs/group1.1000/GEO/extr_changeset.c_main//a.out_o.bc: Failed parse IR file\n"
     ]
    },
    {
     "name": "stderr",
     "output_type": "stream",
     "text": [
      "GEO.extr_sbc.c_ff_sbc_calculate_bits:  22%|████████████████████████████████▎                                                                                                                | 1114/5000 [40:42<2:20:03,  2.16s/it]"
     ]
    },
    {
     "name": "stdout",
     "output_type": "stream",
     "text": [
      "Error extracting representation cfgcompact for /home/nonroot/experiment/datasets/classify_seqs/group1.1000/GEO/extr_sbc.c_ff_sbc_calculate_bits/: 'shufflevector'\n",
      "Error extracting representation cfgcallcompactnoroot for /home/nonroot/experiment/datasets/classify_seqs/group1.1000/GEO/extr_sbc.c_ff_sbc_calculate_bits/: 'shufflevector'\n"
     ]
    },
    {
     "name": "stderr",
     "output_type": "stream",
     "text": [
      "GEO.extr_misc.c_test_FindMimeFromData:  22%|████████████████████████████████                                                                                                                | 1115/5000 [40:45<2:18:33,  2.14s/it]"
     ]
    },
    {
     "name": "stdout",
     "output_type": "stream",
     "text": [
      "Error extracting representation cfgcallcompact1enoroot for /home/nonroot/experiment/datasets/classify_seqs/group1.1000/GEO/extr_sbc.c_ff_sbc_calculate_bits/: 'shufflevector'\n"
     ]
    },
    {
     "name": "stderr",
     "output_type": "stream",
     "text": [
      "GEO.extr_psy.c_setup_tone_curves:  23%|██████████████████████████████████▏                                                                                                                  | 1148/5000 [42:02<2:46:06,  2.59s/it]"
     ]
    },
    {
     "name": "stdout",
     "output_type": "stream",
     "text": [
      "Error extracting representation cfgcompact for /home/nonroot/experiment/datasets/classify_seqs/group1.1000/GEO/extr_psy.c_setup_tone_curves/: 'shufflevector'\n",
      "Error extracting representation cfgcallcompactnoroot for /home/nonroot/experiment/datasets/classify_seqs/group1.1000/GEO/extr_psy.c_setup_tone_curves/: 'shufflevector'\n"
     ]
    },
    {
     "name": "stderr",
     "output_type": "stream",
     "text": [
      "GEO.extr_url.c_ConnectionExists:  23%|██████████████████████████████████▍                                                                                                                   | 1149/5000 [42:04<2:38:07,  2.46s/it]"
     ]
    },
    {
     "name": "stdout",
     "output_type": "stream",
     "text": [
      "Error extracting representation cfgcallcompact1enoroot for /home/nonroot/experiment/datasets/classify_seqs/group1.1000/GEO/extr_psy.c_setup_tone_curves/: 'shufflevector'\n"
     ]
    },
    {
     "name": "stderr",
     "output_type": "stream",
     "text": [
      "GEO.extr_s_server.c_sv_body:  23%|███████████████████████████████████▌                                                                                                                      | 1153/5000 [42:15<2:49:03,  2.64s/it]"
     ]
    },
    {
     "name": "stdout",
     "output_type": "stream",
     "text": [
      "Error extracting representation cfgcompact for /home/nonroot/experiment/datasets/classify_seqs/group1.1000/GEO/extr_s_server.c_sv_body/: 'shufflevector'\n",
      "Error extracting representation cfgcallcompactnoroot for /home/nonroot/experiment/datasets/classify_seqs/group1.1000/GEO/extr_s_server.c_sv_body/: 'shufflevector'\n"
     ]
    },
    {
     "name": "stderr",
     "output_type": "stream",
     "text": [
      "GEO.extr_phy.c__rtl92d_phy_switch_rf_setting:  23%|███████████████████████████████▌                                                                                                         | 1154/5000 [42:17<2:38:18,  2.47s/it]"
     ]
    },
    {
     "name": "stdout",
     "output_type": "stream",
     "text": [
      "Error extracting representation cfgcallcompact1enoroot for /home/nonroot/experiment/datasets/classify_seqs/group1.1000/GEO/extr_s_server.c_sv_body/: 'shufflevector'\n"
     ]
    },
    {
     "name": "stderr",
     "output_type": "stream",
     "text": [
      "GEO.extr_verifier.c_adjust_scalar_min_max_vals:  23%|███████████████████████████████▏                                                                                                       | 1157/5000 [42:24<2:32:17,  2.38s/it]"
     ]
    },
    {
     "name": "stdout",
     "output_type": "stream",
     "text": [
      "Error extracting representation cfgcompact for /home/nonroot/experiment/datasets/classify_seqs/group1.1000/GEO/extr_verifier.c_adjust_scalar_min_max_vals/: 'shufflevector'\n",
      "Error extracting representation cfgcallcompactnoroot for /home/nonroot/experiment/datasets/classify_seqs/group1.1000/GEO/extr_verifier.c_adjust_scalar_min_max_vals/: 'shufflevector'\n"
     ]
    },
    {
     "name": "stderr",
     "output_type": "stream",
     "text": [
      "GEO.extr_ngx_http_lua_subrequest.c_ngx_http_lua_post_subrequest:  23%|███████████████████████████▎                                                                                          | 1158/5000 [42:26<2:21:03,  2.20s/it]"
     ]
    },
    {
     "name": "stdout",
     "output_type": "stream",
     "text": [
      "Error extracting representation cfgcallcompact1enoroot for /home/nonroot/experiment/datasets/classify_seqs/group1.1000/GEO/extr_verifier.c_adjust_scalar_min_max_vals/: 'shufflevector'\n"
     ]
    },
    {
     "name": "stderr",
     "output_type": "stream",
     "text": [
      "GEO.extr_load.c_doit:  24%|██████████████████████████████████████▋                                                                                                                          | 1201/5000 [44:05<1:44:41,  1.65s/it]/home/nonroot/experiment/datasets/classify_seqs/group1.1000/GEO/extr_load.c_doit//a.out_o.bc: /home/nonroot/experiment/datasets/classify_seqs/group1.1000/GEO/extr_load.c_doit//a.out_o.bc: error: Could not open input file: No such file or directory\n",
      "GEO.extr_bnxt_hwrm.c_bnxt_hwrm_ver_get:  24%|██████████████████████████████████▎                                                                                                            | 1201/5000 [44:05<1:44:41,  1.65s/it]"
     ]
    },
    {
     "name": "stdout",
     "output_type": "stream",
     "text": [
      "Error extracting IR from /home/nonroot/experiment/datasets/classify_seqs/group1.1000/GEO/extr_load.c_doit//a.out_o.bc: Failed parse IR file\n"
     ]
    },
    {
     "name": "stderr",
     "output_type": "stream",
     "text": [
      "GEO.extr_msdosfs_lookup.c_msdosfs_lookup_:  24%|██████████████████████████████████▎                                                                                                         | 1224/5000 [45:04<3:12:51,  3.06s/it]"
     ]
    },
    {
     "name": "stdout",
     "output_type": "stream",
     "text": [
      "Error extracting representation cfgcompact for /home/nonroot/experiment/datasets/classify_seqs/group1.1000/GEO/extr_msdosfs_lookup.c_msdosfs_lookup_/: 'bool' object is not iterable\n",
      "Error extracting representation cfgcallcompactnoroot for /home/nonroot/experiment/datasets/classify_seqs/group1.1000/GEO/extr_msdosfs_lookup.c_msdosfs_lookup_/: 'bool' object is not iterable\n"
     ]
    },
    {
     "name": "stderr",
     "output_type": "stream",
     "text": [
      "GEO.extr_halbtc8192e2ant.c_ex_btc8192e2ant_display_coex_info:  24%|█████████████████████████████▋                                                                                           | 1225/5000 [45:06<2:56:29,  2.81s/it]"
     ]
    },
    {
     "name": "stdout",
     "output_type": "stream",
     "text": [
      "Error extracting representation cfgcallcompact1enoroot for /home/nonroot/experiment/datasets/classify_seqs/group1.1000/GEO/extr_msdosfs_lookup.c_msdosfs_lookup_/: 'bool' object is not iterable\n"
     ]
    },
    {
     "name": "stderr",
     "output_type": "stream",
     "text": [
      "GEO.extr_tjbench.c_decomptest:  25%|█████████████████████████████████████▌                                                                                                                  | 1234/5000 [45:25<1:46:39,  1.70s/it]/home/nonroot/experiment/datasets/classify_seqs/group1.1000/GEO/extr_tjbench.c_decomptest//a.out_o.bc: /home/nonroot/experiment/datasets/classify_seqs/group1.1000/GEO/extr_tjbench.c_decomptest//a.out_o.bc: error: Could not open input file: No such file or directory\n",
      "GEO.extr_vmxnet3_ethtool.c_vmxnet3_set_coalesce:  25%|█████████████████████████████████                                                                                                     | 1234/5000 [45:25<1:46:39,  1.70s/it]"
     ]
    },
    {
     "name": "stdout",
     "output_type": "stream",
     "text": [
      "Error extracting IR from /home/nonroot/experiment/datasets/classify_seqs/group1.1000/GEO/extr_tjbench.c_decomptest//a.out_o.bc: Failed parse IR file\n"
     ]
    },
    {
     "name": "stderr",
     "output_type": "stream",
     "text": [
      "GEO.extr_proto-preprocess.c_preprocess_frame:  26%|███████████████████████████████████▋                                                                                                     | 1302/5000 [48:05<2:33:01,  2.48s/it]"
     ]
    },
    {
     "name": "stdout",
     "output_type": "stream",
     "text": [
      "Error extracting representation cfgcompact for /home/nonroot/experiment/datasets/classify_seqs/group1.1000/GEO/extr_proto-preprocess.c_preprocess_frame/: 'shufflevector'\n",
      "Error extracting representation cfgcallcompactnoroot for /home/nonroot/experiment/datasets/classify_seqs/group1.1000/GEO/extr_proto-preprocess.c_preprocess_frame/: 'shufflevector'\n"
     ]
    },
    {
     "name": "stderr",
     "output_type": "stream",
     "text": [
      "GEO.extr_xpath.c_xmlXPathCmpNodesExt:  26%|█████████████████████████████████████▊                                                                                                           | 1303/5000 [48:06<2:19:54,  2.27s/it]"
     ]
    },
    {
     "name": "stdout",
     "output_type": "stream",
     "text": [
      "Error extracting representation cfgcallcompact1enoroot for /home/nonroot/experiment/datasets/classify_seqs/group1.1000/GEO/extr_proto-preprocess.c_preprocess_frame/: 'shufflevector'\n"
     ]
    },
    {
     "name": "stderr",
     "output_type": "stream",
     "text": [
      "GEO.extr_analyze.c_compute_distinct_stats:  27%|█████████████████████████████████████▋                                                                                                      | 1348/5000 [49:50<2:13:21,  2.19s/it]"
     ]
    },
    {
     "name": "stdout",
     "output_type": "stream",
     "text": [
      "Error extracting representation cfgcompact for /home/nonroot/experiment/datasets/classify_seqs/group1.1000/GEO/extr_analyze.c_compute_distinct_stats/: 'shufflevector'\n",
      "Error extracting representation cfgcallcompactnoroot for /home/nonroot/experiment/datasets/classify_seqs/group1.1000/GEO/extr_analyze.c_compute_distinct_stats/: 'shufflevector'\n"
     ]
    },
    {
     "name": "stderr",
     "output_type": "stream",
     "text": [
      "GEO.extr_alphatrack.c_usb_alphatrack_probe:  27%|█████████████████████████████████████▌                                                                                                     | 1349/5000 [49:52<2:07:36,  2.10s/it]"
     ]
    },
    {
     "name": "stdout",
     "output_type": "stream",
     "text": [
      "Error extracting representation cfgcallcompact1enoroot for /home/nonroot/experiment/datasets/classify_seqs/group1.1000/GEO/extr_analyze.c_compute_distinct_stats/: 'shufflevector'\n"
     ]
    },
    {
     "name": "stderr",
     "output_type": "stream",
     "text": [
      "GEO.extr_statsd.c_statsd_readfile:  28%|█████████████████████████████████████████▌                                                                                                          | 1405/5000 [52:02<2:25:14,  2.42s/it]/home/nonroot/experiment/datasets/classify_seqs/group1.1000/GEO/extr_statsd.c_statsd_readfile//a.out_o.bc: /home/nonroot/experiment/datasets/classify_seqs/group1.1000/GEO/extr_statsd.c_statsd_readfile//a.out_o.bc: error: Could not open input file: No such file or directory\n",
      "GEO.extr_ungif.c_DGifDecompressLine:  28%|█████████████████████████████████████████                                                                                                         | 1406/5000 [52:03<1:49:49,  1.83s/it]"
     ]
    },
    {
     "name": "stdout",
     "output_type": "stream",
     "text": [
      "Error extracting IR from /home/nonroot/experiment/datasets/classify_seqs/group1.1000/GEO/extr_statsd.c_statsd_readfile//a.out_o.bc: Failed parse IR file\n",
      "Error extracting representation cfgcompact for /home/nonroot/experiment/datasets/classify_seqs/group1.1000/GEO/extr_ungif.c_DGifDecompressLine/: 'shufflevector'\n",
      "Error extracting representation cfgcallcompactnoroot for /home/nonroot/experiment/datasets/classify_seqs/group1.1000/GEO/extr_ungif.c_DGifDecompressLine/: 'shufflevector'\n"
     ]
    },
    {
     "name": "stderr",
     "output_type": "stream",
     "text": [
      "GEO.extr_dcn20_resource.c_dcn20_populate_dml_pipes_from_context:  28%|█████████████████████████████████▏                                                                                    | 1407/5000 [52:05<1:48:17,  1.81s/it]"
     ]
    },
    {
     "name": "stdout",
     "output_type": "stream",
     "text": [
      "Error extracting representation cfgcallcompact1enoroot for /home/nonroot/experiment/datasets/classify_seqs/group1.1000/GEO/extr_ungif.c_DGifDecompressLine/: 'shufflevector'\n"
     ]
    },
    {
     "name": "stderr",
     "output_type": "stream",
     "text": [
      "GEO.extr_ipath_mad.c_recv_pma_get_portcounters:  28%|██████████████████████████████████████▎                                                                                                | 1419/5000 [52:34<2:20:47,  2.36s/it]"
     ]
    },
    {
     "name": "stdout",
     "output_type": "stream",
     "text": [
      "Error extracting representation cfgcompact for /home/nonroot/experiment/datasets/classify_seqs/group1.1000/GEO/extr_ipath_mad.c_recv_pma_get_portcounters/: 'shufflevector'\n",
      "Error extracting representation cfgcallcompactnoroot for /home/nonroot/experiment/datasets/classify_seqs/group1.1000/GEO/extr_ipath_mad.c_recv_pma_get_portcounters/: 'shufflevector'\n"
     ]
    },
    {
     "name": "stderr",
     "output_type": "stream",
     "text": [
      "GEO.extr_sshkey.c_fingerprint_randomart:  28%|████████████████████████████████████████▎                                                                                                     | 1420/5000 [52:35<2:08:26,  2.15s/it]"
     ]
    },
    {
     "name": "stdout",
     "output_type": "stream",
     "text": [
      "Error extracting representation cfgcallcompact1enoroot for /home/nonroot/experiment/datasets/classify_seqs/group1.1000/GEO/extr_ipath_mad.c_recv_pma_get_portcounters/: 'shufflevector'\n"
     ]
    },
    {
     "name": "stderr",
     "output_type": "stream",
     "text": [
      "GEO.extr_smbfs_io.c_smbfs_readvdir:  31%|█████████████████████████████████████████████                                                                                                      | 1534/5000 [57:08<2:16:48,  2.37s/it]"
     ]
    },
    {
     "name": "stdout",
     "output_type": "stream",
     "text": [
      "Error extracting representation cfgcompact for /home/nonroot/experiment/datasets/classify_seqs/group1.1000/GEO/extr_smbfs_io.c_smbfs_readvdir/: 'shufflevector'\n",
      "Error extracting representation cfgcallcompactnoroot for /home/nonroot/experiment/datasets/classify_seqs/group1.1000/GEO/extr_smbfs_io.c_smbfs_readvdir/: 'shufflevector'\n"
     ]
    },
    {
     "name": "stderr",
     "output_type": "stream",
     "text": [
      "GEO.extr_sys_generic.c_kern_select:  31%|█████████████████████████████████████████████▏                                                                                                     | 1535/5000 [57:10<2:04:32,  2.16s/it]"
     ]
    },
    {
     "name": "stdout",
     "output_type": "stream",
     "text": [
      "Error extracting representation cfgcallcompact1enoroot for /home/nonroot/experiment/datasets/classify_seqs/group1.1000/GEO/extr_smbfs_io.c_smbfs_readvdir/: 'shufflevector'\n"
     ]
    },
    {
     "name": "stderr",
     "output_type": "stream",
     "text": [
      "GEO.extr_cwc_convnet_ext.c_cwc_convnet_channel_eigen:  31%|████████████████████████████████████████▏                                                                                        | 1558/5000 [58:04<2:19:03,  2.42s/it]"
     ]
    },
    {
     "name": "stdout",
     "output_type": "stream",
     "text": [
      "Error extracting representation cfgcompact for /home/nonroot/experiment/datasets/classify_seqs/group1.1000/GEO/extr_cwc_convnet_ext.c_cwc_convnet_channel_eigen/: 'shufflevector'\n",
      "Error extracting representation cfgcallcompactnoroot for /home/nonroot/experiment/datasets/classify_seqs/group1.1000/GEO/extr_cwc_convnet_ext.c_cwc_convnet_channel_eigen/: 'shufflevector'\n"
     ]
    },
    {
     "name": "stderr",
     "output_type": "stream",
     "text": [
      "GEO.extr_extent.c_hfs_extend_file:  31%|██████████████████████████████████████████████▏                                                                                                     | 1559/5000 [58:06<2:10:13,  2.27s/it]"
     ]
    },
    {
     "name": "stdout",
     "output_type": "stream",
     "text": [
      "Error extracting representation cfgcallcompact1enoroot for /home/nonroot/experiment/datasets/classify_seqs/group1.1000/GEO/extr_cwc_convnet_ext.c_cwc_convnet_channel_eigen/: 'shufflevector'\n"
     ]
    },
    {
     "name": "stderr",
     "output_type": "stream",
     "text": [
      "GEO.extr_eedi2.c_eedi2_filter_dir_map_2x:  32%|█████████████████████████████████████████████▏                                                                                               | 1601/5000 [59:42<2:02:58,  2.17s/it]"
     ]
    },
    {
     "name": "stdout",
     "output_type": "stream",
     "text": [
      "Error extracting representation cfgcompact for /home/nonroot/experiment/datasets/classify_seqs/group1.1000/GEO/extr_eedi2.c_eedi2_filter_dir_map_2x/: 'shufflevector'\n",
      "Error extracting representation cfgcallcompactnoroot for /home/nonroot/experiment/datasets/classify_seqs/group1.1000/GEO/extr_eedi2.c_eedi2_filter_dir_map_2x/: 'shufflevector'\n"
     ]
    },
    {
     "name": "stderr",
     "output_type": "stream",
     "text": [
      "GEO.extr_Network.c_RUDPProcess_NatT_Recv:  32%|█████████████████████████████████████████████▏                                                                                               | 1602/5000 [59:44<1:56:29,  2.06s/it]"
     ]
    },
    {
     "name": "stdout",
     "output_type": "stream",
     "text": [
      "Error extracting representation cfgcallcompact1enoroot for /home/nonroot/experiment/datasets/classify_seqs/group1.1000/GEO/extr_eedi2.c_eedi2_filter_dir_map_2x/: 'shufflevector'\n"
     ]
    },
    {
     "name": "stderr",
     "output_type": "stream",
     "text": [
      "GEO.extr_wacom_wac.c_wacom_intuos_general:  32%|████████████████████████████████████████████▉                                                                                               | 1604/5000 [59:49<2:01:02,  2.14s/it]"
     ]
    },
    {
     "name": "stdout",
     "output_type": "stream",
     "text": [
      "Error extracting representation cfgcompact for /home/nonroot/experiment/datasets/classify_seqs/group1.1000/GEO/extr_wacom_wac.c_wacom_intuos_general/: 'shufflevector'\n",
      "Error extracting representation cfgcallcompactnoroot for /home/nonroot/experiment/datasets/classify_seqs/group1.1000/GEO/extr_wacom_wac.c_wacom_intuos_general/: 'shufflevector'\n"
     ]
    },
    {
     "name": "stderr",
     "output_type": "stream",
     "text": [
      "GEO.extr_nfs_clvnops.c_nfs_lookitup:  32%|██████████████████████████████████████████████▊                                                                                                   | 1605/5000 [59:50<1:54:41,  2.03s/it]"
     ]
    },
    {
     "name": "stdout",
     "output_type": "stream",
     "text": [
      "Error extracting representation cfgcallcompact1enoroot for /home/nonroot/experiment/datasets/classify_seqs/group1.1000/GEO/extr_wacom_wac.c_wacom_intuos_general/: 'shufflevector'\n"
     ]
    },
    {
     "name": "stderr",
     "output_type": "stream",
     "text": [
      "GEO.extr_test_cgroup_storage.c_main:  32%|██████████████████████████████████████████████▉                                                                                                   | 1607/5000 [59:55<2:02:34,  2.17s/it]"
     ]
    },
    {
     "name": "stdout",
     "output_type": "stream",
     "text": [
      "Error extracting representation cfgcompact for /home/nonroot/experiment/datasets/classify_seqs/group1.1000/GEO/extr_test_cgroup_storage.c_main/: 'shufflevector'\n",
      "Error extracting representation cfgcallcompactnoroot for /home/nonroot/experiment/datasets/classify_seqs/group1.1000/GEO/extr_test_cgroup_storage.c_main/: 'shufflevector'\n"
     ]
    },
    {
     "name": "stderr",
     "output_type": "stream",
     "text": [
      "GEO.extr_ni_labpc.c_labpc_ai_rinsn:  32%|███████████████████████████████████████████████▎                                                                                                   | 1608/5000 [59:57<1:57:06,  2.07s/it]"
     ]
    },
    {
     "name": "stdout",
     "output_type": "stream",
     "text": [
      "Error extracting representation cfgcallcompact1enoroot for /home/nonroot/experiment/datasets/classify_seqs/group1.1000/GEO/extr_test_cgroup_storage.c_main/: 'shufflevector'\n"
     ]
    },
    {
     "name": "stderr",
     "output_type": "stream",
     "text": [
      "GEO.extr_f2c_blas.c_ssyr2_:  32%|█████████████████████████████████████████████████▍                                                                                                       | 1617/5000 [1:00:16<2:02:57,  2.18s/it]"
     ]
    },
    {
     "name": "stdout",
     "output_type": "stream",
     "text": [
      "Error extracting representation cfgcompact for /home/nonroot/experiment/datasets/classify_seqs/group1.1000/GEO/extr_f2c_blas.c_ssyr2_/: 'shufflevector'\n",
      "Error extracting representation cfgcallcompactnoroot for /home/nonroot/experiment/datasets/classify_seqs/group1.1000/GEO/extr_f2c_blas.c_ssyr2_/: 'shufflevector'\n"
     ]
    },
    {
     "name": "stderr",
     "output_type": "stream",
     "text": [
      "GEO.extr_ccv_icf.c_ccv_icf_detect_objects:  32%|████████████████████████████████████████████▋                                                                                             | 1618/5000 [1:00:18<1:57:47,  2.09s/it]"
     ]
    },
    {
     "name": "stdout",
     "output_type": "stream",
     "text": [
      "Error extracting representation cfgcallcompact1enoroot for /home/nonroot/experiment/datasets/classify_seqs/group1.1000/GEO/extr_f2c_blas.c_ssyr2_/: 'shufflevector'\n"
     ]
    },
    {
     "name": "stderr",
     "output_type": "stream",
     "text": [
      "GEO.extr_x11_window.c_createNativeWindow:  34%|██████████████████████████████████████████████▊                                                                                            | 1685/5000 [1:02:59<2:07:44,  2.31s/it]"
     ]
    },
    {
     "name": "stdout",
     "output_type": "stream",
     "text": [
      "Error extracting representation cfgcompact for /home/nonroot/experiment/datasets/classify_seqs/group1.1000/GEO/extr_x11_window.c_createNativeWindow/: 'shufflevector'\n",
      "Error extracting representation cfgcallcompactnoroot for /home/nonroot/experiment/datasets/classify_seqs/group1.1000/GEO/extr_x11_window.c_createNativeWindow/: 'shufflevector'\n"
     ]
    },
    {
     "name": "stderr",
     "output_type": "stream",
     "text": [
      "GEO.extr_write.c_fixup_segment:  34%|██████████████████████████████████████████████████▏                                                                                                  | 1686/5000 [1:03:01<1:58:24,  2.14s/it]"
     ]
    },
    {
     "name": "stdout",
     "output_type": "stream",
     "text": [
      "Error extracting representation cfgcallcompact1enoroot for /home/nonroot/experiment/datasets/classify_seqs/group1.1000/GEO/extr_x11_window.c_createNativeWindow/: 'shufflevector'\n"
     ]
    },
    {
     "name": "stderr",
     "output_type": "stream",
     "text": [
      "GEO.extr_ui_shared.c_Window_Paint:  34%|█████████████████████████████████████████████████▎                                                                                                | 1688/5000 [1:03:05<2:00:18,  2.18s/it]"
     ]
    },
    {
     "name": "stdout",
     "output_type": "stream",
     "text": [
      "Error extracting representation cfgcompact for /home/nonroot/experiment/datasets/classify_seqs/group1.1000/GEO/extr_ui_shared.c_Window_Paint/: 'shufflevector'\n",
      "Error extracting representation cfgcallcompactnoroot for /home/nonroot/experiment/datasets/classify_seqs/group1.1000/GEO/extr_ui_shared.c_Window_Paint/: 'shufflevector'\n"
     ]
    },
    {
     "name": "stderr",
     "output_type": "stream",
     "text": [
      "GEO.extr_v4l2-ctrls.c_v4l2_ctrl_new:  34%|████████████████████████████████████████████████▋                                                                                               | 1689/5000 [1:03:07<1:53:25,  2.06s/it]"
     ]
    },
    {
     "name": "stdout",
     "output_type": "stream",
     "text": [
      "Error extracting representation cfgcallcompact1enoroot for /home/nonroot/experiment/datasets/classify_seqs/group1.1000/GEO/extr_ui_shared.c_Window_Paint/: 'shufflevector'\n"
     ]
    },
    {
     "name": "stderr",
     "output_type": "stream",
     "text": [
      "GEO.extr_eedi2.c_eedi2_expand_dir_map_2x:  34%|███████████████████████████████████████████████                                                                                            | 1693/5000 [1:03:15<1:53:18,  2.06s/it]"
     ]
    },
    {
     "name": "stdout",
     "output_type": "stream",
     "text": [
      "Error extracting representation cfgcompact for /home/nonroot/experiment/datasets/classify_seqs/group1.1000/GEO/extr_eedi2.c_eedi2_expand_dir_map_2x/: 'shufflevector'\n",
      "Error extracting representation cfgcallcompactnoroot for /home/nonroot/experiment/datasets/classify_seqs/group1.1000/GEO/extr_eedi2.c_eedi2_expand_dir_map_2x/: 'shufflevector'\n"
     ]
    },
    {
     "name": "stderr",
     "output_type": "stream",
     "text": [
      "GEO.extr_isp.c_isp_fclink_test:  34%|██████████████████████████████████████████████████▍                                                                                                  | 1694/5000 [1:03:17<1:48:47,  1.97s/it]"
     ]
    },
    {
     "name": "stdout",
     "output_type": "stream",
     "text": [
      "Error extracting representation cfgcallcompact1enoroot for /home/nonroot/experiment/datasets/classify_seqs/group1.1000/GEO/extr_eedi2.c_eedi2_expand_dir_map_2x/: 'shufflevector'\n"
     ]
    },
    {
     "name": "stderr",
     "output_type": "stream",
     "text": [
      "GEO.extr_zfs_vnops.c_zfs_putpages:  35%|███████████████████████████████████████████████████▋                                                                                              | 1771/5000 [1:06:16<2:01:04,  2.25s/it]"
     ]
    },
    {
     "name": "stdout",
     "output_type": "stream",
     "text": [
      "Error extracting representation cfgcompact for /home/nonroot/experiment/datasets/classify_seqs/group1.1000/GEO/extr_zfs_vnops.c_zfs_putpages/: 'shufflevector'\n",
      "Error extracting representation cfgcallcompactnoroot for /home/nonroot/experiment/datasets/classify_seqs/group1.1000/GEO/extr_zfs_vnops.c_zfs_putpages/: 'shufflevector'\n"
     ]
    },
    {
     "name": "stderr",
     "output_type": "stream",
     "text": [
      "GEO.extr_heapam.c_heap_delete:  35%|█████████████████████████████████████████████████████▏                                                                                                | 1772/5000 [1:06:18<1:54:07,  2.12s/it]"
     ]
    },
    {
     "name": "stdout",
     "output_type": "stream",
     "text": [
      "Error extracting representation cfgcallcompact1enoroot for /home/nonroot/experiment/datasets/classify_seqs/group1.1000/GEO/extr_zfs_vnops.c_zfs_putpages/: 'shufflevector'\n"
     ]
    },
    {
     "name": "stderr",
     "output_type": "stream",
     "text": [
      "GEO.extr_algo_ivtc.c_IVTCOutputOrDropFrame:  36%|████████████████████████████████████████████████▋                                                                                        | 1776/5000 [1:06:27<2:07:30,  2.37s/it]"
     ]
    },
    {
     "name": "stdout",
     "output_type": "stream",
     "text": [
      "Error extracting representation cfgcompact for /home/nonroot/experiment/datasets/classify_seqs/group1.1000/GEO/extr_algo_ivtc.c_IVTCOutputOrDropFrame/: 'shufflevector'\n",
      "Error extracting representation cfgcallcompactnoroot for /home/nonroot/experiment/datasets/classify_seqs/group1.1000/GEO/extr_algo_ivtc.c_IVTCOutputOrDropFrame/: 'shufflevector'\n"
     ]
    },
    {
     "name": "stderr",
     "output_type": "stream",
     "text": [
      "GEO.extr_icn.c_icn_parse_status:  36%|████████████████████████████████████████████████████▌                                                                                               | 1777/5000 [1:06:29<1:57:02,  2.18s/it]"
     ]
    },
    {
     "name": "stdout",
     "output_type": "stream",
     "text": [
      "Error extracting representation cfgcallcompact1enoroot for /home/nonroot/experiment/datasets/classify_seqs/group1.1000/GEO/extr_algo_ivtc.c_IVTCOutputOrDropFrame/: 'shufflevector'\n"
     ]
    },
    {
     "name": "stderr",
     "output_type": "stream",
     "text": [
      "GEO.extr_net-udp.c_udp_writer:  36%|█████████████████████████████████████████████████████▉                                                                                                | 1799/5000 [1:07:19<2:00:33,  2.26s/it]"
     ]
    },
    {
     "name": "stdout",
     "output_type": "stream",
     "text": [
      "Error extracting representation cfgcompact for /home/nonroot/experiment/datasets/classify_seqs/group1.1000/GEO/extr_net-udp.c_udp_writer/: 'shufflevector'\n",
      "Error extracting representation cfgcallcompactnoroot for /home/nonroot/experiment/datasets/classify_seqs/group1.1000/GEO/extr_net-udp.c_udp_writer/: 'shufflevector'\n"
     ]
    },
    {
     "name": "stderr",
     "output_type": "stream",
     "text": [
      "GEO.extr_xfs_dir2_data.c_xfs_dir2_data_use_free:  36%|███████████████████████████████████████████████▌                                                                                    | 1800/5000 [1:07:21<1:51:51,  2.10s/it]"
     ]
    },
    {
     "name": "stdout",
     "output_type": "stream",
     "text": [
      "Error extracting representation cfgcallcompact1enoroot for /home/nonroot/experiment/datasets/classify_seqs/group1.1000/GEO/extr_net-udp.c_udp_writer/: 'shufflevector'\n"
     ]
    },
    {
     "name": "stderr",
     "output_type": "stream",
     "text": [
      "GEO.extr_osm_sa.c_osm_sa_db_file_load:  37%|███████████████████████████████████████████████████▉                                                                                          | 1828/5000 [1:08:26<1:33:29,  1.77s/it]/home/nonroot/experiment/datasets/classify_seqs/group1.1000/GEO/extr_osm_sa.c_osm_sa_db_file_load//a.out_o.bc: /home/nonroot/experiment/datasets/classify_seqs/group1.1000/GEO/extr_osm_sa.c_osm_sa_db_file_load//a.out_o.bc: error: Could not open input file: No such file or directory\n",
      "GEO.extr_nf_conntrack_proto_tcp.c_tcp_packet:  37%|█████████████████████████████████████████████████▎                                                                                     | 1828/5000 [1:08:26<1:33:29,  1.77s/it]"
     ]
    },
    {
     "name": "stdout",
     "output_type": "stream",
     "text": [
      "Error extracting IR from /home/nonroot/experiment/datasets/classify_seqs/group1.1000/GEO/extr_osm_sa.c_osm_sa_db_file_load//a.out_o.bc: Failed parse IR file\n"
     ]
    },
    {
     "name": "stderr",
     "output_type": "stream",
     "text": [
      "GEO.extr_drivermc.c_main:  37%|████████████████████████████████████████████████████████▋                                                                                                  | 1830/5000 [1:08:30<1:45:05,  1.99s/it]/home/nonroot/experiment/datasets/classify_seqs/group1.1000/GEO/extr_drivermc.c_main//a.out_o.bc: /home/nonroot/experiment/datasets/classify_seqs/group1.1000/GEO/extr_drivermc.c_main//a.out_o.bc: error: Could not open input file: No such file or directory\n",
      "GEO.extr_HalBtc8723b1Ant.c_EXhalbtc8723b1ant_DisplayCoexInfo:  37%|███████████████████████████████████████████▌                                                                           | 1831/5000 [1:08:31<1:20:39,  1.53s/it]"
     ]
    },
    {
     "name": "stdout",
     "output_type": "stream",
     "text": [
      "Error extracting IR from /home/nonroot/experiment/datasets/classify_seqs/group1.1000/GEO/extr_drivermc.c_main//a.out_o.bc: Failed parse IR file\n"
     ]
    },
    {
     "name": "stderr",
     "output_type": "stream",
     "text": [
      "GEO.extr_tree-vrp.c_extract_range_from_binary_expr:  37%|███████████████████████████████████████████████▊                                                                                 | 1851/5000 [1:09:16<2:03:24,  2.35s/it]"
     ]
    },
    {
     "name": "stdout",
     "output_type": "stream",
     "text": [
      "Error extracting representation cfgcompact for /home/nonroot/experiment/datasets/classify_seqs/group1.1000/GEO/extr_tree-vrp.c_extract_range_from_binary_expr/: 'shufflevector'\n",
      "Error extracting representation cfgcallcompactnoroot for /home/nonroot/experiment/datasets/classify_seqs/group1.1000/GEO/extr_tree-vrp.c_extract_range_from_binary_expr/: 'shufflevector'\n"
     ]
    },
    {
     "name": "stderr",
     "output_type": "stream",
     "text": [
      "GEO.extr_archive_string.c_archive_string_normalize_C:  37%|███████████████████████████████████████████████                                                                                | 1852/5000 [1:09:19<1:59:01,  2.27s/it]"
     ]
    },
    {
     "name": "stdout",
     "output_type": "stream",
     "text": [
      "Error extracting representation cfgcallcompact1enoroot for /home/nonroot/experiment/datasets/classify_seqs/group1.1000/GEO/extr_tree-vrp.c_extract_range_from_binary_expr/: 'shufflevector'\n"
     ]
    },
    {
     "name": "stderr",
     "output_type": "stream",
     "text": [
      "GEO.extr_drawpix.c_draw_index_pixels:  37%|█████████████████████████████████████████████████████▎                                                                                         | 1863/5000 [1:09:47<2:02:37,  2.35s/it]"
     ]
    },
    {
     "name": "stdout",
     "output_type": "stream",
     "text": [
      "Error extracting representation cfgcompact for /home/nonroot/experiment/datasets/classify_seqs/group1.1000/GEO/extr_drawpix.c_draw_index_pixels/: 'shufflevector'\n",
      "Error extracting representation cfgcallcompactnoroot for /home/nonroot/experiment/datasets/classify_seqs/group1.1000/GEO/extr_drawpix.c_draw_index_pixels/: 'shufflevector'\n"
     ]
    },
    {
     "name": "stderr",
     "output_type": "stream",
     "text": [
      "GEO.extr_hprw.c_zfIdlRsp:  37%|█████████████████████████████████████████████████████████▊                                                                                                 | 1864/5000 [1:09:49<2:01:46,  2.33s/it]"
     ]
    },
    {
     "name": "stdout",
     "output_type": "stream",
     "text": [
      "Error extracting representation cfgcallcompact1enoroot for /home/nonroot/experiment/datasets/classify_seqs/group1.1000/GEO/extr_drawpix.c_draw_index_pixels/: 'shufflevector'\n"
     ]
    },
    {
     "name": "stderr",
     "output_type": "stream",
     "text": [
      "GEO.extr_hns_roce_hw_v2.c_hns_roce_v2_post_send:  38%|██████████████████████████████████████████████████                                                                                  | 1897/5000 [1:11:07<1:57:00,  2.26s/it]"
     ]
    },
    {
     "name": "stdout",
     "output_type": "stream",
     "text": [
      "Error extracting representation cfgcompact for /home/nonroot/experiment/datasets/classify_seqs/group1.1000/GEO/extr_hns_roce_hw_v2.c_hns_roce_v2_post_send/: 'shufflevector'\n",
      "Error extracting representation cfgcallcompactnoroot for /home/nonroot/experiment/datasets/classify_seqs/group1.1000/GEO/extr_hns_roce_hw_v2.c_hns_roce_v2_post_send/: 'shufflevector'\n"
     ]
    },
    {
     "name": "stderr",
     "output_type": "stream",
     "text": [
      "GEO.extr_r600_dpm.c_r600_parse_extended_power_table:  38%|████████████████████████████████████████████████▌                                                                               | 1898/5000 [1:11:09<1:52:04,  2.17s/it]"
     ]
    },
    {
     "name": "stdout",
     "output_type": "stream",
     "text": [
      "Error extracting representation cfgcallcompact1enoroot for /home/nonroot/experiment/datasets/classify_seqs/group1.1000/GEO/extr_hns_roce_hw_v2.c_hns_roce_v2_post_send/: 'shufflevector'\n"
     ]
    },
    {
     "name": "stderr",
     "output_type": "stream",
     "text": [
      "GEO.extr_moused.c_pnpparse:  38%|██████████████████████████████████████████████████████████▎                                                                                              | 1904/5000 [1:11:23<1:57:22,  2.27s/it]"
     ]
    },
    {
     "name": "stdout",
     "output_type": "stream",
     "text": [
      "Error extracting representation cfgcompact for /home/nonroot/experiment/datasets/classify_seqs/group1.1000/GEO/extr_moused.c_pnpparse/: 'shufflevector'\n",
      "Error extracting representation cfgcallcompactnoroot for /home/nonroot/experiment/datasets/classify_seqs/group1.1000/GEO/extr_moused.c_pnpparse/: 'shufflevector'\n"
     ]
    },
    {
     "name": "stderr",
     "output_type": "stream",
     "text": [
      "GEO.extr_arkfb.c_arkfb_set_par:  38%|████████████████████████████████████████████████████████▊                                                                                            | 1905/5000 [1:11:25<1:52:01,  2.17s/it]"
     ]
    },
    {
     "name": "stdout",
     "output_type": "stream",
     "text": [
      "Error extracting representation cfgcallcompact1enoroot for /home/nonroot/experiment/datasets/classify_seqs/group1.1000/GEO/extr_moused.c_pnpparse/: 'shufflevector'\n"
     ]
    },
    {
     "name": "stderr",
     "output_type": "stream",
     "text": [
      "GEO.extr_kwset.c_kwsprep:  39%|████████████████████████████████████████████████████████████▍                                                                                              | 1949/5000 [1:13:11<1:56:29,  2.29s/it]"
     ]
    },
    {
     "name": "stdout",
     "output_type": "stream",
     "text": [
      "Error extracting representation cfgcompact for /home/nonroot/experiment/datasets/classify_seqs/group1.1000/GEO/extr_kwset.c_kwsprep/: 'shufflevector'\n",
      "Error extracting representation cfgcallcompactnoroot for /home/nonroot/experiment/datasets/classify_seqs/group1.1000/GEO/extr_kwset.c_kwsprep/: 'shufflevector'\n"
     ]
    },
    {
     "name": "stderr",
     "output_type": "stream",
     "text": [
      "GEO.extr_if_urtw.c_urtw_8225v2b_rf_init:  39%|██████████████████████████████████████████████████████▌                                                                                     | 1950/5000 [1:13:13<1:49:37,  2.16s/it]"
     ]
    },
    {
     "name": "stdout",
     "output_type": "stream",
     "text": [
      "Error extracting representation cfgcallcompact1enoroot for /home/nonroot/experiment/datasets/classify_seqs/group1.1000/GEO/extr_kwset.c_kwsprep/: 'shufflevector'\n"
     ]
    },
    {
     "name": "stderr",
     "output_type": "stream",
     "text": [
      "CAP.extr_opus_silk.c_silk_decode_lpc:  41%|██████████████████████████████████████████████████████████▌                                                                                    | 2049/5000 [1:16:57<1:42:03,  2.07s/it]"
     ]
    },
    {
     "name": "stdout",
     "output_type": "stream",
     "text": [
      "Error extracting representation cfgcompact for /home/nonroot/experiment/datasets/classify_seqs/group1.1000/CAP/extr_opus_silk.c_silk_decode_lpc/: 'shufflevector'\n",
      "Error extracting representation cfgcallcompactnoroot for /home/nonroot/experiment/datasets/classify_seqs/group1.1000/CAP/extr_opus_silk.c_silk_decode_lpc/: 'shufflevector'\n"
     ]
    },
    {
     "name": "stderr",
     "output_type": "stream",
     "text": [
      "CAP.extr_wt-status.c_wt_longstatus_print:  41%|████████████████████████████████████████████████████████▉                                                                                  | 2050/5000 [1:16:59<1:36:59,  1.97s/it]"
     ]
    },
    {
     "name": "stdout",
     "output_type": "stream",
     "text": [
      "Error extracting representation cfgcallcompact1enoroot for /home/nonroot/experiment/datasets/classify_seqs/group1.1000/CAP/extr_opus_silk.c_silk_decode_lpc/: 'shufflevector'\n"
     ]
    },
    {
     "name": "stderr",
     "output_type": "stream",
     "text": [
      "CAP.extr_qlnxr_cm.c_qlnxr_gsi_build_header:  42%|████████████████████████████████████████████████████████▉                                                                                | 2079/5000 [1:18:03<1:49:33,  2.25s/it]"
     ]
    },
    {
     "name": "stdout",
     "output_type": "stream",
     "text": [
      "Error extracting representation cfgcompact for /home/nonroot/experiment/datasets/classify_seqs/group1.1000/CAP/extr_qlnxr_cm.c_qlnxr_gsi_build_header/: 'shufflevector'\n",
      "Error extracting representation cfgcallcompactnoroot for /home/nonroot/experiment/datasets/classify_seqs/group1.1000/CAP/extr_qlnxr_cm.c_qlnxr_gsi_build_header/: 'shufflevector'\n"
     ]
    },
    {
     "name": "stderr",
     "output_type": "stream",
     "text": [
      "CAP.extr_ngx_http_upstream.c_ngx_http_upstream_process_non_buffered_request:  42%|███████████████████████████████████████████▎                                                            | 2080/5000 [1:18:05<1:41:18,  2.08s/it]"
     ]
    },
    {
     "name": "stdout",
     "output_type": "stream",
     "text": [
      "Error extracting representation cfgcallcompact1enoroot for /home/nonroot/experiment/datasets/classify_seqs/group1.1000/CAP/extr_qlnxr_cm.c_qlnxr_gsi_build_header/: 'shufflevector'\n"
     ]
    },
    {
     "name": "stderr",
     "output_type": "stream",
     "text": [
      "CAP.extr_dct.c_idct248_ref:  42%|███████████████████████████████████████████████████████████████▊                                                                                         | 2086/5000 [1:18:17<1:40:00,  2.06s/it]"
     ]
    },
    {
     "name": "stdout",
     "output_type": "stream",
     "text": [
      "Error extracting representation cfgcompact for /home/nonroot/experiment/datasets/classify_seqs/group1.1000/CAP/extr_dct.c_idct248_ref/: 'shufflevector'\n",
      "Error extracting representation cfgcallcompactnoroot for /home/nonroot/experiment/datasets/classify_seqs/group1.1000/CAP/extr_dct.c_idct248_ref/: 'shufflevector'\n"
     ]
    },
    {
     "name": "stderr",
     "output_type": "stream",
     "text": [
      "CAP.extr_extcon-arizona.c_arizona_hpdet_read:  42%|████████████████████████████████████████████████████████▎                                                                              | 2087/5000 [1:18:19<1:37:43,  2.01s/it]"
     ]
    },
    {
     "name": "stdout",
     "output_type": "stream",
     "text": [
      "Error extracting representation cfgcallcompact1enoroot for /home/nonroot/experiment/datasets/classify_seqs/group1.1000/CAP/extr_dct.c_idct248_ref/: 'shufflevector'\n"
     ]
    },
    {
     "name": "stderr",
     "output_type": "stream",
     "text": [
      "CAP.extr_wmavoice.c_calc_input_response:  42%|███████████████████████████████████████████████████████████▎                                                                                | 2117/5000 [1:19:23<1:40:12,  2.09s/it]"
     ]
    },
    {
     "name": "stdout",
     "output_type": "stream",
     "text": [
      "Error extracting representation cfgcompact for /home/nonroot/experiment/datasets/classify_seqs/group1.1000/CAP/extr_wmavoice.c_calc_input_response/: 'shufflevector'\n",
      "Error extracting representation cfgcallcompactnoroot for /home/nonroot/experiment/datasets/classify_seqs/group1.1000/CAP/extr_wmavoice.c_calc_input_response/: 'shufflevector'\n"
     ]
    },
    {
     "name": "stderr",
     "output_type": "stream",
     "text": [
      "CAP.extr_draw-edgebuffer.c_mark_line:  42%|████████████████████████████████████████████████████████████▌                                                                                  | 2118/5000 [1:19:25<1:34:08,  1.96s/it]"
     ]
    },
    {
     "name": "stdout",
     "output_type": "stream",
     "text": [
      "Error extracting representation cfgcallcompact1enoroot for /home/nonroot/experiment/datasets/classify_seqs/group1.1000/CAP/extr_wmavoice.c_calc_input_response/: 'shufflevector'\n"
     ]
    },
    {
     "name": "stderr",
     "output_type": "stream",
     "text": [
      "CAP.extr_archive_write_set_format_gnutar.c_archive_format_gnutar_header:  42%|█████████████████████████████████████████████▉                                                              | 2125/5000 [1:19:39<1:37:45,  2.04s/it]"
     ]
    },
    {
     "name": "stdout",
     "output_type": "stream",
     "text": [
      "Error extracting representation cfgcompact for /home/nonroot/experiment/datasets/classify_seqs/group1.1000/CAP/extr_archive_write_set_format_gnutar.c_archive_format_gnutar_header/: 'shufflevector'\n",
      "Error extracting representation cfgcallcompactnoroot for /home/nonroot/experiment/datasets/classify_seqs/group1.1000/CAP/extr_archive_write_set_format_gnutar.c_archive_format_gnutar_header/: 'shufflevector'\n"
     ]
    },
    {
     "name": "stderr",
     "output_type": "stream",
     "text": [
      "CAP.extr_cxd2820r_c.c_cxd2820r_read_status_c:  43%|█████████████████████████████████████████████████████████▍                                                                             | 2126/5000 [1:19:41<1:32:23,  1.93s/it]"
     ]
    },
    {
     "name": "stdout",
     "output_type": "stream",
     "text": [
      "Error extracting representation cfgcallcompact1enoroot for /home/nonroot/experiment/datasets/classify_seqs/group1.1000/CAP/extr_archive_write_set_format_gnutar.c_archive_format_gnutar_header/: 'shufflevector'\n"
     ]
    },
    {
     "name": "stderr",
     "output_type": "stream",
     "text": [
      "CAP.extr_dm.c_dm_txpower_track_cb_therm:  43%|███████████████████████████████████████████████████████████▉                                                                                | 2140/5000 [1:20:12<1:48:10,  2.27s/it]"
     ]
    },
    {
     "name": "stdout",
     "output_type": "stream",
     "text": [
      "Error extracting representation cfgcompact for /home/nonroot/experiment/datasets/classify_seqs/group1.1000/CAP/extr_dm.c_dm_txpower_track_cb_therm/: 'shufflevector'\n",
      "Error extracting representation cfgcallcompactnoroot for /home/nonroot/experiment/datasets/classify_seqs/group1.1000/CAP/extr_dm.c_dm_txpower_track_cb_therm/: 'shufflevector'\n"
     ]
    },
    {
     "name": "stderr",
     "output_type": "stream",
     "text": [
      "CAP.extr_light_ydnar.c_SetupEnvelopes:  43%|████████████████████████████████████████████████████████████▊                                                                                 | 2141/5000 [1:20:14<1:41:50,  2.14s/it]"
     ]
    },
    {
     "name": "stdout",
     "output_type": "stream",
     "text": [
      "Error extracting representation cfgcallcompact1enoroot for /home/nonroot/experiment/datasets/classify_seqs/group1.1000/CAP/extr_dm.c_dm_txpower_track_cb_therm/: 'shufflevector'\n"
     ]
    },
    {
     "name": "stderr",
     "output_type": "stream",
     "text": [
      "CAP.extr_menu.c_menu_init_base:  43%|████████████████████████████████████████████████████████████████▊                                                                                    | 2173/5000 [1:21:22<1:26:14,  1.83s/it]/home/nonroot/experiment/datasets/classify_seqs/group1.1000/CAP/extr_menu.c_menu_init_base//a.out_o.bc: /home/nonroot/experiment/datasets/classify_seqs/group1.1000/CAP/extr_menu.c_menu_init_base//a.out_o.bc: error: Could not open input file: No such file or directory\n",
      "CAP.extr_cs4281.c_cs4281_init:  43%|█████████████████████████████████████████████████████████████████▏                                                                                    | 2173/5000 [1:21:22<1:26:14,  1.83s/it]"
     ]
    },
    {
     "name": "stdout",
     "output_type": "stream",
     "text": [
      "Error extracting IR from /home/nonroot/experiment/datasets/classify_seqs/group1.1000/CAP/extr_menu.c_menu_init_base//a.out_o.bc: Failed parse IR file\n"
     ]
    },
    {
     "name": "stderr",
     "output_type": "stream",
     "text": [
      "CAP.extr_ad714x.c_ad714x_probe:  44%|████████████████████████████████████████████████████████████████▉                                                                                    | 2179/5000 [1:21:33<1:34:22,  2.01s/it]"
     ]
    },
    {
     "name": "stdout",
     "output_type": "stream",
     "text": [
      "Error extracting representation cfgcompact for /home/nonroot/experiment/datasets/classify_seqs/group1.1000/CAP/extr_ad714x.c_ad714x_probe/: 'shufflevector'\n",
      "Error extracting representation cfgcallcompactnoroot for /home/nonroot/experiment/datasets/classify_seqs/group1.1000/CAP/extr_ad714x.c_ad714x_probe/: 'shufflevector'\n"
     ]
    },
    {
     "name": "stderr",
     "output_type": "stream",
     "text": [
      "CAP.extr_trace.c_tracing_buffers_splice_read:  44%|██████████████████████████████████████████████████████████▊                                                                            | 2180/5000 [1:21:35<1:30:08,  1.92s/it]"
     ]
    },
    {
     "name": "stdout",
     "output_type": "stream",
     "text": [
      "Error extracting representation cfgcallcompact1enoroot for /home/nonroot/experiment/datasets/classify_seqs/group1.1000/CAP/extr_ad714x.c_ad714x_probe/: 'shufflevector'\n"
     ]
    },
    {
     "name": "stderr",
     "output_type": "stream",
     "text": [
      "CAP.extr_audio_mix_matrix.c_avresample_build_matrix:  44%|████████████████████████████████████████████████████████                                                                        | 2189/5000 [1:21:56<1:48:22,  2.31s/it]"
     ]
    },
    {
     "name": "stdout",
     "output_type": "stream",
     "text": [
      "Error extracting representation cfgcompact for /home/nonroot/experiment/datasets/classify_seqs/group1.1000/CAP/extr_audio_mix_matrix.c_avresample_build_matrix/: 'shufflevector'\n",
      "Error extracting representation cfgcallcompactnoroot for /home/nonroot/experiment/datasets/classify_seqs/group1.1000/CAP/extr_audio_mix_matrix.c_avresample_build_matrix/: 'shufflevector'\n"
     ]
    },
    {
     "name": "stderr",
     "output_type": "stream",
     "text": [
      "CAP.extr_mpegaudiodsp_template.c_imdct36:  44%|████████████████████████████████████████████████████████████▉                                                                              | 2190/5000 [1:21:58<1:44:29,  2.23s/it]"
     ]
    },
    {
     "name": "stdout",
     "output_type": "stream",
     "text": [
      "Error extracting representation cfgcallcompact1enoroot for /home/nonroot/experiment/datasets/classify_seqs/group1.1000/CAP/extr_audio_mix_matrix.c_avresample_build_matrix/: 'shufflevector'\n"
     ]
    },
    {
     "name": "stderr",
     "output_type": "stream",
     "text": [
      "CAP.extr_lodepng.c_filter:  44%|███████████████████████████████████████████████████████████████████▉                                                                                      | 2204/5000 [1:22:28<1:42:19,  2.20s/it]"
     ]
    },
    {
     "name": "stdout",
     "output_type": "stream",
     "text": [
      "Error extracting representation cfgcompact for /home/nonroot/experiment/datasets/classify_seqs/group1.1000/CAP/extr_lodepng.c_filter/: 'shufflevector'\n",
      "Error extracting representation cfgcallcompactnoroot for /home/nonroot/experiment/datasets/classify_seqs/group1.1000/CAP/extr_lodepng.c_filter/: 'shufflevector'\n"
     ]
    },
    {
     "name": "stderr",
     "output_type": "stream",
     "text": [
      "CAP.extr_m68kopdm.c_m68k_op_divl_32_pcdi:  44%|█████████████████████████████████████████████████████████████▎                                                                             | 2205/5000 [1:22:30<1:40:50,  2.16s/it]"
     ]
    },
    {
     "name": "stdout",
     "output_type": "stream",
     "text": [
      "Error extracting representation cfgcallcompact1enoroot for /home/nonroot/experiment/datasets/classify_seqs/group1.1000/CAP/extr_lodepng.c_filter/: 'shufflevector'\n"
     ]
    },
    {
     "name": "stderr",
     "output_type": "stream",
     "text": [
      "CAP.extr_se401.c_sd_config:  44%|███████████████████████████████████████████████████████████████████▉                                                                                     | 2220/5000 [1:23:02<1:37:34,  2.11s/it]"
     ]
    },
    {
     "name": "stdout",
     "output_type": "stream",
     "text": [
      "Error extracting representation cfgcompact for /home/nonroot/experiment/datasets/classify_seqs/group1.1000/CAP/extr_se401.c_sd_config/: 'shufflevector'\n",
      "Error extracting representation cfgcallcompactnoroot for /home/nonroot/experiment/datasets/classify_seqs/group1.1000/CAP/extr_se401.c_sd_config/: 'shufflevector'\n"
     ]
    },
    {
     "name": "stderr",
     "output_type": "stream",
     "text": [
      "CAP.extr_encx264.c_hb_x264_global_init:  44%|██████████████████████████████████████████████████████████████▋                                                                              | 2221/5000 [1:23:03<1:32:43,  2.00s/it]"
     ]
    },
    {
     "name": "stdout",
     "output_type": "stream",
     "text": [
      "Error extracting representation cfgcallcompact1enoroot for /home/nonroot/experiment/datasets/classify_seqs/group1.1000/CAP/extr_se401.c_sd_config/: 'shufflevector'\n"
     ]
    },
    {
     "name": "stderr",
     "output_type": "stream",
     "text": [
      "CAP.extr_test_write_format_iso9660_zisofs.c_test_write_format_iso9660_zisofs_2:  45%|█████████████████████████████████████████████▌                                                       | 2255/5000 [1:24:14<1:35:11,  2.08s/it]"
     ]
    },
    {
     "name": "stdout",
     "output_type": "stream",
     "text": [
      "Error extracting representation cfgcompact for /home/nonroot/experiment/datasets/classify_seqs/group1.1000/CAP/extr_test_write_format_iso9660_zisofs.c_test_write_format_iso9660_zisofs_2/: 'shufflevector'\n",
      "Error extracting representation cfgcallcompactnoroot for /home/nonroot/experiment/datasets/classify_seqs/group1.1000/CAP/extr_test_write_format_iso9660_zisofs.c_test_write_format_iso9660_zisofs_2/: 'shufflevector'\n"
     ]
    },
    {
     "name": "stderr",
     "output_type": "stream",
     "text": [
      "CAP.extr_sbcdec.c_sbc_synthesize_eight:  45%|███████████████████████████████████████████████████████████████▌                                                                             | 2256/5000 [1:24:16<1:29:54,  1.97s/it]"
     ]
    },
    {
     "name": "stdout",
     "output_type": "stream",
     "text": [
      "Error extracting representation cfgcallcompact1enoroot for /home/nonroot/experiment/datasets/classify_seqs/group1.1000/CAP/extr_test_write_format_iso9660_zisofs.c_test_write_format_iso9660_zisofs_2/: 'shufflevector'\n"
     ]
    },
    {
     "name": "stderr",
     "output_type": "stream",
     "text": [
      "CAP.extr_idcin.c_idcin_read_packet:  45%|█████████████████████████████████████████████████████████████████▉                                                                               | 2272/5000 [1:24:50<1:32:55,  2.04s/it]"
     ]
    },
    {
     "name": "stdout",
     "output_type": "stream",
     "text": [
      "Error extracting representation cfgcompact for /home/nonroot/experiment/datasets/classify_seqs/group1.1000/CAP/extr_idcin.c_idcin_read_packet/: 'shufflevector'\n",
      "Error extracting representation cfgcallcompactnoroot for /home/nonroot/experiment/datasets/classify_seqs/group1.1000/CAP/extr_idcin.c_idcin_read_packet/: 'shufflevector'\n"
     ]
    },
    {
     "name": "stderr",
     "output_type": "stream",
     "text": [
      "CAP.extr_tarith.c_validation_gamma:  45%|█████████████████████████████████████████████████████████████████▉                                                                               | 2273/5000 [1:24:52<1:28:31,  1.95s/it]"
     ]
    },
    {
     "name": "stdout",
     "output_type": "stream",
     "text": [
      "Error extracting representation cfgcallcompact1enoroot for /home/nonroot/experiment/datasets/classify_seqs/group1.1000/CAP/extr_idcin.c_idcin_read_packet/: 'shufflevector'\n"
     ]
    },
    {
     "name": "stderr",
     "output_type": "stream",
     "text": [
      "CAP.extr_phy.c_rtl8723be_phy_iq_calibrate:  47%|████████████████████████████████████████████████████████████████▋                                                                         | 2344/5000 [1:27:29<1:34:23,  2.13s/it]"
     ]
    },
    {
     "name": "stdout",
     "output_type": "stream",
     "text": [
      "Error extracting representation cfgcompact for /home/nonroot/experiment/datasets/classify_seqs/group1.1000/CAP/extr_phy.c_rtl8723be_phy_iq_calibrate/: 'shufflevector'\n",
      "Error extracting representation cfgcallcompactnoroot for /home/nonroot/experiment/datasets/classify_seqs/group1.1000/CAP/extr_phy.c_rtl8723be_phy_iq_calibrate/: 'shufflevector'\n"
     ]
    },
    {
     "name": "stderr",
     "output_type": "stream",
     "text": [
      "CAP.extr_tau32-ddk.c_c0gFy1:  47%|███████████████████████████████████████████████████████████████████████▎                                                                                | 2345/5000 [1:27:31<1:28:31,  2.00s/it]"
     ]
    },
    {
     "name": "stdout",
     "output_type": "stream",
     "text": [
      "Error extracting representation cfgcallcompact1enoroot for /home/nonroot/experiment/datasets/classify_seqs/group1.1000/CAP/extr_phy.c_rtl8723be_phy_iq_calibrate/: 'shufflevector'\n"
     ]
    },
    {
     "name": "stderr",
     "output_type": "stream",
     "text": [
      "CAP.extr_eventvwr.c_LoadSettings:  48%|██████████████████████████████████████████████████████████████████████                                                                             | 2385/5000 [1:28:58<1:35:40,  2.20s/it]"
     ]
    },
    {
     "name": "stdout",
     "output_type": "stream",
     "text": [
      "Error extracting representation cfgcompact for /home/nonroot/experiment/datasets/classify_seqs/group1.1000/CAP/extr_eventvwr.c_LoadSettings/: 'shufflevector'\n",
      "Error extracting representation cfgcallcompactnoroot for /home/nonroot/experiment/datasets/classify_seqs/group1.1000/CAP/extr_eventvwr.c_LoadSettings/: 'shufflevector'\n"
     ]
    },
    {
     "name": "stderr",
     "output_type": "stream",
     "text": [
      "CAP.extr_test_write_disk_sparse.c_verify_write_data_block:  48%|██████████████████████████████████████████████████████████▏                                                               | 2386/5000 [1:29:00<1:29:38,  2.06s/it]"
     ]
    },
    {
     "name": "stdout",
     "output_type": "stream",
     "text": [
      "Error extracting representation cfgcallcompact1enoroot for /home/nonroot/experiment/datasets/classify_seqs/group1.1000/CAP/extr_eventvwr.c_LoadSettings/: 'shufflevector'\n"
     ]
    },
    {
     "name": "stderr",
     "output_type": "stream",
     "text": [
      "CAP.extr_fic.c_fic_draw_cursor:  49%|████████████████████████████████████████████████████████████████████████▍                                                                            | 2430/5000 [1:30:36<1:28:51,  2.07s/it]"
     ]
    },
    {
     "name": "stdout",
     "output_type": "stream",
     "text": [
      "Error extracting representation cfgcompact for /home/nonroot/experiment/datasets/classify_seqs/group1.1000/CAP/extr_fic.c_fic_draw_cursor/: 'shufflevector'\n",
      "Error extracting representation cfgcallcompactnoroot for /home/nonroot/experiment/datasets/classify_seqs/group1.1000/CAP/extr_fic.c_fic_draw_cursor/: 'shufflevector'\n"
     ]
    },
    {
     "name": "stderr",
     "output_type": "stream",
     "text": [
      "CAP.extr_cpddk.c_cp_init:  49%|███████████████████████████████████████████████████████████████████████████▎                                                                               | 2431/5000 [1:30:38<1:23:40,  1.95s/it]"
     ]
    },
    {
     "name": "stdout",
     "output_type": "stream",
     "text": [
      "Error extracting representation cfgcallcompact1enoroot for /home/nonroot/experiment/datasets/classify_seqs/group1.1000/CAP/extr_fic.c_fic_draw_cursor/: 'shufflevector'\n"
     ]
    },
    {
     "name": "stderr",
     "output_type": "stream",
     "text": [
      "CAP.extr_freebsd_sysctl.c_do_net_inet_icmp_stats:  49%|████████████████████████████████████████████████████████████████                                                                   | 2443/5000 [1:31:03<1:28:43,  2.08s/it]"
     ]
    },
    {
     "name": "stdout",
     "output_type": "stream",
     "text": [
      "Error extracting representation cfgcompact for /home/nonroot/experiment/datasets/classify_seqs/group1.1000/CAP/extr_freebsd_sysctl.c_do_net_inet_icmp_stats/: 'shufflevector'\n",
      "Error extracting representation cfgcallcompactnoroot for /home/nonroot/experiment/datasets/classify_seqs/group1.1000/CAP/extr_freebsd_sysctl.c_do_net_inet_icmp_stats/: 'shufflevector'\n"
     ]
    },
    {
     "name": "stderr",
     "output_type": "stream",
     "text": [
      "CAP.extr_des.c_desfunc:  49%|████████████████████████████████████████████████████████████████████████████▋                                                                                | 2444/5000 [1:31:04<1:23:49,  1.97s/it]"
     ]
    },
    {
     "name": "stdout",
     "output_type": "stream",
     "text": [
      "Error extracting representation cfgcallcompact1enoroot for /home/nonroot/experiment/datasets/classify_seqs/group1.1000/CAP/extr_freebsd_sysctl.c_do_net_inet_icmp_stats/: 'shufflevector'\n"
     ]
    },
    {
     "name": "stderr",
     "output_type": "stream",
     "text": [
      "CAP.extr_rtl871x_security.c_aes_cipher:  49%|█████████████████████████████████████████████████████████████████████                                                                        | 2448/5000 [1:31:13<1:26:00,  2.02s/it]"
     ]
    },
    {
     "name": "stdout",
     "output_type": "stream",
     "text": [
      "Error extracting representation cfgcompact for /home/nonroot/experiment/datasets/classify_seqs/group1.1000/CAP/extr_rtl871x_security.c_aes_cipher/: 'shufflevector'\n",
      "Error extracting representation cfgcallcompactnoroot for /home/nonroot/experiment/datasets/classify_seqs/group1.1000/CAP/extr_rtl871x_security.c_aes_cipher/: 'shufflevector'\n"
     ]
    },
    {
     "name": "stderr",
     "output_type": "stream",
     "text": [
      "CAP.extr_hns_dsaf_xgmac.c_hns_xgmac_get_regs:  49%|██████████████████████████████████████████████████████████████████                                                                     | 2449/5000 [1:31:14<1:21:59,  1.93s/it]"
     ]
    },
    {
     "name": "stdout",
     "output_type": "stream",
     "text": [
      "Error extracting representation cfgcallcompact1enoroot for /home/nonroot/experiment/datasets/classify_seqs/group1.1000/CAP/extr_rtl871x_security.c_aes_cipher/: 'shufflevector'\n"
     ]
    },
    {
     "name": "stderr",
     "output_type": "stream",
     "text": [
      "CAP.extr_merge-file.c_cmd_merge_file:  49%|██████████████████████████████████████████████████████████████████████▎                                                                        | 2457/5000 [1:31:30<1:21:59,  1.93s/it]"
     ]
    },
    {
     "name": "stdout",
     "output_type": "stream",
     "text": [
      "Error extracting representation cfgcompact for /home/nonroot/experiment/datasets/classify_seqs/group1.1000/CAP/extr_merge-file.c_cmd_merge_file/: 'shufflevector'\n",
      "Error extracting representation cfgcallcompactnoroot for /home/nonroot/experiment/datasets/classify_seqs/group1.1000/CAP/extr_merge-file.c_cmd_merge_file/: 'shufflevector'\n"
     ]
    },
    {
     "name": "stderr",
     "output_type": "stream",
     "text": [
      "CAP.extr_phy_n.c_b43_nphy_rev2_rssi_cal:  49%|████████████████████████████████████████████████████████████████████▊                                                                       | 2458/5000 [1:31:32<1:19:50,  1.88s/it]"
     ]
    },
    {
     "name": "stdout",
     "output_type": "stream",
     "text": [
      "Error extracting representation cfgcallcompact1enoroot for /home/nonroot/experiment/datasets/classify_seqs/group1.1000/CAP/extr_merge-file.c_cmd_merge_file/: 'shufflevector'\n",
      "Error extracting representation cfgcompact for /home/nonroot/experiment/datasets/classify_seqs/group1.1000/CAP/extr_phy_n.c_b43_nphy_rev2_rssi_cal/: 'shufflevector'\n",
      "Error extracting representation cfgcallcompactnoroot for /home/nonroot/experiment/datasets/classify_seqs/group1.1000/CAP/extr_phy_n.c_b43_nphy_rev2_rssi_cal/: 'shufflevector'\n"
     ]
    },
    {
     "name": "stderr",
     "output_type": "stream",
     "text": [
      "CAP.extr_aic7xxx_pci.c_configure_termination:  49%|██████████████████████████████████████████████████████████████████▍                                                                    | 2459/5000 [1:31:34<1:17:11,  1.82s/it]"
     ]
    },
    {
     "name": "stdout",
     "output_type": "stream",
     "text": [
      "Error extracting representation cfgcallcompact1enoroot for /home/nonroot/experiment/datasets/classify_seqs/group1.1000/CAP/extr_phy_n.c_b43_nphy_rev2_rssi_cal/: 'shufflevector'\n"
     ]
    },
    {
     "name": "stderr",
     "output_type": "stream",
     "text": [
      "CAP.extr_phy.c_rtl92d_phy_iq_calibrate:  51%|███████████████████████████████████████████████████████████████████████▎                                                                     | 2530/5000 [1:34:07<1:24:00,  2.04s/it]"
     ]
    },
    {
     "name": "stdout",
     "output_type": "stream",
     "text": [
      "Error extracting representation cfgcompact for /home/nonroot/experiment/datasets/classify_seqs/group1.1000/CAP/extr_phy.c_rtl92d_phy_iq_calibrate/: 'shufflevector'\n",
      "Error extracting representation cfgcallcompactnoroot for /home/nonroot/experiment/datasets/classify_seqs/group1.1000/CAP/extr_phy.c_rtl92d_phy_iq_calibrate/: 'shufflevector'\n"
     ]
    },
    {
     "name": "stderr",
     "output_type": "stream",
     "text": [
      "CAP.extr_m68kopdm.c_m68k_op_divl_32_d:  51%|███████████████████████████████████████████████████████████████████████▉                                                                      | 2531/5000 [1:34:08<1:20:32,  1.96s/it]"
     ]
    },
    {
     "name": "stdout",
     "output_type": "stream",
     "text": [
      "Error extracting representation cfgcallcompact1enoroot for /home/nonroot/experiment/datasets/classify_seqs/group1.1000/CAP/extr_phy.c_rtl92d_phy_iq_calibrate/: 'shufflevector'\n"
     ]
    },
    {
     "name": "stderr",
     "output_type": "stream",
     "text": [
      "CAP.extr_noise.c_noise3:  51%|████████████████████████████████████████████████████████████████████████████████▎                                                                           | 2574/5000 [1:35:42<1:27:45,  2.17s/it]"
     ]
    },
    {
     "name": "stdout",
     "output_type": "stream",
     "text": [
      "Error extracting representation cfgcompact for /home/nonroot/experiment/datasets/classify_seqs/group1.1000/CAP/extr_noise.c_noise3/: 'shufflevector'\n",
      "Error extracting representation cfgcallcompactnoroot for /home/nonroot/experiment/datasets/classify_seqs/group1.1000/CAP/extr_noise.c_noise3/: 'shufflevector'\n"
     ]
    },
    {
     "name": "stderr",
     "output_type": "stream",
     "text": [
      "CAP.extr_ctm.c__tmain:  52%|█████████████████████████████████████████████████████████████████████████████████▎                                                                            | 2575/5000 [1:35:44<1:22:22,  2.04s/it]"
     ]
    },
    {
     "name": "stdout",
     "output_type": "stream",
     "text": [
      "Error extracting representation cfgcallcompact1enoroot for /home/nonroot/experiment/datasets/classify_seqs/group1.1000/CAP/extr_noise.c_noise3/: 'shufflevector'\n"
     ]
    },
    {
     "name": "stderr",
     "output_type": "stream",
     "text": [
      "CAP.extr_vb.c_vb_decode_framedata:  53%|████████████████████████████████████████████████████████████████████████████▊                                                                     | 2630/5000 [1:37:48<1:27:34,  2.22s/it]"
     ]
    },
    {
     "name": "stdout",
     "output_type": "stream",
     "text": [
      "Error extracting representation cfgcompact for /home/nonroot/experiment/datasets/classify_seqs/group1.1000/CAP/extr_vb.c_vb_decode_framedata/: 'shufflevector'\n",
      "Error extracting representation cfgcallcompactnoroot for /home/nonroot/experiment/datasets/classify_seqs/group1.1000/CAP/extr_vb.c_vb_decode_framedata/: 'shufflevector'\n"
     ]
    },
    {
     "name": "stderr",
     "output_type": "stream",
     "text": [
      "CAP.extr_vp9dsp_template.c_tm_32x32_c:  53%|██████████████████████████████████████████████████████████████████████████▋                                                                   | 2631/5000 [1:37:49<1:23:09,  2.11s/it]"
     ]
    },
    {
     "name": "stdout",
     "output_type": "stream",
     "text": [
      "Error extracting representation cfgcallcompact1enoroot for /home/nonroot/experiment/datasets/classify_seqs/group1.1000/CAP/extr_vb.c_vb_decode_framedata/: 'shufflevector'\n"
     ]
    },
    {
     "name": "stderr",
     "output_type": "stream",
     "text": [
      "CAP.extr_..libpicofemenu.c_menu_init_base:  53%|█████████████████████████████████████████████████████████████████████████                                                                 | 2646/5000 [1:38:22<1:20:43,  2.06s/it]/home/nonroot/experiment/datasets/classify_seqs/group1.1000/CAP/extr_..libpicofemenu.c_menu_init_base//a.out_o.bc: /home/nonroot/experiment/datasets/classify_seqs/group1.1000/CAP/extr_..libpicofemenu.c_menu_init_base//a.out_o.bc: error: Could not open input file: No such file or directory\n",
      "CAP.extr_diracdec.c_dirac_unpack_prediction_parameters:  53%|██████████████████████████████████████████████████████████████████▏                                                          | 2647/5000 [1:38:23<1:02:00,  1.58s/it]"
     ]
    },
    {
     "name": "stdout",
     "output_type": "stream",
     "text": [
      "Error extracting IR from /home/nonroot/experiment/datasets/classify_seqs/group1.1000/CAP/extr_..libpicofemenu.c_menu_init_base//a.out_o.bc: Failed parse IR file\n"
     ]
    },
    {
     "name": "stderr",
     "output_type": "stream",
     "text": [
      "CAP.extr_entropy_encode.c_BrotliOptimizeHuffmanCountsForRle:  53%|███████████████████████████████████████████████████████████████▋                                                        | 2653/5000 [1:38:36<1:19:15,  2.03s/it]"
     ]
    },
    {
     "name": "stdout",
     "output_type": "stream",
     "text": [
      "Error extracting representation cfgcompact for /home/nonroot/experiment/datasets/classify_seqs/group1.1000/CAP/extr_entropy_encode.c_BrotliOptimizeHuffmanCountsForRle/: 'shufflevector'\n",
      "Error extracting representation cfgcallcompactnoroot for /home/nonroot/experiment/datasets/classify_seqs/group1.1000/CAP/extr_entropy_encode.c_BrotliOptimizeHuffmanCountsForRle/: 'shufflevector'\n"
     ]
    },
    {
     "name": "stderr",
     "output_type": "stream",
     "text": [
      "CAP.extr_u14-34f.c_reorder:  53%|█████████████████████████████████████████████████████████████████████████████████▏                                                                       | 2654/5000 [1:38:38<1:17:29,  1.98s/it]"
     ]
    },
    {
     "name": "stdout",
     "output_type": "stream",
     "text": [
      "Error extracting representation cfgcallcompact1enoroot for /home/nonroot/experiment/datasets/classify_seqs/group1.1000/CAP/extr_entropy_encode.c_BrotliOptimizeHuffmanCountsForRle/: 'shufflevector'\n"
     ]
    },
    {
     "name": "stderr",
     "output_type": "stream",
     "text": [
      "CAP.extr_acu.c_con:  53%|█████████████████████████████████████████████████████████████████████████████████████▉                                                                           | 2669/5000 [1:39:08<1:01:13,  1.58s/it]/home/nonroot/experiment/datasets/classify_seqs/group1.1000/CAP/extr_acu.c_con//a.out_o.bc: /home/nonroot/experiment/datasets/classify_seqs/group1.1000/CAP/extr_acu.c_con//a.out_o.bc: error: Could not open input file: No such file or directory\n",
      "CAP.extr_bftest.c_print_test_data:  53%|█████████████████████████████████████████████████████████████████████████████▉                                                                    | 2669/5000 [1:39:08<1:01:13,  1.58s/it]"
     ]
    },
    {
     "name": "stdout",
     "output_type": "stream",
     "text": [
      "Error extracting IR from /home/nonroot/experiment/datasets/classify_seqs/group1.1000/CAP/extr_acu.c_con//a.out_o.bc: Failed parse IR file\n"
     ]
    },
    {
     "name": "stderr",
     "output_type": "stream",
     "text": [
      "CAP.extr_archive_write_set_format_v7tar.c_format_header_v7tar:  54%|███████████████████████████████████████████████████████████████▏                                                      | 2680/5000 [1:39:30<1:20:52,  2.09s/it]"
     ]
    },
    {
     "name": "stdout",
     "output_type": "stream",
     "text": [
      "Error extracting representation cfgcompact for /home/nonroot/experiment/datasets/classify_seqs/group1.1000/CAP/extr_archive_write_set_format_v7tar.c_format_header_v7tar/: 'shufflevector'\n",
      "Error extracting representation cfgcallcompactnoroot for /home/nonroot/experiment/datasets/classify_seqs/group1.1000/CAP/extr_archive_write_set_format_v7tar.c_format_header_v7tar/: 'shufflevector'\n"
     ]
    },
    {
     "name": "stderr",
     "output_type": "stream",
     "text": [
      "CAP.extr_iscsi_target_datain_values.c_iscsit_set_datain_values_yes_and_yes:  54%|████████████████████████████████████████████████████████▎                                                | 2681/5000 [1:39:32<1:16:42,  1.98s/it]"
     ]
    },
    {
     "name": "stdout",
     "output_type": "stream",
     "text": [
      "Error extracting representation cfgcallcompact1enoroot for /home/nonroot/experiment/datasets/classify_seqs/group1.1000/CAP/extr_archive_write_set_format_v7tar.c_format_header_v7tar/: 'shufflevector'\n"
     ]
    },
    {
     "name": "stderr",
     "output_type": "stream",
     "text": [
      "CAP.extr_tau32-ddk.c_QrVoB3:  54%|█████████████████████████████████████████████████████████████████████████████████▉                                                                      | 2694/5000 [1:40:00<1:21:21,  2.12s/it]"
     ]
    },
    {
     "name": "stdout",
     "output_type": "stream",
     "text": [
      "Error extracting representation cfgcompact for /home/nonroot/experiment/datasets/classify_seqs/group1.1000/CAP/extr_tau32-ddk.c_QrVoB3/: list index out of range\n",
      "Error extracting representation cfgcallcompactnoroot for /home/nonroot/experiment/datasets/classify_seqs/group1.1000/CAP/extr_tau32-ddk.c_QrVoB3/: list index out of range\n"
     ]
    },
    {
     "name": "stderr",
     "output_type": "stream",
     "text": [
      "CAP.extr_graphics.c_test_pen_thickness:  54%|███████████████████████████████████████████████████████████████████████████▉                                                                 | 2695/5000 [1:40:01<1:18:20,  2.04s/it]"
     ]
    },
    {
     "name": "stdout",
     "output_type": "stream",
     "text": [
      "Error extracting representation cfgcallcompact1enoroot for /home/nonroot/experiment/datasets/classify_seqs/group1.1000/CAP/extr_tau32-ddk.c_QrVoB3/: list index out of range\n"
     ]
    },
    {
     "name": "stderr",
     "output_type": "stream",
     "text": [
      "CAP.extr_tests.c_main:  54%|█████████████████████████████████████████████████████████████████████████████████████▍                                                                        | 2704/5000 [1:40:22<1:32:08,  2.41s/it]/home/nonroot/experiment/datasets/classify_seqs/group1.1000/CAP/extr_tests.c_main//a.out_o.bc: /home/nonroot/experiment/datasets/classify_seqs/group1.1000/CAP/extr_tests.c_main//a.out_o.bc: error: Could not open input file: No such file or directory\n",
      "CAP.extr_vpninstall.c_ViDownloadThread:  54%|████████████████████████████████████████████████████████████████████████████▎                                                                | 2705/5000 [1:40:23<1:09:45,  1.82s/it]"
     ]
    },
    {
     "name": "stdout",
     "output_type": "stream",
     "text": [
      "Error extracting IR from /home/nonroot/experiment/datasets/classify_seqs/group1.1000/CAP/extr_tests.c_main//a.out_o.bc: Failed parse IR file\n"
     ]
    },
    {
     "name": "stderr",
     "output_type": "stream",
     "text": [
      "CAP.extr_ccv_sift.c__ccv_keypoint_interpolate:  54%|████████████████████████████████████████████████████████████████████████▊                                                             | 2717/5000 [1:40:50<1:26:45,  2.28s/it]"
     ]
    },
    {
     "name": "stdout",
     "output_type": "stream",
     "text": [
      "Error extracting representation cfgcompact for /home/nonroot/experiment/datasets/classify_seqs/group1.1000/CAP/extr_ccv_sift.c__ccv_keypoint_interpolate/: 'shufflevector'\n",
      "Error extracting representation cfgcallcompactnoroot for /home/nonroot/experiment/datasets/classify_seqs/group1.1000/CAP/extr_ccv_sift.c__ccv_keypoint_interpolate/: 'shufflevector'\n"
     ]
    },
    {
     "name": "stderr",
     "output_type": "stream",
     "text": [
      "CAP.extr_phy_n.c_wlc_phy_txcal_radio_setup_nphy:  54%|███████████████████████████████████████████████████████████████████████▊                                                            | 2718/5000 [1:40:51<1:20:45,  2.12s/it]"
     ]
    },
    {
     "name": "stdout",
     "output_type": "stream",
     "text": [
      "Error extracting representation cfgcallcompact1enoroot for /home/nonroot/experiment/datasets/classify_seqs/group1.1000/CAP/extr_ccv_sift.c__ccv_keypoint_interpolate/: 'shufflevector'\n"
     ]
    },
    {
     "name": "stderr",
     "output_type": "stream",
     "text": [
      "CAP.extr_rtw_security.c_aes_cipher:  55%|███████████████████████████████████████████████████████████████████████████████▍                                                                 | 2740/5000 [1:41:39<1:20:27,  2.14s/it]"
     ]
    },
    {
     "name": "stdout",
     "output_type": "stream",
     "text": [
      "Error extracting representation cfgcompact for /home/nonroot/experiment/datasets/classify_seqs/group1.1000/CAP/extr_rtw_security.c_aes_cipher/: 'shufflevector'\n",
      "Error extracting representation cfgcallcompactnoroot for /home/nonroot/experiment/datasets/classify_seqs/group1.1000/CAP/extr_rtw_security.c_aes_cipher/: 'shufflevector'\n"
     ]
    },
    {
     "name": "stderr",
     "output_type": "stream",
     "text": [
      "CAP.extr_wm831x-ts.c_wm831x_ts_probe:  55%|██████████████████████████████████████████████████████████████████████████████▍                                                                | 2741/5000 [1:41:41<1:16:09,  2.02s/it]"
     ]
    },
    {
     "name": "stdout",
     "output_type": "stream",
     "text": [
      "Error extracting representation cfgcallcompact1enoroot for /home/nonroot/experiment/datasets/classify_seqs/group1.1000/CAP/extr_rtw_security.c_aes_cipher/: 'shufflevector'\n"
     ]
    },
    {
     "name": "stderr",
     "output_type": "stream",
     "text": [
      "CAP.extr_scvgarndr.c_draw_txtmouse:  55%|████████████████████████████████████████████████████████████████████████████████▏                                                                | 2765/5000 [1:42:37<1:32:17,  2.48s/it]"
     ]
    },
    {
     "name": "stdout",
     "output_type": "stream",
     "text": [
      "Error extracting representation cfgcompact for /home/nonroot/experiment/datasets/classify_seqs/group1.1000/CAP/extr_scvgarndr.c_draw_txtmouse/: 'shufflevector'\n",
      "Error extracting representation cfgcallcompactnoroot for /home/nonroot/experiment/datasets/classify_seqs/group1.1000/CAP/extr_scvgarndr.c_draw_txtmouse/: 'shufflevector'\n"
     ]
    },
    {
     "name": "stderr",
     "output_type": "stream",
     "text": [
      "CAP.extr_smacker.c_smacker_read_packet:  55%|██████████████████████████████████████████████████████████████████████████████                                                               | 2766/5000 [1:42:38<1:24:22,  2.27s/it]"
     ]
    },
    {
     "name": "stdout",
     "output_type": "stream",
     "text": [
      "Error extracting representation cfgcallcompact1enoroot for /home/nonroot/experiment/datasets/classify_seqs/group1.1000/CAP/extr_scvgarndr.c_draw_txtmouse/: 'shufflevector'\n"
     ]
    },
    {
     "name": "stderr",
     "output_type": "stream",
     "text": [
      "CAP.extr_walkera0701.c_walkera0701_parse_frame:  55%|█████████████████████████████████████████████████████████████████████████▌                                                           | 2767/5000 [1:42:41<1:25:19,  2.29s/it]"
     ]
    },
    {
     "name": "stdout",
     "output_type": "stream",
     "text": [
      "Error extracting representation cfgcompact for /home/nonroot/experiment/datasets/classify_seqs/group1.1000/CAP/extr_walkera0701.c_walkera0701_parse_frame/: 'shufflevector'\n",
      "Error extracting representation cfgcallcompactnoroot for /home/nonroot/experiment/datasets/classify_seqs/group1.1000/CAP/extr_walkera0701.c_walkera0701_parse_frame/: 'shufflevector'\n"
     ]
    },
    {
     "name": "stderr",
     "output_type": "stream",
     "text": [
      "CAP.extr_datalink.c_datalink_UpdateSet:  55%|██████████████████████████████████████████████████████████████████████████████                                                               | 2768/5000 [1:42:42<1:17:52,  2.09s/it]"
     ]
    },
    {
     "name": "stdout",
     "output_type": "stream",
     "text": [
      "Error extracting representation cfgcallcompact1enoroot for /home/nonroot/experiment/datasets/classify_seqs/group1.1000/CAP/extr_walkera0701.c_walkera0701_parse_frame/: 'shufflevector'\n"
     ]
    },
    {
     "name": "stderr",
     "output_type": "stream",
     "text": [
      "CAP.extr_cifar-10.c_main:  55%|█████████████████████████████████████████████████████████████████████████████████████▉                                                                     | 2773/5000 [1:42:52<1:00:33,  1.63s/it]/home/nonroot/experiment/datasets/classify_seqs/group1.1000/CAP/extr_cifar-10.c_main//a.out_o.bc: /home/nonroot/experiment/datasets/classify_seqs/group1.1000/CAP/extr_cifar-10.c_main//a.out_o.bc: error: Could not open input file: No such file or directory\n",
      "CAP.extr_qcelpdec.c_compute_svector:  55%|███████████████████████████████████████████████████████████████████████████████▊                                                                | 2773/5000 [1:42:52<1:00:33,  1.63s/it]"
     ]
    },
    {
     "name": "stdout",
     "output_type": "stream",
     "text": [
      "Error extracting IR from /home/nonroot/experiment/datasets/classify_seqs/group1.1000/CAP/extr_cifar-10.c_main//a.out_o.bc: Failed parse IR file\n",
      "Error extracting representation cfgcompact for /home/nonroot/experiment/datasets/classify_seqs/group1.1000/CAP/extr_qcelpdec.c_compute_svector/: 'shufflevector'\n",
      "Error extracting representation cfgcallcompactnoroot for /home/nonroot/experiment/datasets/classify_seqs/group1.1000/CAP/extr_qcelpdec.c_compute_svector/: 'shufflevector'\n"
     ]
    },
    {
     "name": "stderr",
     "output_type": "stream",
     "text": [
      "CAP.extr_dispc.c_dispc_save_context:  55%|███████████████████████████████████████████████████████████████████████████████▉                                                                | 2774/5000 [1:42:53<1:02:31,  1.69s/it]"
     ]
    },
    {
     "name": "stdout",
     "output_type": "stream",
     "text": [
      "Error extracting representation cfgcallcompact1enoroot for /home/nonroot/experiment/datasets/classify_seqs/group1.1000/CAP/extr_qcelpdec.c_compute_svector/: 'shufflevector'\n"
     ]
    },
    {
     "name": "stderr",
     "output_type": "stream",
     "text": [
      "CAP.extr_sms_cart.c_mapper_reset:  56%|█████████████████████████████████████████████████████████████████████████████████▉                                                                 | 2787/5000 [1:43:25<1:39:08,  2.69s/it]"
     ]
    },
    {
     "name": "stdout",
     "output_type": "stream",
     "text": [
      "Error extracting representation cfgcompact for /home/nonroot/experiment/datasets/classify_seqs/group1.1000/CAP/extr_sms_cart.c_mapper_reset/: 'shufflevector'\n",
      "Error extracting representation cfgcallcompactnoroot for /home/nonroot/experiment/datasets/classify_seqs/group1.1000/CAP/extr_sms_cart.c_mapper_reset/: 'shufflevector'\n"
     ]
    },
    {
     "name": "stderr",
     "output_type": "stream",
     "text": [
      "CAP.extr_main.c_udp_process_recv_packet:  56%|██████████████████████████████████████████████████████████████████████████████                                                              | 2788/5000 [1:43:27<1:28:02,  2.39s/it]"
     ]
    },
    {
     "name": "stdout",
     "output_type": "stream",
     "text": [
      "Error extracting representation cfgcallcompact1enoroot for /home/nonroot/experiment/datasets/classify_seqs/group1.1000/CAP/extr_sms_cart.c_mapper_reset/: 'shufflevector'\n"
     ]
    },
    {
     "name": "stderr",
     "output_type": "stream",
     "text": [
      "CAP.extr_h264_nal.c_h264_parse_sequence_parameter_set_rbsp:  57%|████████████████████████████████████████████████████████████████████▌                                                    | 2835/5000 [1:45:07<1:18:09,  2.17s/it]"
     ]
    },
    {
     "name": "stdout",
     "output_type": "stream",
     "text": [
      "Error extracting representation cfgcompact for /home/nonroot/experiment/datasets/classify_seqs/group1.1000/CAP/extr_h264_nal.c_h264_parse_sequence_parameter_set_rbsp/: 'shufflevector'\n",
      "Error extracting representation cfgcallcompactnoroot for /home/nonroot/experiment/datasets/classify_seqs/group1.1000/CAP/extr_h264_nal.c_h264_parse_sequence_parameter_set_rbsp/: 'shufflevector'\n"
     ]
    },
    {
     "name": "stderr",
     "output_type": "stream",
     "text": [
      "CAP.extr_convert.c_volumetobin:  57%|████████████████████████████████████████████████████████████████████████████████████▌                                                                | 2836/5000 [1:45:09<1:14:55,  2.08s/it]"
     ]
    },
    {
     "name": "stdout",
     "output_type": "stream",
     "text": [
      "Error extracting representation cfgcallcompact1enoroot for /home/nonroot/experiment/datasets/classify_seqs/group1.1000/CAP/extr_h264_nal.c_h264_parse_sequence_parameter_set_rbsp/: 'shufflevector'\n"
     ]
    },
    {
     "name": "stderr",
     "output_type": "stream",
     "text": [
      "CAP.extr_passwd.c_md5crypt:  57%|███████████████████████████████████████████████████████████████████████████████████████▊                                                                 | 2870/5000 [1:46:20<1:11:16,  2.01s/it]"
     ]
    },
    {
     "name": "stdout",
     "output_type": "stream",
     "text": [
      "Error extracting representation cfgcompact for /home/nonroot/experiment/datasets/classify_seqs/group1.1000/CAP/extr_passwd.c_md5crypt/: 'shufflevector'\n",
      "Error extracting representation cfgcallcompactnoroot for /home/nonroot/experiment/datasets/classify_seqs/group1.1000/CAP/extr_passwd.c_md5crypt/: 'shufflevector'\n"
     ]
    },
    {
     "name": "stderr",
     "output_type": "stream",
     "text": [
      "CAP.extr_gmc_v7_0.c_gmc_v7_0_gart_enable:  57%|███████████████████████████████████████████████████████████████████████████████▊                                                           | 2871/5000 [1:46:22<1:09:04,  1.95s/it]"
     ]
    },
    {
     "name": "stdout",
     "output_type": "stream",
     "text": [
      "Error extracting representation cfgcallcompact1enoroot for /home/nonroot/experiment/datasets/classify_seqs/group1.1000/CAP/extr_passwd.c_md5crypt/: 'shufflevector'\n"
     ]
    },
    {
     "name": "stderr",
     "output_type": "stream",
     "text": [
      "CAP.extr_span.c_gl_write_monoindex_span:  59%|██████████████████████████████████████████████████████████████████████████████████▏                                                         | 2936/5000 [1:48:43<1:10:41,  2.06s/it]"
     ]
    },
    {
     "name": "stdout",
     "output_type": "stream",
     "text": [
      "Error extracting representation cfgcompact for /home/nonroot/experiment/datasets/classify_seqs/group1.1000/CAP/extr_span.c_gl_write_monoindex_span/: 'shufflevector'\n",
      "Error extracting representation cfgcallcompactnoroot for /home/nonroot/experiment/datasets/classify_seqs/group1.1000/CAP/extr_span.c_gl_write_monoindex_span/: 'shufflevector'\n"
     ]
    },
    {
     "name": "stderr",
     "output_type": "stream",
     "text": [
      "CAP.extr_nsprepkg.c_AcpiNsCheckPackage:  59%|██████████████████████████████████████████████████████████████████████████████████▊                                                          | 2937/5000 [1:48:45<1:07:36,  1.97s/it]"
     ]
    },
    {
     "name": "stdout",
     "output_type": "stream",
     "text": [
      "Error extracting representation cfgcallcompact1enoroot for /home/nonroot/experiment/datasets/classify_seqs/group1.1000/CAP/extr_span.c_gl_write_monoindex_span/: 'shufflevector'\n"
     ]
    },
    {
     "name": "stderr",
     "output_type": "stream",
     "text": [
      "CAP.extr_snow_dwt.c_ff_snow_horizontal_compose97i:  59%|████████████████████████████████████████████████████████████████████████████▌                                                     | 2944/5000 [1:49:00<1:10:46,  2.07s/it]"
     ]
    },
    {
     "name": "stdout",
     "output_type": "stream",
     "text": [
      "Error extracting representation cfgcompact for /home/nonroot/experiment/datasets/classify_seqs/group1.1000/CAP/extr_snow_dwt.c_ff_snow_horizontal_compose97i/: 'shufflevector'\n",
      "Error extracting representation cfgcallcompactnoroot for /home/nonroot/experiment/datasets/classify_seqs/group1.1000/CAP/extr_snow_dwt.c_ff_snow_horizontal_compose97i/: 'shufflevector'\n"
     ]
    },
    {
     "name": "stderr",
     "output_type": "stream",
     "text": [
      "CAP.extr_trace_probe.c_parse_probe_arg:  59%|███████████████████████████████████████████████████████████████████████████████████                                                          | 2945/5000 [1:49:02<1:07:02,  1.96s/it]"
     ]
    },
    {
     "name": "stdout",
     "output_type": "stream",
     "text": [
      "Error extracting representation cfgcallcompact1enoroot for /home/nonroot/experiment/datasets/classify_seqs/group1.1000/CAP/extr_snow_dwt.c_ff_snow_horizontal_compose97i/: 'shufflevector'\n"
     ]
    },
    {
     "name": "stderr",
     "output_type": "stream",
     "text": [
      "CAP.extr_phyp_vscsi.c_vscsi_scsi_command:  59%|██████████████████████████████████████████████████████████████████████████████████▌                                                        | 2972/5000 [1:49:58<1:10:07,  2.07s/it]"
     ]
    },
    {
     "name": "stdout",
     "output_type": "stream",
     "text": [
      "Error extracting representation cfgcompact for /home/nonroot/experiment/datasets/classify_seqs/group1.1000/CAP/extr_phyp_vscsi.c_vscsi_scsi_command/: 'shufflevector'\n",
      "Error extracting representation cfgcallcompactnoroot for /home/nonroot/experiment/datasets/classify_seqs/group1.1000/CAP/extr_phyp_vscsi.c_vscsi_scsi_command/: 'shufflevector'\n"
     ]
    },
    {
     "name": "stderr",
     "output_type": "stream",
     "text": [
      "CAP.extr_sms_cart.c_mapper_16k_w:  59%|███████████████████████████████████████████████████████████████████████████████████████▍                                                           | 2973/5000 [1:50:00<1:06:38,  1.97s/it]"
     ]
    },
    {
     "name": "stdout",
     "output_type": "stream",
     "text": [
      "Error extracting representation cfgcallcompact1enoroot for /home/nonroot/experiment/datasets/classify_seqs/group1.1000/CAP/extr_phyp_vscsi.c_vscsi_scsi_command/: 'shufflevector'\n"
     ]
    },
    {
     "name": "stderr",
     "output_type": "stream",
     "text": [
      "CAP.extr_file.c_test_fgetwc:  60%|███████████████████████████████████████████████████████████████████████████████████████████                                                             | 2996/5000 [1:50:50<1:13:38,  2.20s/it]"
     ]
    },
    {
     "name": "stdout",
     "output_type": "stream",
     "text": [
      "Error extracting representation cfgcompact for /home/nonroot/experiment/datasets/classify_seqs/group1.1000/CAP/extr_file.c_test_fgetwc/: 'shufflevector'\n",
      "Error extracting representation cfgcallcompactnoroot for /home/nonroot/experiment/datasets/classify_seqs/group1.1000/CAP/extr_file.c_test_fgetwc/: 'shufflevector'\n"
     ]
    },
    {
     "name": "stderr",
     "output_type": "stream",
     "text": [
      "CAP.extr_rec_layer_s3.c_ssl3_write_bytes:  60%|███████████████████████████████████████████████████████████████████████████████████▎                                                       | 2997/5000 [1:50:51<1:08:21,  2.05s/it]"
     ]
    },
    {
     "name": "stdout",
     "output_type": "stream",
     "text": [
      "Error extracting representation cfgcallcompact1enoroot for /home/nonroot/experiment/datasets/classify_seqs/group1.1000/CAP/extr_file.c_test_fgetwc/: 'shufflevector'\n",
      "Error extracting representation cfgcompact for /home/nonroot/experiment/datasets/classify_seqs/group1.1000/CAP/extr_rec_layer_s3.c_ssl3_write_bytes/: 'shufflevector'\n",
      "Error extracting representation cfgcallcompactnoroot for /home/nonroot/experiment/datasets/classify_seqs/group1.1000/CAP/extr_rec_layer_s3.c_ssl3_write_bytes/: 'shufflevector'\n"
     ]
    },
    {
     "name": "stderr",
     "output_type": "stream",
     "text": [
      "CAP.extr_cassini.c_cas_init_mac:  60%|████████████████████████████████████████████████████████████████████████████████████████▋                                                           | 2998/5000 [1:50:53<1:05:30,  1.96s/it]"
     ]
    },
    {
     "name": "stdout",
     "output_type": "stream",
     "text": [
      "Error extracting representation cfgcallcompact1enoroot for /home/nonroot/experiment/datasets/classify_seqs/group1.1000/CAP/extr_rec_layer_s3.c_ssl3_write_bytes/: 'shufflevector'\n"
     ]
    },
    {
     "name": "stderr",
     "output_type": "stream",
     "text": [
      "LIM.extr_vf_vavpp.c_initialize:  60%|█████████████████████████████████████████████████████████████████████████████████████████▌                                                           | 3007/5000 [1:51:12<1:12:05,  2.17s/it]"
     ]
    },
    {
     "name": "stdout",
     "output_type": "stream",
     "text": [
      "Error extracting representation cfgcompact for /home/nonroot/experiment/datasets/classify_seqs/group1.1000/LIM/extr_vf_vavpp.c_initialize/: 'shufflevector'\n",
      "Error extracting representation cfgcallcompactnoroot for /home/nonroot/experiment/datasets/classify_seqs/group1.1000/LIM/extr_vf_vavpp.c_initialize/: 'shufflevector'\n"
     ]
    },
    {
     "name": "stderr",
     "output_type": "stream",
     "text": [
      "LIM.extr_file.c___gfs2_fallocate:  60%|████████████████████████████████████████████████████████████████████████████████████████▍                                                          | 3008/5000 [1:51:14<1:07:30,  2.03s/it]"
     ]
    },
    {
     "name": "stdout",
     "output_type": "stream",
     "text": [
      "Error extracting representation cfgcallcompact1enoroot for /home/nonroot/experiment/datasets/classify_seqs/group1.1000/LIM/extr_vf_vavpp.c_initialize/: 'shufflevector'\n"
     ]
    },
    {
     "name": "stderr",
     "output_type": "stream",
     "text": [
      "LIM.extr_af_aiir.c_draw_response:  60%|████████████████████████████████████████████████████████████████████████████████████████▋                                                          | 3016/5000 [1:51:32<1:10:20,  2.13s/it]"
     ]
    },
    {
     "name": "stdout",
     "output_type": "stream",
     "text": [
      "Error extracting representation cfgcompact for /home/nonroot/experiment/datasets/classify_seqs/group1.1000/LIM/extr_af_aiir.c_draw_response/: 'shufflevector'\n",
      "Error extracting representation cfgcallcompactnoroot for /home/nonroot/experiment/datasets/classify_seqs/group1.1000/LIM/extr_af_aiir.c_draw_response/: 'shufflevector'\n"
     ]
    },
    {
     "name": "stderr",
     "output_type": "stream",
     "text": [
      "LIM.extr_if_run.c_run_select_chan_group:  60%|████████████████████████████████████████████████████████████████████████████████████▍                                                       | 3017/5000 [1:51:33<1:06:00,  2.00s/it]"
     ]
    },
    {
     "name": "stdout",
     "output_type": "stream",
     "text": [
      "Error extracting representation cfgcallcompact1enoroot for /home/nonroot/experiment/datasets/classify_seqs/group1.1000/LIM/extr_af_aiir.c_draw_response/: 'shufflevector'\n"
     ]
    },
    {
     "name": "stderr",
     "output_type": "stream",
     "text": [
      "LIM.extr_algo_ivtc.c_IVTCCadenceDetectAlgoScores:  61%|████████████████████████████████████████████████████████████████████████████████                                                   | 3055/5000 [1:52:57<1:09:27,  2.14s/it]"
     ]
    },
    {
     "name": "stdout",
     "output_type": "stream",
     "text": [
      "Error extracting representation cfgcompact for /home/nonroot/experiment/datasets/classify_seqs/group1.1000/LIM/extr_algo_ivtc.c_IVTCCadenceDetectAlgoScores/: 'shufflevector'\n",
      "Error extracting representation cfgcallcompactnoroot for /home/nonroot/experiment/datasets/classify_seqs/group1.1000/LIM/extr_algo_ivtc.c_IVTCCadenceDetectAlgoScores/: 'shufflevector'\n"
     ]
    },
    {
     "name": "stderr",
     "output_type": "stream",
     "text": [
      "LIM.extr_cam_sdio.c_sdio_func_read_cis:  61%|██████████████████████████████████████████████████████████████████████████████████████▏                                                      | 3056/5000 [1:52:59<1:06:09,  2.04s/it]"
     ]
    },
    {
     "name": "stdout",
     "output_type": "stream",
     "text": [
      "Error extracting representation cfgcallcompact1enoroot for /home/nonroot/experiment/datasets/classify_seqs/group1.1000/LIM/extr_algo_ivtc.c_IVTCCadenceDetectAlgoScores/: 'shufflevector'\n"
     ]
    },
    {
     "name": "stderr",
     "output_type": "stream",
     "text": [
      "LIM.extr_dnxhdenc.c_dnxhd_mb_var_thread:  61%|█████████████████████████████████████████████████████████████████████████████████████▉                                                      | 3071/5000 [1:53:33<1:10:35,  2.20s/it]"
     ]
    },
    {
     "name": "stdout",
     "output_type": "stream",
     "text": [
      "Error extracting representation cfgcompact for /home/nonroot/experiment/datasets/classify_seqs/group1.1000/LIM/extr_dnxhdenc.c_dnxhd_mb_var_thread/: 'shufflevector'\n",
      "Error extracting representation cfgcallcompactnoroot for /home/nonroot/experiment/datasets/classify_seqs/group1.1000/LIM/extr_dnxhdenc.c_dnxhd_mb_var_thread/: 'shufflevector'\n"
     ]
    },
    {
     "name": "stderr",
     "output_type": "stream",
     "text": [
      "LIM.extr_af_atempo.c_yae_load_frag:  61%|█████████████████████████████████████████████████████████████████████████████████████████                                                        | 3072/5000 [1:53:35<1:06:15,  2.06s/it]"
     ]
    },
    {
     "name": "stdout",
     "output_type": "stream",
     "text": [
      "Error extracting representation cfgcallcompact1enoroot for /home/nonroot/experiment/datasets/classify_seqs/group1.1000/LIM/extr_dnxhdenc.c_dnxhd_mb_var_thread/: 'shufflevector'\n"
     ]
    },
    {
     "name": "stderr",
     "output_type": "stream",
     "text": [
      "LIM.extr_h264_slice.c_h264_compute_poc:  62%|███████████████████████████████████████████████████████████████████████████████████████▉                                                     | 3118/5000 [1:55:16<1:07:34,  2.15s/it]"
     ]
    },
    {
     "name": "stdout",
     "output_type": "stream",
     "text": [
      "Error extracting representation cfgcompact for /home/nonroot/experiment/datasets/classify_seqs/group1.1000/LIM/extr_h264_slice.c_h264_compute_poc/: 'shufflevector'\n",
      "Error extracting representation cfgcallcompactnoroot for /home/nonroot/experiment/datasets/classify_seqs/group1.1000/LIM/extr_h264_slice.c_h264_compute_poc/: 'shufflevector'\n"
     ]
    },
    {
     "name": "stderr",
     "output_type": "stream",
     "text": [
      "LIM.extr_gcc.c_handle_braces:  62%|██████████████████████████████████████████████████████████████████████████████████████████████▏                                                        | 3119/5000 [1:55:18<1:04:18,  2.05s/it]"
     ]
    },
    {
     "name": "stdout",
     "output_type": "stream",
     "text": [
      "Error extracting representation cfgcallcompact1enoroot for /home/nonroot/experiment/datasets/classify_seqs/group1.1000/LIM/extr_h264_slice.c_h264_compute_poc/: 'shufflevector'\n"
     ]
    },
    {
     "name": "stderr",
     "output_type": "stream",
     "text": [
      "LIM.extr_pdf-op-run.c_pdf_show_pattern:  63%|████████████████████████████████████████████████████████████████████████████████████████▎                                                    | 3133/5000 [1:55:50<1:11:32,  2.30s/it]"
     ]
    },
    {
     "name": "stdout",
     "output_type": "stream",
     "text": [
      "Error extracting representation cfgcompact for /home/nonroot/experiment/datasets/classify_seqs/group1.1000/LIM/extr_pdf-op-run.c_pdf_show_pattern/: 'shufflevector'\n",
      "Error extracting representation cfgcallcompactnoroot for /home/nonroot/experiment/datasets/classify_seqs/group1.1000/LIM/extr_pdf-op-run.c_pdf_show_pattern/: 'shufflevector'\n"
     ]
    },
    {
     "name": "stderr",
     "output_type": "stream",
     "text": [
      "LIM.extr_http.c_InternetReadFile_chunked_test:  63%|███████████████████████████████████████████████████████████████████████████████████▉                                                  | 3134/5000 [1:55:52<1:05:48,  2.12s/it]"
     ]
    },
    {
     "name": "stdout",
     "output_type": "stream",
     "text": [
      "Error extracting representation cfgcallcompact1enoroot for /home/nonroot/experiment/datasets/classify_seqs/group1.1000/LIM/extr_pdf-op-run.c_pdf_show_pattern/: 'shufflevector'\n"
     ]
    },
    {
     "name": "stderr",
     "output_type": "stream",
     "text": [
      "LIM.extr_si_dpm.c_si_apply_state_adjust_rules:  63%|████████████████████████████████████████████████████████████████████████████████████▌                                                 | 3157/5000 [1:56:41<1:08:35,  2.23s/it]"
     ]
    },
    {
     "name": "stdout",
     "output_type": "stream",
     "text": [
      "Error extracting representation cfgcompact for /home/nonroot/experiment/datasets/classify_seqs/group1.1000/LIM/extr_si_dpm.c_si_apply_state_adjust_rules/: 'shufflevector'\n",
      "Error extracting representation cfgcallcompactnoroot for /home/nonroot/experiment/datasets/classify_seqs/group1.1000/LIM/extr_si_dpm.c_si_apply_state_adjust_rules/: 'shufflevector'\n"
     ]
    },
    {
     "name": "stderr",
     "output_type": "stream",
     "text": [
      "LIM.extr_mfi.c_mfi_linux_ioctl_int:  63%|███████████████████████████████████████████████████████████████████████████████████████████▌                                                     | 3158/5000 [1:56:43<1:06:49,  2.18s/it]"
     ]
    },
    {
     "name": "stdout",
     "output_type": "stream",
     "text": [
      "Error extracting representation cfgcallcompact1enoroot for /home/nonroot/experiment/datasets/classify_seqs/group1.1000/LIM/extr_si_dpm.c_si_apply_state_adjust_rules/: 'shufflevector'\n"
     ]
    },
    {
     "name": "stderr",
     "output_type": "stream",
     "text": [
      "LIM.extr_kstring.c_ksBM_prep:  63%|███████████████████████████████████████████████████████████████████████████████████████████████▌                                                       | 3165/5000 [1:56:59<1:06:16,  2.17s/it]"
     ]
    },
    {
     "name": "stdout",
     "output_type": "stream",
     "text": [
      "Error extracting representation cfgcompact for /home/nonroot/experiment/datasets/classify_seqs/group1.1000/LIM/extr_kstring.c_ksBM_prep/: 'shufflevector'\n",
      "Error extracting representation cfgcallcompactnoroot for /home/nonroot/experiment/datasets/classify_seqs/group1.1000/LIM/extr_kstring.c_ksBM_prep/: 'shufflevector'\n"
     ]
    },
    {
     "name": "stderr",
     "output_type": "stream",
     "text": [
      "LIM.extr_remote.c_remote_xfer_partial:  63%|█████████████████████████████████████████████████████████████████████████████████████████▉                                                    | 3166/5000 [1:57:01<1:03:27,  2.08s/it]"
     ]
    },
    {
     "name": "stdout",
     "output_type": "stream",
     "text": [
      "Error extracting representation cfgcallcompact1enoroot for /home/nonroot/experiment/datasets/classify_seqs/group1.1000/LIM/extr_kstring.c_ksBM_prep/: 'shufflevector'\n"
     ]
    },
    {
     "name": "stderr",
     "output_type": "stream",
     "text": [
      "LIM.extr_magicyuv.c_magy_decode_slice10:  64%|████████████████████████████████████████████████████████████████████████████████████████▉                                                   | 3175/5000 [1:57:21<1:04:58,  2.14s/it]"
     ]
    },
    {
     "name": "stdout",
     "output_type": "stream",
     "text": [
      "Error extracting representation cfgcompact for /home/nonroot/experiment/datasets/classify_seqs/group1.1000/LIM/extr_magicyuv.c_magy_decode_slice10/: 'shufflevector'\n",
      "Error extracting representation cfgcallcompactnoroot for /home/nonroot/experiment/datasets/classify_seqs/group1.1000/LIM/extr_magicyuv.c_magy_decode_slice10/: 'shufflevector'\n"
     ]
    },
    {
     "name": "stderr",
     "output_type": "stream",
     "text": [
      "LIM.extr_cart.c_parse_carthw:  64%|███████████████████████████████████████████████████████████████████████████████████████████████▉                                                       | 3176/5000 [1:57:23<1:02:11,  2.05s/it]"
     ]
    },
    {
     "name": "stdout",
     "output_type": "stream",
     "text": [
      "Error extracting representation cfgcallcompact1enoroot for /home/nonroot/experiment/datasets/classify_seqs/group1.1000/LIM/extr_magicyuv.c_magy_decode_slice10/: 'shufflevector'\n"
     ]
    },
    {
     "name": "stderr",
     "output_type": "stream",
     "text": [
      "LIM.extr_numeric.c_div_var_fast:  64%|██████████████████████████████████████████████████████████████████████████████████████████████                                                      | 3179/5000 [1:57:30<1:08:07,  2.24s/it]"
     ]
    },
    {
     "name": "stdout",
     "output_type": "stream",
     "text": [
      "Error extracting representation cfgcompact for /home/nonroot/experiment/datasets/classify_seqs/group1.1000/LIM/extr_numeric.c_div_var_fast/: 'shufflevector'\n",
      "Error extracting representation cfgcallcompactnoroot for /home/nonroot/experiment/datasets/classify_seqs/group1.1000/LIM/extr_numeric.c_div_var_fast/: 'shufflevector'\n"
     ]
    },
    {
     "name": "stderr",
     "output_type": "stream",
     "text": [
      "LIM.extr_seq_midi_emul.c_snd_midi_process_event:  64%|███████████████████████████████████████████████████████████████████████████████████▉                                                | 3180/5000 [1:57:32<1:05:23,  2.16s/it]"
     ]
    },
    {
     "name": "stdout",
     "output_type": "stream",
     "text": [
      "Error extracting representation cfgcallcompact1enoroot for /home/nonroot/experiment/datasets/classify_seqs/group1.1000/LIM/extr_numeric.c_div_var_fast/: 'shufflevector'\n"
     ]
    },
    {
     "name": "stderr",
     "output_type": "stream",
     "text": [
      "LIM.extr_psy.c_bark_noise_hybridmp:  64%|████████████████████████████████████████████████████████████████████████████████████████████▌                                                    | 3192/5000 [1:57:58<1:04:25,  2.14s/it]"
     ]
    },
    {
     "name": "stdout",
     "output_type": "stream",
     "text": [
      "Error extracting representation cfgcompact for /home/nonroot/experiment/datasets/classify_seqs/group1.1000/LIM/extr_psy.c_bark_noise_hybridmp/: 'shufflevector'\n",
      "Error extracting representation cfgcallcompactnoroot for /home/nonroot/experiment/datasets/classify_seqs/group1.1000/LIM/extr_psy.c_bark_noise_hybridmp/: 'shufflevector'\n"
     ]
    },
    {
     "name": "stderr",
     "output_type": "stream",
     "text": [
      "LIM.extr_snapbuild.c_SnapBuildCommitTxn:  64%|█████████████████████████████████████████████████████████████████████████████████████████▍                                                  | 3193/5000 [1:58:00<1:01:16,  2.03s/it]"
     ]
    },
    {
     "name": "stdout",
     "output_type": "stream",
     "text": [
      "Error extracting representation cfgcallcompact1enoroot for /home/nonroot/experiment/datasets/classify_seqs/group1.1000/LIM/extr_psy.c_bark_noise_hybridmp/: 'shufflevector'\n"
     ]
    },
    {
     "name": "stderr",
     "output_type": "stream",
     "text": [
      "LIM.extr_ieee1394_core.c_build_speed_map:  66%|████████████████████████████████████████████████████████████████████████████████████████████▍                                                | 3277/5000 [2:01:06<59:36,  2.08s/it]"
     ]
    },
    {
     "name": "stdout",
     "output_type": "stream",
     "text": [
      "Error extracting representation cfgcompact for /home/nonroot/experiment/datasets/classify_seqs/group1.1000/LIM/extr_ieee1394_core.c_build_speed_map/: 'shufflevector'\n",
      "Error extracting representation cfgcallcompactnoroot for /home/nonroot/experiment/datasets/classify_seqs/group1.1000/LIM/extr_ieee1394_core.c_build_speed_map/: 'shufflevector'\n"
     ]
    },
    {
     "name": "stderr",
     "output_type": "stream",
     "text": [
      "LIM.extr_qdm2.c_qdm2_fft_tone_synthesizer:  66%|███████████████████████████████████████████████████████████████████████████████████████████▊                                                | 3278/5000 [2:01:07<58:12,  2.03s/it]"
     ]
    },
    {
     "name": "stdout",
     "output_type": "stream",
     "text": [
      "Error extracting representation cfgcallcompact1enoroot for /home/nonroot/experiment/datasets/classify_seqs/group1.1000/LIM/extr_ieee1394_core.c_build_speed_map/: 'shufflevector'\n"
     ]
    },
    {
     "name": "stderr",
     "output_type": "stream",
     "text": [
      "LIM.extr_span.c_gl_write_monocolor_span:  66%|████████████████████████████████████████████████████████████████████████████████████████████                                                | 3289/5000 [2:01:33<1:02:00,  2.17s/it]"
     ]
    },
    {
     "name": "stdout",
     "output_type": "stream",
     "text": [
      "Error extracting representation cfgcompact for /home/nonroot/experiment/datasets/classify_seqs/group1.1000/LIM/extr_span.c_gl_write_monocolor_span/: 'shufflevector'\n",
      "Error extracting representation cfgcallcompactnoroot for /home/nonroot/experiment/datasets/classify_seqs/group1.1000/LIM/extr_span.c_gl_write_monocolor_span/: 'shufflevector'\n"
     ]
    },
    {
     "name": "stderr",
     "output_type": "stream",
     "text": [
      "LIM.extr_rtmppkt.c_rtmp_packet_read_one_chunk:  66%|█████████████████████████████████████████████████████████████████████████████████████████▍                                              | 3290/5000 [2:01:35<59:14,  2.08s/it]"
     ]
    },
    {
     "name": "stdout",
     "output_type": "stream",
     "text": [
      "Error extracting representation cfgcallcompact1enoroot for /home/nonroot/experiment/datasets/classify_seqs/group1.1000/LIM/extr_span.c_gl_write_monocolor_span/: 'shufflevector'\n"
     ]
    },
    {
     "name": "stderr",
     "output_type": "stream",
     "text": [
      "LIM.extr_opus_silk.c_silk_stabilize_lsf:  67%|█████████████████████████████████████████████████████████████████████████████████████████████▏                                              | 3327/5000 [2:02:54<1:01:16,  2.20s/it]"
     ]
    },
    {
     "name": "stdout",
     "output_type": "stream",
     "text": [
      "Error extracting representation cfgcompact for /home/nonroot/experiment/datasets/classify_seqs/group1.1000/LIM/extr_opus_silk.c_silk_stabilize_lsf/: 'shufflevector'\n",
      "Error extracting representation cfgcallcompactnoroot for /home/nonroot/experiment/datasets/classify_seqs/group1.1000/LIM/extr_opus_silk.c_silk_stabilize_lsf/: 'shufflevector'\n"
     ]
    },
    {
     "name": "stderr",
     "output_type": "stream",
     "text": [
      "LIM.extr_rm.c_rm_file:  67%|██████████████████████████████████████████████████████████████████████████████████████████████████████████▍                                                     | 3328/5000 [2:02:56<57:58,  2.08s/it]"
     ]
    },
    {
     "name": "stdout",
     "output_type": "stream",
     "text": [
      "Error extracting representation cfgcallcompact1enoroot for /home/nonroot/experiment/datasets/classify_seqs/group1.1000/LIM/extr_opus_silk.c_silk_stabilize_lsf/: 'shufflevector'\n"
     ]
    },
    {
     "name": "stderr",
     "output_type": "stream",
     "text": [
      "LIM.extr_mlx4_qp.c_mlx4_init_qp_table:  67%|███████████████████████████████████████████████████████████████████████████████████████████████▉                                                | 3329/5000 [2:02:58<58:12,  2.09s/it]"
     ]
    },
    {
     "name": "stdout",
     "output_type": "stream",
     "text": [
      "Error extracting representation cfgcompact for /home/nonroot/experiment/datasets/classify_seqs/group1.1000/LIM/extr_mlx4_qp.c_mlx4_init_qp_table/: 'shufflevector'\n",
      "Error extracting representation cfgcallcompactnoroot for /home/nonroot/experiment/datasets/classify_seqs/group1.1000/LIM/extr_mlx4_qp.c_mlx4_init_qp_table/: 'shufflevector'\n"
     ]
    },
    {
     "name": "stderr",
     "output_type": "stream",
     "text": [
      "LIM.extr_tif_dirread.c_TIFFReadDirEntryDoubleArray:  67%|███████████████████████████████████████████████████████████████████████████████████████▏                                           | 3330/5000 [2:03:00<56:06,  2.02s/it]"
     ]
    },
    {
     "name": "stdout",
     "output_type": "stream",
     "text": [
      "Error extracting representation cfgcallcompact1enoroot for /home/nonroot/experiment/datasets/classify_seqs/group1.1000/LIM/extr_mlx4_qp.c_mlx4_init_qp_table/: 'shufflevector'\n"
     ]
    },
    {
     "name": "stderr",
     "output_type": "stream",
     "text": [
      "LIM.extr_tc-score.c_data_op2:  67%|██████████████████████████████████████████████████████████████████████████████████████████████████████                                                   | 3336/5000 [2:03:13<58:53,  2.12s/it]"
     ]
    },
    {
     "name": "stdout",
     "output_type": "stream",
     "text": [
      "Error extracting representation cfgcompact for /home/nonroot/experiment/datasets/classify_seqs/group1.1000/LIM/extr_tc-score.c_data_op2/: 'shufflevector'\n",
      "Error extracting representation cfgcallcompactnoroot for /home/nonroot/experiment/datasets/classify_seqs/group1.1000/LIM/extr_tc-score.c_data_op2/: 'shufflevector'\n"
     ]
    },
    {
     "name": "stderr",
     "output_type": "stream",
     "text": [
      "LIM.extr_sunrastenc.c_sunrast_image_write_image:  67%|█████████████████████████████████████████████████████████████████████████████████████████▍                                            | 3337/5000 [2:03:15<56:25,  2.04s/it]"
     ]
    },
    {
     "name": "stdout",
     "output_type": "stream",
     "text": [
      "Error extracting representation cfgcallcompact1enoroot for /home/nonroot/experiment/datasets/classify_seqs/group1.1000/LIM/extr_tc-score.c_data_op2/: 'shufflevector'\n"
     ]
    },
    {
     "name": "stderr",
     "output_type": "stream",
     "text": [
      "LIM.extr_svg-run.c_svg_add_arc:  68%|██████████████████████████████████████████████████████████████████████████████████████████████████████▉                                                | 3410/5000 [2:05:56<58:30,  2.21s/it]"
     ]
    },
    {
     "name": "stdout",
     "output_type": "stream",
     "text": [
      "Error extracting representation cfgcompact for /home/nonroot/experiment/datasets/classify_seqs/group1.1000/LIM/extr_svg-run.c_svg_add_arc/: 'shufflevector'\n",
      "Error extracting representation cfgcallcompactnoroot for /home/nonroot/experiment/datasets/classify_seqs/group1.1000/LIM/extr_svg-run.c_svg_add_arc/: 'shufflevector'\n"
     ]
    },
    {
     "name": "stderr",
     "output_type": "stream",
     "text": [
      "LIM.extr_dib32bpp.c_DIB_32BPP_AlphaBlend:  68%|████████████████████████████████████████████████████████████████████████████████████████████████▏                                            | 3411/5000 [2:05:58<54:10,  2.05s/it]"
     ]
    },
    {
     "name": "stdout",
     "output_type": "stream",
     "text": [
      "Error extracting representation cfgcallcompact1enoroot for /home/nonroot/experiment/datasets/classify_seqs/group1.1000/LIM/extr_svg-run.c_svg_add_arc/: 'shufflevector'\n"
     ]
    },
    {
     "name": "stderr",
     "output_type": "stream",
     "text": [
      "LIM.extr_synctex_parser.c_synctex_edit_query:  68%|█████████████████████████████████████████████████████████████████████████████████████████████▋                                           | 3418/5000 [2:06:12<52:46,  2.00s/it]"
     ]
    },
    {
     "name": "stdout",
     "output_type": "stream",
     "text": [
      "Error extracting representation cfgcompact for /home/nonroot/experiment/datasets/classify_seqs/group1.1000/LIM/extr_synctex_parser.c_synctex_edit_query/: 'shufflevector'\n",
      "Error extracting representation cfgcallcompactnoroot for /home/nonroot/experiment/datasets/classify_seqs/group1.1000/LIM/extr_synctex_parser.c_synctex_edit_query/: 'shufflevector'\n"
     ]
    },
    {
     "name": "stderr",
     "output_type": "stream",
     "text": [
      "LIM.extr_inet_ntop.c_inet_ntop6:  68%|██████████████████████████████████████████████████████████████████████████████████████████████████████▌                                               | 3419/5000 [2:06:14<50:41,  1.92s/it]"
     ]
    },
    {
     "name": "stdout",
     "output_type": "stream",
     "text": [
      "Error extracting representation cfgcallcompact1enoroot for /home/nonroot/experiment/datasets/classify_seqs/group1.1000/LIM/extr_synctex_parser.c_synctex_edit_query/: 'shufflevector'\n"
     ]
    },
    {
     "name": "stderr",
     "output_type": "stream",
     "text": [
      "LIM.extr_shade.c_gl_color_shade_vertices:  68%|████████████████████████████████████████████████████████████████████████████████████████████████▍                                            | 3420/5000 [2:06:16<52:58,  2.01s/it]"
     ]
    },
    {
     "name": "stdout",
     "output_type": "stream",
     "text": [
      "Error extracting representation cfgcompact for /home/nonroot/experiment/datasets/classify_seqs/group1.1000/LIM/extr_shade.c_gl_color_shade_vertices/: 'shufflevector'\n",
      "Error extracting representation cfgcallcompactnoroot for /home/nonroot/experiment/datasets/classify_seqs/group1.1000/LIM/extr_shade.c_gl_color_shade_vertices/: 'shufflevector'\n"
     ]
    },
    {
     "name": "stderr",
     "output_type": "stream",
     "text": [
      "LIM.extr_af9005.c_af9005_generic_read_write:  68%|██████████████████████████████████████████████████████████████████████████████████████████████▍                                           | 3421/5000 [2:06:18<50:44,  1.93s/it]"
     ]
    },
    {
     "name": "stdout",
     "output_type": "stream",
     "text": [
      "Error extracting representation cfgcallcompact1enoroot for /home/nonroot/experiment/datasets/classify_seqs/group1.1000/LIM/extr_shade.c_gl_color_shade_vertices/: 'shufflevector'\n"
     ]
    },
    {
     "name": "stderr",
     "output_type": "stream",
     "text": [
      "LIM.extr_conmakehash.c_main:  69%|█████████████████████████████████████████████████████████████████████████████████████████████████████████▊                                                | 3437/5000 [2:06:51<55:20,  2.12s/it]"
     ]
    },
    {
     "name": "stdout",
     "output_type": "stream",
     "text": [
      "Error extracting representation cfgcompact for /home/nonroot/experiment/datasets/classify_seqs/group1.1000/LIM/extr_conmakehash.c_main/: 'shufflevector'\n",
      "Error extracting representation cfgcallcompactnoroot for /home/nonroot/experiment/datasets/classify_seqs/group1.1000/LIM/extr_conmakehash.c_main/: 'shufflevector'\n"
     ]
    },
    {
     "name": "stderr",
     "output_type": "stream",
     "text": [
      "LIM.extr_floatformat.c_floatformat_from_double:  69%|████████████████████████████████████████████████████████████████████████████████████████████▊                                          | 3438/5000 [2:06:53<53:11,  2.04s/it]"
     ]
    },
    {
     "name": "stdout",
     "output_type": "stream",
     "text": [
      "Error extracting representation cfgcallcompact1enoroot for /home/nonroot/experiment/datasets/classify_seqs/group1.1000/LIM/extr_conmakehash.c_main/: 'shufflevector'\n"
     ]
    },
    {
     "name": "stderr",
     "output_type": "stream",
     "text": [
      "LIM.extr_joycfg.c_read_config:  69%|█████████████████████████████████████████████████████████████████████████████████████████████████████████                                               | 3455/5000 [2:07:30<45:54,  1.78s/it]/home/nonroot/experiment/datasets/classify_seqs/group1.1000/LIM/extr_joycfg.c_read_config//a.out_o.bc: /home/nonroot/experiment/datasets/classify_seqs/group1.1000/LIM/extr_joycfg.c_read_config//a.out_o.bc: error: Could not open input file: No such file or directory\n",
      "LIM.extr_lemon.c_Symbol_insert:  69%|████████████████████████████████████████████████████████████████████████████████████████████████████████▎                                              | 3455/5000 [2:07:30<45:54,  1.78s/it]"
     ]
    },
    {
     "name": "stdout",
     "output_type": "stream",
     "text": [
      "Error extracting IR from /home/nonroot/experiment/datasets/classify_seqs/group1.1000/LIM/extr_joycfg.c_read_config//a.out_o.bc: Failed parse IR file\n"
     ]
    },
    {
     "name": "stderr",
     "output_type": "stream",
     "text": [
      "LIM.extr_https-client.c_main:  69%|██████████████████████████████████████████████████████████████████████████████████████████████████████████▎                                              | 3474/5000 [2:08:11<40:25,  1.59s/it]/home/nonroot/experiment/datasets/classify_seqs/group1.1000/LIM/extr_https-client.c_main//a.out_o.bc: /home/nonroot/experiment/datasets/classify_seqs/group1.1000/LIM/extr_https-client.c_main//a.out_o.bc: error: Could not open input file: No such file or directory\n",
      "LIM.extr_eeprom_9287.c_ath9k_hw_ar9287_check_eeprom:  69%|██████████████████████████████████████████████████████████████████████████████████████████▎                                       | 3474/5000 [2:08:11<40:25,  1.59s/it]"
     ]
    },
    {
     "name": "stdout",
     "output_type": "stream",
     "text": [
      "Error extracting IR from /home/nonroot/experiment/datasets/classify_seqs/group1.1000/LIM/extr_https-client.c_main//a.out_o.bc: Failed parse IR file\n",
      "Error extracting representation cfgcompact for /home/nonroot/experiment/datasets/classify_seqs/group1.1000/LIM/extr_eeprom_9287.c_ath9k_hw_ar9287_check_eeprom/: 'shufflevector'\n",
      "Error extracting representation cfgcallcompactnoroot for /home/nonroot/experiment/datasets/classify_seqs/group1.1000/LIM/extr_eeprom_9287.c_ath9k_hw_ar9287_check_eeprom/: 'shufflevector'\n"
     ]
    },
    {
     "name": "stderr",
     "output_type": "stream",
     "text": [
      "LIM.extr_collect2.c_scan_prog_file:  70%|██████████████████████████████████████████████████████████████████████████████████████████████████████▏                                            | 3475/5000 [2:08:13<41:00,  1.61s/it]"
     ]
    },
    {
     "name": "stdout",
     "output_type": "stream",
     "text": [
      "Error extracting representation cfgcallcompact1enoroot for /home/nonroot/experiment/datasets/classify_seqs/group1.1000/LIM/extr_eeprom_9287.c_ath9k_hw_ar9287_check_eeprom/: 'shufflevector'\n"
     ]
    },
    {
     "name": "stderr",
     "output_type": "stream",
     "text": [
      "LIM.extr_vm_map.c_vm_map_copyout_internal:  70%|████████████████████████████████████████████████████████████████████████████████████████████████▊                                         | 3508/5000 [2:09:26<1:00:28,  2.43s/it]"
     ]
    },
    {
     "name": "stdout",
     "output_type": "stream",
     "text": [
      "Error extracting representation cfgcompact for /home/nonroot/experiment/datasets/classify_seqs/group1.1000/LIM/extr_vm_map.c_vm_map_copyout_internal/: 'shufflevector'\n",
      "Error extracting representation cfgcallcompactnoroot for /home/nonroot/experiment/datasets/classify_seqs/group1.1000/LIM/extr_vm_map.c_vm_map_copyout_internal/: 'shufflevector'\n"
     ]
    },
    {
     "name": "stderr",
     "output_type": "stream",
     "text": [
      "LIM.extr_ngx_http_write_filter_module.c_ngx_http_write_filter:  70%|████████████████████████████████████████████████████████████████████████████████████▏                                   | 3509/5000 [2:09:28<56:05,  2.26s/it]"
     ]
    },
    {
     "name": "stdout",
     "output_type": "stream",
     "text": [
      "Error extracting representation cfgcallcompact1enoroot for /home/nonroot/experiment/datasets/classify_seqs/group1.1000/LIM/extr_vm_map.c_vm_map_copyout_internal/: 'shufflevector'\n"
     ]
    },
    {
     "name": "stderr",
     "output_type": "stream",
     "text": [
      "LIM.extr_eeprom_def.c_ath9k_hw_def_check_eeprom:  70%|██████████████████████████████████████████████████████████████████████████████████████████████▎                                       | 3520/5000 [2:09:54<58:10,  2.36s/it]"
     ]
    },
    {
     "name": "stdout",
     "output_type": "stream",
     "text": [
      "Error extracting representation cfgcompact for /home/nonroot/experiment/datasets/classify_seqs/group1.1000/LIM/extr_eeprom_def.c_ath9k_hw_def_check_eeprom/: 'shufflevector'\n",
      "Error extracting representation cfgcallcompactnoroot for /home/nonroot/experiment/datasets/classify_seqs/group1.1000/LIM/extr_eeprom_def.c_ath9k_hw_def_check_eeprom/: 'shufflevector'\n"
     ]
    },
    {
     "name": "stderr",
     "output_type": "stream",
     "text": [
      "LIM.extr_agraph.c_original_traverse_l:  70%|█████████████████████████████████████████████████████████████████████████████████████████████████████▍                                          | 3521/5000 [2:09:56<53:34,  2.17s/it]"
     ]
    },
    {
     "name": "stdout",
     "output_type": "stream",
     "text": [
      "Error extracting representation cfgcallcompact1enoroot for /home/nonroot/experiment/datasets/classify_seqs/group1.1000/LIM/extr_eeprom_def.c_ath9k_hw_def_check_eeprom/: 'shufflevector'\n"
     ]
    },
    {
     "name": "stderr",
     "output_type": "stream",
     "text": [
      "LIM.extr_bch.c_solve_linear_system:  70%|███████████████████████████████████████████████████████████████████████████████████████████████████████▋                                           | 3525/5000 [2:10:04<52:18,  2.13s/it]"
     ]
    },
    {
     "name": "stdout",
     "output_type": "stream",
     "text": [
      "Error extracting representation cfgcompact for /home/nonroot/experiment/datasets/classify_seqs/group1.1000/LIM/extr_bch.c_solve_linear_system/: 'shufflevector'\n",
      "Error extracting representation cfgcallcompactnoroot for /home/nonroot/experiment/datasets/classify_seqs/group1.1000/LIM/extr_bch.c_solve_linear_system/: 'shufflevector'\n"
     ]
    },
    {
     "name": "stderr",
     "output_type": "stream",
     "text": [
      "LIM.extr_main.c_mlx4_load_one:  71%|███████████████████████████████████████████████████████████████████████████████████████████████████████████▏                                            | 3526/5000 [2:10:06<49:39,  2.02s/it]"
     ]
    },
    {
     "name": "stdout",
     "output_type": "stream",
     "text": [
      "Error extracting representation cfgcallcompact1enoroot for /home/nonroot/experiment/datasets/classify_seqs/group1.1000/LIM/extr_bch.c_solve_linear_system/: 'shufflevector'\n"
     ]
    },
    {
     "name": "stderr",
     "output_type": "stream",
     "text": [
      "LIM.extr_cl_cin.c_CIN_DrawCinematic:  71%|███████████████████████████████████████████████████████████████████████████████████████████████████████▏                                          | 3535/5000 [2:10:27<57:10,  2.34s/it]"
     ]
    },
    {
     "name": "stdout",
     "output_type": "stream",
     "text": [
      "Error extracting representation cfgcompact for /home/nonroot/experiment/datasets/classify_seqs/group1.1000/LIM/extr_cl_cin.c_CIN_DrawCinematic/: 'shufflevector'\n",
      "Error extracting representation cfgcallcompactnoroot for /home/nonroot/experiment/datasets/classify_seqs/group1.1000/LIM/extr_cl_cin.c_CIN_DrawCinematic/: 'shufflevector'\n"
     ]
    },
    {
     "name": "stderr",
     "output_type": "stream",
     "text": [
      "LIM.extr_dcn20_resource.c_cap_soc_clocks:  71%|███████████████████████████████████████████████████████████████████████████████████████████████████▋                                         | 3536/5000 [2:10:29<52:42,  2.16s/it]"
     ]
    },
    {
     "name": "stdout",
     "output_type": "stream",
     "text": [
      "Error extracting representation cfgcallcompact1enoroot for /home/nonroot/experiment/datasets/classify_seqs/group1.1000/LIM/extr_cl_cin.c_CIN_DrawCinematic/: 'shufflevector'\n",
      "Error extracting representation cfgcompact for /home/nonroot/experiment/datasets/classify_seqs/group1.1000/LIM/extr_dcn20_resource.c_cap_soc_clocks/: 'shufflevector'\n",
      "Error extracting representation cfgcallcompactnoroot for /home/nonroot/experiment/datasets/classify_seqs/group1.1000/LIM/extr_dcn20_resource.c_cap_soc_clocks/: 'shufflevector'\n"
     ]
    },
    {
     "name": "stderr",
     "output_type": "stream",
     "text": [
      "LIM.extr_support-data.c_delete_html_entities:  71%|████████████████████████████████████████████████████████████████████████████████████████████████▉                                        | 3537/5000 [2:10:30<49:29,  2.03s/it]"
     ]
    },
    {
     "name": "stdout",
     "output_type": "stream",
     "text": [
      "Error extracting representation cfgcallcompact1enoroot for /home/nonroot/experiment/datasets/classify_seqs/group1.1000/LIM/extr_dcn20_resource.c_cap_soc_clocks/: 'shufflevector'\n"
     ]
    },
    {
     "name": "stderr",
     "output_type": "stream",
     "text": [
      "LIM.extr_cl_cin.c_CIN_ResampleCinematic:  71%|████████████████████████████████████████████████████████████████████████████████████████████████████▌                                         | 3542/5000 [2:10:42<55:55,  2.30s/it]"
     ]
    },
    {
     "name": "stdout",
     "output_type": "stream",
     "text": [
      "Error extracting representation cfgcompact for /home/nonroot/experiment/datasets/classify_seqs/group1.1000/LIM/extr_cl_cin.c_CIN_ResampleCinematic/: 'shufflevector'\n",
      "Error extracting representation cfgcallcompactnoroot for /home/nonroot/experiment/datasets/classify_seqs/group1.1000/LIM/extr_cl_cin.c_CIN_ResampleCinematic/: 'shufflevector'\n"
     ]
    },
    {
     "name": "stderr",
     "output_type": "stream",
     "text": [
      "LIM.extr_ata-intel.c_ata_intel_new_setmode:  71%|██████████████████████████████████████████████████████████████████████████████████████████████████▍                                        | 3543/5000 [2:10:44<51:56,  2.14s/it]"
     ]
    },
    {
     "name": "stdout",
     "output_type": "stream",
     "text": [
      "Error extracting representation cfgcallcompact1enoroot for /home/nonroot/experiment/datasets/classify_seqs/group1.1000/LIM/extr_cl_cin.c_CIN_ResampleCinematic/: 'shufflevector'\n"
     ]
    },
    {
     "name": "stderr",
     "output_type": "stream",
     "text": [
      "LIM.extr_ddbridge-sx8.c_start:  72%|████████████████████████████████████████████████████████████████████████████████████████████████████████████▋                                           | 3577/5000 [2:11:59<49:50,  2.10s/it]"
     ]
    },
    {
     "name": "stdout",
     "output_type": "stream",
     "text": [
      "Error extracting representation cfgcompact for /home/nonroot/experiment/datasets/classify_seqs/group1.1000/LIM/extr_ddbridge-sx8.c_start/: 'shufflevector'\n",
      "Error extracting representation cfgcallcompactnoroot for /home/nonroot/experiment/datasets/classify_seqs/group1.1000/LIM/extr_ddbridge-sx8.c_start/: 'shufflevector'\n"
     ]
    },
    {
     "name": "stderr",
     "output_type": "stream",
     "text": [
      "LIM.extr_pci_common.c_pci_determine_mem_io_space:  72%|███████████████████████████████████████████████████████████████████████████████████████████████▏                                     | 3578/5000 [2:12:01<47:46,  2.02s/it]"
     ]
    },
    {
     "name": "stdout",
     "output_type": "stream",
     "text": [
      "Error extracting representation cfgcallcompact1enoroot for /home/nonroot/experiment/datasets/classify_seqs/group1.1000/LIM/extr_ddbridge-sx8.c_start/: 'shufflevector'\n"
     ]
    },
    {
     "name": "stderr",
     "output_type": "stream",
     "text": [
      "LIM.extr_aacraid.c_aac_check_firmware:  72%|████████████████████████████████████████████████████████████████████████████████████████████████████████                                        | 3614/5000 [2:13:19<38:07,  1.65s/it]/home/nonroot/experiment/datasets/classify_seqs/group1.1000/LIM/extr_dbtotxt.c_main//a.out_o.bc: /home/nonroot/experiment/datasets/classify_seqs/group1.1000/LIM/extr_dbtotxt.c_main//a.out_o.bc: error: Could not open input file: No such file or directory\n",
      "LIM.extr_aacraid.c_aac_check_firmware:  72%|████████████████████████████████████████████████████████████████████████████████████████████████████████                                        | 3614/5000 [2:13:19<38:07,  1.65s/it]"
     ]
    },
    {
     "name": "stdout",
     "output_type": "stream",
     "text": [
      "Error extracting IR from /home/nonroot/experiment/datasets/classify_seqs/group1.1000/LIM/extr_dbtotxt.c_main//a.out_o.bc: Failed parse IR file\n"
     ]
    },
    {
     "name": "stderr",
     "output_type": "stream",
     "text": [
      "LIM.extr_mgmtMeter.c_mgmtMeterActionBatchUpdate:  74%|██████████████████████████████████████████████████████████████████████████████████████████████████▋                                   | 3683/5000 [2:15:48<46:25,  2.11s/it]"
     ]
    },
    {
     "name": "stdout",
     "output_type": "stream",
     "text": [
      "Error extracting representation cfgcompact for /home/nonroot/experiment/datasets/classify_seqs/group1.1000/LIM/extr_mgmtMeter.c_mgmtMeterActionBatchUpdate/: 'shufflevector'\n",
      "Error extracting representation cfgcallcompactnoroot for /home/nonroot/experiment/datasets/classify_seqs/group1.1000/LIM/extr_mgmtMeter.c_mgmtMeterActionBatchUpdate/: 'shufflevector'\n"
     ]
    },
    {
     "name": "stderr",
     "output_type": "stream",
     "text": [
      "LIM.extr_apr_snprintf.c_apr_cvt:  74%|██████████████████████████████████████████████████████████████████████████████████████████████████████████████▌                                       | 3684/5000 [2:15:49<44:01,  2.01s/it]"
     ]
    },
    {
     "name": "stdout",
     "output_type": "stream",
     "text": [
      "Error extracting representation cfgcallcompact1enoroot for /home/nonroot/experiment/datasets/classify_seqs/group1.1000/LIM/extr_mgmtMeter.c_mgmtMeterActionBatchUpdate/: 'shufflevector'\n"
     ]
    },
    {
     "name": "stderr",
     "output_type": "stream",
     "text": [
      "LIM.extr_vorbisfile.c_ov_raw_seek:  74%|█████████████████████████████████████████████████████████████████████████████████████████████████████████████▍                                      | 3698/5000 [2:16:20<50:14,  2.32s/it]"
     ]
    },
    {
     "name": "stdout",
     "output_type": "stream",
     "text": [
      "Error extracting representation cfgcompact for /home/nonroot/experiment/datasets/classify_seqs/group1.1000/LIM/extr_vorbisfile.c_ov_raw_seek/: 'shufflevector'\n",
      "Error extracting representation cfgcallcompactnoroot for /home/nonroot/experiment/datasets/classify_seqs/group1.1000/LIM/extr_vorbisfile.c_ov_raw_seek/: 'shufflevector'\n"
     ]
    },
    {
     "name": "stderr",
     "output_type": "stream",
     "text": [
      "LIM.extr_lsmtest_main.c_do_speed_test2:  74%|█████████████████████████████████████████████████████████████████████████████████████████████████████████▊                                     | 3699/5000 [2:16:22<46:50,  2.16s/it]"
     ]
    },
    {
     "name": "stdout",
     "output_type": "stream",
     "text": [
      "Error extracting representation cfgcallcompact1enoroot for /home/nonroot/experiment/datasets/classify_seqs/group1.1000/LIM/extr_vorbisfile.c_ov_raw_seek/: 'shufflevector'\n"
     ]
    },
    {
     "name": "stderr",
     "output_type": "stream",
     "text": [
      "LIM.extr_ar9003_paprd.c_create_pa_curve:  74%|█████████████████████████████████████████████████████████████████████████████████████████████████████████▌                                    | 3719/5000 [2:17:05<45:29,  2.13s/it]"
     ]
    },
    {
     "name": "stdout",
     "output_type": "stream",
     "text": [
      "Error extracting representation cfgcompact for /home/nonroot/experiment/datasets/classify_seqs/group1.1000/LIM/extr_ar9003_paprd.c_create_pa_curve/: 'shufflevector'\n",
      "Error extracting representation cfgcallcompactnoroot for /home/nonroot/experiment/datasets/classify_seqs/group1.1000/LIM/extr_ar9003_paprd.c_create_pa_curve/: 'shufflevector'\n"
     ]
    },
    {
     "name": "stderr",
     "output_type": "stream",
     "text": [
      "LIM.extr_iterator.c_process_response:  74%|███████████████████████████████████████████████████████████████████████████████████████████████████████████▉                                     | 3720/5000 [2:17:07<44:31,  2.09s/it]"
     ]
    },
    {
     "name": "stdout",
     "output_type": "stream",
     "text": [
      "Error extracting representation cfgcallcompact1enoroot for /home/nonroot/experiment/datasets/classify_seqs/group1.1000/LIM/extr_ar9003_paprd.c_create_pa_curve/: 'shufflevector'\n"
     ]
    },
    {
     "name": "stderr",
     "output_type": "stream",
     "text": [
      "LIM.extr_ccv_nnc_tensor_tape.c__ccv_nnc_tape_exec_data_move:  75%|███████████████████████████████████████████████████████████████████████████████████████████                               | 3731/5000 [2:17:33<47:57,  2.27s/it]"
     ]
    },
    {
     "name": "stdout",
     "output_type": "stream",
     "text": [
      "Error extracting representation cfgcompact for /home/nonroot/experiment/datasets/classify_seqs/group1.1000/LIM/extr_ccv_nnc_tensor_tape.c__ccv_nnc_tape_exec_data_move/: 'shufflevector'\n",
      "Error extracting representation cfgcallcompactnoroot for /home/nonroot/experiment/datasets/classify_seqs/group1.1000/LIM/extr_ccv_nnc_tensor_tape.c__ccv_nnc_tape_exec_data_move/: 'shufflevector'\n"
     ]
    },
    {
     "name": "stderr",
     "output_type": "stream",
     "text": [
      "LIM.extr_util.c_ldns_b32_pton_base:  75%|█████████████████████████████████████████████████████████████████████████████████████████████████████████████▋                                     | 3732/5000 [2:17:34<45:09,  2.14s/it]"
     ]
    },
    {
     "name": "stdout",
     "output_type": "stream",
     "text": [
      "Error extracting representation cfgcallcompact1enoroot for /home/nonroot/experiment/datasets/classify_seqs/group1.1000/LIM/extr_ccv_nnc_tensor_tape.c__ccv_nnc_tape_exec_data_move/: 'shufflevector'\n"
     ]
    },
    {
     "name": "stderr",
     "output_type": "stream",
     "text": [
      "LIM.extr_copyexec-data.c_exec_transaction:  75%|████████████████████████████████████████████████████████████████████████████████████████████████████████▌                                   | 3733/5000 [2:17:37<44:49,  2.12s/it]"
     ]
    },
    {
     "name": "stdout",
     "output_type": "stream",
     "text": [
      "Error extracting representation cfgcompact for /home/nonroot/experiment/datasets/classify_seqs/group1.1000/LIM/extr_copyexec-data.c_exec_transaction/: 'shufflevector'\n",
      "Error extracting representation cfgcallcompactnoroot for /home/nonroot/experiment/datasets/classify_seqs/group1.1000/LIM/extr_copyexec-data.c_exec_transaction/: 'shufflevector'\n"
     ]
    },
    {
     "name": "stderr",
     "output_type": "stream",
     "text": [
      "LIM.extr_nbtsort.c__bt_buildadd:  75%|████████████████████████████████████████████████████████████████████████████████████████████████████████████████                                      | 3734/5000 [2:17:38<42:48,  2.03s/it]"
     ]
    },
    {
     "name": "stdout",
     "output_type": "stream",
     "text": [
      "Error extracting representation cfgcallcompact1enoroot for /home/nonroot/experiment/datasets/classify_seqs/group1.1000/LIM/extr_copyexec-data.c_exec_transaction/: 'shufflevector'\n"
     ]
    },
    {
     "name": "stderr",
     "output_type": "stream",
     "text": [
      "LIM.extr_diskonchip.c_doc_ecc_decode:  75%|████████████████████████████████████████████████████████████████████████████████████████████████████████████▎                                    | 3736/5000 [2:17:43<46:14,  2.20s/it]"
     ]
    },
    {
     "name": "stdout",
     "output_type": "stream",
     "text": [
      "Error extracting representation cfgcompact for /home/nonroot/experiment/datasets/classify_seqs/group1.1000/LIM/extr_diskonchip.c_doc_ecc_decode/: 'shufflevector'\n",
      "Error extracting representation cfgcallcompactnoroot for /home/nonroot/experiment/datasets/classify_seqs/group1.1000/LIM/extr_diskonchip.c_doc_ecc_decode/: 'shufflevector'\n"
     ]
    },
    {
     "name": "stderr",
     "output_type": "stream",
     "text": [
      "LIM.extr_grep.c_main:  75%|████████████████████████████████████████████████████████████████████████████████████████████████████████████████████████▎                                        | 3737/5000 [2:17:45<43:36,  2.07s/it]"
     ]
    },
    {
     "name": "stdout",
     "output_type": "stream",
     "text": [
      "Error extracting representation cfgcallcompact1enoroot for /home/nonroot/experiment/datasets/classify_seqs/group1.1000/LIM/extr_diskonchip.c_doc_ecc_decode/: 'shufflevector'\n"
     ]
    },
    {
     "name": "stderr",
     "output_type": "stream",
     "text": [
      "LIM.extr_hlr_auc_gw.c_read_milenage:  75%|██████████████████████████████████████████████████████████████████████████████████████████████████████████████▏                                   | 3772/5000 [2:19:02<32:59,  1.61s/it]/home/nonroot/experiment/datasets/classify_seqs/group1.1000/LIM/extr_hlr_auc_gw.c_read_milenage//a.out_o.bc: /home/nonroot/experiment/datasets/classify_seqs/group1.1000/LIM/extr_hlr_auc_gw.c_read_milenage//a.out_o.bc: error: Could not open input file: No such file or directory\n",
      "LIM.extr_floor1.c_floor1_encode:  75%|█████████████████████████████████████████████████████████████████████████████████████████████████████████████████▏                                    | 3772/5000 [2:19:02<32:59,  1.61s/it]"
     ]
    },
    {
     "name": "stdout",
     "output_type": "stream",
     "text": [
      "Error extracting IR from /home/nonroot/experiment/datasets/classify_seqs/group1.1000/LIM/extr_hlr_auc_gw.c_read_milenage//a.out_o.bc: Failed parse IR file\n"
     ]
    },
    {
     "name": "stderr",
     "output_type": "stream",
     "text": [
      "LIM.extr_zfs_main.c_userspace_cb:  76%|████████████████████████████████████████████████████████████████████████████████████████████████████████████████▌                                    | 3777/5000 [2:19:14<45:11,  2.22s/it]"
     ]
    },
    {
     "name": "stdout",
     "output_type": "stream",
     "text": [
      "Error extracting representation cfgcompact for /home/nonroot/experiment/datasets/classify_seqs/group1.1000/LIM/extr_zfs_main.c_userspace_cb/: 'shufflevector'\n",
      "Error extracting representation cfgcallcompactnoroot for /home/nonroot/experiment/datasets/classify_seqs/group1.1000/LIM/extr_zfs_main.c_userspace_cb/: 'shufflevector'\n"
     ]
    },
    {
     "name": "stderr",
     "output_type": "stream",
     "text": [
      "LIM.extr_csum_partial_copy.c_do_csum_c:  76%|████████████████████████████████████████████████████████████████████████████████████████████████████████████                                   | 3778/5000 [2:19:16<42:25,  2.08s/it]"
     ]
    },
    {
     "name": "stdout",
     "output_type": "stream",
     "text": [
      "Error extracting representation cfgcallcompact1enoroot for /home/nonroot/experiment/datasets/classify_seqs/group1.1000/LIM/extr_zfs_main.c_userspace_cb/: 'shufflevector'\n"
     ]
    },
    {
     "name": "stderr",
     "output_type": "stream",
     "text": [
      "LIM.extr_mac_bsdextended.c_ugidfw_rulecheck:  76%|█████████████████████████████████████████████████████████████████████████████████████████████████████████▎                                | 3816/5000 [2:20:37<43:58,  2.23s/it]"
     ]
    },
    {
     "name": "stdout",
     "output_type": "stream",
     "text": [
      "Error extracting representation cfgcompact for /home/nonroot/experiment/datasets/classify_seqs/group1.1000/LIM/extr_mac_bsdextended.c_ugidfw_rulecheck/: 'bool' object is not iterable\n",
      "Error extracting representation cfgcallcompactnoroot for /home/nonroot/experiment/datasets/classify_seqs/group1.1000/LIM/extr_mac_bsdextended.c_ugidfw_rulecheck/: 'bool' object is not iterable\n"
     ]
    },
    {
     "name": "stderr",
     "output_type": "stream",
     "text": [
      "LIM.extr_mn10300-serial.c_mn10300_serial_change_speed:  76%|█████████████████████████████████████████████████████████████████████████████████████████████████▋                              | 3817/5000 [2:20:40<43:32,  2.21s/it]"
     ]
    },
    {
     "name": "stdout",
     "output_type": "stream",
     "text": [
      "Error extracting representation cfgcallcompact1enoroot for /home/nonroot/experiment/datasets/classify_seqs/group1.1000/LIM/extr_mac_bsdextended.c_ugidfw_rulecheck/: 'bool' object is not iterable\n"
     ]
    },
    {
     "name": "stderr",
     "output_type": "stream",
     "text": [
      "LIM.extr_cfi_core.c_cfi_write_block:  76%|███████████████████████████████████████████████████████████████████████████████████████████████████████████████▋                                  | 3823/5000 [2:20:54<47:36,  2.43s/it]"
     ]
    },
    {
     "name": "stdout",
     "output_type": "stream",
     "text": [
      "Error extracting representation cfgcompact for /home/nonroot/experiment/datasets/classify_seqs/group1.1000/LIM/extr_cfi_core.c_cfi_write_block/: 'shufflevector'\n",
      "Error extracting representation cfgcallcompactnoroot for /home/nonroot/experiment/datasets/classify_seqs/group1.1000/LIM/extr_cfi_core.c_cfi_write_block/: 'shufflevector'\n"
     ]
    },
    {
     "name": "stderr",
     "output_type": "stream",
     "text": [
      "LIM.extr_uri.c_xmlNormalizeURIPath:  76%|████████████████████████████████████████████████████████████████████████████████████████████████████████████████▍                                  | 3824/5000 [2:20:56<44:18,  2.26s/it]"
     ]
    },
    {
     "name": "stdout",
     "output_type": "stream",
     "text": [
      "Error extracting representation cfgcallcompact1enoroot for /home/nonroot/experiment/datasets/classify_seqs/group1.1000/LIM/extr_cfi_core.c_cfi_write_block/: 'shufflevector'\n"
     ]
    },
    {
     "name": "stderr",
     "output_type": "stream",
     "text": [
      "LIM.extr_imagelib.c_LoadPCX:  77%|█████████████████████████████████████████████████████████████████████████████████████████████████████████████████████▉                                    | 3829/5000 [2:21:07<42:57,  2.20s/it]"
     ]
    },
    {
     "name": "stdout",
     "output_type": "stream",
     "text": [
      "Error extracting representation cfgcompact for /home/nonroot/experiment/datasets/classify_seqs/group1.1000/LIM/extr_imagelib.c_LoadPCX/: 'shufflevector'\n",
      "Error extracting representation cfgcallcompactnoroot for /home/nonroot/experiment/datasets/classify_seqs/group1.1000/LIM/extr_imagelib.c_LoadPCX/: 'shufflevector'\n"
     ]
    },
    {
     "name": "stderr",
     "output_type": "stream",
     "text": [
      "LIM.extr_w83627hf.c_w83627hf_init_device:  77%|████████████████████████████████████████████████████████████████████████████████████████████████████████████                                 | 3830/5000 [2:21:09<40:25,  2.07s/it]"
     ]
    },
    {
     "name": "stdout",
     "output_type": "stream",
     "text": [
      "Error extracting representation cfgcallcompact1enoroot for /home/nonroot/experiment/datasets/classify_seqs/group1.1000/LIM/extr_imagelib.c_LoadPCX/: 'shufflevector'\n"
     ]
    },
    {
     "name": "stderr",
     "output_type": "stream",
     "text": [
      "LIM.extr_tg.c_main:  77%|█████████████████████████████████████████████████████████████████████████████████████████████████████████████████████████████                                      | 3835/5000 [2:21:19<39:40,  2.04s/it]"
     ]
    },
    {
     "name": "stdout",
     "output_type": "stream",
     "text": [
      "Error extracting representation cfgcompact for /home/nonroot/experiment/datasets/classify_seqs/group1.1000/LIM/extr_tg.c_main/: 'shufflevector'\n",
      "Error extracting representation cfgcallcompactnoroot for /home/nonroot/experiment/datasets/classify_seqs/group1.1000/LIM/extr_tg.c_main/: 'shufflevector'\n"
     ]
    },
    {
     "name": "stderr",
     "output_type": "stream",
     "text": [
      "LIM.extr_util.c_tomoyo_file_matches_pattern2:  77%|█████████████████████████████████████████████████████████████████████████████████████████████████████████                                | 3836/5000 [2:21:21<38:51,  2.00s/it]"
     ]
    },
    {
     "name": "stdout",
     "output_type": "stream",
     "text": [
      "Error extracting representation cfgcallcompact1enoroot for /home/nonroot/experiment/datasets/classify_seqs/group1.1000/LIM/extr_tg.c_main/: 'shufflevector'\n"
     ]
    },
    {
     "name": "stderr",
     "output_type": "stream",
     "text": [
      "LIM.extr_hevc_ps.c_setup_pps:  77%|██████████████████████████████████████████████████████████████████████████████████████████████████████████████████████▏                                  | 3861/5000 [2:22:17<47:16,  2.49s/it]"
     ]
    },
    {
     "name": "stdout",
     "output_type": "stream",
     "text": [
      "Error extracting representation cfgcompact for /home/nonroot/experiment/datasets/classify_seqs/group1.1000/LIM/extr_hevc_ps.c_setup_pps/: 'shufflevector'\n",
      "Error extracting representation cfgcallcompactnoroot for /home/nonroot/experiment/datasets/classify_seqs/group1.1000/LIM/extr_hevc_ps.c_setup_pps/: 'shufflevector'\n"
     ]
    },
    {
     "name": "stderr",
     "output_type": "stream",
     "text": [
      "LIM.extr_kqueue_file_tests.c_execute_test:  77%|████████████████████████████████████████████████████████████████████████████████████████████████████████████▏                               | 3862/5000 [2:22:19<44:36,  2.35s/it]"
     ]
    },
    {
     "name": "stdout",
     "output_type": "stream",
     "text": [
      "Error extracting representation cfgcallcompact1enoroot for /home/nonroot/experiment/datasets/classify_seqs/group1.1000/LIM/extr_hevc_ps.c_setup_pps/: 'shufflevector'\n"
     ]
    },
    {
     "name": "stderr",
     "output_type": "stream",
     "text": [
      "LIM.extr_vf_fieldmatch.c_calc_combed_score:  78%|███████████████████████████████████████████████████████████████████████████████████████████████████████████▊                               | 3877/5000 [2:22:55<42:37,  2.28s/it]"
     ]
    },
    {
     "name": "stdout",
     "output_type": "stream",
     "text": [
      "Error extracting representation cfgcompact for /home/nonroot/experiment/datasets/classify_seqs/group1.1000/LIM/extr_vf_fieldmatch.c_calc_combed_score/: 'shufflevector'\n",
      "Error extracting representation cfgcallcompactnoroot for /home/nonroot/experiment/datasets/classify_seqs/group1.1000/LIM/extr_vf_fieldmatch.c_calc_combed_score/: 'shufflevector'\n"
     ]
    },
    {
     "name": "stderr",
     "output_type": "stream",
     "text": [
      "LIM.extr_eap_mschapv2.c_eap_mschapv2_failure_txt:  78%|███████████████████████████████████████████████████████████████████████████████████████████████████████▏                             | 3878/5000 [2:22:57<42:18,  2.26s/it]"
     ]
    },
    {
     "name": "stdout",
     "output_type": "stream",
     "text": [
      "Error extracting representation cfgcallcompact1enoroot for /home/nonroot/experiment/datasets/classify_seqs/group1.1000/LIM/extr_vf_fieldmatch.c_calc_combed_score/: 'shufflevector'\n"
     ]
    },
    {
     "name": "stderr",
     "output_type": "stream",
     "text": [
      "LIM.extr_xps-path.c_xps_draw_arc:  78%|███████████████████████████████████████████████████████████████████████████████████████████████████████████████████▌                                 | 3880/5000 [2:23:02<40:58,  2.20s/it]"
     ]
    },
    {
     "name": "stdout",
     "output_type": "stream",
     "text": [
      "Error extracting representation cfgcompact for /home/nonroot/experiment/datasets/classify_seqs/group1.1000/LIM/extr_xps-path.c_xps_draw_arc/: 'shufflevector'\n",
      "Error extracting representation cfgcallcompactnoroot for /home/nonroot/experiment/datasets/classify_seqs/group1.1000/LIM/extr_xps-path.c_xps_draw_arc/: 'shufflevector'\n"
     ]
    },
    {
     "name": "stderr",
     "output_type": "stream",
     "text": [
      "LIM.extr_vmwgfx_stdu.c_vmw_stdu_primary_plane_prepare_fb:  78%|█████████████████████████████████████████████████████████████████████████████████████████████████                            | 3881/5000 [2:23:03<37:44,  2.02s/it]"
     ]
    },
    {
     "name": "stdout",
     "output_type": "stream",
     "text": [
      "Error extracting representation cfgcallcompact1enoroot for /home/nonroot/experiment/datasets/classify_seqs/group1.1000/LIM/extr_xps-path.c_xps_draw_arc/: 'shufflevector'\n"
     ]
    },
    {
     "name": "stderr",
     "output_type": "stream",
     "text": [
      "LIM.extr_vf_bm3d.c_basic_block_filtering:  78%|██████████████████████████████████████████████████████████████████████████████████████████████████████████████                               | 3905/5000 [2:23:59<41:52,  2.29s/it]"
     ]
    },
    {
     "name": "stdout",
     "output_type": "stream",
     "text": [
      "Error extracting representation cfgcompact for /home/nonroot/experiment/datasets/classify_seqs/group1.1000/LIM/extr_vf_bm3d.c_basic_block_filtering/: 'shufflevector'\n",
      "Error extracting representation cfgcallcompactnoroot for /home/nonroot/experiment/datasets/classify_seqs/group1.1000/LIM/extr_vf_bm3d.c_basic_block_filtering/: 'shufflevector'\n"
     ]
    },
    {
     "name": "stderr",
     "output_type": "stream",
     "text": [
      "LIM.extr_ngx_http_upstream_check_module.c_ngx_http_upstream_check_recv_handler:  78%|████████████████████████████████████████████████████████████████████████████████▍                      | 3906/5000 [2:24:01<40:02,  2.20s/it]"
     ]
    },
    {
     "name": "stdout",
     "output_type": "stream",
     "text": [
      "Error extracting representation cfgcallcompact1enoroot for /home/nonroot/experiment/datasets/classify_seqs/group1.1000/LIM/extr_vf_bm3d.c_basic_block_filtering/: 'shufflevector'\n"
     ]
    },
    {
     "name": "stderr",
     "output_type": "stream",
     "text": [
      "LIM.extr_config_file.c_hostapd_config_read_vlan_file:  78%|█████████████████████████████████████████████████████████████████████████████████████████████████████▏                           | 3920/5000 [2:24:30<29:35,  1.64s/it]/home/nonroot/experiment/datasets/classify_seqs/group1.1000/LIM/extr_config_file.c_hostapd_config_read_vlan_file//a.out_o.bc: /home/nonroot/experiment/datasets/classify_seqs/group1.1000/LIM/extr_config_file.c_hostapd_config_read_vlan_file//a.out_o.bc: error: Could not open input file: No such file or directory\n",
      "LIM.extr_edit.c_EDIT_WM_HScroll:  78%|█████████████████████████████████████████████████████████████████████████████████████████████████████████████████████▌                                | 3920/5000 [2:24:30<29:35,  1.64s/it]"
     ]
    },
    {
     "name": "stdout",
     "output_type": "stream",
     "text": [
      "Error extracting IR from /home/nonroot/experiment/datasets/classify_seqs/group1.1000/LIM/extr_config_file.c_hostapd_config_read_vlan_file//a.out_o.bc: Failed parse IR file\n"
     ]
    },
    {
     "name": "stderr",
     "output_type": "stream",
     "text": [
      "LIM.extr_SolarisProcessList.c_SolarisProcessList_scanCPUTime:  79%|███████████████████████████████████████████████████████████████████████████████████████████████▎                         | 3936/5000 [2:25:05<39:36,  2.23s/it]"
     ]
    },
    {
     "name": "stdout",
     "output_type": "stream",
     "text": [
      "Error extracting representation cfgcompact for /home/nonroot/experiment/datasets/classify_seqs/group1.1000/LIM/extr_SolarisProcessList.c_SolarisProcessList_scanCPUTime/: 'shufflevector'\n",
      "Error extracting representation cfgcallcompactnoroot for /home/nonroot/experiment/datasets/classify_seqs/group1.1000/LIM/extr_SolarisProcessList.c_SolarisProcessList_scanCPUTime/: 'shufflevector'\n"
     ]
    },
    {
     "name": "stderr",
     "output_type": "stream",
     "text": [
      "LIM.extr_fcvtbuf.c_cvt:  79%|█████████████████████████████████████████████████████████████████████████████████████████████████████████████████████████████▏                                 | 3937/5000 [2:25:07<36:27,  2.06s/it]"
     ]
    },
    {
     "name": "stdout",
     "output_type": "stream",
     "text": [
      "Error extracting representation cfgcallcompact1enoroot for /home/nonroot/experiment/datasets/classify_seqs/group1.1000/LIM/extr_SolarisProcessList.c_SolarisProcessList_scanCPUTime/: 'shufflevector'\n"
     ]
    },
    {
     "name": "stderr",
     "output_type": "stream",
     "text": [
      "LIM.extr_shade.c_gl_index_shade_vertices:  79%|███████████████████████████████████████████████████████████████████████████████████████████████████████████████▊                             | 3963/5000 [2:26:06<42:38,  2.47s/it]"
     ]
    },
    {
     "name": "stdout",
     "output_type": "stream",
     "text": [
      "Error extracting representation cfgcompact for /home/nonroot/experiment/datasets/classify_seqs/group1.1000/LIM/extr_shade.c_gl_index_shade_vertices/: 'shufflevector'\n",
      "Error extracting representation cfgcallcompactnoroot for /home/nonroot/experiment/datasets/classify_seqs/group1.1000/LIM/extr_shade.c_gl_index_shade_vertices/: 'shufflevector'\n"
     ]
    },
    {
     "name": "stderr",
     "output_type": "stream",
     "text": [
      "LIM.extr_vf_delogo.c_apply_delogo:  79%|█████████████████████████████████████████████████████████████████████████████████████████████████████████████████████▎                              | 3964/5000 [2:26:08<38:49,  2.25s/it]"
     ]
    },
    {
     "name": "stdout",
     "output_type": "stream",
     "text": [
      "Error extracting representation cfgcallcompact1enoroot for /home/nonroot/experiment/datasets/classify_seqs/group1.1000/LIM/extr_shade.c_gl_index_shade_vertices/: 'shufflevector'\n"
     ]
    },
    {
     "name": "stderr",
     "output_type": "stream",
     "text": [
      "LIM.extr_eeprom_4k.c_ath9k_hw_4k_check_eeprom:  79%|████████████████████████████████████████████████████████████████████████████████████████████████████████████                            | 3972/5000 [2:26:25<40:08,  2.34s/it]"
     ]
    },
    {
     "name": "stdout",
     "output_type": "stream",
     "text": [
      "Error extracting representation cfgcompact for /home/nonroot/experiment/datasets/classify_seqs/group1.1000/LIM/extr_eeprom_4k.c_ath9k_hw_4k_check_eeprom/: 'shufflevector'\n",
      "Error extracting representation cfgcallcompactnoroot for /home/nonroot/experiment/datasets/classify_seqs/group1.1000/LIM/extr_eeprom_4k.c_ath9k_hw_4k_check_eeprom/: 'shufflevector'\n"
     ]
    },
    {
     "name": "stderr",
     "output_type": "stream",
     "text": [
      "LIM.extr_smbfs_vfsops.c_smbfs_mount:  79%|████████████████████████████████████████████████████████████████████████████████████████████████████████████████████                              | 3973/5000 [2:26:27<37:11,  2.17s/it]"
     ]
    },
    {
     "name": "stdout",
     "output_type": "stream",
     "text": [
      "Error extracting representation cfgcallcompact1enoroot for /home/nonroot/experiment/datasets/classify_seqs/group1.1000/LIM/extr_eeprom_4k.c_ath9k_hw_4k_check_eeprom/: 'shufflevector'\n"
     ]
    },
    {
     "name": "stderr",
     "output_type": "stream",
     "text": [
      "LIM.extr_tui.c_TuiMessageBoxCritical:  80%|███████████████████████████████████████████████████████████████████████████████████████████████████████████████████▉                             | 3998/5000 [2:27:21<35:19,  2.11s/it]"
     ]
    },
    {
     "name": "stdout",
     "output_type": "stream",
     "text": [
      "Error extracting representation cfgcompact for /home/nonroot/experiment/datasets/classify_seqs/group1.1000/LIM/extr_tui.c_TuiMessageBoxCritical/: 'shufflevector'\n",
      "Error extracting representation cfgcallcompactnoroot for /home/nonroot/experiment/datasets/classify_seqs/group1.1000/LIM/extr_tui.c_TuiMessageBoxCritical/: 'shufflevector'\n"
     ]
    },
    {
     "name": "stderr",
     "output_type": "stream",
     "text": [
      "LIM.extr_p2p_supplicant.c_wpas_p2p_add_persistent_group_client:  80%|███████████████████████████████████████████████████████████████████████████████████████████████▏                       | 3999/5000 [2:27:22<33:13,  1.99s/it]"
     ]
    },
    {
     "name": "stdout",
     "output_type": "stream",
     "text": [
      "Error extracting representation cfgcallcompact1enoroot for /home/nonroot/experiment/datasets/classify_seqs/group1.1000/LIM/extr_tui.c_TuiMessageBoxCritical/: 'shufflevector'\n"
     ]
    },
    {
     "name": "stderr",
     "output_type": "stream",
     "text": [
      "BST.extr_wrap.c_itemize_para:  80%|██████████████████████████████████████████████████████████████████████████████████████████████████████████████████████████▋                              | 4010/5000 [2:27:51<40:15,  2.44s/it]"
     ]
    },
    {
     "name": "stdout",
     "output_type": "stream",
     "text": [
      "Error extracting representation cfgcompact for /home/nonroot/experiment/datasets/classify_seqs/group1.1000/BST/extr_wrap.c_itemize_para/: 'shufflevector'\n",
      "Error extracting representation cfgcallcompactnoroot for /home/nonroot/experiment/datasets/classify_seqs/group1.1000/BST/extr_wrap.c_itemize_para/: 'shufflevector'\n"
     ]
    },
    {
     "name": "stderr",
     "output_type": "stream",
     "text": [
      "BST.extr_cxgb2.c_get_stats:  80%|████████████████████████████████████████████████████████████████████████████████████████████████████████████████████████████▎                              | 4011/5000 [2:27:53<36:52,  2.24s/it]"
     ]
    },
    {
     "name": "stdout",
     "output_type": "stream",
     "text": [
      "Error extracting representation cfgcallcompact1enoroot for /home/nonroot/experiment/datasets/classify_seqs/group1.1000/BST/extr_wrap.c_itemize_para/: 'shufflevector'\n",
      "Error extracting representation cfgcompact for /home/nonroot/experiment/datasets/classify_seqs/group1.1000/BST/extr_cxgb2.c_get_stats/: 'shufflevector'\n",
      "Error extracting representation cfgcallcompactnoroot for /home/nonroot/experiment/datasets/classify_seqs/group1.1000/BST/extr_cxgb2.c_get_stats/: 'shufflevector'\n"
     ]
    },
    {
     "name": "stderr",
     "output_type": "stream",
     "text": [
      "BST.extr_cryptosoft.c_swcr_authenc:  80%|█████████████████████████████████████████████████████████████████████████████████████████████████████████████████████▉                             | 4012/5000 [2:27:54<34:01,  2.07s/it]"
     ]
    },
    {
     "name": "stdout",
     "output_type": "stream",
     "text": [
      "Error extracting representation cfgcallcompact1enoroot for /home/nonroot/experiment/datasets/classify_seqs/group1.1000/BST/extr_cxgb2.c_get_stats/: 'shufflevector'\n"
     ]
    },
    {
     "name": "stderr",
     "output_type": "stream",
     "text": [
      "BST.extr_bayes-data.c_bayes_is_spam_prob:  81%|█████████████████████████████████████████████████████████████████████████████████████████████████████████████████▉                           | 4040/5000 [2:29:01<38:15,  2.39s/it]"
     ]
    },
    {
     "name": "stdout",
     "output_type": "stream",
     "text": [
      "Error extracting representation cfgcompact for /home/nonroot/experiment/datasets/classify_seqs/group1.1000/BST/extr_bayes-data.c_bayes_is_spam_prob/: 'shufflevector'\n",
      "Error extracting representation cfgcallcompactnoroot for /home/nonroot/experiment/datasets/classify_seqs/group1.1000/BST/extr_bayes-data.c_bayes_is_spam_prob/: 'shufflevector'\n"
     ]
    },
    {
     "name": "stderr",
     "output_type": "stream",
     "text": [
      "BST.extr_redis-cli.c_clusterManagerNodeLoadInfo:  81%|████████████████████████████████████████████████████████████████████████████████████████████████████████████▎                         | 4041/5000 [2:29:03<35:28,  2.22s/it]"
     ]
    },
    {
     "name": "stdout",
     "output_type": "stream",
     "text": [
      "Error extracting representation cfgcallcompact1enoroot for /home/nonroot/experiment/datasets/classify_seqs/group1.1000/BST/extr_bayes-data.c_bayes_is_spam_prob/: 'shufflevector'\n"
     ]
    },
    {
     "name": "stderr",
     "output_type": "stream",
     "text": [
      "BST.extr_names.c_parse:  81%|████████████████████████████████████████████████████████████████████████████████████████████████████████████████████████████████▋                              | 4048/5000 [2:29:21<38:59,  2.46s/it]"
     ]
    },
    {
     "name": "stdout",
     "output_type": "stream",
     "text": [
      "Error extracting representation cfgcompact for /home/nonroot/experiment/datasets/classify_seqs/group1.1000/BST/extr_names.c_parse/: 'shufflevector'\n",
      "Error extracting representation cfgcallcompactnoroot for /home/nonroot/experiment/datasets/classify_seqs/group1.1000/BST/extr_names.c_parse/: 'shufflevector'\n"
     ]
    },
    {
     "name": "stderr",
     "output_type": "stream",
     "text": [
      "BST.extr_netjet.c_read_raw:  81%|█████████████████████████████████████████████████████████████████████████████████████████████████████████████████████████████▌                             | 4049/5000 [2:29:23<36:12,  2.28s/it]"
     ]
    },
    {
     "name": "stdout",
     "output_type": "stream",
     "text": [
      "Error extracting representation cfgcallcompact1enoroot for /home/nonroot/experiment/datasets/classify_seqs/group1.1000/BST/extr_names.c_parse/: 'shufflevector'\n"
     ]
    },
    {
     "name": "stderr",
     "output_type": "stream",
     "text": [
      "BST.extr_svq1dec.c_svq1_decode_frame:  81%|█████████████████████████████████████████████████████████████████████████████████████████████████████████████████████▉                           | 4067/5000 [2:30:06<40:00,  2.57s/it]"
     ]
    },
    {
     "name": "stdout",
     "output_type": "stream",
     "text": [
      "Error extracting representation cfgcompact for /home/nonroot/experiment/datasets/classify_seqs/group1.1000/BST/extr_svq1dec.c_svq1_decode_frame/: 'shufflevector'\n",
      "Error extracting representation cfgcallcompactnoroot for /home/nonroot/experiment/datasets/classify_seqs/group1.1000/BST/extr_svq1dec.c_svq1_decode_frame/: 'shufflevector'\n"
     ]
    },
    {
     "name": "stderr",
     "output_type": "stream",
     "text": [
      "BST.extr_conflict-callbacks.c_handle_text_conflict:  81%|██████████████████████████████████████████████████████████████████████████████████████████████████████████▌                        | 4068/5000 [2:30:08<36:13,  2.33s/it]"
     ]
    },
    {
     "name": "stdout",
     "output_type": "stream",
     "text": [
      "Error extracting representation cfgcallcompact1enoroot for /home/nonroot/experiment/datasets/classify_seqs/group1.1000/BST/extr_svq1dec.c_svq1_decode_frame/: 'shufflevector'\n"
     ]
    },
    {
     "name": "stderr",
     "output_type": "stream",
     "text": [
      "BST.extr_docecc.c_eras_dec_rs:  81%|███████████████████████████████████████████████████████████████████████████████████████████████████████████████████████████▋                            | 4070/5000 [2:30:13<37:18,  2.41s/it]"
     ]
    },
    {
     "name": "stdout",
     "output_type": "stream",
     "text": [
      "Error extracting representation cfgcompact for /home/nonroot/experiment/datasets/classify_seqs/group1.1000/BST/extr_docecc.c_eras_dec_rs/: 'shufflevector'\n",
      "Error extracting representation cfgcallcompactnoroot for /home/nonroot/experiment/datasets/classify_seqs/group1.1000/BST/extr_docecc.c_eras_dec_rs/: 'shufflevector'\n"
     ]
    },
    {
     "name": "stderr",
     "output_type": "stream",
     "text": [
      "BST.extr_tr_image_png.c_R_LoadPNG:  81%|████████████████████████████████████████████████████████████████████████████████████████████████████████████████████████▌                           | 4071/5000 [2:30:15<35:44,  2.31s/it]"
     ]
    },
    {
     "name": "stdout",
     "output_type": "stream",
     "text": [
      "Error extracting representation cfgcallcompact1enoroot for /home/nonroot/experiment/datasets/classify_seqs/group1.1000/BST/extr_docecc.c_eras_dec_rs/: 'shufflevector'\n"
     ]
    },
    {
     "name": "stderr",
     "output_type": "stream",
     "text": [
      "BST.extr_vga.c_vga_mem_wr_handler:  82%|████████████████████████████████████████████████████████████████████████████████████████████████████████████████████████▉                           | 4086/5000 [2:30:52<36:38,  2.41s/it]"
     ]
    },
    {
     "name": "stdout",
     "output_type": "stream",
     "text": [
      "Error extracting representation cfgcompact for /home/nonroot/experiment/datasets/classify_seqs/group1.1000/BST/extr_vga.c_vga_mem_wr_handler/: 'shufflevector'\n",
      "Error extracting representation cfgcallcompactnoroot for /home/nonroot/experiment/datasets/classify_seqs/group1.1000/BST/extr_vga.c_vga_mem_wr_handler/: 'shufflevector'\n"
     ]
    },
    {
     "name": "stderr",
     "output_type": "stream",
     "text": [
      "BST.extr_xsltutils.c_xsltDefaultSortFunction:  82%|███████████████████████████████████████████████████████████████████████████████████████████████████████████████▉                         | 4087/5000 [2:30:54<33:54,  2.23s/it]"
     ]
    },
    {
     "name": "stdout",
     "output_type": "stream",
     "text": [
      "Error extracting representation cfgcallcompact1enoroot for /home/nonroot/experiment/datasets/classify_seqs/group1.1000/BST/extr_vga.c_vga_mem_wr_handler/: 'shufflevector'\n"
     ]
    },
    {
     "name": "stderr",
     "output_type": "stream",
     "text": [
      "BST.extr_pokeysnd.c_pokeysnd_process_8:  82%|█████████████████████████████████████████████████████████████████████████████████████████████████████████████████████▏                         | 4098/5000 [2:31:23<39:25,  2.62s/it]"
     ]
    },
    {
     "name": "stdout",
     "output_type": "stream",
     "text": [
      "Error extracting representation cfgcompact for /home/nonroot/experiment/datasets/classify_seqs/group1.1000/BST/extr_pokeysnd.c_pokeysnd_process_8/: 'shufflevector'\n",
      "Error extracting representation cfgcallcompactnoroot for /home/nonroot/experiment/datasets/classify_seqs/group1.1000/BST/extr_pokeysnd.c_pokeysnd_process_8/: 'shufflevector'\n"
     ]
    },
    {
     "name": "stderr",
     "output_type": "stream",
     "text": [
      "BST.extr_l4check.c_runconfig:  82%|█████████████████████████████████████████████████████████████████████████████████████████████████████████████████████████████▍                           | 4099/5000 [2:31:24<35:47,  2.38s/it]"
     ]
    },
    {
     "name": "stdout",
     "output_type": "stream",
     "text": [
      "Error extracting representation cfgcallcompact1enoroot for /home/nonroot/experiment/datasets/classify_seqs/group1.1000/BST/extr_pokeysnd.c_pokeysnd_process_8/: 'shufflevector'\n"
     ]
    },
    {
     "name": "stderr",
     "output_type": "stream",
     "text": [
      "BST.extr_png.c_png_ascii_from_fp:  82%|██████████████████████████████████████████████████████████████████████████████████████████████████████████████████████████▋                          | 4118/5000 [2:32:15<41:47,  2.84s/it]"
     ]
    },
    {
     "name": "stdout",
     "output_type": "stream",
     "text": [
      "Error extracting representation cfgcompact for /home/nonroot/experiment/datasets/classify_seqs/group1.1000/BST/extr_png.c_png_ascii_from_fp/: 'shufflevector'\n",
      "Error extracting representation cfgcallcompactnoroot for /home/nonroot/experiment/datasets/classify_seqs/group1.1000/BST/extr_png.c_png_ascii_from_fp/: 'shufflevector'\n"
     ]
    },
    {
     "name": "stderr",
     "output_type": "stream",
     "text": [
      "BST.extr_cpia.c_monitor_exposure:  82%|██████████████████████████████████████████████████████████████████████████████████████████████████████████████████████████▋                          | 4119/5000 [2:32:16<37:48,  2.57s/it]"
     ]
    },
    {
     "name": "stdout",
     "output_type": "stream",
     "text": [
      "Error extracting representation cfgcallcompact1enoroot for /home/nonroot/experiment/datasets/classify_seqs/group1.1000/BST/extr_png.c_png_ascii_from_fp/: 'shufflevector'\n"
     ]
    },
    {
     "name": "stderr",
     "output_type": "stream",
     "text": [
      "BST.extr_freebsd_sysctl.c_do_net_inet_ip_stats:  82%|███████████████████████████████████████████████████████████████████████████████████████████████████████████████▎                       | 4122/5000 [2:32:24<36:46,  2.51s/it]"
     ]
    },
    {
     "name": "stdout",
     "output_type": "stream",
     "text": [
      "Error extracting representation cfgcompact for /home/nonroot/experiment/datasets/classify_seqs/group1.1000/BST/extr_freebsd_sysctl.c_do_net_inet_ip_stats/: 'shufflevector'\n",
      "Error extracting representation cfgcallcompactnoroot for /home/nonroot/experiment/datasets/classify_seqs/group1.1000/BST/extr_freebsd_sysctl.c_do_net_inet_ip_stats/: 'shufflevector'\n"
     ]
    },
    {
     "name": "stderr",
     "output_type": "stream",
     "text": [
      "BST.extr_libmp4mux.c_GetStblBox:  82%|███████████████████████████████████████████████████████████████████████████████████████████████████████████████████████████▋                          | 4123/5000 [2:32:26<33:12,  2.27s/it]"
     ]
    },
    {
     "name": "stdout",
     "output_type": "stream",
     "text": [
      "Error extracting representation cfgcallcompact1enoroot for /home/nonroot/experiment/datasets/classify_seqs/group1.1000/BST/extr_freebsd_sysctl.c_do_net_inet_ip_stats/: 'shufflevector'\n"
     ]
    },
    {
     "name": "stderr",
     "output_type": "stream",
     "text": [
      "BST.extr_combinator.c_combinator_ctx_init:  83%|███████████████████████████████████████████████████████████████████████████████████████████████████████████████████▊                        | 4134/5000 [2:32:54<33:33,  2.32s/it]"
     ]
    },
    {
     "name": "stdout",
     "output_type": "stream",
     "text": [
      "Error extracting representation cfgcompact for /home/nonroot/experiment/datasets/classify_seqs/group1.1000/BST/extr_combinator.c_combinator_ctx_init/: 'shufflevector'\n",
      "Error extracting representation cfgcallcompactnoroot for /home/nonroot/experiment/datasets/classify_seqs/group1.1000/BST/extr_combinator.c_combinator_ctx_init/: 'shufflevector'\n"
     ]
    },
    {
     "name": "stderr",
     "output_type": "stream",
     "text": [
      "BST.extr_binkaudio.c_decode_block:  83%|██████████████████████████████████████████████████████████████████████████████████████████████████████████████████████████▍                         | 4135/5000 [2:32:56<31:48,  2.21s/it]"
     ]
    },
    {
     "name": "stdout",
     "output_type": "stream",
     "text": [
      "Error extracting representation cfgcallcompact1enoroot for /home/nonroot/experiment/datasets/classify_seqs/group1.1000/BST/extr_combinator.c_combinator_ctx_init/: 'shufflevector'\n"
     ]
    },
    {
     "name": "stderr",
     "output_type": "stream",
     "text": [
      "BST.extr_cs35l35.c_cs35l35_handle_of_data:  83%|███████████████████████████████████████████████████████████████████████████████████████████████████████████████████▉                        | 4141/5000 [2:33:10<33:40,  2.35s/it]"
     ]
    },
    {
     "name": "stdout",
     "output_type": "stream",
     "text": [
      "Error extracting representation cfgcompact for /home/nonroot/experiment/datasets/classify_seqs/group1.1000/BST/extr_cs35l35.c_cs35l35_handle_of_data/: 'shufflevector'\n",
      "Error extracting representation cfgcallcompactnoroot for /home/nonroot/experiment/datasets/classify_seqs/group1.1000/BST/extr_cs35l35.c_cs35l35_handle_of_data/: 'shufflevector'\n"
     ]
    },
    {
     "name": "stderr",
     "output_type": "stream",
     "text": [
      "BST.extr_clnt_vc.c_clnt_vc_call:  83%|████████████████████████████████████████████████████████████████████████████████████████████████████████████████████████████▎                         | 4142/5000 [2:33:12<31:31,  2.20s/it]"
     ]
    },
    {
     "name": "stdout",
     "output_type": "stream",
     "text": [
      "Error extracting representation cfgcallcompact1enoroot for /home/nonroot/experiment/datasets/classify_seqs/group1.1000/BST/extr_cs35l35.c_cs35l35_handle_of_data/: 'shufflevector'\n"
     ]
    },
    {
     "name": "stderr",
     "output_type": "stream",
     "text": [
      "BST.extr_wrt350nv2-builder.c_create_bin_file:  83%|█████████████████████████████████████████████████████████████████████████████████████████████████████████████████▌                       | 4146/5000 [2:33:19<23:14,  1.63s/it]/home/nonroot/experiment/datasets/classify_seqs/group1.1000/BST/extr_wrt350nv2-builder.c_create_bin_file//a.out_o.bc: /home/nonroot/experiment/datasets/classify_seqs/group1.1000/BST/extr_wrt350nv2-builder.c_create_bin_file//a.out_o.bc: error: Could not open input file: No such file or directory\n",
      "BST.extr_ibmvnic.c_handle_query_ip_offload_rsp:  83%|███████████████████████████████████████████████████████████████████████████████████████████████████████████████▉                       | 4146/5000 [2:33:19<23:14,  1.63s/it]"
     ]
    },
    {
     "name": "stdout",
     "output_type": "stream",
     "text": [
      "Error extracting IR from /home/nonroot/experiment/datasets/classify_seqs/group1.1000/BST/extr_wrt350nv2-builder.c_create_bin_file//a.out_o.bc: Failed parse IR file\n",
      "Error extracting representation cfgcompact for /home/nonroot/experiment/datasets/classify_seqs/group1.1000/BST/extr_ibmvnic.c_handle_query_ip_offload_rsp/: 'shufflevector'\n",
      "Error extracting representation cfgcallcompactnoroot for /home/nonroot/experiment/datasets/classify_seqs/group1.1000/BST/extr_ibmvnic.c_handle_query_ip_offload_rsp/: 'shufflevector'\n"
     ]
    },
    {
     "name": "stderr",
     "output_type": "stream",
     "text": [
      "BST.extr_retroarch.c_recording_init:  83%|█████████████████████████████████████████████████████████████████████████████████████████████████████████████████████████                         | 4147/5000 [2:33:21<23:39,  1.66s/it]"
     ]
    },
    {
     "name": "stdout",
     "output_type": "stream",
     "text": [
      "Error extracting representation cfgcallcompact1enoroot for /home/nonroot/experiment/datasets/classify_seqs/group1.1000/BST/extr_ibmvnic.c_handle_query_ip_offload_rsp/: 'shufflevector'\n"
     ]
    },
    {
     "name": "stderr",
     "output_type": "stream",
     "text": [
      "BST.extr_main.c_ieee80211_alloc_hw:  83%|██████████████████████████████████████████████████████████████████████████████████████████████████████████████████████████                         | 4151/5000 [2:33:31<34:02,  2.41s/it]"
     ]
    },
    {
     "name": "stdout",
     "output_type": "stream",
     "text": [
      "Error extracting representation cfgcompact for /home/nonroot/experiment/datasets/classify_seqs/group1.1000/BST/extr_main.c_ieee80211_alloc_hw/: 'shufflevector'\n",
      "Error extracting representation cfgcallcompactnoroot for /home/nonroot/experiment/datasets/classify_seqs/group1.1000/BST/extr_main.c_ieee80211_alloc_hw/: 'shufflevector'\n"
     ]
    },
    {
     "name": "stderr",
     "output_type": "stream",
     "text": [
      "BST.extr_grp_test.c_test_groups:  83%|████████████████████████████████████████████████████████████████████████████████████████████████████████████████████████████▌                         | 4152/5000 [2:33:32<31:20,  2.22s/it]"
     ]
    },
    {
     "name": "stdout",
     "output_type": "stream",
     "text": [
      "Error extracting representation cfgcallcompact1enoroot for /home/nonroot/experiment/datasets/classify_seqs/group1.1000/BST/extr_main.c_ieee80211_alloc_hw/: 'shufflevector'\n"
     ]
    },
    {
     "name": "stderr",
     "output_type": "stream",
     "text": [
      "BST.extr_archive_read_support_format_lha.c_lzh_make_huffman_table:  83%|████████████████████████████████████████████████████████████████████████████████████████████████▎                   | 4153/5000 [2:33:34<29:43,  2.11s/it]"
     ]
    },
    {
     "name": "stdout",
     "output_type": "stream",
     "text": [
      "Error extracting representation cfgcompact for /home/nonroot/experiment/datasets/classify_seqs/group1.1000/BST/extr_archive_read_support_format_lha.c_lzh_make_huffman_table/: 'shufflevector'\n",
      "Error extracting representation cfgcallcompactnoroot for /home/nonroot/experiment/datasets/classify_seqs/group1.1000/BST/extr_archive_read_support_format_lha.c_lzh_make_huffman_table/: 'shufflevector'\n"
     ]
    },
    {
     "name": "stderr",
     "output_type": "stream",
     "text": [
      "BST.extr_cmm_tkip.c_RTMPTkipMixKey:  83%|██████████████████████████████████████████████████████████████████████████████████████████████████████████████████████████▏                        | 4154/5000 [2:33:36<28:51,  2.05s/it]"
     ]
    },
    {
     "name": "stdout",
     "output_type": "stream",
     "text": [
      "Error extracting representation cfgcallcompact1enoroot for /home/nonroot/experiment/datasets/classify_seqs/group1.1000/BST/extr_archive_read_support_format_lha.c_lzh_make_huffman_table/: 'shufflevector'\n"
     ]
    },
    {
     "name": "stderr",
     "output_type": "stream",
     "text": [
      "BST.extr_camellia.c_Camellia_Ekeygen:  83%|████████████████████████████████████████████████████████████████████████████████████████████████████████████████████████▋                        | 4161/5000 [2:33:53<33:40,  2.41s/it]"
     ]
    },
    {
     "name": "stdout",
     "output_type": "stream",
     "text": [
      "Error extracting representation cfgcompact for /home/nonroot/experiment/datasets/classify_seqs/group1.1000/BST/extr_camellia.c_Camellia_Ekeygen/: 'shufflevector'\n",
      "Error extracting representation cfgcallcompactnoroot for /home/nonroot/experiment/datasets/classify_seqs/group1.1000/BST/extr_camellia.c_Camellia_Ekeygen/: 'shufflevector'\n"
     ]
    },
    {
     "name": "stderr",
     "output_type": "stream",
     "text": [
      "BST.extr_cmsmd5.c_MD5_Transform:  83%|████████████████████████████████████████████████████████████████████████████████████████████████████████████████████████████▊                         | 4162/5000 [2:33:55<30:29,  2.18s/it]"
     ]
    },
    {
     "name": "stdout",
     "output_type": "stream",
     "text": [
      "Error extracting representation cfgcallcompact1enoroot for /home/nonroot/experiment/datasets/classify_seqs/group1.1000/BST/extr_camellia.c_Camellia_Ekeygen/: 'shufflevector'\n"
     ]
    },
    {
     "name": "stderr",
     "output_type": "stream",
     "text": [
      "BST.extr_rmi_f11.c_rmi_f11_get_query_parameters:  84%|███████████████████████████████████████████████████████████████████████████████████████████████████████████████▉                      | 4179/5000 [2:34:35<31:25,  2.30s/it]"
     ]
    },
    {
     "name": "stdout",
     "output_type": "stream",
     "text": [
      "Error extracting representation cfgcompact for /home/nonroot/experiment/datasets/classify_seqs/group1.1000/BST/extr_rmi_f11.c_rmi_f11_get_query_parameters/: 'shufflevector'\n",
      "Error extracting representation cfgcallcompactnoroot for /home/nonroot/experiment/datasets/classify_seqs/group1.1000/BST/extr_rmi_f11.c_rmi_f11_get_query_parameters/: 'shufflevector'\n"
     ]
    },
    {
     "name": "stderr",
     "output_type": "stream",
     "text": [
      "BST.extr_network.c_ff_connect_parallel:  84%|███████████████████████████████████████████████████████████████████████████████████████████████████████████████████████▌                       | 4180/5000 [2:34:37<29:31,  2.16s/it]"
     ]
    },
    {
     "name": "stdout",
     "output_type": "stream",
     "text": [
      "Error extracting representation cfgcallcompact1enoroot for /home/nonroot/experiment/datasets/classify_seqs/group1.1000/BST/extr_rmi_f11.c_rmi_f11_get_query_parameters/: 'shufflevector'\n"
     ]
    },
    {
     "name": "stderr",
     "output_type": "stream",
     "text": [
      "BST.extr_vf_lut.c_config_props:  84%|███████████████████████████████████████████████████████████████████████████████████████████████████████████████████████████████                        | 4206/5000 [2:35:37<33:22,  2.52s/it]"
     ]
    },
    {
     "name": "stdout",
     "output_type": "stream",
     "text": [
      "Error extracting representation cfgcompact for /home/nonroot/experiment/datasets/classify_seqs/group1.1000/BST/extr_vf_lut.c_config_props/: 'shufflevector'\n",
      "Error extracting representation cfgcallcompactnoroot for /home/nonroot/experiment/datasets/classify_seqs/group1.1000/BST/extr_vf_lut.c_config_props/: 'shufflevector'\n"
     ]
    },
    {
     "name": "stderr",
     "output_type": "stream",
     "text": [
      "BST.extr_m68kcpu.c_m68k_get_reg:  84%|██████████████████████████████████████████████████████████████████████████████████████████████████████████████████████████████▏                       | 4207/5000 [2:35:39<30:19,  2.29s/it]"
     ]
    },
    {
     "name": "stdout",
     "output_type": "stream",
     "text": [
      "Error extracting representation cfgcallcompact1enoroot for /home/nonroot/experiment/datasets/classify_seqs/group1.1000/BST/extr_vf_lut.c_config_props/: 'shufflevector'\n"
     ]
    },
    {
     "name": "stderr",
     "output_type": "stream",
     "text": [
      "BST.extr_test_test.c_test_bignum:  84%|█████████████████████████████████████████████████████████████████████████████████████████████████████████████████████████████▍                       | 4209/5000 [2:35:43<29:26,  2.23s/it]"
     ]
    },
    {
     "name": "stdout",
     "output_type": "stream",
     "text": [
      "Error extracting representation cfgcompact for /home/nonroot/experiment/datasets/classify_seqs/group1.1000/BST/extr_test_test.c_test_bignum/: 'shufflevector'\n",
      "Error extracting representation cfgcallcompactnoroot for /home/nonroot/experiment/datasets/classify_seqs/group1.1000/BST/extr_test_test.c_test_bignum/: 'shufflevector'\n"
     ]
    },
    {
     "name": "stderr",
     "output_type": "stream",
     "text": [
      "BST.extr_aoutx.h_adjust_z_magic:  84%|██████████████████████████████████████████████████████████████████████████████████████████████████████████████████████████████▎                       | 4210/5000 [2:35:45<27:07,  2.06s/it]"
     ]
    },
    {
     "name": "stdout",
     "output_type": "stream",
     "text": [
      "Error extracting representation cfgcallcompact1enoroot for /home/nonroot/experiment/datasets/classify_seqs/group1.1000/BST/extr_test_test.c_test_bignum/: 'shufflevector'\n"
     ]
    },
    {
     "name": "stderr",
     "output_type": "stream",
     "text": [
      "BST.extr_aes_impl_generic.c_aes_generic_decrypt:  84%|█████████████████████████████████████████████████████████████████████████████████████████████████████████████████▏                    | 4222/5000 [2:36:11<28:43,  2.21s/it]"
     ]
    },
    {
     "name": "stdout",
     "output_type": "stream",
     "text": [
      "Error extracting representation cfgcompact for /home/nonroot/experiment/datasets/classify_seqs/group1.1000/BST/extr_aes_impl_generic.c_aes_generic_decrypt/: 'shufflevector'\n",
      "Error extracting representation cfgcallcompactnoroot for /home/nonroot/experiment/datasets/classify_seqs/group1.1000/BST/extr_aes_impl_generic.c_aes_generic_decrypt/: 'shufflevector'\n"
     ]
    },
    {
     "name": "stderr",
     "output_type": "stream",
     "text": [
      "BST.extr_mlx4_port.c___mlx4_register_mac:  84%|███████████████████████████████████████████████████████████████████████████████████████████████████████████████████████                      | 4223/5000 [2:36:13<26:31,  2.05s/it]"
     ]
    },
    {
     "name": "stdout",
     "output_type": "stream",
     "text": [
      "Error extracting representation cfgcallcompact1enoroot for /home/nonroot/experiment/datasets/classify_seqs/group1.1000/BST/extr_aes_impl_generic.c_aes_generic_decrypt/: 'shufflevector'\n"
     ]
    },
    {
     "name": "stderr",
     "output_type": "stream",
     "text": [
      "BST.extr_lj_strscan.c_strscan_dec:  85%|█████████████████████████████████████████████████████████████████████████████████████████████████████████████████████████████▎                      | 4234/5000 [2:36:42<35:26,  2.78s/it]"
     ]
    },
    {
     "name": "stdout",
     "output_type": "stream",
     "text": [
      "Error extracting representation cfgcompact for /home/nonroot/experiment/datasets/classify_seqs/group1.1000/BST/extr_lj_strscan.c_strscan_dec/: 'shufflevector'\n",
      "Error extracting representation cfgcallcompactnoroot for /home/nonroot/experiment/datasets/classify_seqs/group1.1000/BST/extr_lj_strscan.c_strscan_dec/: 'shufflevector'\n"
     ]
    },
    {
     "name": "stderr",
     "output_type": "stream",
     "text": [
      "BST.extr_ngx_event.c_ngx_event_process_init:  85%|████████████████████████████████████████████████████████████████████████████████████████████████████████████████████▉                     | 4235/5000 [2:36:44<32:34,  2.55s/it]"
     ]
    },
    {
     "name": "stdout",
     "output_type": "stream",
     "text": [
      "Error extracting representation cfgcallcompact1enoroot for /home/nonroot/experiment/datasets/classify_seqs/group1.1000/BST/extr_lj_strscan.c_strscan_dec/: 'shufflevector'\n"
     ]
    },
    {
     "name": "stderr",
     "output_type": "stream",
     "text": [
      "BST.extr_flock_helper.c_test14:  85%|████████████████████████████████████████████████████████████████████████████████████████████████████████████████████████████████                       | 4242/5000 [2:37:00<28:13,  2.23s/it]"
     ]
    },
    {
     "name": "stdout",
     "output_type": "stream",
     "text": [
      "Error extracting representation cfgcompact for /home/nonroot/experiment/datasets/classify_seqs/group1.1000/BST/extr_flock_helper.c_test14/: 'shufflevector'\n",
      "Error extracting representation cfgcallcompactnoroot for /home/nonroot/experiment/datasets/classify_seqs/group1.1000/BST/extr_flock_helper.c_test14/: 'shufflevector'\n"
     ]
    },
    {
     "name": "stderr",
     "output_type": "stream",
     "text": [
      "BST.extr_20813.c_main:  85%|███████████████████████████████████████████████████████████████████████████████████████████████████████████████████████████████████████▊                        | 4243/5000 [2:37:01<27:11,  2.16s/it]"
     ]
    },
    {
     "name": "stdout",
     "output_type": "stream",
     "text": [
      "Error extracting representation cfgcallcompact1enoroot for /home/nonroot/experiment/datasets/classify_seqs/group1.1000/BST/extr_flock_helper.c_test14/: 'shufflevector'\n"
     ]
    },
    {
     "name": "stderr",
     "output_type": "stream",
     "text": [
      "BST.extr_decompress_bunzip2.c_get_next_block:  86%|█████████████████████████████████████████████████████████████████████████████████████████████████████████████████████▌                   | 4292/5000 [2:39:00<25:55,  2.20s/it]"
     ]
    },
    {
     "name": "stdout",
     "output_type": "stream",
     "text": [
      "Error extracting representation cfgcompact for /home/nonroot/experiment/datasets/classify_seqs/group1.1000/BST/extr_decompress_bunzip2.c_get_next_block/: 'shufflevector'\n",
      "Error extracting representation cfgcallcompactnoroot for /home/nonroot/experiment/datasets/classify_seqs/group1.1000/BST/extr_decompress_bunzip2.c_get_next_block/: 'shufflevector'\n"
     ]
    },
    {
     "name": "stderr",
     "output_type": "stream",
     "text": [
      "BST.extr_indeo5.c_decode_mb_info:  86%|███████████████████████████████████████████████████████████████████████████████████████████████████████████████████████████████▉                     | 4293/5000 [2:39:02<26:14,  2.23s/it]"
     ]
    },
    {
     "name": "stdout",
     "output_type": "stream",
     "text": [
      "Error extracting representation cfgcallcompact1enoroot for /home/nonroot/experiment/datasets/classify_seqs/group1.1000/BST/extr_decompress_bunzip2.c_get_next_block/: 'shufflevector'\n"
     ]
    },
    {
     "name": "stderr",
     "output_type": "stream",
     "text": [
      "BST.extr_tsens-v0_1.c_calibrate_8974:  86%|████████████████████████████████████████████████████████████████████████████████████████████████████████████████████████████▊                    | 4305/5000 [2:39:33<30:57,  2.67s/it]"
     ]
    },
    {
     "name": "stdout",
     "output_type": "stream",
     "text": [
      "Error extracting representation cfgcompact for /home/nonroot/experiment/datasets/classify_seqs/group1.1000/BST/extr_tsens-v0_1.c_calibrate_8974/: 'shufflevector'\n",
      "Error extracting representation cfgcallcompactnoroot for /home/nonroot/experiment/datasets/classify_seqs/group1.1000/BST/extr_tsens-v0_1.c_calibrate_8974/: 'shufflevector'\n"
     ]
    },
    {
     "name": "stderr",
     "output_type": "stream",
     "text": [
      "BST.extr_inode.c_ext4_do_update_inode:  86%|████████████████████████████████████████████████████████████████████████████████████████████████████████████████████████████                    | 4306/5000 [2:39:35<28:35,  2.47s/it]"
     ]
    },
    {
     "name": "stdout",
     "output_type": "stream",
     "text": [
      "Error extracting representation cfgcallcompact1enoroot for /home/nonroot/experiment/datasets/classify_seqs/group1.1000/BST/extr_tsens-v0_1.c_calibrate_8974/: 'shufflevector'\n"
     ]
    },
    {
     "name": "stderr",
     "output_type": "stream",
     "text": [
      "BST.extr_dvenc.c_dv_guess_qnos:  86%|██████████████████████████████████████████████████████████████████████████████████████████████████████████████████████████████████▌                    | 4325/5000 [2:40:22<27:29,  2.44s/it]"
     ]
    },
    {
     "name": "stdout",
     "output_type": "stream",
     "text": [
      "Error extracting representation cfgcompact for /home/nonroot/experiment/datasets/classify_seqs/group1.1000/BST/extr_dvenc.c_dv_guess_qnos/: 'shufflevector'\n",
      "Error extracting representation cfgcallcompactnoroot for /home/nonroot/experiment/datasets/classify_seqs/group1.1000/BST/extr_dvenc.c_dv_guess_qnos/: 'shufflevector'\n"
     ]
    },
    {
     "name": "stderr",
     "output_type": "stream",
     "text": [
      "BST.extr_pretty.c_format_commit_one:  87%|██████████████████████████████████████████████████████████████████████████████████████████████████████████████████████████████▎                   | 4326/5000 [2:40:24<25:11,  2.24s/it]"
     ]
    },
    {
     "name": "stdout",
     "output_type": "stream",
     "text": [
      "Error extracting representation cfgcallcompact1enoroot for /home/nonroot/experiment/datasets/classify_seqs/group1.1000/BST/extr_dvenc.c_dv_guess_qnos/: 'shufflevector'\n"
     ]
    },
    {
     "name": "stderr",
     "output_type": "stream",
     "text": [
      "BST.extr_vf_deshake.c_filter_frame:  87%|███████████████████████████████████████████████████████████████████████████████████████████████████████████████████████████████▏                   | 4327/5000 [2:40:27<28:02,  2.50s/it]"
     ]
    },
    {
     "name": "stdout",
     "output_type": "stream",
     "text": [
      "Error extracting representation cfgcompact for /home/nonroot/experiment/datasets/classify_seqs/group1.1000/BST/extr_vf_deshake.c_filter_frame/: 'shufflevector'\n",
      "Error extracting representation cfgcallcompactnoroot for /home/nonroot/experiment/datasets/classify_seqs/group1.1000/BST/extr_vf_deshake.c_filter_frame/: 'shufflevector'\n"
     ]
    },
    {
     "name": "stderr",
     "output_type": "stream",
     "text": [
      "BST.extr_ip_options.c___ip_options_compile:  87%|████████████████████████████████████████████████████████████████████████████████████████████████████████████████████████▎                  | 4328/5000 [2:40:28<25:22,  2.27s/it]"
     ]
    },
    {
     "name": "stdout",
     "output_type": "stream",
     "text": [
      "Error extracting representation cfgcallcompact1enoroot for /home/nonroot/experiment/datasets/classify_seqs/group1.1000/BST/extr_vf_deshake.c_filter_frame/: 'shufflevector'\n"
     ]
    },
    {
     "name": "stderr",
     "output_type": "stream",
     "text": [
      "BST.extr_graphics.c_EMFDRV_ExtTextOut:  88%|██████████████████████████████████████████████████████████████████████████████████████████████████████████████████████████████▏                 | 4380/5000 [2:42:35<25:42,  2.49s/it]"
     ]
    },
    {
     "name": "stdout",
     "output_type": "stream",
     "text": [
      "Error extracting representation cfgcompact for /home/nonroot/experiment/datasets/classify_seqs/group1.1000/BST/extr_graphics.c_EMFDRV_ExtTextOut/: 'shufflevector'\n",
      "Error extracting representation cfgcallcompactnoroot for /home/nonroot/experiment/datasets/classify_seqs/group1.1000/BST/extr_graphics.c_EMFDRV_ExtTextOut/: 'shufflevector'\n"
     ]
    },
    {
     "name": "stderr",
     "output_type": "stream",
     "text": [
      "BST.extr_s390-tdep.c_s390_analyze_prologue:  88%|█████████████████████████████████████████████████████████████████████████████████████████████████████████████████████████▊                 | 4381/5000 [2:42:37<23:37,  2.29s/it]"
     ]
    },
    {
     "name": "stdout",
     "output_type": "stream",
     "text": [
      "Error extracting representation cfgcallcompact1enoroot for /home/nonroot/experiment/datasets/classify_seqs/group1.1000/BST/extr_graphics.c_EMFDRV_ExtTextOut/: 'shufflevector'\n"
     ]
    },
    {
     "name": "stderr",
     "output_type": "stream",
     "text": [
      "BST.extr_usbconfig.c_flush_command:  88%|█████████████████████████████████████████████████████████████████████████████████████████████████████████████████████████████████                  | 4388/5000 [2:42:56<25:19,  2.48s/it]"
     ]
    },
    {
     "name": "stdout",
     "output_type": "stream",
     "text": [
      "Error extracting representation cfgcompact for /home/nonroot/experiment/datasets/classify_seqs/group1.1000/BST/extr_usbconfig.c_flush_command/: 'shufflevector'\n",
      "Error extracting representation cfgcallcompactnoroot for /home/nonroot/experiment/datasets/classify_seqs/group1.1000/BST/extr_usbconfig.c_flush_command/: 'shufflevector'\n"
     ]
    },
    {
     "name": "stderr",
     "output_type": "stream",
     "text": [
      "BST.extr_as3722-regulator.c_as3722_regulator_probe:  88%|██████████████████████████████████████████████████████████████████████████████████████████████████████████████████▉                | 4389/5000 [2:42:58<23:44,  2.33s/it]"
     ]
    },
    {
     "name": "stdout",
     "output_type": "stream",
     "text": [
      "Error extracting representation cfgcallcompact1enoroot for /home/nonroot/experiment/datasets/classify_seqs/group1.1000/BST/extr_usbconfig.c_flush_command/: 'shufflevector'\n"
     ]
    },
    {
     "name": "stderr",
     "output_type": "stream",
     "text": [
      "BST.extr_if_axgbe.c_axgbe_attach:  88%|███████████████████████████████████████████████████████████████████████████████████████████████████████████████████████████████████▎                 | 4408/5000 [2:43:43<24:42,  2.51s/it]"
     ]
    },
    {
     "name": "stdout",
     "output_type": "stream",
     "text": [
      "Error extracting representation cfgcompact for /home/nonroot/experiment/datasets/classify_seqs/group1.1000/BST/extr_if_axgbe.c_axgbe_attach/: 'shufflevector'\n",
      "Error extracting representation cfgcallcompactnoroot for /home/nonroot/experiment/datasets/classify_seqs/group1.1000/BST/extr_if_axgbe.c_axgbe_attach/: 'shufflevector'\n"
     ]
    },
    {
     "name": "stderr",
     "output_type": "stream",
     "text": [
      "BST.extr_main.c_ieee80211_alloc_hw_nm:  88%|██████████████████████████████████████████████████████████████████████████████████████████████████████████████████████████████▉                 | 4409/5000 [2:43:45<22:49,  2.32s/it]"
     ]
    },
    {
     "name": "stdout",
     "output_type": "stream",
     "text": [
      "Error extracting representation cfgcallcompact1enoroot for /home/nonroot/experiment/datasets/classify_seqs/group1.1000/BST/extr_if_axgbe.c_axgbe_attach/: 'shufflevector'\n",
      "Error extracting representation cfgcompact for /home/nonroot/experiment/datasets/classify_seqs/group1.1000/BST/extr_main.c_ieee80211_alloc_hw_nm/: 'shufflevector'\n",
      "Error extracting representation cfgcallcompactnoroot for /home/nonroot/experiment/datasets/classify_seqs/group1.1000/BST/extr_main.c_ieee80211_alloc_hw_nm/: 'shufflevector'\n"
     ]
    },
    {
     "name": "stderr",
     "output_type": "stream",
     "text": [
      "BST.extr_dhcp.c_send_DHCP_REQUEST:  88%|██████████████████████████████████████████████████████████████████████████████████████████████████████████████████████████████████▌                 | 4410/5000 [2:43:47<21:08,  2.15s/it]"
     ]
    },
    {
     "name": "stdout",
     "output_type": "stream",
     "text": [
      "Error extracting representation cfgcallcompact1enoroot for /home/nonroot/experiment/datasets/classify_seqs/group1.1000/BST/extr_main.c_ieee80211_alloc_hw_nm/: 'shufflevector'\n"
     ]
    },
    {
     "name": "stderr",
     "output_type": "stream",
     "text": [
      "BST.extr_parse_func.c_func_select_candidate:  88%|█████████████████████████████████████████████████████████████████████████████████████████████████████████████████████████▊                | 4412/5000 [2:43:51<21:11,  2.16s/it]"
     ]
    },
    {
     "name": "stdout",
     "output_type": "stream",
     "text": [
      "Error extracting representation cfgcompact for /home/nonroot/experiment/datasets/classify_seqs/group1.1000/BST/extr_parse_func.c_func_select_candidate/: 'shufflevector'\n",
      "Error extracting representation cfgcallcompactnoroot for /home/nonroot/experiment/datasets/classify_seqs/group1.1000/BST/extr_parse_func.c_func_select_candidate/: 'shufflevector'\n"
     ]
    },
    {
     "name": "stderr",
     "output_type": "stream",
     "text": [
      "BST.extr_r600.c_r600_pm_get_dynpm_state:  88%|█████████████████████████████████████████████████████████████████████████████████████████████████████████████████████████████▎                | 4413/5000 [2:43:53<20:31,  2.10s/it]"
     ]
    },
    {
     "name": "stdout",
     "output_type": "stream",
     "text": [
      "Error extracting representation cfgcallcompact1enoroot for /home/nonroot/experiment/datasets/classify_seqs/group1.1000/BST/extr_parse_func.c_func_select_candidate/: 'shufflevector'\n"
     ]
    },
    {
     "name": "stderr",
     "output_type": "stream",
     "text": [
      "BST.extr_vf_delogo.c_filter_frame:  88%|██████████████████████████████████████████████████████████████████████████████████████████████████████████████████████████████████▉                 | 4425/5000 [2:44:25<25:44,  2.69s/it]"
     ]
    },
    {
     "name": "stdout",
     "output_type": "stream",
     "text": [
      "Error extracting representation cfgcompact for /home/nonroot/experiment/datasets/classify_seqs/group1.1000/BST/extr_vf_delogo.c_filter_frame/: 'shufflevector'\n",
      "Error extracting representation cfgcallcompactnoroot for /home/nonroot/experiment/datasets/classify_seqs/group1.1000/BST/extr_vf_delogo.c_filter_frame/: 'shufflevector'\n"
     ]
    },
    {
     "name": "stderr",
     "output_type": "stream",
     "text": [
      "BST.extr_wherecode.c_codeEqualityTerm:  89%|███████████████████████████████████████████████████████████████████████████████████████████████████████████████████████████████▍                | 4426/5000 [2:44:26<23:04,  2.41s/it]"
     ]
    },
    {
     "name": "stdout",
     "output_type": "stream",
     "text": [
      "Error extracting representation cfgcallcompact1enoroot for /home/nonroot/experiment/datasets/classify_seqs/group1.1000/BST/extr_vf_delogo.c_filter_frame/: 'shufflevector'\n"
     ]
    },
    {
     "name": "stderr",
     "output_type": "stream",
     "text": [
      "BST.extr_fm_ncsw.c_FmGetSetPortParams:  89%|███████████████████████████████████████████████████████████████████████████████████████████████████████████████████████████████▋                | 4432/5000 [2:44:42<25:06,  2.65s/it]"
     ]
    },
    {
     "name": "stdout",
     "output_type": "stream",
     "text": [
      "Error extracting representation cfgcompact for /home/nonroot/experiment/datasets/classify_seqs/group1.1000/BST/extr_fm_ncsw.c_FmGetSetPortParams/: 'shufflevector'\n",
      "Error extracting representation cfgcallcompactnoroot for /home/nonroot/experiment/datasets/classify_seqs/group1.1000/BST/extr_fm_ncsw.c_FmGetSetPortParams/: 'shufflevector'\n"
     ]
    },
    {
     "name": "stderr",
     "output_type": "stream",
     "text": [
      "BST.extr_chip.c_set_buffer_control:  89%|██████████████████████████████████████████████████████████████████████████████████████████████████████████████████████████████████▎                | 4433/5000 [2:44:44<22:26,  2.37s/it]"
     ]
    },
    {
     "name": "stdout",
     "output_type": "stream",
     "text": [
      "Error extracting representation cfgcallcompact1enoroot for /home/nonroot/experiment/datasets/classify_seqs/group1.1000/BST/extr_fm_ncsw.c_FmGetSetPortParams/: 'shufflevector'\n"
     ]
    },
    {
     "name": "stderr",
     "output_type": "stream",
     "text": [
      "BST.extr_vnode_pager.c_vnode_pager_generic_putpages:  89%|███████████████████████████████████████████████████████████████████████████████████████████████████████████████████▎              | 4436/5000 [2:44:52<25:01,  2.66s/it]"
     ]
    },
    {
     "name": "stdout",
     "output_type": "stream",
     "text": [
      "Error extracting representation cfgcompact for /home/nonroot/experiment/datasets/classify_seqs/group1.1000/BST/extr_vnode_pager.c_vnode_pager_generic_putpages/: 'shufflevector'\n",
      "Error extracting representation cfgcallcompactnoroot for /home/nonroot/experiment/datasets/classify_seqs/group1.1000/BST/extr_vnode_pager.c_vnode_pager_generic_putpages/: 'shufflevector'\n"
     ]
    },
    {
     "name": "stderr",
     "output_type": "stream",
     "text": [
      "BST.extr_swscale_unscaled.c_packed16togbra16:  89%|█████████████████████████████████████████████████████████████████████████████████████████████████████████████████████████▌               | 4437/5000 [2:44:54<22:48,  2.43s/it]"
     ]
    },
    {
     "name": "stdout",
     "output_type": "stream",
     "text": [
      "Error extracting representation cfgcallcompact1enoroot for /home/nonroot/experiment/datasets/classify_seqs/group1.1000/BST/extr_vnode_pager.c_vnode_pager_generic_putpages/: 'shufflevector'\n"
     ]
    },
    {
     "name": "stderr",
     "output_type": "stream",
     "text": [
      "BST.extr_ar5416_attach.c_ar5416SpurMitigate:  89%|██████████████████████████████████████████████████████████████████████████████████████████████████████████████████████████▌               | 4440/5000 [2:45:01<22:07,  2.37s/it]"
     ]
    },
    {
     "name": "stdout",
     "output_type": "stream",
     "text": [
      "Error extracting representation cfgcompact for /home/nonroot/experiment/datasets/classify_seqs/group1.1000/BST/extr_ar5416_attach.c_ar5416SpurMitigate/: 'shufflevector'\n",
      "Error extracting representation cfgcallcompactnoroot for /home/nonroot/experiment/datasets/classify_seqs/group1.1000/BST/extr_ar5416_attach.c_ar5416SpurMitigate/: 'shufflevector'\n"
     ]
    },
    {
     "name": "stderr",
     "output_type": "stream",
     "text": [
      "BST.extr_where.c_wherePathSatisfiesOrderBy:  89%|███████████████████████████████████████████████████████████████████████████████████████████████████████████████████████████▍               | 4441/5000 [2:45:03<20:40,  2.22s/it]"
     ]
    },
    {
     "name": "stdout",
     "output_type": "stream",
     "text": [
      "Error extracting representation cfgcallcompact1enoroot for /home/nonroot/experiment/datasets/classify_seqs/group1.1000/BST/extr_ar5416_attach.c_ar5416SpurMitigate/: 'shufflevector'\n"
     ]
    },
    {
     "name": "stderr",
     "output_type": "stream",
     "text": [
      "BST.extr_19160.c_main:  89%|██████████████████████████████████████████████████████████████████████████████████████████████████████████████████████████████████████████████▎                 | 4447/5000 [2:45:18<22:26,  2.44s/it]"
     ]
    },
    {
     "name": "stdout",
     "output_type": "stream",
     "text": [
      "Error extracting representation cfgcompact for /home/nonroot/experiment/datasets/classify_seqs/group1.1000/BST/extr_19160.c_main/: 'shufflevector'\n",
      "Error extracting representation cfgcallcompactnoroot for /home/nonroot/experiment/datasets/classify_seqs/group1.1000/BST/extr_19160.c_main/: 'shufflevector'\n"
     ]
    },
    {
     "name": "stderr",
     "output_type": "stream",
     "text": [
      "BST.extr_f_mass_storage.c_do_write:  89%|██████████████████████████████████████████████████████████████████████████████████████████████████████████████████████████████████▊                | 4448/5000 [2:45:20<20:43,  2.25s/it]"
     ]
    },
    {
     "name": "stdout",
     "output_type": "stream",
     "text": [
      "Error extracting representation cfgcallcompact1enoroot for /home/nonroot/experiment/datasets/classify_seqs/group1.1000/BST/extr_19160.c_main/: 'shufflevector'\n"
     ]
    },
    {
     "name": "stderr",
     "output_type": "stream",
     "text": [
      "BST.extr_camellia_glue.c_camellia_setup_tail:  89%|██████████████████████████████████████████████████████████████████████████████████████████████████████████████████████████▏              | 4458/5000 [2:45:44<21:04,  2.33s/it]"
     ]
    },
    {
     "name": "stdout",
     "output_type": "stream",
     "text": [
      "Error extracting representation cfgcompact for /home/nonroot/experiment/datasets/classify_seqs/group1.1000/BST/extr_camellia_glue.c_camellia_setup_tail/: 'shufflevector'\n",
      "Error extracting representation cfgcallcompactnoroot for /home/nonroot/experiment/datasets/classify_seqs/group1.1000/BST/extr_camellia_glue.c_camellia_setup_tail/: 'shufflevector'\n"
     ]
    },
    {
     "name": "stderr",
     "output_type": "stream",
     "text": [
      "BST.extr_atmel_hlcdc_plane.c_atmel_hlcdc_plane_atomic_check:  89%|████████████████████████████████████████████████████████████████████████████████████████████████████████████▊             | 4459/5000 [2:45:45<19:19,  2.14s/it]"
     ]
    },
    {
     "name": "stdout",
     "output_type": "stream",
     "text": [
      "Error extracting representation cfgcallcompact1enoroot for /home/nonroot/experiment/datasets/classify_seqs/group1.1000/BST/extr_camellia_glue.c_camellia_setup_tail/: 'shufflevector'\n",
      "Error extracting representation cfgcompact for /home/nonroot/experiment/datasets/classify_seqs/group1.1000/BST/extr_atmel_hlcdc_plane.c_atmel_hlcdc_plane_atomic_check/: 'shufflevector'\n",
      "Error extracting representation cfgcallcompactnoroot for /home/nonroot/experiment/datasets/classify_seqs/group1.1000/BST/extr_atmel_hlcdc_plane.c_atmel_hlcdc_plane_atomic_check/: 'shufflevector'\n"
     ]
    },
    {
     "name": "stderr",
     "output_type": "stream",
     "text": [
      "BST.extr_hclge_main.c_hclge_fd_check_spec:  89%|████████████████████████████████████████████████████████████████████████████████████████████████████████████████████████████▉               | 4460/5000 [2:45:47<18:09,  2.02s/it]"
     ]
    },
    {
     "name": "stdout",
     "output_type": "stream",
     "text": [
      "Error extracting representation cfgcallcompact1enoroot for /home/nonroot/experiment/datasets/classify_seqs/group1.1000/BST/extr_atmel_hlcdc_plane.c_atmel_hlcdc_plane_atomic_check/: 'shufflevector'\n"
     ]
    },
    {
     "name": "stderr",
     "output_type": "stream",
     "text": [
      "BST.extr_mipmap.c_scale_internal_ubyte:  89%|███████████████████████████████████████████████████████████████████████████████████████████████████████████████████████████████▊               | 4469/5000 [2:46:10<21:36,  2.44s/it]"
     ]
    },
    {
     "name": "stdout",
     "output_type": "stream",
     "text": [
      "Error extracting representation cfgcompact for /home/nonroot/experiment/datasets/classify_seqs/group1.1000/BST/extr_mipmap.c_scale_internal_ubyte/: 'shufflevector'\n",
      "Error extracting representation cfgcallcompactnoroot for /home/nonroot/experiment/datasets/classify_seqs/group1.1000/BST/extr_mipmap.c_scale_internal_ubyte/: 'shufflevector'\n"
     ]
    },
    {
     "name": "stderr",
     "output_type": "stream",
     "text": [
      "BST.extr_nfs4acl.c__posix_to_nfsv4_one:  89%|███████████████████████████████████████████████████████████████████████████████████████████████████████████████████████████████▊               | 4470/5000 [2:46:13<20:53,  2.36s/it]"
     ]
    },
    {
     "name": "stdout",
     "output_type": "stream",
     "text": [
      "Error extracting representation cfgcallcompact1enoroot for /home/nonroot/experiment/datasets/classify_seqs/group1.1000/BST/extr_mipmap.c_scale_internal_ubyte/: 'shufflevector'\n"
     ]
    },
    {
     "name": "stderr",
     "output_type": "stream",
     "text": [
      "BST.extr_ar5416_attach.c_ar5416FillCapabilityInfo:  89%|██████████████████████████████████████████████████████████████████████████████████████████████████████████████████████              | 4471/5000 [2:46:15<20:07,  2.28s/it]"
     ]
    },
    {
     "name": "stdout",
     "output_type": "stream",
     "text": [
      "Error extracting representation cfgcompact for /home/nonroot/experiment/datasets/classify_seqs/group1.1000/BST/extr_ar5416_attach.c_ar5416FillCapabilityInfo/: 'shufflevector'\n",
      "Error extracting representation cfgcallcompactnoroot for /home/nonroot/experiment/datasets/classify_seqs/group1.1000/BST/extr_ar5416_attach.c_ar5416FillCapabilityInfo/: 'shufflevector'\n"
     ]
    },
    {
     "name": "stderr",
     "output_type": "stream",
     "text": [
      "BST.extr_ngx_solaris_sendfilev_chain.c_ngx_solaris_sendfilev_chain:  89%|██████████████████████████████████████████████████████████████████████████████████████████████████████▊            | 4472/5000 [2:46:16<18:31,  2.10s/it]"
     ]
    },
    {
     "name": "stdout",
     "output_type": "stream",
     "text": [
      "Error extracting representation cfgcallcompact1enoroot for /home/nonroot/experiment/datasets/classify_seqs/group1.1000/BST/extr_ar5416_attach.c_ar5416FillCapabilityInfo/: 'shufflevector'\n"
     ]
    },
    {
     "name": "stderr",
     "output_type": "stream",
     "text": [
      "BST.extr_if_ale.c_ale_stats_update:  90%|███████████████████████████████████████████████████████████████████████████████████████████████████████████████████████████████████▌               | 4476/5000 [2:46:26<20:10,  2.31s/it]"
     ]
    },
    {
     "name": "stdout",
     "output_type": "stream",
     "text": [
      "Error extracting representation cfgcompact for /home/nonroot/experiment/datasets/classify_seqs/group1.1000/BST/extr_if_ale.c_ale_stats_update/: 'shufflevector'\n",
      "Error extracting representation cfgcallcompactnoroot for /home/nonroot/experiment/datasets/classify_seqs/group1.1000/BST/extr_if_ale.c_ale_stats_update/: 'shufflevector'\n"
     ]
    },
    {
     "name": "stderr",
     "output_type": "stream",
     "text": [
      "BST.extr_ena.c_ena_attach:  90%|███████████████████████████████████████████████████████████████████████████████████████████████████████████████████████████████████████████▋                | 4477/5000 [2:46:28<18:25,  2.11s/it]"
     ]
    },
    {
     "name": "stdout",
     "output_type": "stream",
     "text": [
      "Error extracting representation cfgcallcompact1enoroot for /home/nonroot/experiment/datasets/classify_seqs/group1.1000/BST/extr_if_ale.c_ale_stats_update/: 'shufflevector'\n",
      "Error extracting representation cfgcompact for /home/nonroot/experiment/datasets/classify_seqs/group1.1000/BST/extr_ena.c_ena_attach/: 'shufflevector'\n",
      "Error extracting representation cfgcallcompactnoroot for /home/nonroot/experiment/datasets/classify_seqs/group1.1000/BST/extr_ena.c_ena_attach/: 'shufflevector'\n"
     ]
    },
    {
     "name": "stderr",
     "output_type": "stream",
     "text": [
      "BST.extr_if_jme.c_jme_dma_alloc:  90%|██████████████████████████████████████████████████████████████████████████████████████████████████████████████████████████████████████▎               | 4478/5000 [2:46:29<17:27,  2.01s/it]"
     ]
    },
    {
     "name": "stdout",
     "output_type": "stream",
     "text": [
      "Error extracting representation cfgcallcompact1enoroot for /home/nonroot/experiment/datasets/classify_seqs/group1.1000/BST/extr_ena.c_ena_attach/: 'shufflevector'\n"
     ]
    },
    {
     "name": "stderr",
     "output_type": "stream",
     "text": [
      "BST.extr_output-pnm.c_pam_write_band:  90%|██████████████████████████████████████████████████████████████████████████████████████████████████████████████████████████████████▋              | 4507/5000 [2:47:44<21:19,  2.60s/it]"
     ]
    },
    {
     "name": "stdout",
     "output_type": "stream",
     "text": [
      "Error extracting representation cfgcompact for /home/nonroot/experiment/datasets/classify_seqs/group1.1000/BST/extr_output-pnm.c_pam_write_band/: 'shufflevector'\n",
      "Error extracting representation cfgcallcompactnoroot for /home/nonroot/experiment/datasets/classify_seqs/group1.1000/BST/extr_output-pnm.c_pam_write_band/: 'shufflevector'\n"
     ]
    },
    {
     "name": "stderr",
     "output_type": "stream",
     "text": [
      "BST.extr_ialloc.c___ext4_new_inode:  90%|████████████████████████████████████████████████████████████████████████████████████████████████████████████████████████████████████▌              | 4508/5000 [2:47:46<19:30,  2.38s/it]"
     ]
    },
    {
     "name": "stdout",
     "output_type": "stream",
     "text": [
      "Error extracting representation cfgcallcompact1enoroot for /home/nonroot/experiment/datasets/classify_seqs/group1.1000/BST/extr_output-pnm.c_pam_write_band/: 'shufflevector'\n"
     ]
    },
    {
     "name": "stderr",
     "output_type": "stream",
     "text": [
      "BST.extr_cxd2880_tnrdmd_dvbt2_mon.c_cxd2880_tnrdmd_dvbt2_mon_l1_pre:  91%|███████████████████████████████████████████████████████████████████████████████████████████████████████▎          | 4533/5000 [2:48:51<20:58,  2.70s/it]"
     ]
    },
    {
     "name": "stdout",
     "output_type": "stream",
     "text": [
      "Error extracting representation cfgcompact for /home/nonroot/experiment/datasets/classify_seqs/group1.1000/BST/extr_cxd2880_tnrdmd_dvbt2_mon.c_cxd2880_tnrdmd_dvbt2_mon_l1_pre/: 'shufflevector'\n",
      "Error extracting representation cfgcallcompactnoroot for /home/nonroot/experiment/datasets/classify_seqs/group1.1000/BST/extr_cxd2880_tnrdmd_dvbt2_mon.c_cxd2880_tnrdmd_dvbt2_mon_l1_pre/: 'shufflevector'\n"
     ]
    },
    {
     "name": "stderr",
     "output_type": "stream",
     "text": [
      "BST.extr_ahciem.c_ahci_em_attach:  91%|███████████████████████████████████████████████████████████████████████████████████████████████████████████████████████████████████████              | 4534/5000 [2:48:52<18:45,  2.42s/it]"
     ]
    },
    {
     "name": "stdout",
     "output_type": "stream",
     "text": [
      "Error extracting representation cfgcallcompact1enoroot for /home/nonroot/experiment/datasets/classify_seqs/group1.1000/BST/extr_cxd2880_tnrdmd_dvbt2_mon.c_cxd2880_tnrdmd_dvbt2_mon_l1_pre/: 'shufflevector'\n"
     ]
    },
    {
     "name": "stderr",
     "output_type": "stream",
     "text": [
      "BST.extr_listbox.c_LISTBOX_Paint:  91%|███████████████████████████████████████████████████████████████████████████████████████████████████████████████████████████████████████▌             | 4550/5000 [2:49:31<17:24,  2.32s/it]"
     ]
    },
    {
     "name": "stdout",
     "output_type": "stream",
     "text": [
      "Error extracting representation cfgcompact for /home/nonroot/experiment/datasets/classify_seqs/group1.1000/BST/extr_listbox.c_LISTBOX_Paint/: 'shufflevector'\n",
      "Error extracting representation cfgcallcompactnoroot for /home/nonroot/experiment/datasets/classify_seqs/group1.1000/BST/extr_listbox.c_LISTBOX_Paint/: 'shufflevector'\n"
     ]
    },
    {
     "name": "stderr",
     "output_type": "stream",
     "text": [
      "BST.extr_lpfc_scsi.c_lpfc_scsi_cmd_iocb_cmpl:  91%|████████████████████████████████████████████████████████████████████████████████████████████████████████████████████████████▋            | 4551/5000 [2:49:33<16:12,  2.17s/it]"
     ]
    },
    {
     "name": "stdout",
     "output_type": "stream",
     "text": [
      "Error extracting representation cfgcallcompact1enoroot for /home/nonroot/experiment/datasets/classify_seqs/group1.1000/BST/extr_listbox.c_LISTBOX_Paint/: 'shufflevector'\n"
     ]
    },
    {
     "name": "stderr",
     "output_type": "stream",
     "text": [
      "BST.extr_aes_impl_generic.c_aes_generic_encrypt:  91%|██████████████████████████████████████████████████████████████████████████████████████████████████████████████████████████▏           | 4558/5000 [2:49:49<16:57,  2.30s/it]"
     ]
    },
    {
     "name": "stdout",
     "output_type": "stream",
     "text": [
      "Error extracting representation cfgcompact for /home/nonroot/experiment/datasets/classify_seqs/group1.1000/BST/extr_aes_impl_generic.c_aes_generic_encrypt/: 'shufflevector'\n",
      "Error extracting representation cfgcallcompactnoroot for /home/nonroot/experiment/datasets/classify_seqs/group1.1000/BST/extr_aes_impl_generic.c_aes_generic_encrypt/: 'shufflevector'\n"
     ]
    },
    {
     "name": "stderr",
     "output_type": "stream",
     "text": [
      "BST.extr_btusb.c_btusb_probe:  91%|███████████████████████████████████████████████████████████████████████████████████████████████████████████████████████████████████████████▌             | 4559/5000 [2:49:50<15:30,  2.11s/it]"
     ]
    },
    {
     "name": "stdout",
     "output_type": "stream",
     "text": [
      "Error extracting representation cfgcallcompact1enoroot for /home/nonroot/experiment/datasets/classify_seqs/group1.1000/BST/extr_aes_impl_generic.c_aes_generic_encrypt/: 'shufflevector'\n"
     ]
    },
    {
     "name": "stderr",
     "output_type": "stream",
     "text": [
      "BST.extr_lio_ethtool.c_lio_get_ethtool_stats:  91%|████████████████████████████████████████████████████████████████████████████████████████████████████████████████████████████▉            | 4562/5000 [2:49:59<18:22,  2.52s/it]"
     ]
    },
    {
     "name": "stdout",
     "output_type": "stream",
     "text": [
      "Error extracting representation cfgcompact for /home/nonroot/experiment/datasets/classify_seqs/group1.1000/BST/extr_lio_ethtool.c_lio_get_ethtool_stats/: 'shufflevector'\n",
      "Error extracting representation cfgcallcompactnoroot for /home/nonroot/experiment/datasets/classify_seqs/group1.1000/BST/extr_lio_ethtool.c_lio_get_ethtool_stats/: 'shufflevector'\n"
     ]
    },
    {
     "name": "stderr",
     "output_type": "stream",
     "text": [
      "BST.extr_sge.c_t4_eth_xmit:  91%|█████████████████████████████████████████████████████████████████████████████████████████████████████████████████████████████████████████████▍             | 4563/5000 [2:50:01<16:39,  2.29s/it]"
     ]
    },
    {
     "name": "stdout",
     "output_type": "stream",
     "text": [
      "Error extracting representation cfgcallcompact1enoroot for /home/nonroot/experiment/datasets/classify_seqs/group1.1000/BST/extr_lio_ethtool.c_lio_get_ethtool_stats/: 'shufflevector'\n"
     ]
    },
    {
     "name": "stderr",
     "output_type": "stream",
     "text": [
      "BST.extr_wilc_spi.c_spi_cmd_complete:  92%|█████████████████████████████████████████████████████████████████████████████████████████████████████████████████████████████████████▎           | 4595/5000 [2:51:18<16:09,  2.39s/it]"
     ]
    },
    {
     "name": "stdout",
     "output_type": "stream",
     "text": [
      "Error extracting representation cfgcompact for /home/nonroot/experiment/datasets/classify_seqs/group1.1000/BST/extr_wilc_spi.c_spi_cmd_complete/: 'shufflevector'\n",
      "Error extracting representation cfgcallcompactnoroot for /home/nonroot/experiment/datasets/classify_seqs/group1.1000/BST/extr_wilc_spi.c_spi_cmd_complete/: 'shufflevector'\n"
     ]
    },
    {
     "name": "stderr",
     "output_type": "stream",
     "text": [
      "BST.extr_hid-udraw-ps3.c_udraw_raw_event:  92%|█████████████████████████████████████████████████████████████████████████████████████████████████████████████████████████████████▌           | 4596/5000 [2:51:20<15:16,  2.27s/it]"
     ]
    },
    {
     "name": "stdout",
     "output_type": "stream",
     "text": [
      "Error extracting representation cfgcallcompact1enoroot for /home/nonroot/experiment/datasets/classify_seqs/group1.1000/BST/extr_wilc_spi.c_spi_cmd_complete/: 'shufflevector'\n"
     ]
    },
    {
     "name": "stderr",
     "output_type": "stream",
     "text": [
      "BST.extr_mzpokeysnd.c_advance_ticks:  92%|██████████████████████████████████████████████████████████████████████████████████████████████████████████████████████████████████████▎           | 4600/5000 [2:51:30<15:57,  2.39s/it]"
     ]
    },
    {
     "name": "stdout",
     "output_type": "stream",
     "text": [
      "Error extracting representation cfgcompact for /home/nonroot/experiment/datasets/classify_seqs/group1.1000/BST/extr_mzpokeysnd.c_advance_ticks/: 'shufflevector'\n",
      "Error extracting representation cfgcallcompactnoroot for /home/nonroot/experiment/datasets/classify_seqs/group1.1000/BST/extr_mzpokeysnd.c_advance_ticks/: 'shufflevector'\n"
     ]
    },
    {
     "name": "stderr",
     "output_type": "stream",
     "text": [
      "BST.extr_test_arm_regression.c_snprint_insn_detail:  92%|████████████████████████████████████████████████████████████████████████████████████████████████████████████████████████▌          | 4601/5000 [2:51:32<14:41,  2.21s/it]"
     ]
    },
    {
     "name": "stdout",
     "output_type": "stream",
     "text": [
      "Error extracting representation cfgcallcompact1enoroot for /home/nonroot/experiment/datasets/classify_seqs/group1.1000/BST/extr_mzpokeysnd.c_advance_ticks/: 'shufflevector'\n"
     ]
    },
    {
     "name": "stderr",
     "output_type": "stream",
     "text": [
      "BST.extr_vf_datascope.c_oscilloscope_filter_frame:  92%|█████████████████████████████████████████████████████████████████████████████████████████████████████████████████████████▌          | 4604/5000 [2:51:38<14:19,  2.17s/it]"
     ]
    },
    {
     "name": "stdout",
     "output_type": "stream",
     "text": [
      "Error extracting representation cfgcompact for /home/nonroot/experiment/datasets/classify_seqs/group1.1000/BST/extr_vf_datascope.c_oscilloscope_filter_frame/: 'shufflevector'\n",
      "Error extracting representation cfgcallcompactnoroot for /home/nonroot/experiment/datasets/classify_seqs/group1.1000/BST/extr_vf_datascope.c_oscilloscope_filter_frame/: 'shufflevector'\n"
     ]
    },
    {
     "name": "stderr",
     "output_type": "stream",
     "text": [
      "BST.extr_DAC960.c_DAC960_V2_ProcessCompletedCommand:  92%|███████████████████████████████████████████████████████████████████████████████████████████████████████████████████████▋          | 4605/5000 [2:51:40<13:25,  2.04s/it]"
     ]
    },
    {
     "name": "stdout",
     "output_type": "stream",
     "text": [
      "Error extracting representation cfgcallcompact1enoroot for /home/nonroot/experiment/datasets/classify_seqs/group1.1000/BST/extr_vf_datascope.c_oscilloscope_filter_frame/: 'shufflevector'\n"
     ]
    },
    {
     "name": "stderr",
     "output_type": "stream",
     "text": [
      "BST.extr_array.c_Array_sort:  92%|██████████████████████████████████████████████████████████████████████████████████████████████████████████████████████████████████████████████            | 4611/5000 [2:51:55<14:43,  2.27s/it]"
     ]
    },
    {
     "name": "stdout",
     "output_type": "stream",
     "text": [
      "Error extracting representation cfgcompact for /home/nonroot/experiment/datasets/classify_seqs/group1.1000/BST/extr_array.c_Array_sort/: 'shufflevector'\n",
      "Error extracting representation cfgcallcompactnoroot for /home/nonroot/experiment/datasets/classify_seqs/group1.1000/BST/extr_array.c_Array_sort/: 'shufflevector'\n"
     ]
    },
    {
     "name": "stderr",
     "output_type": "stream",
     "text": [
      "BST.extr_region_layer.c_get_region_detections:  92%|█████████████████████████████████████████████████████████████████████████████████████████████████████████████████████████████▍          | 4612/5000 [2:51:57<14:02,  2.17s/it]"
     ]
    },
    {
     "name": "stdout",
     "output_type": "stream",
     "text": [
      "Error extracting representation cfgcallcompact1enoroot for /home/nonroot/experiment/datasets/classify_seqs/group1.1000/BST/extr_array.c_Array_sort/: 'shufflevector'\n"
     ]
    },
    {
     "name": "stderr",
     "output_type": "stream",
     "text": [
      "BST.extr_compiled_base.c_unpack_bits:  92%|█████████████████████████████████████████████████████████████████████████████████████████████████████████████████████████████████████▊           | 4616/5000 [2:52:06<14:50,  2.32s/it]"
     ]
    },
    {
     "name": "stdout",
     "output_type": "stream",
     "text": [
      "Error extracting representation cfgcompact for /home/nonroot/experiment/datasets/classify_seqs/group1.1000/BST/extr_compiled_base.c_unpack_bits/: 'shufflevector'\n",
      "Error extracting representation cfgcallcompactnoroot for /home/nonroot/experiment/datasets/classify_seqs/group1.1000/BST/extr_compiled_base.c_unpack_bits/: 'shufflevector'\n"
     ]
    },
    {
     "name": "stderr",
     "output_type": "stream",
     "text": [
      "BST.extr_raid10.c_raid10_write_request:  92%|████████████████████████████████████████████████████████████████████████████████████████████████████████████████████████████████████           | 4617/5000 [2:52:08<14:01,  2.20s/it]"
     ]
    },
    {
     "name": "stdout",
     "output_type": "stream",
     "text": [
      "Error extracting representation cfgcallcompact1enoroot for /home/nonroot/experiment/datasets/classify_seqs/group1.1000/BST/extr_compiled_base.c_unpack_bits/: 'shufflevector'\n"
     ]
    },
    {
     "name": "stderr",
     "output_type": "stream",
     "text": [
      "BST.extr_ar5008_phy.c_ar5008_hw_cmn_spur_mitigate:  93%|██████████████████████████████████████████████████████████████████████████████████████████████████████████████████████████▏         | 4626/5000 [2:52:30<14:30,  2.33s/it]"
     ]
    },
    {
     "name": "stdout",
     "output_type": "stream",
     "text": [
      "Error extracting representation cfgcompact for /home/nonroot/experiment/datasets/classify_seqs/group1.1000/BST/extr_ar5008_phy.c_ar5008_hw_cmn_spur_mitigate/: 'shufflevector'\n",
      "Error extracting representation cfgcallcompactnoroot for /home/nonroot/experiment/datasets/classify_seqs/group1.1000/BST/extr_ar5008_phy.c_ar5008_hw_cmn_spur_mitigate/: 'shufflevector'\n"
     ]
    },
    {
     "name": "stderr",
     "output_type": "stream",
     "text": [
      "BST.extr_md5.c_md5_transform:  93%|█████████████████████████████████████████████████████████████████████████████████████████████████████████████████████████████████████████████▌           | 4627/5000 [2:52:31<13:29,  2.17s/it]"
     ]
    },
    {
     "name": "stdout",
     "output_type": "stream",
     "text": [
      "Error extracting representation cfgcallcompact1enoroot for /home/nonroot/experiment/datasets/classify_seqs/group1.1000/BST/extr_ar5008_phy.c_ar5008_hw_cmn_spur_mitigate/: 'shufflevector'\n"
     ]
    },
    {
     "name": "stderr",
     "output_type": "stream",
     "text": [
      "BST.extr_ipu3-css-fw.c_imgu_css_fw_init:  93%|████████████████████████████████████████████████████████████████████████████████████████████████████████████████████████████████████          | 4649/5000 [2:53:26<14:31,  2.48s/it]"
     ]
    },
    {
     "name": "stdout",
     "output_type": "stream",
     "text": [
      "Error extracting representation cfgcompact for /home/nonroot/experiment/datasets/classify_seqs/group1.1000/BST/extr_ipu3-css-fw.c_imgu_css_fw_init/: 'shufflevector'\n",
      "Error extracting representation cfgcallcompactnoroot for /home/nonroot/experiment/datasets/classify_seqs/group1.1000/BST/extr_ipu3-css-fw.c_imgu_css_fw_init/: 'shufflevector'\n"
     ]
    },
    {
     "name": "stderr",
     "output_type": "stream",
     "text": [
      "BST.extr_sli4.c_sli_els_request64_wqe:  93%|█████████████████████████████████████████████████████████████████████████████████████████████████████████████████████████████████████▉          | 4650/5000 [2:53:28<13:29,  2.31s/it]"
     ]
    },
    {
     "name": "stdout",
     "output_type": "stream",
     "text": [
      "Error extracting representation cfgcallcompact1enoroot for /home/nonroot/experiment/datasets/classify_seqs/group1.1000/BST/extr_ipu3-css-fw.c_imgu_css_fw_init/: 'shufflevector'\n"
     ]
    },
    {
     "name": "stderr",
     "output_type": "stream",
     "text": [
      "BST.extr_intel_hdcp.c_intel_hdcp_validate_v_prime:  93%|██████████████████████████████████████████████████████████████████████████████████████████████████████████████████████████▊         | 4652/5000 [2:53:33<13:32,  2.33s/it]"
     ]
    },
    {
     "name": "stdout",
     "output_type": "stream",
     "text": [
      "Error extracting representation cfgcompact for /home/nonroot/experiment/datasets/classify_seqs/group1.1000/BST/extr_intel_hdcp.c_intel_hdcp_validate_v_prime/: 'shufflevector'\n",
      "Error extracting representation cfgcallcompactnoroot for /home/nonroot/experiment/datasets/classify_seqs/group1.1000/BST/extr_intel_hdcp.c_intel_hdcp_validate_v_prime/: 'shufflevector'\n"
     ]
    },
    {
     "name": "stderr",
     "output_type": "stream",
     "text": [
      "BST.extr_inode.c___ext2_write_inode:  93%|███████████████████████████████████████████████████████████████████████████████████████████████████████████████████████████████████████▊          | 4653/5000 [2:53:35<12:41,  2.19s/it]"
     ]
    },
    {
     "name": "stdout",
     "output_type": "stream",
     "text": [
      "Error extracting representation cfgcallcompact1enoroot for /home/nonroot/experiment/datasets/classify_seqs/group1.1000/BST/extr_intel_hdcp.c_intel_hdcp_validate_v_prime/: 'shufflevector'\n"
     ]
    },
    {
     "name": "stderr",
     "output_type": "stream",
     "text": [
      "BST.extr_tui.c_TuiEditBox:  93%|█████████████████████████████████████████████████████████████████████████████████████████████████████████████████████████████████████████████████▏          | 4654/5000 [2:53:37<12:35,  2.18s/it]"
     ]
    },
    {
     "name": "stdout",
     "output_type": "stream",
     "text": [
      "Error extracting representation cfgcompact for /home/nonroot/experiment/datasets/classify_seqs/group1.1000/BST/extr_tui.c_TuiEditBox/: 'shufflevector'\n",
      "Error extracting representation cfgcallcompactnoroot for /home/nonroot/experiment/datasets/classify_seqs/group1.1000/BST/extr_tui.c_TuiEditBox/: 'shufflevector'\n"
     ]
    },
    {
     "name": "stderr",
     "output_type": "stream",
     "text": [
      "BST.extr_radix.c_rn_addroute:  93%|██████████████████████████████████████████████████████████████████████████████████████████████████████████████████████████████████████████████▍          | 4655/5000 [2:53:39<11:57,  2.08s/it]"
     ]
    },
    {
     "name": "stdout",
     "output_type": "stream",
     "text": [
      "Error extracting representation cfgcallcompact1enoroot for /home/nonroot/experiment/datasets/classify_seqs/group1.1000/BST/extr_tui.c_TuiEditBox/: 'shufflevector'\n"
     ]
    },
    {
     "name": "stderr",
     "output_type": "stream",
     "text": [
      "BST.extr_file_slot.c_slot_save:  94%|█████████████████████████████████████████████████████████████████████████████████████████████████████████████████████████████████████████████▍         | 4682/5000 [2:54:46<10:04,  1.90s/it]/home/nonroot/experiment/datasets/classify_seqs/group1.1000/BST/extr_file_slot.c_slot_save//a.out_o.bc: /home/nonroot/experiment/datasets/classify_seqs/group1.1000/BST/extr_file_slot.c_slot_save//a.out_o.bc: error: Could not open input file: No such file or directory\n",
      "BST.extr_vfs_cluster.c_cluster_write_copy:  94%|███████████████████████████████████████████████████████████████████████████████████████████████████████████████████████████████████         | 4682/5000 [2:54:46<10:04,  1.90s/it]"
     ]
    },
    {
     "name": "stdout",
     "output_type": "stream",
     "text": [
      "Error extracting IR from /home/nonroot/experiment/datasets/classify_seqs/group1.1000/BST/extr_file_slot.c_slot_save//a.out_o.bc: Failed parse IR file\n"
     ]
    },
    {
     "name": "stderr",
     "output_type": "stream",
     "text": [
      "BST.extr_mipmap.c_scale_internal_short:  94%|██████████████████████████████████████████████████████████████████████████████████████████████████████████████████████████████████████▊        | 4713/5000 [2:56:06<11:15,  2.35s/it]"
     ]
    },
    {
     "name": "stdout",
     "output_type": "stream",
     "text": [
      "Error extracting representation cfgcompact for /home/nonroot/experiment/datasets/classify_seqs/group1.1000/BST/extr_mipmap.c_scale_internal_short/: 'shufflevector'\n",
      "Error extracting representation cfgcallcompactnoroot for /home/nonroot/experiment/datasets/classify_seqs/group1.1000/BST/extr_mipmap.c_scale_internal_short/: 'shufflevector'\n"
     ]
    },
    {
     "name": "stderr",
     "output_type": "stream",
     "text": [
      "BST.extr_atrac9dec.c_atrac9_decode_block:  94%|████████████████████████████████████████████████████████████████████████████████████████████████████████████████████████████████████▉        | 4714/5000 [2:56:08<10:51,  2.28s/it]"
     ]
    },
    {
     "name": "stdout",
     "output_type": "stream",
     "text": [
      "Error extracting representation cfgcallcompact1enoroot for /home/nonroot/experiment/datasets/classify_seqs/group1.1000/BST/extr_mipmap.c_scale_internal_short/: 'shufflevector'\n"
     ]
    },
    {
     "name": "stderr",
     "output_type": "stream",
     "text": [
      "BST.extr_gdb-stub.c_gdbstub_set_breakpoint:  95%|███████████████████████████████████████████████████████████████████████████████████████████████████████████████████████████████████▌       | 4732/5000 [2:56:52<10:36,  2.37s/it]"
     ]
    },
    {
     "name": "stdout",
     "output_type": "stream",
     "text": [
      "Error extracting representation cfgcompact for /home/nonroot/experiment/datasets/classify_seqs/group1.1000/BST/extr_gdb-stub.c_gdbstub_set_breakpoint/: list index out of range\n",
      "Error extracting representation cfgcallcompactnoroot for /home/nonroot/experiment/datasets/classify_seqs/group1.1000/BST/extr_gdb-stub.c_gdbstub_set_breakpoint/: list index out of range\n"
     ]
    },
    {
     "name": "stderr",
     "output_type": "stream",
     "text": [
      "BST.extr_edma.c_edma_probe:  95%|██████████████████████████████████████████████████████████████████████████████████████████████████████████████████████████████████████████████████▋        | 4733/5000 [2:56:54<09:54,  2.23s/it]"
     ]
    },
    {
     "name": "stdout",
     "output_type": "stream",
     "text": [
      "Error extracting representation cfgcallcompact1enoroot for /home/nonroot/experiment/datasets/classify_seqs/group1.1000/BST/extr_gdb-stub.c_gdbstub_set_breakpoint/: list index out of range\n"
     ]
    },
    {
     "name": "stderr",
     "output_type": "stream",
     "text": [
      "BST.extr_lio_ethtool.c_lio_vf_get_ethtool_stats:  95%|██████████████████████████████████████████████████████████████████████████████████████████████████████████████████████████████▉       | 4736/5000 [2:57:01<10:28,  2.38s/it]"
     ]
    },
    {
     "name": "stdout",
     "output_type": "stream",
     "text": [
      "Error extracting representation cfgcompact for /home/nonroot/experiment/datasets/classify_seqs/group1.1000/BST/extr_lio_ethtool.c_lio_vf_get_ethtool_stats/: 'shufflevector'\n",
      "Error extracting representation cfgcallcompactnoroot for /home/nonroot/experiment/datasets/classify_seqs/group1.1000/BST/extr_lio_ethtool.c_lio_vf_get_ethtool_stats/: 'shufflevector'\n"
     ]
    },
    {
     "name": "stderr",
     "output_type": "stream",
     "text": [
      "BST.extr_nanovg.c_nvg__expandFill:  95%|████████████████████████████████████████████████████████████████████████████████████████████████████████████████████████████████████████████▏       | 4737/5000 [2:57:03<09:30,  2.17s/it]"
     ]
    },
    {
     "name": "stdout",
     "output_type": "stream",
     "text": [
      "Error extracting representation cfgcallcompact1enoroot for /home/nonroot/experiment/datasets/classify_seqs/group1.1000/BST/extr_lio_ethtool.c_lio_vf_get_ethtool_stats/: 'shufflevector'\n"
     ]
    },
    {
     "name": "stderr",
     "output_type": "stream",
     "text": [
      "BST.extr_http.c_HTTP_HttpQueryInfoW:  95%|██████████████████████████████████████████████████████████████████████████████████████████████████████████████████████████████████████████▍       | 4742/5000 [2:57:15<10:03,  2.34s/it]"
     ]
    },
    {
     "name": "stdout",
     "output_type": "stream",
     "text": [
      "Error extracting representation cfgcompact for /home/nonroot/experiment/datasets/classify_seqs/group1.1000/BST/extr_http.c_HTTP_HttpQueryInfoW/: 'shufflevector'\n",
      "Error extracting representation cfgcallcompactnoroot for /home/nonroot/experiment/datasets/classify_seqs/group1.1000/BST/extr_http.c_HTTP_HttpQueryInfoW/: 'shufflevector'\n"
     ]
    },
    {
     "name": "stderr",
     "output_type": "stream",
     "text": [
      "BST.extr_genautomata.c_process_decls:  95%|█████████████████████████████████████████████████████████████████████████████████████████████████████████████████████████████████████████▌       | 4743/5000 [2:57:17<09:32,  2.23s/it]"
     ]
    },
    {
     "name": "stdout",
     "output_type": "stream",
     "text": [
      "Error extracting representation cfgcallcompact1enoroot for /home/nonroot/experiment/datasets/classify_seqs/group1.1000/BST/extr_http.c_HTTP_HttpQueryInfoW/: 'shufflevector'\n"
     ]
    },
    {
     "name": "stderr",
     "output_type": "stream",
     "text": [
      "BST.extr_video.c_transcode_video_process:  95%|█████████████████████████████████████████████████████████████████████████████████████████████████████████████████████████████████████▉       | 4748/5000 [2:57:29<10:07,  2.41s/it]"
     ]
    },
    {
     "name": "stdout",
     "output_type": "stream",
     "text": [
      "Error extracting representation cfgcompact for /home/nonroot/experiment/datasets/classify_seqs/group1.1000/BST/extr_video.c_transcode_video_process/: 'shufflevector'\n",
      "Error extracting representation cfgcallcompactnoroot for /home/nonroot/experiment/datasets/classify_seqs/group1.1000/BST/extr_video.c_transcode_video_process/: 'shufflevector'\n"
     ]
    },
    {
     "name": "stderr",
     "output_type": "stream",
     "text": [
      "BST.extr_videobuf2-v4l2.c_vb2_fill_vb2_v4l2_buffer:  95%|████████████████████████████████████████████████████████████████████████████████████████████████████████████████████████████▍      | 4749/5000 [2:57:31<09:24,  2.25s/it]"
     ]
    },
    {
     "name": "stdout",
     "output_type": "stream",
     "text": [
      "Error extracting representation cfgcallcompact1enoroot for /home/nonroot/experiment/datasets/classify_seqs/group1.1000/BST/extr_video.c_transcode_video_process/: 'shufflevector'\n"
     ]
    },
    {
     "name": "stderr",
     "output_type": "stream",
     "text": [
      "BST.extr_ints.c_init_IRQ:  95%|█████████████████████████████████████████████████████████████████████████████████████████████████████████████████████████████████████████████████████▎       | 4755/5000 [2:57:44<08:24,  2.06s/it]"
     ]
    },
    {
     "name": "stdout",
     "output_type": "stream",
     "text": [
      "Error extracting representation cfgcompact for /home/nonroot/experiment/datasets/classify_seqs/group1.1000/BST/extr_ints.c_init_IRQ/: 'shufflevector'\n",
      "Error extracting representation cfgcallcompactnoroot for /home/nonroot/experiment/datasets/classify_seqs/group1.1000/BST/extr_ints.c_init_IRQ/: 'shufflevector'\n"
     ]
    },
    {
     "name": "stderr",
     "output_type": "stream",
     "text": [
      "BST.extr_vme_user.c_vme_user_probe:  95%|███████████████████████████████████████████████████████████████████████████████████████████████████████████████████████████████████████████▊       | 4756/5000 [2:57:45<07:55,  1.95s/it]"
     ]
    },
    {
     "name": "stdout",
     "output_type": "stream",
     "text": [
      "Error extracting representation cfgcallcompact1enoroot for /home/nonroot/experiment/datasets/classify_seqs/group1.1000/BST/extr_ints.c_init_IRQ/: 'shufflevector'\n"
     ]
    },
    {
     "name": "stderr",
     "output_type": "stream",
     "text": [
      "BST.extr_qcu.c_ath5k_hw_reset_tx_queue:  95%|████████████████████████████████████████████████████████████████████████████████████████████████████████████████████████████████████████       | 4758/5000 [2:57:50<08:38,  2.14s/it]"
     ]
    },
    {
     "name": "stdout",
     "output_type": "stream",
     "text": [
      "Error extracting representation cfgcompact for /home/nonroot/experiment/datasets/classify_seqs/group1.1000/BST/extr_qcu.c_ath5k_hw_reset_tx_queue/: 'shufflevector'\n",
      "Error extracting representation cfgcallcompactnoroot for /home/nonroot/experiment/datasets/classify_seqs/group1.1000/BST/extr_qcu.c_ath5k_hw_reset_tx_queue/: 'shufflevector'\n"
     ]
    },
    {
     "name": "stderr",
     "output_type": "stream",
     "text": [
      "BST.extr_nct6775.c_nct6775_check_fan_inputs:  95%|███████████████████████████████████████████████████████████████████████████████████████████████████████████████████████████████████▎      | 4759/5000 [2:57:52<08:10,  2.03s/it]"
     ]
    },
    {
     "name": "stdout",
     "output_type": "stream",
     "text": [
      "Error extracting representation cfgcallcompact1enoroot for /home/nonroot/experiment/datasets/classify_seqs/group1.1000/BST/extr_qcu.c_ath5k_hw_reset_tx_queue/: 'shufflevector'\n"
     ]
    },
    {
     "name": "stderr",
     "output_type": "stream",
     "text": [
      "BST.extr_hdspm.c_snd_hdspm_create:  96%|██████████████████████████████████████████████████████████████████████████████████████████████████████████████████████████████████████████████▍     | 4810/5000 [3:00:03<07:42,  2.43s/it]"
     ]
    },
    {
     "name": "stdout",
     "output_type": "stream",
     "text": [
      "Error extracting representation cfgcompact for /home/nonroot/experiment/datasets/classify_seqs/group1.1000/BST/extr_hdspm.c_snd_hdspm_create/: 'shufflevector'\n",
      "Error extracting representation cfgcallcompactnoroot for /home/nonroot/experiment/datasets/classify_seqs/group1.1000/BST/extr_hdspm.c_snd_hdspm_create/: 'shufflevector'\n"
     ]
    },
    {
     "name": "stderr",
     "output_type": "stream",
     "text": [
      "BST.extr_scsi_xpt.c_scsi_set_transfer_settings:  96%|█████████████████████████████████████████████████████████████████████████████████████████████████████████████████████████████████▉     | 4811/5000 [3:00:05<07:06,  2.26s/it]"
     ]
    },
    {
     "name": "stdout",
     "output_type": "stream",
     "text": [
      "Error extracting representation cfgcallcompact1enoroot for /home/nonroot/experiment/datasets/classify_seqs/group1.1000/BST/extr_hdspm.c_snd_hdspm_create/: 'shufflevector'\n"
     ]
    },
    {
     "name": "stderr",
     "output_type": "stream",
     "text": [
      "BST.extr_decode.c_decode_modrm_rm:  96%|██████████████████████████████████████████████████████████████████████████████████████████████████████████████████████████████████████████████▍     | 4812/5000 [3:00:09<07:55,  2.53s/it]"
     ]
    },
    {
     "name": "stdout",
     "output_type": "stream",
     "text": [
      "Error extracting representation cfgcompact for /home/nonroot/experiment/datasets/classify_seqs/group1.1000/BST/extr_decode.c_decode_modrm_rm/: 'shufflevector'\n",
      "Error extracting representation cfgcallcompactnoroot for /home/nonroot/experiment/datasets/classify_seqs/group1.1000/BST/extr_decode.c_decode_modrm_rm/: 'shufflevector'\n"
     ]
    },
    {
     "name": "stderr",
     "output_type": "stream",
     "text": [
      "BST.extr_i386.c_ix86_expand_epilogue:  96%|███████████████████████████████████████████████████████████████████████████████████████████████████████████████████████████████████████████▌     | 4813/5000 [3:00:10<07:11,  2.31s/it]"
     ]
    },
    {
     "name": "stdout",
     "output_type": "stream",
     "text": [
      "Error extracting representation cfgcallcompact1enoroot for /home/nonroot/experiment/datasets/classify_seqs/group1.1000/BST/extr_decode.c_decode_modrm_rm/: 'shufflevector'\n"
     ]
    },
    {
     "name": "stderr",
     "output_type": "stream",
     "text": [
      "BST.extr_atafb_iplan2p8.c_atafb_iplan2p8_copyarea:  97%|███████████████████████████████████████████████████████████████████████████████████████████████████████████████████████████████▉    | 4847/5000 [3:01:34<06:05,  2.39s/it]"
     ]
    },
    {
     "name": "stdout",
     "output_type": "stream",
     "text": [
      "Error extracting representation cfgcompact for /home/nonroot/experiment/datasets/classify_seqs/group1.1000/BST/extr_atafb_iplan2p8.c_atafb_iplan2p8_copyarea/: 'shufflevector'\n",
      "Error extracting representation cfgcallcompactnoroot for /home/nonroot/experiment/datasets/classify_seqs/group1.1000/BST/extr_atafb_iplan2p8.c_atafb_iplan2p8_copyarea/: 'shufflevector'\n"
     ]
    },
    {
     "name": "stderr",
     "output_type": "stream",
     "text": [
      "BST.extr_sqlite3_omit.c_sqlite3ExprCodeIN:  97%|███████████████████████████████████████████████████████████████████████████████████████████████████████████████████████████████████████▋    | 4848/5000 [3:01:36<05:44,  2.27s/it]"
     ]
    },
    {
     "name": "stdout",
     "output_type": "stream",
     "text": [
      "Error extracting representation cfgcallcompact1enoroot for /home/nonroot/experiment/datasets/classify_seqs/group1.1000/BST/extr_atafb_iplan2p8.c_atafb_iplan2p8_copyarea/: 'shufflevector'\n"
     ]
    },
    {
     "name": "stderr",
     "output_type": "stream",
     "text": [
      "BST.extr_imagelib.c_LoadTGABuffer:  97%|███████████████████████████████████████████████████████████████████████████████████████████████████████████████████████████████████████████████▌    | 4852/5000 [3:01:45<05:30,  2.23s/it]"
     ]
    },
    {
     "name": "stdout",
     "output_type": "stream",
     "text": [
      "Error extracting representation cfgcompact for /home/nonroot/experiment/datasets/classify_seqs/group1.1000/BST/extr_imagelib.c_LoadTGABuffer/: 'shufflevector'\n",
      "Error extracting representation cfgcallcompactnoroot for /home/nonroot/experiment/datasets/classify_seqs/group1.1000/BST/extr_imagelib.c_LoadTGABuffer/: 'shufflevector'\n"
     ]
    },
    {
     "name": "stderr",
     "output_type": "stream",
     "text": [
      "BST.extr_bnx2.c_bnx2_init_board:  97%|█████████████████████████████████████████████████████████████████████████████████████████████████████████████████████████████████████████████████▌    | 4853/5000 [3:01:46<05:10,  2.11s/it]"
     ]
    },
    {
     "name": "stdout",
     "output_type": "stream",
     "text": [
      "Error extracting representation cfgcallcompact1enoroot for /home/nonroot/experiment/datasets/classify_seqs/group1.1000/BST/extr_imagelib.c_LoadTGABuffer/: 'shufflevector'\n"
     ]
    },
    {
     "name": "stderr",
     "output_type": "stream",
     "text": [
      "BST.extr_chacha20_ct.c_br_chacha20_ct_run:  97%|███████████████████████████████████████████████████████████████████████████████████████████████████████████████████████████████████████▉    | 4855/5000 [3:01:53<06:42,  2.78s/it]"
     ]
    },
    {
     "name": "stdout",
     "output_type": "stream",
     "text": [
      "Error extracting representation cfgcompact for /home/nonroot/experiment/datasets/classify_seqs/group1.1000/BST/extr_chacha20_ct.c_br_chacha20_ct_run/: 'shufflevector'\n",
      "Error extracting representation cfgcallcompactnoroot for /home/nonroot/experiment/datasets/classify_seqs/group1.1000/BST/extr_chacha20_ct.c_br_chacha20_ct_run/: 'shufflevector'\n"
     ]
    },
    {
     "name": "stderr",
     "output_type": "stream",
     "text": [
      "BST.extr_des.c_dkey:  97%|█████████████████████████████████████████████████████████████████████████████████████████████████████████████████████████████████████████████████████████████▎    | 4856/5000 [3:01:55<05:54,  2.46s/it]"
     ]
    },
    {
     "name": "stdout",
     "output_type": "stream",
     "text": [
      "Error extracting representation cfgcallcompact1enoroot for /home/nonroot/experiment/datasets/classify_seqs/group1.1000/BST/extr_chacha20_ct.c_br_chacha20_ct_run/: 'shufflevector'\n"
     ]
    },
    {
     "name": "stderr",
     "output_type": "stream",
     "text": [
      "BST.extr_field_10x26_impl.h_secp256k1_fe_set_b32:  98%|██████████████████████████████████████████████████████████████████████████████████████████████████████████████████████████████████▏  | 4896/5000 [3:03:33<04:24,  2.54s/it]"
     ]
    },
    {
     "name": "stdout",
     "output_type": "stream",
     "text": [
      "Error extracting representation cfgcompact for /home/nonroot/experiment/datasets/classify_seqs/group1.1000/BST/extr_field_10x26_impl.h_secp256k1_fe_set_b32/: 'shufflevector'\n",
      "Error extracting representation cfgcallcompactnoroot for /home/nonroot/experiment/datasets/classify_seqs/group1.1000/BST/extr_field_10x26_impl.h_secp256k1_fe_set_b32/: 'shufflevector'\n"
     ]
    },
    {
     "name": "stderr",
     "output_type": "stream",
     "text": [
      "BST.extr_ngx_http_lua_bodyfilterby.c_ngx_http_lua_body_filter_param_set:  98%|███████████████████████████████████████████████████████████████████████████████████████████████████████████▋  | 4897/5000 [3:03:34<03:54,  2.28s/it]"
     ]
    },
    {
     "name": "stdout",
     "output_type": "stream",
     "text": [
      "Error extracting representation cfgcallcompact1enoroot for /home/nonroot/experiment/datasets/classify_seqs/group1.1000/BST/extr_field_10x26_impl.h_secp256k1_fe_set_b32/: 'shufflevector'\n"
     ]
    },
    {
     "name": "stderr",
     "output_type": "stream",
     "text": [
      "BST.extr_adv_pci_dio.c_pci_dio_attach:  98%|█████████████████████████████████████████████████████████████████████████████████████████████████████████████████████████████████████████████   | 4899/5000 [3:03:39<03:49,  2.27s/it]"
     ]
    },
    {
     "name": "stdout",
     "output_type": "stream",
     "text": [
      "Error extracting representation cfgcompact for /home/nonroot/experiment/datasets/classify_seqs/group1.1000/BST/extr_adv_pci_dio.c_pci_dio_attach/: 'shufflevector'\n",
      "Error extracting representation cfgcallcompactnoroot for /home/nonroot/experiment/datasets/classify_seqs/group1.1000/BST/extr_adv_pci_dio.c_pci_dio_attach/: 'shufflevector'\n"
     ]
    },
    {
     "name": "stderr",
     "output_type": "stream",
     "text": [
      "BST.extr_vfs_syscalls.c_dounmount:  98%|█████████████████████████████████████████████████████████████████████████████████████████████████████████████████████████████████████████████████   | 4900/5000 [3:03:41<03:37,  2.17s/it]"
     ]
    },
    {
     "name": "stdout",
     "output_type": "stream",
     "text": [
      "Error extracting representation cfgcallcompact1enoroot for /home/nonroot/experiment/datasets/classify_seqs/group1.1000/BST/extr_adv_pci_dio.c_pci_dio_attach/: 'shufflevector'\n"
     ]
    },
    {
     "name": "stderr",
     "output_type": "stream",
     "text": [
      "BST.extr_aml8726_sdxc-m8.c_aml8726_sdxc_attach:  99%|█████████████████████████████████████████████████████████████████████████████████████████████████████████████████████████████████████  | 4926/5000 [3:04:46<02:50,  2.31s/it]"
     ]
    },
    {
     "name": "stdout",
     "output_type": "stream",
     "text": [
      "Error extracting representation cfgcompact for /home/nonroot/experiment/datasets/classify_seqs/group1.1000/BST/extr_aml8726_sdxc-m8.c_aml8726_sdxc_attach/: 'shufflevector'\n",
      "Error extracting representation cfgcallcompactnoroot for /home/nonroot/experiment/datasets/classify_seqs/group1.1000/BST/extr_aml8726_sdxc-m8.c_aml8726_sdxc_attach/: 'shufflevector'\n"
     ]
    },
    {
     "name": "stderr",
     "output_type": "stream",
     "text": [
      "BST.extr_psxstr.c_str_read_packet:  99%|█████████████████████████████████████████████████████████████████████████████████████████████████████████████████████████████████████████████████▊  | 4927/5000 [3:04:48<02:39,  2.18s/it]"
     ]
    },
    {
     "name": "stdout",
     "output_type": "stream",
     "text": [
      "Error extracting representation cfgcallcompact1enoroot for /home/nonroot/experiment/datasets/classify_seqs/group1.1000/BST/extr_aml8726_sdxc-m8.c_aml8726_sdxc_attach/: 'shufflevector'\n"
     ]
    },
    {
     "name": "stderr",
     "output_type": "stream",
     "text": [
      "BST.extr_psm.c_psmsoftintr:  99%|█████████████████████████████████████████████████████████████████████████████████████████████████████████████████████████████████████████████████████████▎ | 4946/5000 [3:05:34<02:23,  2.66s/it]"
     ]
    },
    {
     "name": "stdout",
     "output_type": "stream",
     "text": [
      "Error extracting representation cfgcompact for /home/nonroot/experiment/datasets/classify_seqs/group1.1000/BST/extr_psm.c_psmsoftintr/: 'shufflevector'\n",
      "Error extracting representation cfgcallcompactnoroot for /home/nonroot/experiment/datasets/classify_seqs/group1.1000/BST/extr_psm.c_psmsoftintr/: 'shufflevector'\n"
     ]
    },
    {
     "name": "stderr",
     "output_type": "stream",
     "text": [
      "BST.extr_dlmmaster.c_dlm_assert_master_handler:  99%|█████████████████████████████████████████████████████████████████████████████████████████████████████████████████████████████████████▌ | 4947/5000 [3:05:36<02:08,  2.43s/it]"
     ]
    },
    {
     "name": "stdout",
     "output_type": "stream",
     "text": [
      "Error extracting representation cfgcallcompact1enoroot for /home/nonroot/experiment/datasets/classify_seqs/group1.1000/BST/extr_psm.c_psmsoftintr/: 'shufflevector'\n"
     ]
    },
    {
     "name": "stderr",
     "output_type": "stream",
     "text": [
      "BST.extr_yuvjpeg.c_main:  99%|████████████████████████████████████████████████████████████████████████████████████████████████████████████████████████████████████████████████████████████▋ | 4960/5000 [3:06:07<01:17,  1.93s/it]/home/nonroot/experiment/datasets/classify_seqs/group1.1000/BST/extr_yuvjpeg.c_main//a.out_o.bc: /home/nonroot/experiment/datasets/classify_seqs/group1.1000/BST/extr_yuvjpeg.c_main//a.out_o.bc: error: Could not open input file: No such file or directory\n",
      "BST.extr_s3fb.c_s3fb_set_par:  99%|███████████████████████████████████████████████████████████████████████████████████████████████████████████████████████████████████████████████████████▊ | 4960/5000 [3:06:07<01:17,  1.93s/it]"
     ]
    },
    {
     "name": "stdout",
     "output_type": "stream",
     "text": [
      "Error extracting IR from /home/nonroot/experiment/datasets/classify_seqs/group1.1000/BST/extr_yuvjpeg.c_main//a.out_o.bc: Failed parse IR file\n"
     ]
    },
    {
     "name": "stderr",
     "output_type": "stream",
     "text": [
      "BST.extr_extent.c_ext2fs_extent_set_bmap:  99%|███████████████████████████████████████████████████████████████████████████████████████████████████████████████████████████████████████████▉ | 4961/5000 [3:06:09<01:22,  2.10s/it]"
     ]
    },
    {
     "name": "stdout",
     "output_type": "stream",
     "text": [
      "Error extracting representation cfgcompact for /home/nonroot/experiment/datasets/classify_seqs/group1.1000/BST/extr_extent.c_ext2fs_extent_set_bmap/: 'shufflevector'\n",
      "Error extracting representation cfgcallcompactnoroot for /home/nonroot/experiment/datasets/classify_seqs/group1.1000/BST/extr_extent.c_ext2fs_extent_set_bmap/: 'shufflevector'\n"
     ]
    },
    {
     "name": "stderr",
     "output_type": "stream",
     "text": [
      "BST.extr_nodeWindowAgg.c_update_frameheadpos:  99%|███████████████████████████████████████████████████████████████████████████████████████████████████████████████████████████████████████▉ | 4962/5000 [3:06:11<01:17,  2.05s/it]"
     ]
    },
    {
     "name": "stdout",
     "output_type": "stream",
     "text": [
      "Error extracting representation cfgcallcompact1enoroot for /home/nonroot/experiment/datasets/classify_seqs/group1.1000/BST/extr_extent.c_ext2fs_extent_set_bmap/: 'shufflevector'\n"
     ]
    },
    {
     "name": "stderr",
     "output_type": "stream",
     "text": [
      "BST.extr_multi.c_singlesocket:  99%|███████████████████████████████████████████████████████████████████████████████████████████████████████████████████████████████████████████████████████ | 4970/5000 [3:06:31<01:12,  2.41s/it]"
     ]
    },
    {
     "name": "stdout",
     "output_type": "stream",
     "text": [
      "Error extracting representation cfgcompact for /home/nonroot/experiment/datasets/classify_seqs/group1.1000/BST/extr_multi.c_singlesocket/: 'shufflevector'\n",
      "Error extracting representation cfgcallcompactnoroot for /home/nonroot/experiment/datasets/classify_seqs/group1.1000/BST/extr_multi.c_singlesocket/: 'shufflevector'\n"
     ]
    },
    {
     "name": "stderr",
     "output_type": "stream",
     "text": [
      "BST.extr_tc-score.c_do_ldst_insn:  99%|████████████████████████████████████████████████████████████████████████████████████████████████████████████████████████████████████████████████████▏| 4971/5000 [3:06:33<01:05,  2.25s/it]"
     ]
    },
    {
     "name": "stdout",
     "output_type": "stream",
     "text": [
      "Error extracting representation cfgcallcompact1enoroot for /home/nonroot/experiment/datasets/classify_seqs/group1.1000/BST/extr_multi.c_singlesocket/: 'shufflevector'\n"
     ]
    },
    {
     "name": "stderr",
     "output_type": "stream",
     "text": [
      "BST.extr_....png.c_png_ascii_from_fp: 100%|████████████████████████████████████████████████████████████████████████████████████████████████████████████████████████████████████████████████▍| 4980/5000 [3:06:56<00:53,  2.66s/it]"
     ]
    },
    {
     "name": "stdout",
     "output_type": "stream",
     "text": [
      "Error extracting representation cfgcompact for /home/nonroot/experiment/datasets/classify_seqs/group1.1000/BST/extr_....png.c_png_ascii_from_fp/: 'shufflevector'\n",
      "Error extracting representation cfgcallcompactnoroot for /home/nonroot/experiment/datasets/classify_seqs/group1.1000/BST/extr_....png.c_png_ascii_from_fp/: 'shufflevector'\n"
     ]
    },
    {
     "name": "stderr",
     "output_type": "stream",
     "text": [
      "BST.extr_ntp_proto.c_process_packet: 100%|█████████████████████████████████████████████████████████████████████████████████████████████████████████████████████████████████████████████████▍| 4981/5000 [3:06:58<00:46,  2.44s/it]"
     ]
    },
    {
     "name": "stdout",
     "output_type": "stream",
     "text": [
      "Error extracting representation cfgcallcompact1enoroot for /home/nonroot/experiment/datasets/classify_seqs/group1.1000/BST/extr_....png.c_png_ascii_from_fp/: 'shufflevector'\n"
     ]
    },
    {
     "name": "stderr",
     "output_type": "stream",
     "text": [
      "BST.extr_mxl111sf-i2c.c_mxl111sf_i2c_hw_xfer_msg: 100%|████████████████████████████████████████████████████████████████████████████████████████████████████████████████████████████████████▌| 4984/5000 [3:07:05<00:38,  2.40s/it]"
     ]
    },
    {
     "name": "stdout",
     "output_type": "stream",
     "text": [
      "Error extracting representation cfgcompact for /home/nonroot/experiment/datasets/classify_seqs/group1.1000/BST/extr_mxl111sf-i2c.c_mxl111sf_i2c_hw_xfer_msg/: 'shufflevector'\n",
      "Error extracting representation cfgcallcompactnoroot for /home/nonroot/experiment/datasets/classify_seqs/group1.1000/BST/extr_mxl111sf-i2c.c_mxl111sf_i2c_hw_xfer_msg/: 'shufflevector'\n"
     ]
    },
    {
     "name": "stderr",
     "output_type": "stream",
     "text": [
      "BST.extr_exfat_super.c_ffsMapCluster: 100%|████████████████████████████████████████████████████████████████████████████████████████████████████████████████████████████████████████████████▌| 4985/5000 [3:07:07<00:33,  2.26s/it]"
     ]
    },
    {
     "name": "stdout",
     "output_type": "stream",
     "text": [
      "Error extracting representation cfgcallcompact1enoroot for /home/nonroot/experiment/datasets/classify_seqs/group1.1000/BST/extr_mxl111sf-i2c.c_mxl111sf_i2c_hw_xfer_msg/: 'shufflevector'\n"
     ]
    },
    {
     "name": "stderr",
     "output_type": "stream",
     "text": [
      "BST.extr_syscopyarea.c_bitcpy_rev: 100%|███████████████████████████████████████████████████████████████████████████████████████████████████████████████████████████████████████████████████▉| 4996/5000 [3:07:33<00:09,  2.47s/it]"
     ]
    },
    {
     "name": "stdout",
     "output_type": "stream",
     "text": [
      "Error extracting representation cfgcompact for /home/nonroot/experiment/datasets/classify_seqs/group1.1000/BST/extr_syscopyarea.c_bitcpy_rev/: 'shufflevector'\n",
      "Error extracting representation cfgcallcompactnoroot for /home/nonroot/experiment/datasets/classify_seqs/group1.1000/BST/extr_syscopyarea.c_bitcpy_rev/: 'shufflevector'\n"
     ]
    },
    {
     "name": "stderr",
     "output_type": "stream",
     "text": [
      "BST.extr_fold-const.c_extract_muldiv_1: 100%|██████████████████████████████████████████████████████████████████████████████████████████████████████████████████████████████████████████████▉| 4997/5000 [3:07:35<00:06,  2.30s/it]"
     ]
    },
    {
     "name": "stdout",
     "output_type": "stream",
     "text": [
      "Error extracting representation cfgcallcompact1enoroot for /home/nonroot/experiment/datasets/classify_seqs/group1.1000/BST/extr_syscopyarea.c_bitcpy_rev/: 'shufflevector'\n"
     ]
    },
    {
     "name": "stderr",
     "output_type": "stream",
     "text": [
      "BST.extr_dragon4.c_FormatPositional: 100%|█████████████████████████████████████████████████████████████████████████████████████████████████████████████████████████████████████████████████▉| 4999/5000 [3:07:41<00:02,  2.50s/it]"
     ]
    },
    {
     "name": "stdout",
     "output_type": "stream",
     "text": [
      "Error extracting representation cfgcompact for /home/nonroot/experiment/datasets/classify_seqs/group1.1000/BST/extr_dragon4.c_FormatPositional/: 'shufflevector'\n",
      "Error extracting representation cfgcallcompactnoroot for /home/nonroot/experiment/datasets/classify_seqs/group1.1000/BST/extr_dragon4.c_FormatPositional/: 'shufflevector'\n"
     ]
    },
    {
     "name": "stderr",
     "output_type": "stream",
     "text": [
      "BST.extr_dragon4.c_FormatPositional: 100%|██████████████████████████████████████████████████████████████████████████████████████████████████████████████████████████████████████████████████| 5000/5000 [3:07:43<00:00,  2.25s/it]\n"
     ]
    },
    {
     "name": "stdout",
     "output_type": "stream",
     "text": [
      "Error extracting representation cfgcallcompact1enoroot for /home/nonroot/experiment/datasets/classify_seqs/group1.1000/BST/extr_dragon4.c_FormatPositional/: 'shufflevector'\n",
      "Starting with optmization Oz with following passes: -Oz\n"
     ]
    },
    {
     "name": "stderr",
     "output_type": "stream",
     "text": [
      "SUM.extr_book3s_64_mmu_hv.c_kvmppc_book3s_hv_page_fault:   2%|██▍                                                                                                                             | 95/5000 [03:37<3:20:42,  2.46s/it]"
     ]
    },
    {
     "name": "stdout",
     "output_type": "stream",
     "text": [
      "Error extracting representation cfgcompact for /home/nonroot/experiment/datasets/classify_seqs/group1.1000/SUM/extr_book3s_64_mmu_hv.c_kvmppc_book3s_hv_page_fault/: list index out of range\n",
      "Error extracting representation cfgcallcompactnoroot for /home/nonroot/experiment/datasets/classify_seqs/group1.1000/SUM/extr_book3s_64_mmu_hv.c_kvmppc_book3s_hv_page_fault/: list index out of range\n"
     ]
    },
    {
     "name": "stderr",
     "output_type": "stream",
     "text": [
      "SUM.extr_tscParseInsert.c_tscParseSqlForCreateTableOnDemand:   2%|██▍                                                                                                                         | 96/5000 [03:39<3:10:47,  2.33s/it]"
     ]
    },
    {
     "name": "stdout",
     "output_type": "stream",
     "text": [
      "Error extracting representation cfgcallcompact1enoroot for /home/nonroot/experiment/datasets/classify_seqs/group1.1000/SUM/extr_book3s_64_mmu_hv.c_kvmppc_book3s_hv_page_fault/: list index out of range\n"
     ]
    },
    {
     "name": "stderr",
     "output_type": "stream",
     "text": [
      "SUM.extr_sws.c_send_doc:   4%|█████▋                                                                                                                                                         | 180/5000 [06:53<3:00:03,  2.24s/it]/home/nonroot/experiment/datasets/classify_seqs/group1.1000/SUM/extr_sws.c_send_doc//a.out_o.bc: /home/nonroot/experiment/datasets/classify_seqs/group1.1000/SUM/extr_sws.c_send_doc//a.out_o.bc: error: Could not open input file: No such file or directory\n",
      "SUM.extr_vf_v360.c_xyz_to_cube3x2:   4%|█████▍                                                                                                                                               | 181/5000 [06:53<2:17:47,  1.72s/it]"
     ]
    },
    {
     "name": "stdout",
     "output_type": "stream",
     "text": [
      "Error extracting IR from /home/nonroot/experiment/datasets/classify_seqs/group1.1000/SUM/extr_sws.c_send_doc//a.out_o.bc: Failed parse IR file\n"
     ]
    },
    {
     "name": "stderr",
     "output_type": "stream",
     "text": [
      "SUM.extr_conflict.c_test_checkout_conflict__update_only:   8%|██████████▎                                                                                                                    | 407/5000 [15:20<2:03:28,  1.61s/it]/home/nonroot/experiment/datasets/classify_seqs/group1.1000/SUM/extr_mkimg.c_main//a.out_o.bc: /home/nonroot/experiment/datasets/classify_seqs/group1.1000/SUM/extr_mkimg.c_main//a.out_o.bc: error: Could not open input file: No such file or directory\n",
      "SUM.extr_conflict.c_test_checkout_conflict__update_only:   8%|██████████▎                                                                                                                    | 407/5000 [15:20<2:03:28,  1.61s/it]"
     ]
    },
    {
     "name": "stdout",
     "output_type": "stream",
     "text": [
      "Error extracting IR from /home/nonroot/experiment/datasets/classify_seqs/group1.1000/SUM/extr_mkimg.c_main//a.out_o.bc: Failed parse IR file\n"
     ]
    },
    {
     "name": "stderr",
     "output_type": "stream",
     "text": [
      "SUM.extr_cluster.c_clusterLoadConfig:  11%|███████████████▌                                                                                                                                  | 535/5000 [20:06<2:17:41,  1.85s/it]/home/nonroot/experiment/datasets/classify_seqs/group1.1000/SUM/extr_cluster.c_clusterLoadConfig//a.out_o.bc: error: Could not open input file: No such file or directory\n",
      "SUM.extr_memcached.c_server_socket:  11%|███████████████▊                                                                                                                                    | 535/5000 [20:06<2:17:41,  1.85s/it]"
     ]
    },
    {
     "name": "stdout",
     "output_type": "stream",
     "text": [
      "Error extracting IR from /home/nonroot/experiment/datasets/classify_seqs/group1.1000/SUM/extr_cluster.c_clusterLoadConfig//a.out_o.bc: Failed parse IR file\n"
     ]
    },
    {
     "name": "stderr",
     "output_type": "stream",
     "text": [
      "SUM.extr_viddc.c_Vdp1ReadTexture:  17%|████████████████████████▊                                                                                                                             | 829/5000 [31:10<2:41:29,  2.32s/it]"
     ]
    },
    {
     "name": "stdout",
     "output_type": "stream",
     "text": [
      "Error extracting representation cfgcompact for /home/nonroot/experiment/datasets/classify_seqs/group1.1000/SUM/extr_viddc.c_Vdp1ReadTexture/: list index out of range\n",
      "Error extracting representation cfgcallcompactnoroot for /home/nonroot/experiment/datasets/classify_seqs/group1.1000/SUM/extr_viddc.c_Vdp1ReadTexture/: list index out of range\n"
     ]
    },
    {
     "name": "stderr",
     "output_type": "stream",
     "text": [
      "SUM.extr_vmt.c_ubi_resize_volume:  17%|████████████████████████▉                                                                                                                             | 830/5000 [31:12<2:39:09,  2.29s/it]"
     ]
    },
    {
     "name": "stdout",
     "output_type": "stream",
     "text": [
      "Error extracting representation cfgcallcompact1enoroot for /home/nonroot/experiment/datasets/classify_seqs/group1.1000/SUM/extr_viddc.c_Vdp1ReadTexture/: list index out of range\n"
     ]
    },
    {
     "name": "stderr",
     "output_type": "stream",
     "text": [
      "GEO.extr_changeset.c_main:  21%|████████████████████████████████▏                                                                                                                           | 1033/5000 [39:03<1:54:22,  1.73s/it]/home/nonroot/experiment/datasets/classify_seqs/group1.1000/GEO/extr_changeset.c_main//a.out_o.bc: /home/nonroot/experiment/datasets/classify_seqs/group1.1000/GEO/extr_changeset.c_main//a.out_o.bc: error: Could not open input file: No such file or directory\n",
      "GEO.extr_super.c_adfs_fill_super:  21%|██████████████████████████████▊                                                                                                                      | 1033/5000 [39:03<1:54:22,  1.73s/it]"
     ]
    },
    {
     "name": "stdout",
     "output_type": "stream",
     "text": [
      "Error extracting IR from /home/nonroot/experiment/datasets/classify_seqs/group1.1000/GEO/extr_changeset.c_main//a.out_o.bc: Failed parse IR file\n"
     ]
    },
    {
     "name": "stderr",
     "output_type": "stream",
     "text": [
      "GEO.extr_load.c_doit:  24%|██████████████████████████████████████▋                                                                                                                          | 1201/5000 [45:49<1:49:07,  1.72s/it]/home/nonroot/experiment/datasets/classify_seqs/group1.1000/GEO/extr_load.c_doit//a.out_o.bc: /home/nonroot/experiment/datasets/classify_seqs/group1.1000/GEO/extr_load.c_doit//a.out_o.bc: error: Could not open input file: No such file or directory\n",
      "GEO.extr_bnxt_hwrm.c_bnxt_hwrm_ver_get:  24%|██████████████████████████████████▎                                                                                                            | 1201/5000 [45:49<1:49:07,  1.72s/it]"
     ]
    },
    {
     "name": "stdout",
     "output_type": "stream",
     "text": [
      "Error extracting IR from /home/nonroot/experiment/datasets/classify_seqs/group1.1000/GEO/extr_load.c_doit//a.out_o.bc: Failed parse IR file\n"
     ]
    },
    {
     "name": "stderr",
     "output_type": "stream",
     "text": [
      "GEO.extr_msdosfs_lookup.c_msdosfs_lookup_:  24%|██████████████████████████████████▎                                                                                                         | 1224/5000 [46:49<3:15:55,  3.11s/it]"
     ]
    },
    {
     "name": "stdout",
     "output_type": "stream",
     "text": [
      "Error extracting representation cfgcompact for /home/nonroot/experiment/datasets/classify_seqs/group1.1000/GEO/extr_msdosfs_lookup.c_msdosfs_lookup_/: 'bool' object is not iterable\n",
      "Error extracting representation cfgcallcompactnoroot for /home/nonroot/experiment/datasets/classify_seqs/group1.1000/GEO/extr_msdosfs_lookup.c_msdosfs_lookup_/: 'bool' object is not iterable\n"
     ]
    },
    {
     "name": "stderr",
     "output_type": "stream",
     "text": [
      "GEO.extr_halbtc8192e2ant.c_ex_btc8192e2ant_display_coex_info:  24%|█████████████████████████████▋                                                                                           | 1225/5000 [46:51<2:58:46,  2.84s/it]"
     ]
    },
    {
     "name": "stdout",
     "output_type": "stream",
     "text": [
      "Error extracting representation cfgcallcompact1enoroot for /home/nonroot/experiment/datasets/classify_seqs/group1.1000/GEO/extr_msdosfs_lookup.c_msdosfs_lookup_/: 'bool' object is not iterable\n"
     ]
    },
    {
     "name": "stderr",
     "output_type": "stream",
     "text": [
      "GEO.extr_tjbench.c_decomptest:  25%|█████████████████████████████████████▌                                                                                                                  | 1234/5000 [47:09<1:49:56,  1.75s/it]/home/nonroot/experiment/datasets/classify_seqs/group1.1000/GEO/extr_tjbench.c_decomptest//a.out_o.bc: /home/nonroot/experiment/datasets/classify_seqs/group1.1000/GEO/extr_tjbench.c_decomptest//a.out_o.bc: error: Could not open input file: No such file or directory\n",
      "GEO.extr_vmxnet3_ethtool.c_vmxnet3_set_coalesce:  25%|█████████████████████████████████                                                                                                     | 1234/5000 [47:09<1:49:56,  1.75s/it]"
     ]
    },
    {
     "name": "stdout",
     "output_type": "stream",
     "text": [
      "Error extracting IR from /home/nonroot/experiment/datasets/classify_seqs/group1.1000/GEO/extr_tjbench.c_decomptest//a.out_o.bc: Failed parse IR file\n"
     ]
    },
    {
     "name": "stderr",
     "output_type": "stream",
     "text": [
      "GEO.extr_statsd.c_statsd_readfile:  28%|█████████████████████████████████████████▌                                                                                                          | 1406/5000 [54:04<1:54:36,  1.91s/it]/home/nonroot/experiment/datasets/classify_seqs/group1.1000/GEO/extr_statsd.c_statsd_readfile//a.out_o.bc: /home/nonroot/experiment/datasets/classify_seqs/group1.1000/GEO/extr_statsd.c_statsd_readfile//a.out_o.bc: error: Could not open input file: No such file or directory\n",
      "GEO.extr_ungif.c_DGifDecompressLine:  28%|█████████████████████████████████████████                                                                                                         | 1406/5000 [54:04<1:54:36,  1.91s/it]"
     ]
    },
    {
     "name": "stdout",
     "output_type": "stream",
     "text": [
      "Error extracting IR from /home/nonroot/experiment/datasets/classify_seqs/group1.1000/GEO/extr_statsd.c_statsd_readfile//a.out_o.bc: Failed parse IR file\n"
     ]
    },
    {
     "name": "stderr",
     "output_type": "stream",
     "text": [
      "GEO.extr_osm_sa.c_osm_sa_db_file_load:  37%|███████████████████████████████████████████████████▉                                                                                          | 1827/5000 [1:14:57<2:52:46,  3.27s/it]/home/nonroot/experiment/datasets/classify_seqs/group1.1000/GEO/extr_osm_sa.c_osm_sa_db_file_load//a.out_o.bc: /home/nonroot/experiment/datasets/classify_seqs/group1.1000/GEO/extr_osm_sa.c_osm_sa_db_file_load//a.out_o.bc: error: Could not open input file: No such file or directory\n",
      "GEO.extr_nf_conntrack_proto_tcp.c_tcp_packet:  37%|█████████████████████████████████████████████████▎                                                                                     | 1828/5000 [1:14:58<2:10:31,  2.47s/it]"
     ]
    },
    {
     "name": "stdout",
     "output_type": "stream",
     "text": [
      "Error extracting IR from /home/nonroot/experiment/datasets/classify_seqs/group1.1000/GEO/extr_osm_sa.c_osm_sa_db_file_load//a.out_o.bc: Failed parse IR file\n"
     ]
    },
    {
     "name": "stderr",
     "output_type": "stream",
     "text": [
      "GEO.extr_HalBtc8723b1Ant.c_EXhalbtc8723b1ant_DisplayCoexInfo:  37%|███████████████████████████████████████████▌                                                                           | 1831/5000 [1:15:04<1:51:39,  2.11s/it]/home/nonroot/experiment/datasets/classify_seqs/group1.1000/GEO/extr_drivermc.c_main//a.out_o.bc: "
     ]
    },
    {
     "name": "stdout",
     "output_type": "stream",
     "text": [
      "Error extracting IR from /home/nonroot/experiment/datasets/classify_seqs/group1.1000/GEO/extr_drivermc.c_main//a.out_o.bc: Failed parse IR file\n"
     ]
    },
    {
     "name": "stderr",
     "output_type": "stream",
     "text": [
      "/home/nonroot/experiment/datasets/classify_seqs/group1.1000/GEO/extr_drivermc.c_main//a.out_o.bc: error: Could not open input file: No such file or directory\n",
      "CAP.extr_menu.c_menu_init_base:  43%|████████████████████████████████████████████████████████████████▋                                                                                    | 2172/5000 [1:33:09<2:40:58,  3.42s/it]/home/nonroot/experiment/datasets/classify_seqs/group1.1000/CAP/extr_menu.c_menu_init_base//a.out_o.bc: /home/nonroot/experiment/datasets/classify_seqs/group1.1000/CAP/extr_menu.c_menu_init_base//a.out_o.bc: error: Could not open input file: No such file or directory\n",
      "CAP.extr_cs4281.c_cs4281_init:  43%|█████████████████████████████████████████████████████████████████▏                                                                                    | 2173/5000 [1:33:10<2:02:15,  2.59s/it]"
     ]
    },
    {
     "name": "stdout",
     "output_type": "stream",
     "text": [
      "Error extracting IR from /home/nonroot/experiment/datasets/classify_seqs/group1.1000/CAP/extr_menu.c_menu_init_base//a.out_o.bc: Failed parse IR file\n"
     ]
    },
    {
     "name": "stderr",
     "output_type": "stream",
     "text": [
      "CAP.extr_..libpicofemenu.c_menu_init_base:  53%|█████████████████████████████████████████████████████████████████████████                                                                 | 2647/5000 [1:52:50<1:04:09,  1.64s/it]/home/nonroot/experiment/datasets/classify_seqs/group1.1000/CAP/extr_..libpicofemenu.c_menu_init_base//a.out_o.bc: /home/nonroot/experiment/datasets/classify_seqs/group1.1000/CAP/extr_..libpicofemenu.c_menu_init_base//a.out_o.bc: error: Could not open input file: No such file or directory\n",
      "CAP.extr_diracdec.c_dirac_unpack_prediction_parameters:  53%|██████████████████████████████████████████████████████████████████▏                                                          | 2647/5000 [1:52:50<1:04:09,  1.64s/it]"
     ]
    },
    {
     "name": "stdout",
     "output_type": "stream",
     "text": [
      "Error extracting IR from /home/nonroot/experiment/datasets/classify_seqs/group1.1000/CAP/extr_..libpicofemenu.c_menu_init_base//a.out_o.bc: Failed parse IR file\n"
     ]
    },
    {
     "name": "stderr",
     "output_type": "stream",
     "text": [
      "CAP.extr_bftest.c_print_test_data:  53%|█████████████████████████████████████████████████████████████████████████████▉                                                                    | 2669/5000 [1:53:37<1:04:04,  1.65s/it]: error: Could not open input file: No such file or directoryAP/extr_acu.c_con//a.out_o.bc: /home/nonroot/experiment/datasets/classify_seqs/group1.1000/CAP/extr_acu.c_con//a.out_o.bc\n",
      "CAP.extr_bftest.c_print_test_data:  53%|█████████████████████████████████████████████████████████████████████████████▉                                                                    | 2669/5000 [1:53:37<1:04:04,  1.65s/it]"
     ]
    },
    {
     "name": "stdout",
     "output_type": "stream",
     "text": [
      "Error extracting IR from /home/nonroot/experiment/datasets/classify_seqs/group1.1000/CAP/extr_acu.c_con//a.out_o.bc: Failed parse IR file\n"
     ]
    },
    {
     "name": "stderr",
     "output_type": "stream",
     "text": [
      "CAP.extr_tau32-ddk.c_QrVoB3:  54%|█████████████████████████████████████████████████████████████████████████████████▉                                                                      | 2694/5000 [1:54:32<1:24:21,  2.19s/it]"
     ]
    },
    {
     "name": "stdout",
     "output_type": "stream",
     "text": [
      "Error extracting representation cfgcompact for /home/nonroot/experiment/datasets/classify_seqs/group1.1000/CAP/extr_tau32-ddk.c_QrVoB3/: list index out of range\n",
      "Error extracting representation cfgcallcompactnoroot for /home/nonroot/experiment/datasets/classify_seqs/group1.1000/CAP/extr_tau32-ddk.c_QrVoB3/: list index out of range\n"
     ]
    },
    {
     "name": "stderr",
     "output_type": "stream",
     "text": [
      "CAP.extr_graphics.c_test_pen_thickness:  54%|███████████████████████████████████████████████████████████████████████████▉                                                                 | 2695/5000 [1:54:33<1:20:59,  2.11s/it]"
     ]
    },
    {
     "name": "stdout",
     "output_type": "stream",
     "text": [
      "Error extracting representation cfgcallcompact1enoroot for /home/nonroot/experiment/datasets/classify_seqs/group1.1000/CAP/extr_tau32-ddk.c_QrVoB3/: list index out of range\n"
     ]
    },
    {
     "name": "stderr",
     "output_type": "stream",
     "text": [
      "CAP.extr_tests.c_main:  54%|█████████████████████████████████████████████████████████████████████████████████████▍                                                                        | 2705/5000 [1:54:55<1:11:48,  1.88s/it]/home/nonroot/experiment/datasets/classify_seqs/group1.1000/CAP/extr_tests.c_main//a.out_o.bc: /home/nonroot/experiment/datasets/classify_seqs/group1.1000/CAP/extr_tests.c_main//a.out_o.bc: error: Could not open input file: No such file or directory\n",
      "CAP.extr_vpninstall.c_ViDownloadThread:  54%|████████████████████████████████████████████████████████████████████████████▎                                                                | 2705/5000 [1:54:55<1:11:48,  1.88s/it]"
     ]
    },
    {
     "name": "stdout",
     "output_type": "stream",
     "text": [
      "Error extracting IR from /home/nonroot/experiment/datasets/classify_seqs/group1.1000/CAP/extr_tests.c_main//a.out_o.bc: Failed parse IR file\n"
     ]
    },
    {
     "name": "stderr",
     "output_type": "stream",
     "text": [
      "CAP.extr_cifar-10.c_main:  55%|█████████████████████████████████████████████████████████████████████████████████████▉                                                                     | 2773/5000 [1:57:29<1:02:35,  1.69s/it]/home/nonroot/experiment/datasets/classify_seqs/group1.1000/CAP/extr_cifar-10.c_main//a.out_o.bc: /home/nonroot/experiment/datasets/classify_seqs/group1.1000/CAP/extr_cifar-10.c_main//a.out_o.bc: error: Could not open input file: No such file or directory\n",
      "CAP.extr_qcelpdec.c_compute_svector:  55%|███████████████████████████████████████████████████████████████████████████████▊                                                                | 2773/5000 [1:57:29<1:02:35,  1.69s/it]"
     ]
    },
    {
     "name": "stdout",
     "output_type": "stream",
     "text": [
      "Error extracting IR from /home/nonroot/experiment/datasets/classify_seqs/group1.1000/CAP/extr_cifar-10.c_main//a.out_o.bc: Failed parse IR file\n"
     ]
    },
    {
     "name": "stderr",
     "output_type": "stream",
     "text": [
      "LIM.extr_joycfg.c_read_config:  69%|█████████████████████████████████████████████████████████████████████████████████████████████████████████                                               | 3455/5000 [2:23:05<47:31,  1.85s/it]/home/nonroot/experiment/datasets/classify_seqs/group1.1000/LIM/extr_joycfg.c_read_config//a.out_o.bc: /home/nonroot/experiment/datasets/classify_seqs/group1.1000/LIM/extr_joycfg.c_read_config//a.out_o.bc: error: Could not open input file: No such file or directory\n",
      "LIM.extr_lemon.c_Symbol_insert:  69%|████████████████████████████████████████████████████████████████████████████████████████████████████████▎                                              | 3455/5000 [2:23:05<47:31,  1.85s/it]"
     ]
    },
    {
     "name": "stdout",
     "output_type": "stream",
     "text": [
      "Error extracting IR from /home/nonroot/experiment/datasets/classify_seqs/group1.1000/LIM/extr_joycfg.c_read_config//a.out_o.bc: Failed parse IR file\n"
     ]
    },
    {
     "name": "stderr",
     "output_type": "stream",
     "text": [
      "LIM.extr_https-client.c_main:  69%|██████████████████████████████████████████████████████████████████████████████████████████████████████████▎                                              | 3474/5000 [2:23:47<41:51,  1.65s/it]/home/nonroot/experiment/datasets/classify_seqs/group1.1000/LIM/extr_https-client.c_main//a.out_o.bc: /home/nonroot/experiment/datasets/classify_seqs/group1.1000/LIM/extr_https-client.c_main//a.out_o.bc: error: Could not open input file: No such file or directory\n",
      "LIM.extr_eeprom_9287.c_ath9k_hw_ar9287_check_eeprom:  69%|██████████████████████████████████████████████████████████████████████████████████████████▎                                       | 3474/5000 [2:23:47<41:51,  1.65s/it]"
     ]
    },
    {
     "name": "stdout",
     "output_type": "stream",
     "text": [
      "Error extracting IR from /home/nonroot/experiment/datasets/classify_seqs/group1.1000/LIM/extr_https-client.c_main//a.out_o.bc: Failed parse IR file\n"
     ]
    },
    {
     "name": "stderr",
     "output_type": "stream",
     "text": [
      "LIM.extr_dbtotxt.c_main:  72%|██████████████████████████████████████████████████████████████████████████████████████████████████████████████████▏                                           | 3613/5000 [2:29:06<50:45,  2.20s/it]/home/nonroot/experiment/datasets/classify_seqs/group1.1000/LIM/extr_dbtotxt.c_main//a.out_o.bc: /home/nonroot/experiment/datasets/classify_seqs/group1.1000/LIM/extr_dbtotxt.c_main//a.out_o.bc: error: Could not open input file: No such file or directory\n",
      "LIM.extr_aacraid.c_aac_check_firmware:  72%|████████████████████████████████████████████████████████████████████████████████████████████████████████                                        | 3614/5000 [2:29:07<39:08,  1.69s/it]"
     ]
    },
    {
     "name": "stdout",
     "output_type": "stream",
     "text": [
      "Error extracting IR from /home/nonroot/experiment/datasets/classify_seqs/group1.1000/LIM/extr_dbtotxt.c_main//a.out_o.bc: Failed parse IR file\n"
     ]
    },
    {
     "name": "stderr",
     "output_type": "stream",
     "text": [
      "LIM.extr_hlr_auc_gw.c_read_milenage:  75%|██████████████████████████████████████████████████████████████████████████████████████████████████████████████                                    | 3771/5000 [2:35:01<44:21,  2.17s/it]/home/nonroot/experiment/datasets/classify_seqs/group1.1000/LIM/extr_hlr_auc_gw.c_read_milenage//a.out_o.bc: /home/nonroot/experiment/datasets/classify_seqs/group1.1000/LIM/extr_hlr_auc_gw.c_read_milenage//a.out_o.bc: error: Could not open input file: No such file or directory\n",
      "LIM.extr_floor1.c_floor1_encode:  75%|█████████████████████████████████████████████████████████████████████████████████████████████████████████████████▏                                    | 3772/5000 [2:35:02<34:13,  1.67s/it]"
     ]
    },
    {
     "name": "stdout",
     "output_type": "stream",
     "text": [
      "Error extracting IR from /home/nonroot/experiment/datasets/classify_seqs/group1.1000/LIM/extr_hlr_auc_gw.c_read_milenage//a.out_o.bc: Failed parse IR file\n"
     ]
    },
    {
     "name": "stderr",
     "output_type": "stream",
     "text": [
      "LIM.extr_mac_bsdextended.c_ugidfw_rulecheck:  76%|█████████████████████████████████████████████████████████████████████████████████████████████████████████▎                                | 3816/5000 [2:36:40<45:11,  2.29s/it]"
     ]
    },
    {
     "name": "stdout",
     "output_type": "stream",
     "text": [
      "Error extracting representation cfgcompact for /home/nonroot/experiment/datasets/classify_seqs/group1.1000/LIM/extr_mac_bsdextended.c_ugidfw_rulecheck/: 'bool' object is not iterable\n",
      "Error extracting representation cfgcallcompactnoroot for /home/nonroot/experiment/datasets/classify_seqs/group1.1000/LIM/extr_mac_bsdextended.c_ugidfw_rulecheck/: 'bool' object is not iterable\n"
     ]
    },
    {
     "name": "stderr",
     "output_type": "stream",
     "text": [
      "LIM.extr_mn10300-serial.c_mn10300_serial_change_speed:  76%|█████████████████████████████████████████████████████████████████████████████████████████████████▋                              | 3817/5000 [2:36:42<44:59,  2.28s/it]"
     ]
    },
    {
     "name": "stdout",
     "output_type": "stream",
     "text": [
      "Error extracting representation cfgcallcompact1enoroot for /home/nonroot/experiment/datasets/classify_seqs/group1.1000/LIM/extr_mac_bsdextended.c_ugidfw_rulecheck/: 'bool' object is not iterable\n"
     ]
    },
    {
     "name": "stderr",
     "output_type": "stream",
     "text": [
      "LIM.extr_config_file.c_hostapd_config_read_vlan_file:  78%|█████████████████████████████████████████████████████████████████████████████████████████████████████                            | 3919/5000 [2:40:41<39:59,  2.22s/it]/home/nonroot/experiment/datasets/classify_seqs/group1.1000/LIM/extr_config_file.c_hostapd_config_read_vlan_file//a.out_o.bc: /home/nonroot/experiment/datasets/classify_seqs/group1.1000/LIM/extr_config_file.c_hostapd_config_read_vlan_file//a.out_o.bc: error: Could not open input file: No such file or directory\n",
      "LIM.extr_edit.c_EDIT_WM_HScroll:  78%|█████████████████████████████████████████████████████████████████████████████████████████████████████████████████████▌                                | 3920/5000 [2:40:41<30:45,  1.71s/it]"
     ]
    },
    {
     "name": "stdout",
     "output_type": "stream",
     "text": [
      "Error extracting IR from /home/nonroot/experiment/datasets/classify_seqs/group1.1000/LIM/extr_config_file.c_hostapd_config_read_vlan_file//a.out_o.bc: Failed parse IR file\n"
     ]
    },
    {
     "name": "stderr",
     "output_type": "stream",
     "text": [
      "BST.extr_wrt350nv2-builder.c_create_bin_file:  83%|█████████████████████████████████████████████████████████████████████████████████████████████████████████████████▌                       | 4146/5000 [2:49:51<24:34,  1.73s/it]/home/nonroot/experiment/datasets/classify_seqs/group1.1000/BST/extr_wrt350nv2-builder.c_create_bin_file//a.out_o.bc: /home/nonroot/experiment/datasets/classify_seqs/group1.1000/BST/extr_wrt350nv2-builder.c_create_bin_file//a.out_o.bc: error: Could not open input file: No such file or directory\n",
      "BST.extr_ibmvnic.c_handle_query_ip_offload_rsp:  83%|███████████████████████████████████████████████████████████████████████████████████████████████████████████████▉                       | 4146/5000 [2:49:51<24:34,  1.73s/it]"
     ]
    },
    {
     "name": "stdout",
     "output_type": "stream",
     "text": [
      "Error extracting IR from /home/nonroot/experiment/datasets/classify_seqs/group1.1000/BST/extr_wrt350nv2-builder.c_create_bin_file//a.out_o.bc: Failed parse IR file\n"
     ]
    },
    {
     "name": "stderr",
     "output_type": "stream",
     "text": [
      "BST.extr_file_slot.c_slot_save:  94%|█████████████████████████████████████████████████████████████████████████████████████████████████████████████████████████████████████████████▎         | 4681/5000 [3:12:37<13:31,  2.55s/it]/home/nonroot/experiment/datasets/classify_seqs/group1.1000/BST/extr_file_slot.c_slot_save//a.out_o.bc: /home/nonroot/experiment/datasets/classify_seqs/group1.1000/BST/extr_file_slot.c_slot_save//a.out_o.bc: error: Could not open input file: No such file or directory\n",
      "BST.extr_vfs_cluster.c_cluster_write_copy:  94%|███████████████████████████████████████████████████████████████████████████████████████████████████████████████████████████████████         | 4682/5000 [3:12:37<10:17,  1.94s/it]"
     ]
    },
    {
     "name": "stdout",
     "output_type": "stream",
     "text": [
      "Error extracting IR from /home/nonroot/experiment/datasets/classify_seqs/group1.1000/BST/extr_file_slot.c_slot_save//a.out_o.bc: Failed parse IR file\n"
     ]
    },
    {
     "name": "stderr",
     "output_type": "stream",
     "text": [
      "BST.extr_gdb-stub.c_gdbstub_set_breakpoint:  95%|███████████████████████████████████████████████████████████████████████████████████████████████████████████████████████████████████▌       | 4732/5000 [3:14:47<11:01,  2.47s/it]"
     ]
    },
    {
     "name": "stdout",
     "output_type": "stream",
     "text": [
      "Error extracting representation cfgcompact for /home/nonroot/experiment/datasets/classify_seqs/group1.1000/BST/extr_gdb-stub.c_gdbstub_set_breakpoint/: list index out of range\n",
      "Error extracting representation cfgcallcompactnoroot for /home/nonroot/experiment/datasets/classify_seqs/group1.1000/BST/extr_gdb-stub.c_gdbstub_set_breakpoint/: list index out of range\n"
     ]
    },
    {
     "name": "stderr",
     "output_type": "stream",
     "text": [
      "BST.extr_edma.c_edma_probe:  95%|██████████████████████████████████████████████████████████████████████████████████████████████████████████████████████████████████████████████████▋        | 4733/5000 [3:14:49<10:14,  2.30s/it]"
     ]
    },
    {
     "name": "stdout",
     "output_type": "stream",
     "text": [
      "Error extracting representation cfgcallcompact1enoroot for /home/nonroot/experiment/datasets/classify_seqs/group1.1000/BST/extr_gdb-stub.c_gdbstub_set_breakpoint/: list index out of range\n"
     ]
    },
    {
     "name": "stderr",
     "output_type": "stream",
     "text": [
      "BST.extr_yuvjpeg.c_main:  99%|████████████████████████████████████████████████████████████████████████████████████████████████████████████████████████████████████████████████████████████▋ | 4960/5000 [3:25:34<01:19,  1.98s/it]/home/nonroot/experiment/datasets/classify_seqs/group1.1000/BST/extr_yuvjpeg.c_main//a.out_o.bc: /home/nonroot/experiment/datasets/classify_seqs/group1.1000/BST/extr_yuvjpeg.c_main//a.out_o.bc: error: Could not open input file: No such file or directory\n",
      "BST.extr_s3fb.c_s3fb_set_par:  99%|███████████████████████████████████████████████████████████████████████████████████████████████████████████████████████████████████████████████████████▊ | 4960/5000 [3:25:34<01:19,  1.98s/it]"
     ]
    },
    {
     "name": "stdout",
     "output_type": "stream",
     "text": [
      "Error extracting IR from /home/nonroot/experiment/datasets/classify_seqs/group1.1000/BST/extr_yuvjpeg.c_main//a.out_o.bc: Failed parse IR file\n"
     ]
    },
    {
     "name": "stderr",
     "output_type": "stream",
     "text": [
      "BST.extr_dragon4.c_FormatPositional: 100%|██████████████████████████████████████████████████████████████████████████████████████████████████████████████████████████████████████████████████| 5000/5000 [3:27:16<00:00,  2.49s/it]"
     ]
    },
    {
     "name": "stdout",
     "output_type": "stream",
     "text": [
      "It took 83395.8209195137 seconds...\n"
     ]
    },
    {
     "name": "stderr",
     "output_type": "stream",
     "text": [
      "\n"
     ]
    }
   ],
   "source": [
    "optimizations = {\n",
    "    '500-bSum':  '-mem2reg -jump-threading -instcombine -early-cse-memssa -jump-threading -licm -early-cse-memssa -sroa -simplifycfg -reassociate -instcombine -slp-vectorizer -early-cse-memssa',\n",
    "    '4372-bMed': '-mem2reg -early-cse-memssa -correlated-propagation -instcombine -reassociate -simplifycfg -early-cse-memssa -instcombine -licm -jump-threading -simplifycfg -dse -reassociate -early-cse-memssa -instcombine',\n",
    "    '5624-bLim': '-sroa -early-cse-memssa -reassociate -instcombine -simplifycfg -licm -speculative-execution -jump-threading -early-cse-memssa -simplifycfg -instcombine -simplifycfg',\n",
    "    '6310-bGeo': '-loop-vectorize -sroa -gvn -instcombine -simplifycfg -instcombine -licm -gvn -correlated-propagation -jump-threading -mldst-motion -early-cse-memssa -instcombine -simplifycfg -instsimplify',\n",
    "    '4211-bCap': '-loop-rotate -sroa -correlated-propagation -indvars -gvn -tailcallelim -instcombine -jump-threading -reassociate -simplifycfg -instcombine -early-cse-memssa',\n",
    "    'O0':        '-O0', \n",
    "    'Os':        '-Os', \n",
    "    'Oz':        '-Oz'\n",
    "}\n",
    "\n",
    "representations = [\n",
    "    'cfgcompact',\n",
    "    #'cfgcallcompact',\n",
    "    # 'cfgcallcompact1e',\n",
    "    'cfgcallcompactnoroot',\n",
    "    'cfgcallcompact1enoroot',\n",
    "   # 'cdfgcompact',\n",
    "   # 'cdfgcompact1e',\n",
    "   # 'cdfgcallcompact',\n",
    "   # 'cdfgcallcompact1e',\n",
    "   # 'cdfgcallcompactnoroot',\n",
    "   # 'cdfgcallcompact1enoroot'\n",
    "]\n",
    "\n",
    "start = time.time()\n",
    "for optname, opt in optimizations.items():\n",
    "    print(f\"Starting with optmization {optname} with following passes: {opt}\")\n",
    "    bar = tqdm.tqdm(folders, desc=\"Processing...\")\n",
    "    for benchdir in bar:\n",
    "        outfilename = benchdir[len(dataset_dir):-1].replace('/', '.')\n",
    "        bar.set_description(outfilename)\n",
    "        bar.refresh()\n",
    "        try:\n",
    "            Engine.cleanup(benchdir, 'opt')\n",
    "            Engine.compile(benchdir, 'opt', opt)\n",
    "            binsize = IO.load_yaml(os.path.join(benchdir, 'binary_size.yaml'))\n",
    "            codesize = IO.load_yaml(os.path.join(benchdir, 'code_size.yaml'))\n",
    "            compiletime = IO.load_yaml(os.path.join(benchdir, 'compile_time.yaml'))\n",
    "        except BaseException as e:\n",
    "            print(f\"Error compiling benchmark at {benchdir} with {optname}: {e}\")\n",
    "            continue\n",
    "            \n",
    "        try:\n",
    "            source = f'{benchdir}/a.out_o.bc'\n",
    "            extinfo = builder.ir_to_info(source)\n",
    "        except BaseException as e:\n",
    "            print(f\"Error extracting IR from {source}: {e}\")\n",
    "            continue\n",
    "            \n",
    "        for rep in representations:\n",
    "            try:\n",
    "                graph = builder.info_to_representation(extinfo, visitors[rep])\n",
    "                edges, nodes = extract_graph_data(graph, rep)\n",
    "                representation_dir = os.path.join(results_dir, optname, rep)\n",
    "                os.makedirs(representation_dir, exist_ok=True)\n",
    "                for extname, extdata in nodes.items():\n",
    "                    d = dict()\n",
    "                    d.update(binsize)\n",
    "                    d.update(codesize)\n",
    "                    d.update(compiletime)\n",
    "                    outputfile = os.path.join(representation_dir, f\"{outfilename}_{extname}\")     \n",
    "                    np.savez_compressed(outputfile, edges=edges, nodes=extdata, labels=d)\n",
    "            except BaseException as e:\n",
    "                print(f\"Error extracting representation {rep} for {benchdir}: {e}\")\n",
    "                continue\n",
    "end = time.time()\n",
    "print(f\"It took {end-start} seconds...\")"
   ]
  },
  {
   "cell_type": "code",
   "execution_count": 5,
   "id": "a3016238-9ebf-4b4c-9e46-d9ab8785c60d",
   "metadata": {},
   "outputs": [
    {
     "name": "stdout",
     "output_type": "stream",
     "text": [
      "BST.extr_1465.c_main_boo.npz\n",
      "BST.extr_1465.c_main_i2v.npz\n",
      "BST.extr_1465.c_main_ir2v.npz\n",
      "BST.extr_1465.c_main_w2v.npz\n",
      "BST.extr_19160.c_main_boo.npz\n",
      "BST.extr_19160.c_main_i2v.npz\n",
      "BST.extr_19160.c_main_ir2v.npz\n",
      "BST.extr_19160.c_main_w2v.npz\n",
      "BST.extr_20813.c_main_boo.npz\n",
      "BST.extr_20813.c_main_i2v.npz\n",
      "ls: write error: Broken pipe\n"
     ]
    }
   ],
   "source": [
    "!ls 4211-bCap/cfgcompact | head"
   ]
  }
 ],
 "metadata": {
  "kernelspec": {
   "display_name": "Python 3 (ipykernel)",
   "language": "python",
   "name": "python3"
  },
  "language_info": {
   "codemirror_mode": {
    "name": "ipython",
    "version": 3
   },
   "file_extension": ".py",
   "mimetype": "text/x-python",
   "name": "python",
   "nbconvert_exporter": "python",
   "pygments_lexer": "ipython3",
   "version": "3.8.10"
  }
 },
 "nbformat": 4,
 "nbformat_minor": 5
}
