{
 "cells": [
  {
   "cell_type": "code",
   "execution_count": 1,
   "id": "b6865fa1-76a4-4da8-9d8d-54081ac59f66",
   "metadata": {},
   "outputs": [
    {
     "name": "stdout",
     "output_type": "stream",
     "text": [
      "Requirement already satisfied: chardet in /home/nonroot/.local/lib/python3.8/site-packages (4.0.0)\n",
      "Requirement already satisfied: tensorflow-addons in /home/nonroot/.local/lib/python3.8/site-packages (0.13.0)\n",
      "Requirement already satisfied: typeguard>=2.7 in /home/nonroot/.local/lib/python3.8/site-packages (from tensorflow-addons) (2.12.1)\n"
     ]
    }
   ],
   "source": [
    "!pip install chardet\n",
    "!pip install tensorflow-addons"
   ]
  },
  {
   "cell_type": "code",
   "execution_count": 2,
   "id": "acdb218b-bed8-455b-8965-cf22e65b1896",
   "metadata": {},
   "outputs": [
    {
     "name": "stderr",
     "output_type": "stream",
     "text": [
      "2021-08-18 00:37:25.699992: I tensorflow/stream_executor/platform/default/dso_loader.cc:53] Successfully opened dynamic library libcudart.so.11.0\n",
      "2021-08-18 00:37:27.167079: I tensorflow/stream_executor/platform/default/dso_loader.cc:53] Successfully opened dynamic library libcuda.so.1\n",
      "2021-08-18 00:37:27.213552: I tensorflow/stream_executor/cuda/cuda_gpu_executor.cc:937] successful NUMA node read from SysFS had negative value (-1), but there must be at least one NUMA node, so returning NUMA node zero\n",
      "2021-08-18 00:37:27.214092: I tensorflow/core/common_runtime/gpu/gpu_device.cc:1733] Found device 0 with properties: \n",
      "pciBusID: 0000:01:00.0 name: GeForce GTX 1070 computeCapability: 6.1\n",
      "coreClock: 1.7845GHz coreCount: 15 deviceMemorySize: 7.93GiB deviceMemoryBandwidth: 238.66GiB/s\n",
      "2021-08-18 00:37:27.214111: I tensorflow/stream_executor/platform/default/dso_loader.cc:53] Successfully opened dynamic library libcudart.so.11.0\n",
      "2021-08-18 00:37:27.216419: I tensorflow/stream_executor/platform/default/dso_loader.cc:53] Successfully opened dynamic library libcublas.so.11\n",
      "2021-08-18 00:37:27.216457: I tensorflow/stream_executor/platform/default/dso_loader.cc:53] Successfully opened dynamic library libcublasLt.so.11\n",
      "2021-08-18 00:37:27.217160: I tensorflow/stream_executor/platform/default/dso_loader.cc:53] Successfully opened dynamic library libcufft.so.10\n",
      "2021-08-18 00:37:27.217334: I tensorflow/stream_executor/platform/default/dso_loader.cc:53] Successfully opened dynamic library libcurand.so.10\n",
      "2021-08-18 00:37:27.217985: I tensorflow/stream_executor/platform/default/dso_loader.cc:53] Successfully opened dynamic library libcusolver.so.11\n",
      "2021-08-18 00:37:27.218505: I tensorflow/stream_executor/platform/default/dso_loader.cc:53] Successfully opened dynamic library libcusparse.so.11\n",
      "2021-08-18 00:37:27.218608: I tensorflow/stream_executor/platform/default/dso_loader.cc:53] Successfully opened dynamic library libcudnn.so.8\n",
      "2021-08-18 00:37:27.218690: I tensorflow/stream_executor/cuda/cuda_gpu_executor.cc:937] successful NUMA node read from SysFS had negative value (-1), but there must be at least one NUMA node, so returning NUMA node zero\n",
      "2021-08-18 00:37:27.219261: I tensorflow/stream_executor/cuda/cuda_gpu_executor.cc:937] successful NUMA node read from SysFS had negative value (-1), but there must be at least one NUMA node, so returning NUMA node zero\n",
      "2021-08-18 00:37:27.219650: I tensorflow/core/common_runtime/gpu/gpu_device.cc:1871] Adding visible gpu devices: 0\n",
      "2021-08-18 00:37:27.220017: I tensorflow/core/platform/cpu_feature_guard.cc:142] This TensorFlow binary is optimized with oneAPI Deep Neural Network Library (oneDNN) to use the following CPU instructions in performance-critical operations:  AVX2 FMA\n",
      "To enable them in other operations, rebuild TensorFlow with the appropriate compiler flags.\n",
      "2021-08-18 00:37:27.220395: I tensorflow/stream_executor/cuda/cuda_gpu_executor.cc:937] successful NUMA node read from SysFS had negative value (-1), but there must be at least one NUMA node, so returning NUMA node zero\n",
      "2021-08-18 00:37:27.220914: I tensorflow/core/common_runtime/gpu/gpu_device.cc:1733] Found device 0 with properties: \n",
      "pciBusID: 0000:01:00.0 name: GeForce GTX 1070 computeCapability: 6.1\n",
      "coreClock: 1.7845GHz coreCount: 15 deviceMemorySize: 7.93GiB deviceMemoryBandwidth: 238.66GiB/s\n",
      "2021-08-18 00:37:27.220967: I tensorflow/stream_executor/cuda/cuda_gpu_executor.cc:937] successful NUMA node read from SysFS had negative value (-1), but there must be at least one NUMA node, so returning NUMA node zero\n",
      "2021-08-18 00:37:27.221435: I tensorflow/stream_executor/cuda/cuda_gpu_executor.cc:937] successful NUMA node read from SysFS had negative value (-1), but there must be at least one NUMA node, so returning NUMA node zero\n",
      "2021-08-18 00:37:27.221821: I tensorflow/core/common_runtime/gpu/gpu_device.cc:1871] Adding visible gpu devices: 0\n",
      "2021-08-18 00:37:27.221846: I tensorflow/stream_executor/platform/default/dso_loader.cc:53] Successfully opened dynamic library libcudart.so.11.0\n",
      "2021-08-18 00:37:27.613948: I tensorflow/core/common_runtime/gpu/gpu_device.cc:1258] Device interconnect StreamExecutor with strength 1 edge matrix:\n",
      "2021-08-18 00:37:27.613978: I tensorflow/core/common_runtime/gpu/gpu_device.cc:1264]      0 \n",
      "2021-08-18 00:37:27.613986: I tensorflow/core/common_runtime/gpu/gpu_device.cc:1277] 0:   N \n",
      "2021-08-18 00:37:27.614153: I tensorflow/stream_executor/cuda/cuda_gpu_executor.cc:937] successful NUMA node read from SysFS had negative value (-1), but there must be at least one NUMA node, so returning NUMA node zero\n",
      "2021-08-18 00:37:27.614520: I tensorflow/stream_executor/cuda/cuda_gpu_executor.cc:937] successful NUMA node read from SysFS had negative value (-1), but there must be at least one NUMA node, so returning NUMA node zero\n",
      "2021-08-18 00:37:27.614839: I tensorflow/stream_executor/cuda/cuda_gpu_executor.cc:937] successful NUMA node read from SysFS had negative value (-1), but there must be at least one NUMA node, so returning NUMA node zero\n",
      "2021-08-18 00:37:27.615128: I tensorflow/core/common_runtime/gpu/gpu_device.cc:1418] Created TensorFlow device (/job:localhost/replica:0/task:0/device:GPU:0 with 7341 MB memory) -> physical GPU (device: 0, name: GeForce GTX 1070, pci bus id: 0000:01:00.0, compute capability: 6.1)\n"
     ]
    }
   ],
   "source": [
    "import os\n",
    "import glob\n",
    "import numpy as np\n",
    "import tqdm\n",
    "import yaml\n",
    "import pandas as pd\n",
    "import uuid\n",
    "import datetime\n",
    "import time\n",
    "import tensorflow_addons as tfa\n",
    "from collections import defaultdict\n",
    "\n",
    "import stellargraph as sg\n",
    "from stellargraph.mapper import PaddedGraphGenerator\n",
    "from stellargraph.layer import DeepGraphCNN, GCNSupervisedGraphClassification\n",
    "from stellargraph import StellarDiGraph\n",
    "from sklearn import model_selection\n",
    "\n",
    "import tensorflow as tf \n",
    "from tensorflow.keras import Model\n",
    "from tensorflow.keras.optimizers import Adam\n",
    "from tensorflow.keras.layers import Dense, Conv1D, MaxPool1D, Dropout, Flatten\n",
    "from tensorflow.keras.losses import categorical_crossentropy, binary_crossentropy\n",
    "\n",
    "from sklearn.metrics import plot_confusion_matrix\n",
    "from sklearn.metrics import confusion_matrix\n",
    "from spektral.layers import *\n",
    "from tensorflow.keras.callbacks import EarlyStopping\n",
    "from tensorflow.keras.layers import Input, Dense, Concatenate, Dropout\n",
    "from tensorflow.keras.models import Model\n",
    "from tensorflow.keras.optimizers import Adam\n",
    "from tensorflow.keras.regularizers import l2\n",
    "from tensorflow import keras\n",
    "from matplotlib import pyplot as plt\n",
    "\n",
    "%matplotlib inline"
   ]
  },
  {
   "cell_type": "code",
   "execution_count": 3,
   "id": "54d4fba4-33f3-4bfc-be55-6b95d44691d7",
   "metadata": {},
   "outputs": [],
   "source": [
    "data_dir = '/home/nonroot/experiment/results/notebook/5opts-5000-2'\n",
    "info_file = os.path.join(data_dir, 'info.yaml')\n",
    "representations = ['cfgcompact', 'cfgcallcompactnoroot', 'cfgcallcompact1enoroot']\n",
    "features = ['boo', 'i2v', 'w2v']"
   ]
  },
  {
   "cell_type": "code",
   "execution_count": 4,
   "id": "b0767083-2b6e-46e9-8b75-5751d131b511",
   "metadata": {},
   "outputs": [],
   "source": [
    "def yaml_load(filename: str):\n",
    "    with open(filename, 'rt') as f:\n",
    "        return yaml.load(f, Loader=yaml.FullLoader)\n",
    "    \n",
    "files = yaml_load(info_file)"
   ]
  },
  {
   "cell_type": "code",
   "execution_count": 5,
   "id": "aa6d17e0-d5a3-4f53-9aba-13157f030553",
   "metadata": {},
   "outputs": [],
   "source": [
    "def create_graph(filename):\n",
    "    data = np.load(filename, allow_pickle=True)\n",
    "    indexes, features = zip(*data['nodes'])\n",
    "    node_data = pd.DataFrame(features, index=indexes)\n",
    "    edges = pd.DataFrame(data['edges'], columns=['source', 'target', 'type'])\n",
    "    return StellarDiGraph(node_data, edges=edges, edge_type_column=\"type\")\n",
    "\n",
    "def get_features(data_dir, files, features, representations):\n",
    "    for rep in representations:\n",
    "        for feature in features:\n",
    "            graphs = []\n",
    "            labels = []\n",
    "            for f in tqdm.tqdm(files, desc=f\"Representation: {rep}. Features: {feature}.\"):\n",
    "                graph_file = os.path.join(data_dir, f\"{f}_{feature}.npz\")\n",
    "                if not os.path.isfile(graph_file):\n",
    "                    print(f\"Error! File {graph_file} does not exists!\")\n",
    "                    continue\n",
    "                graph = create_graph(graph_file)\n",
    "                class_file = os.path.join(data_dir, f\"{f}_classes.yaml\")\n",
    "                info = yaml_load(class_file)\n",
    "                min_value = min(c['binary_size'] for c in info)\n",
    "                label = [1 if c['binary_size'] == min_value else 0 for c in info].index(1)    \n",
    "                graphs.append(graph)\n",
    "                labels.append(label)\n",
    "                \n",
    "            graph_labels = pd.DataFrame(labels, columns=['labels'])\n",
    "            graph_labels = pd.get_dummies(graph_labels, drop_first=True)\n",
    "            name = f\"{rep}-{feature}\"\n",
    "            yield graphs, graph_labels, name\n",
    "            "
   ]
  },
  {
   "cell_type": "code",
   "execution_count": 6,
   "id": "b24b62b8-97f9-4bed-9c38-086efbb09359",
   "metadata": {},
   "outputs": [],
   "source": [
    "def create_GCN_classification_model(generator):\n",
    "    gc_model = GCNSupervisedGraphClassification(\n",
    "        layer_sizes=[64, 64],\n",
    "        activations=[\"relu\", \"relu\"],\n",
    "        generator=generator,\n",
    "        dropout=0.5,\n",
    "    )\n",
    "    x_inp, x_out = gc_model.in_out_tensors()\n",
    "    predictions = Dense(units=32, activation=\"relu\")(x_out)\n",
    "    predictions = Dense(units=16, activation=\"relu\")(predictions)\n",
    "    predictions = Dense(units=1, activation=\"sigmoid\")(predictions)\n",
    "\n",
    "    # Let's create the Keras model and prepare it for training\n",
    "    model = Model(inputs=x_inp, outputs=predictions)\n",
    "    # model.compile(optimizer=Adam(0.005), loss=binary_crossentropy, metrics=[\"acc\"])\n",
    "    return model\n",
    "\n",
    "def create_DGCNN_classification_model(generator, k):\n",
    "    layer_sizes = [32, 32, 32, 1]\n",
    "\n",
    "    dgcnn_model = DeepGraphCNN(\n",
    "        layer_sizes=layer_sizes,\n",
    "        activations=[\"tanh\", \"tanh\", \"tanh\", \"tanh\"],\n",
    "        k=k,\n",
    "        bias=False,\n",
    "        generator=generator,\n",
    "    )\n",
    "    x_inp, x_out = dgcnn_model.in_out_tensors()\n",
    "    x_out = Conv1D(filters=16, kernel_size=sum(layer_sizes), strides=sum(layer_sizes))(x_out)\n",
    "    x_out = MaxPool1D(pool_size=2)(x_out)\n",
    "    x_out = Conv1D(filters=32, kernel_size=5, strides=1)(x_out)\n",
    "    x_out = Flatten()(x_out)\n",
    "    x_out = Dense(units=128, activation=\"relu\")(x_out)\n",
    "    x_out = Dropout(rate=0.5)(x_out)\n",
    "    predictions = Dense(units=1, activation=\"sigmoid\")(x_out)\n",
    "    \n",
    "    model = Model(inputs=x_inp, outputs=predictions)\n",
    "    # model.compile(optimizer=Adam(lr=0.0001), loss=binary_crossentropy, metrics=[\"acc\"])\n",
    "    return model"
   ]
  },
  {
   "cell_type": "code",
   "execution_count": 7,
   "id": "be0097ac-01cf-434b-a119-989708293471",
   "metadata": {},
   "outputs": [],
   "source": [
    "def get_train_test_sets(graphs, graph_labels, train_size, validation_size, test_size, train_batch_size, validation_batch_size, test_batch_size):\n",
    "    train_graphs, test_graphs = model_selection.train_test_split(\n",
    "        graph_labels,\n",
    "        train_size=train_size,\n",
    "        test_size=test_size,\n",
    "        stratify=graph_labels,\n",
    "    )\n",
    "\n",
    "    train_graphs, val_graphs = model_selection.train_test_split(\n",
    "        train_graphs,\n",
    "        train_size=train_size,\n",
    "        test_size=validation_size,\n",
    "        stratify=train_graphs,\n",
    "    )\n",
    "\n",
    "    gen = PaddedGraphGenerator(graphs=graphs)\n",
    "\n",
    "    train_gen = gen.flow(\n",
    "        list(train_graphs.index - 1),\n",
    "        targets=train_graphs.values,\n",
    "        batch_size=train_batch_size,\n",
    "        symmetric_normalization=False,\n",
    "    )\n",
    "\n",
    "    val_gen = gen.flow(\n",
    "        list(val_graphs.index - 1),\n",
    "        targets=val_graphs.values,\n",
    "        batch_size=validation_batch_size,\n",
    "        symmetric_normalization=False,\n",
    "    )\n",
    "\n",
    "    test_gen = gen.flow(\n",
    "        list(test_graphs.index - 1),\n",
    "        targets=test_graphs.values,\n",
    "        batch_size=test_batch_size,\n",
    "        symmetric_normalization=False,\n",
    "    )\n",
    "\n",
    "    print(\"Generated Data\")\n",
    "    return train_gen, val_gen, test_gen"
   ]
  },
  {
   "cell_type": "code",
   "execution_count": 8,
   "id": "bebd7beb-d004-4208-822d-ab62807dfafd",
   "metadata": {},
   "outputs": [],
   "source": [
    "def generate_plot(history, output):\n",
    "    figure = plt.figure()\n",
    "    plt.plot(np.array(history.history['acc']))\n",
    "    plt.plot(np.array(history.history['val_acc']))\n",
    "    plt.title('model accuracy')\n",
    "    plt.ylabel('Accuracy')\n",
    "    plt.xlabel('Epoch')\n",
    "    plt.legend(['Train', 'Validation'], loc='upper left')  \n",
    "    plt.savefig(output, bbox_inches='tight')\n",
    "    plt.show()"
   ]
  },
  {
   "cell_type": "code",
   "execution_count": 9,
   "id": "618b2369-a12d-4b9e-83e1-1eb773614936",
   "metadata": {},
   "outputs": [],
   "source": [
    "networks = {\n",
    "    'gcn': {},\n",
    "    'dgcnn': {'k': 35}\n",
    "}\n",
    "\n",
    "data_configs = [\n",
    "#    {\n",
    "#        'train_size': 0.9,\n",
    "#        'validation_size': 0.1,\n",
    "#        'test_size': 0.1,\n",
    "#        'train_batch_size': 64,\n",
    "#        'validation_batch_size': 16,\n",
    "#        'test_batch_size': 16\n",
    "#    },\n",
    "    {\n",
    "        'train_size': 0.9,\n",
    "        'validation_size': 0.1,\n",
    "        'test_size': 0.1,\n",
    "        'train_batch_size': 128,\n",
    "        'validation_batch_size': 16,\n",
    "        'test_batch_size': 16\n",
    "    },\n",
    "    \n",
    "]\n",
    "\n",
    "train_configs = [\n",
    "    {\n",
    "        'epochs': 1000,\n",
    "        'shuffle': True,\n",
    "        'verbose': False\n",
    "    }\n",
    "]\n",
    "\n",
    "graphs_generator = get_features(data_dir, files, features, representations)\n",
    "output_dir = '/home/nonroot/experiment/results/notebook/experiments-5classes/'\n",
    "os.makedirs(output_dir, exist_ok=True)"
   ]
  },
  {
   "cell_type": "code",
   "execution_count": null,
   "id": "1c42e195-7d8e-4fa3-a91f-414ba5ced56e",
   "metadata": {},
   "outputs": [
    {
     "name": "stderr",
     "output_type": "stream",
     "text": [
      "Representation: cfgcompact. Features: boo.:   1%|█▉                                                                                                                                           | 336/25000 [00:03<04:30, 91.17it/s]"
     ]
    },
    {
     "name": "stdout",
     "output_type": "stream",
     "text": [
      "Error! File /home/nonroot/experiment/results/notebook/5opts-5000-2/CAP.extr_tau32-ddk.c_QrVoB3_4372-bMed:0_boo.npz does not exists!\n"
     ]
    },
    {
     "name": "stderr",
     "output_type": "stream",
     "text": [
      "Representation: cfgcompact. Features: boo.:   4%|█████▍                                                                                                                                       | 961/25000 [00:10<04:18, 92.88it/s]"
     ]
    },
    {
     "name": "stdout",
     "output_type": "stream",
     "text": [
      "Error! File /home/nonroot/experiment/results/notebook/5opts-5000-2/CAP.extr_tau32-ddk.c_QrVoB3_500-bSum:12_boo.npz does not exists!\n"
     ]
    },
    {
     "name": "stderr",
     "output_type": "stream",
     "text": [
      "Representation: cfgcompact. Features: boo.:  24%|█████████████████████████████████▍                                                                                                          | 5977/25000 [01:07<03:25, 92.36it/s]"
     ]
    },
    {
     "name": "stdout",
     "output_type": "stream",
     "text": [
      "Error! File /home/nonroot/experiment/results/notebook/5opts-5000-2/BST.extr_ar5416_attach.c_ar5416SpurMitigate_500-bSum:12_boo.npz does not exists!\n"
     ]
    },
    {
     "name": "stderr",
     "output_type": "stream",
     "text": [
      "Representation: cfgcompact. Features: boo.:  30%|█████████████████████████████████████████▉                                                                                                  | 7478/25000 [01:24<03:14, 89.92it/s]"
     ]
    },
    {
     "name": "stdout",
     "output_type": "stream",
     "text": [
      "Error! File /home/nonroot/experiment/results/notebook/5opts-5000-2/CAP.extr_tau32-ddk.c_QrVoB3_500-bSum:0_boo.npz does not exists!\n"
     ]
    },
    {
     "name": "stderr",
     "output_type": "stream",
     "text": [
      "Representation: cfgcompact. Features: boo.:  37%|███████████████████████████████████████████████████▍                                                                                        | 9187/25000 [01:43<02:55, 90.24it/s]"
     ]
    },
    {
     "name": "stdout",
     "output_type": "stream",
     "text": [
      "Error! File /home/nonroot/experiment/results/notebook/5opts-5000-2/CAP.extr_tau32-ddk.c_QrVoB3_4211-bCap:0_boo.npz does not exists!\n"
     ]
    },
    {
     "name": "stderr",
     "output_type": "stream",
     "text": [
      "Representation: cfgcompact. Features: boo.:  71%|██████████████████████████████████████████████████████████████████████████████████████████████████▍                                        | 17709/25000 [03:19<01:19, 92.28it/s]"
     ]
    },
    {
     "name": "stdout",
     "output_type": "stream",
     "text": [
      "Error! File /home/nonroot/experiment/results/notebook/5opts-5000-2/GEO.extr_tree-vrp.c_extract_range_from_binary_expr_500-bSum:12_boo.npz does not exists!\n"
     ]
    },
    {
     "name": "stderr",
     "output_type": "stream",
     "text": [
      "Representation: cfgcompact. Features: boo.:  80%|██████████████████████████████████████████████████████████████████████████████████████████████████████████████▊                            | 19924/25000 [03:44<00:54, 93.63it/s]"
     ]
    },
    {
     "name": "stdout",
     "output_type": "stream",
     "text": [
      "Error! File /home/nonroot/experiment/results/notebook/5opts-5000-2/CAP.extr_tau32-ddk.c_QrVoB3_500-bSum:3_boo.npz does not exists!\n"
     ]
    },
    {
     "name": "stderr",
     "output_type": "stream",
     "text": [
      "Representation: cfgcompact. Features: boo.:  80%|███████████████████████████████████████████████████████████████████████████████████████████████████████████████▌                           | 20075/25000 [03:45<00:52, 94.47it/s]"
     ]
    },
    {
     "name": "stdout",
     "output_type": "stream",
     "text": [
      "Error! File /home/nonroot/experiment/results/notebook/5opts-5000-2/CAP.extr_ad714x.c_ad714x_probe_500-bSum:12_boo.npz does not exists!\n"
     ]
    },
    {
     "name": "stderr",
     "output_type": "stream",
     "text": [
      "Representation: cfgcompact. Features: boo.:  84%|████████████████████████████████████████████████████████████████████████████████████████████████████████████████████▉                      | 21031/25000 [03:56<00:43, 91.42it/s]"
     ]
    },
    {
     "name": "stdout",
     "output_type": "stream",
     "text": [
      "Error! File /home/nonroot/experiment/results/notebook/5opts-5000-2/CAP.extr_tau32-ddk.c_QrVoB3_4211-bCap:1_boo.npz does not exists!\n"
     ]
    },
    {
     "name": "stderr",
     "output_type": "stream",
     "text": [
      "Representation: cfgcompact. Features: boo.: 100%|███████████████████████████████████████████████████████████████████████████████████████████████████████████████████████████████████████████| 25000/25000 [04:40<00:00, 89.22it/s]\n"
     ]
    },
    {
     "name": "stdout",
     "output_type": "stream",
     "text": [
      "Generated Data\n",
      "[2021-08-18 00:43:20.783953] Starting to train with: exp_name=cfgcompact-boo-gcn-9219caad, net=gcn, net-args={}, data_config={'train_size': 0.9, 'validation_size': 0.1, 'test_size': 0.1, 'train_batch_size': 128, 'validation_batch_size': 16, 'test_batch_size': 16}, train_conf={'epochs': 1000, 'shuffle': True, 'verbose': False}\n"
     ]
    },
    {
     "data": {
      "application/vnd.jupyter.widget-view+json": {
       "model_id": "947789c0ddbf42abb65f612b53b43fd3",
       "version_major": 2,
       "version_minor": 0
      },
      "text/plain": [
       "Training:   0%|                                                                                               …"
      ]
     },
     "metadata": {},
     "output_type": "display_data"
    },
    {
     "name": "stderr",
     "output_type": "stream",
     "text": [
      "2021-08-18 00:43:21.108059: I tensorflow/compiler/mlir/mlir_graph_optimization_pass.cc:176] None of the MLIR Optimization Passes are enabled (registered 2)\n",
      "2021-08-18 00:43:21.138608: I tensorflow/core/platform/profile_utils/cpu_utils.cc:114] CPU Frequency: 3600000000 Hz\n",
      "2021-08-18 00:43:22.090721: I tensorflow/stream_executor/platform/default/dso_loader.cc:53] Successfully opened dynamic library libcublas.so.11\n",
      "2021-08-18 00:43:25.867707: I tensorflow/stream_executor/platform/default/dso_loader.cc:53] Successfully opened dynamic library libcublasLt.so.11\n"
     ]
    },
    {
     "name": "stdout",
     "output_type": "stream",
     "text": [
      "Train took 5325.054 seconds\n",
      "Max acc train: 0.20043475925922394. Max acc val: 0.20000000298023224\n",
      "Weights saved to: /home/nonroot/experiment/results/notebook/experiments-5classes/cfgcompact-boo-gcn-9219caad_weights.h5\n"
     ]
    },
    {
     "data": {
      "image/png": "[encoded data removed]",
      "text/plain": [
       "<Figure size 432x288 with 1 Axes>"
      ]
     },
     "metadata": {
      "needs_background": "light"
     },
     "output_type": "display_data"
    },
    {
     "name": "stdout",
     "output_type": "stream",
     "text": [
      "Graph saved to /home/nonroot/experiment/results/notebook/experiments-5classes/cfgcompact-boo-gcn-9219caad_accuracy.pdf\n",
      "Info saved to /home/nonroot/experiment/results/notebook/experiments-5classes/cfgcompact-boo-gcn-9219caad_info.yaml\n",
      "Generated Data\n",
      "WARNING:tensorflow:From /home/nonroot/.local/lib/python3.8/site-packages/tensorflow/python/util/deprecation.py:602: calling map_fn_v2 (from tensorflow.python.ops.map_fn) with dtype is deprecated and will be removed in a future version.\n",
      "Instructions for updating:\n",
      "Use fn_output_signature instead\n",
      "WARNING:tensorflow:From /home/nonroot/.local/lib/python3.8/site-packages/tensorflow/python/ops/array_ops.py:5043: calling gather (from tensorflow.python.ops.array_ops) with validate_indices is deprecated and will be removed in a future version.\n",
      "Instructions for updating:\n",
      "The `validate_indices` argument has no effect. Indices are always validated on CPU and never validated on GPU.\n",
      "[2021-08-18 02:13:15.604235] Starting to train with: exp_name=cfgcompact-boo-dgcnn-d32188ad, net=dgcnn, net-args={'k': 35}, data_config={'train_size': 0.9, 'validation_size': 0.1, 'test_size': 0.1, 'train_batch_size': 128, 'validation_batch_size': 16, 'test_batch_size': 16}, train_conf={'epochs': 1000, 'shuffle': True, 'verbose': False}\n"
     ]
    },
    {
     "data": {
      "application/vnd.jupyter.widget-view+json": {
       "model_id": "562c42098dd64d7392eaef7df9fcd410",
       "version_major": 2,
       "version_minor": 0
      },
      "text/plain": [
       "Training:   0%|                                                                                               …"
      ]
     },
     "metadata": {},
     "output_type": "display_data"
    },
    {
     "name": "stderr",
     "output_type": "stream",
     "text": [
      "/home/nonroot/.local/lib/python3.8/site-packages/tensorflow/python/framework/indexed_slices.py:447: UserWarning: Converting sparse IndexedSlices(IndexedSlices(indices=Tensor(\"gradient_tape/model_1/sort_pooling/map/while/gradients/model_1/sort_pooling/map/while/GatherV2_grad/Reshape_1:0\", shape=(None,), dtype=int32), values=Tensor(\"gradient_tape/model_1/sort_pooling/map/while/gradients/model_1/sort_pooling/map/while/GatherV2_grad/Reshape:0\", shape=(None, None), dtype=float32), dense_shape=Tensor(\"gradient_tape/model_1/sort_pooling/map/while/gradients/model_1/sort_pooling/map/while/GatherV2_grad/Cast:0\", shape=(2,), dtype=int32))) to a dense Tensor of unknown shape. This may consume a large amount of memory.\n",
      "  warnings.warn(\n",
      "2021-08-18 02:13:16.985001: I tensorflow/stream_executor/platform/default/dso_loader.cc:53] Successfully opened dynamic library libcudnn.so.8\n",
      "2021-08-18 02:13:20.061787: I tensorflow/stream_executor/cuda/cuda_dnn.cc:359] Loaded cuDNN version 8101\n",
      "2021-08-18 02:13:22.730187: E tensorflow/core/platform/default/subprocess.cc:304] Start cannot spawn child process: No such file or directory\n",
      "2021-08-18 02:13:22.730224: W tensorflow/stream_executor/gpu/asm_compiler.cc:56] Couldn't invoke ptxas --version\n",
      "2021-08-18 02:13:22.730674: E tensorflow/core/platform/default/subprocess.cc:304] Start cannot spawn child process: No such file or directory\n",
      "2021-08-18 02:13:22.730739: W tensorflow/stream_executor/gpu/redzone_allocator.cc:314] Internal: Failed to launch ptxas\n",
      "Relying on driver to perform ptx compilation. \n",
      "Modify $PATH to customize ptxas location.\n",
      "This message will be only logged once.\n"
     ]
    },
    {
     "name": "stdout",
     "output_type": "stream",
     "text": [
      "Train took 14482.972 seconds\n",
      "Max acc train: 0.20078060030937195. Max acc val: 0.20000000298023224\n",
      "Weights saved to: /home/nonroot/experiment/results/notebook/experiments-5classes/cfgcompact-boo-dgcnn-d32188ad_weights.h5\n"
     ]
    },
    {
     "data": {
      "image/png": "[encoded data removed]",
      "text/plain": [
       "<Figure size 432x288 with 1 Axes>"
      ]
     },
     "metadata": {
      "needs_background": "light"
     },
     "output_type": "display_data"
    },
    {
     "name": "stdout",
     "output_type": "stream",
     "text": [
      "Graph saved to /home/nonroot/experiment/results/notebook/experiments-5classes/cfgcompact-boo-dgcnn-d32188ad_accuracy.pdf\n",
      "Info saved to /home/nonroot/experiment/results/notebook/experiments-5classes/cfgcompact-boo-dgcnn-d32188ad_info.yaml\n"
     ]
    },
    {
     "name": "stderr",
     "output_type": "stream",
     "text": [
      "Representation: cfgcompact. Features: i2v.:   1%|█▉                                                                                                                                           | 334/25000 [00:08<09:31, 43.18it/s]"
     ]
    },
    {
     "name": "stdout",
     "output_type": "stream",
     "text": [
      "Error! File /home/nonroot/experiment/results/notebook/5opts-5000-2/CAP.extr_tau32-ddk.c_QrVoB3_4372-bMed:0_i2v.npz does not exists!\n"
     ]
    },
    {
     "name": "stderr",
     "output_type": "stream",
     "text": [
      "Representation: cfgcompact. Features: i2v.:   4%|█████▍                                                                                                                                       | 954/25000 [00:27<13:47, 29.05it/s]"
     ]
    },
    {
     "name": "stdout",
     "output_type": "stream",
     "text": [
      "Error! File /home/nonroot/experiment/results/notebook/5opts-5000-2/CAP.extr_tau32-ddk.c_QrVoB3_500-bSum:12_i2v.npz does not exists!\n"
     ]
    },
    {
     "name": "stderr",
     "output_type": "stream",
     "text": [
      "Representation: cfgcompact. Features: i2v.:  24%|█████████████████████████████████▍                                                                                                          | 5963/25000 [03:16<09:09, 34.63it/s]"
     ]
    },
    {
     "name": "stdout",
     "output_type": "stream",
     "text": [
      "Error! File /home/nonroot/experiment/results/notebook/5opts-5000-2/BST.extr_ar5416_attach.c_ar5416SpurMitigate_500-bSum:12_i2v.npz does not exists!\n"
     ]
    },
    {
     "name": "stderr",
     "output_type": "stream",
     "text": [
      "Representation: cfgcompact. Features: i2v.:  30%|█████████████████████████████████████████▊                                                                                                  | 7471/25000 [04:07<09:03, 32.28it/s]"
     ]
    },
    {
     "name": "stdout",
     "output_type": "stream",
     "text": [
      "Error! File /home/nonroot/experiment/results/notebook/5opts-5000-2/CAP.extr_tau32-ddk.c_QrVoB3_500-bSum:0_i2v.npz does not exists!\n"
     ]
    },
    {
     "name": "stderr",
     "output_type": "stream",
     "text": [
      "Representation: cfgcompact. Features: i2v.:  37%|███████████████████████████████████████████████████▍                                                                                        | 9175/25000 [05:04<09:47, 26.92it/s]"
     ]
    },
    {
     "name": "stdout",
     "output_type": "stream",
     "text": [
      "Error! File /home/nonroot/experiment/results/notebook/5opts-5000-2/CAP.extr_tau32-ddk.c_QrVoB3_4211-bCap:0_i2v.npz does not exists!\n"
     ]
    },
    {
     "name": "stderr",
     "output_type": "stream",
     "text": [
      "Representation: cfgcompact. Features: i2v.:  71%|██████████████████████████████████████████████████████████████████████████████████████████████████▍                                        | 17694/25000 [09:56<03:37, 33.62it/s]"
     ]
    },
    {
     "name": "stdout",
     "output_type": "stream",
     "text": [
      "Error! File /home/nonroot/experiment/results/notebook/5opts-5000-2/GEO.extr_tree-vrp.c_extract_range_from_binary_expr_500-bSum:12_i2v.npz does not exists!\n"
     ]
    },
    {
     "name": "stderr",
     "output_type": "stream",
     "text": [
      "Representation: cfgcompact. Features: i2v.:  80%|██████████████████████████████████████████████████████████████████████████████████████████████████████████████▋                            | 19915/25000 [11:14<02:25, 35.00it/s]"
     ]
    },
    {
     "name": "stdout",
     "output_type": "stream",
     "text": [
      "Error! File /home/nonroot/experiment/results/notebook/5opts-5000-2/CAP.extr_tau32-ddk.c_QrVoB3_500-bSum:3_i2v.npz does not exists!\n"
     ]
    },
    {
     "name": "stderr",
     "output_type": "stream",
     "text": [
      "Representation: cfgcompact. Features: i2v.:  80%|███████████████████████████████████████████████████████████████████████████████████████████████████████████████▌                           | 20064/25000 [11:19<02:40, 30.67it/s]"
     ]
    },
    {
     "name": "stdout",
     "output_type": "stream",
     "text": [
      "Error! File /home/nonroot/experiment/results/notebook/5opts-5000-2/CAP.extr_ad714x.c_ad714x_probe_500-bSum:12_i2v.npz does not exists!\n"
     ]
    },
    {
     "name": "stderr",
     "output_type": "stream",
     "text": [
      "Representation: cfgcompact. Features: i2v.:  84%|████████████████████████████████████████████████████████████████████████████████████████████████████████████████████▊                      | 21019/25000 [11:51<02:01, 32.78it/s]"
     ]
    },
    {
     "name": "stdout",
     "output_type": "stream",
     "text": [
      "Error! File /home/nonroot/experiment/results/notebook/5opts-5000-2/CAP.extr_tau32-ddk.c_QrVoB3_4211-bCap:1_i2v.npz does not exists!\n"
     ]
    },
    {
     "name": "stderr",
     "output_type": "stream",
     "text": [
      "Representation: cfgcompact. Features: i2v.: 100%|███████████████████████████████████████████████████████████████████████████████████████████████████████████████████████████████████████████| 25000/25000 [14:04<00:00, 29.61it/s]\n"
     ]
    },
    {
     "name": "stdout",
     "output_type": "stream",
     "text": [
      "Generated Data\n",
      "[2021-08-18 06:29:52.890880] Starting to train with: exp_name=cfgcompact-i2v-gcn-36e08deb, net=gcn, net-args={}, data_config={'train_size': 0.9, 'validation_size': 0.1, 'test_size': 0.1, 'train_batch_size': 128, 'validation_batch_size': 16, 'test_batch_size': 16}, train_conf={'epochs': 1000, 'shuffle': True, 'verbose': False}\n"
     ]
    },
    {
     "data": {
      "application/vnd.jupyter.widget-view+json": {
       "model_id": "b399fde42bb346db80cc01edfdc2ccb5",
       "version_major": 2,
       "version_minor": 0
      },
      "text/plain": [
       "Training:   0%|                                                                                               …"
      ]
     },
     "metadata": {},
     "output_type": "display_data"
    },
    {
     "name": "stdout",
     "output_type": "stream",
     "text": [
      "Train took 6878.399 seconds\n",
      "Max acc train: 0.20008893311023712. Max acc val: 0.20000000298023224\n",
      "Weights saved to: /home/nonroot/experiment/results/notebook/experiments-5classes/cfgcompact-i2v-gcn-36e08deb_weights.h5\n"
     ]
    },
    {
     "data": {
      "image/png": "[encoded data removed]",
      "text/plain": [
       "<Figure size 432x288 with 1 Axes>"
      ]
     },
     "metadata": {
      "needs_background": "light"
     },
     "output_type": "display_data"
    },
    {
     "name": "stdout",
     "output_type": "stream",
     "text": [
      "Graph saved to /home/nonroot/experiment/results/notebook/experiments-5classes/cfgcompact-i2v-gcn-36e08deb_accuracy.pdf\n",
      "Info saved to /home/nonroot/experiment/results/notebook/experiments-5classes/cfgcompact-i2v-gcn-36e08deb_info.yaml\n",
      "Generated Data\n",
      "[2021-08-18 08:25:39.638955] Starting to train with: exp_name=cfgcompact-i2v-dgcnn-82fd6bcc, net=dgcnn, net-args={'k': 35}, data_config={'train_size': 0.9, 'validation_size': 0.1, 'test_size': 0.1, 'train_batch_size': 128, 'validation_batch_size': 16, 'test_batch_size': 16}, train_conf={'epochs': 1000, 'shuffle': True, 'verbose': False}\n"
     ]
    },
    {
     "data": {
      "application/vnd.jupyter.widget-view+json": {
       "model_id": "3dca98b5b6094c2da0ddfbfbcf7f37f5",
       "version_major": 2,
       "version_minor": 0
      },
      "text/plain": [
       "Training:   0%|                                                                                               …"
      ]
     },
     "metadata": {},
     "output_type": "display_data"
    },
    {
     "name": "stderr",
     "output_type": "stream",
     "text": [
      "/home/nonroot/.local/lib/python3.8/site-packages/tensorflow/python/framework/indexed_slices.py:447: UserWarning: Converting sparse IndexedSlices(IndexedSlices(indices=Tensor(\"gradient_tape/model_3/sort_pooling_1/map/while/gradients/model_3/sort_pooling_1/map/while/GatherV2_grad/Reshape_1:0\", shape=(None,), dtype=int32), values=Tensor(\"gradient_tape/model_3/sort_pooling_1/map/while/gradients/model_3/sort_pooling_1/map/while/GatherV2_grad/Reshape:0\", shape=(None, None), dtype=float32), dense_shape=Tensor(\"gradient_tape/model_3/sort_pooling_1/map/while/gradients/model_3/sort_pooling_1/map/while/GatherV2_grad/Cast:0\", shape=(2,), dtype=int32))) to a dense Tensor of unknown shape. This may consume a large amount of memory.\n",
      "  warnings.warn(\n"
     ]
    },
    {
     "name": "stdout",
     "output_type": "stream",
     "text": [
      "Train took 15155.076 seconds\n",
      "Max acc train: 0.20038536190986633. Max acc val: 0.20000000298023224\n",
      "Weights saved to: /home/nonroot/experiment/results/notebook/experiments-5classes/cfgcompact-i2v-dgcnn-82fd6bcc_weights.h5\n"
     ]
    },
    {
     "data": {
      "image/png": "[encoded data removed]",
      "text/plain": [
       "<Figure size 432x288 with 1 Axes>"
      ]
     },
     "metadata": {
      "needs_background": "light"
     },
     "output_type": "display_data"
    },
    {
     "name": "stdout",
     "output_type": "stream",
     "text": [
      "Graph saved to /home/nonroot/experiment/results/notebook/experiments-5classes/cfgcompact-i2v-dgcnn-82fd6bcc_accuracy.pdf\n",
      "Info saved to /home/nonroot/experiment/results/notebook/experiments-5classes/cfgcompact-i2v-dgcnn-82fd6bcc_info.yaml\n"
     ]
    },
    {
     "name": "stderr",
     "output_type": "stream",
     "text": [
      "Representation: cfgcompact. Features: w2v.:   1%|█▊                                                                                                                                           | 330/25000 [00:13<15:27, 26.60it/s]"
     ]
    },
    {
     "name": "stdout",
     "output_type": "stream",
     "text": [
      "Error! File /home/nonroot/experiment/results/notebook/5opts-5000-2/CAP.extr_tau32-ddk.c_QrVoB3_4372-bMed:0_w2v.npz does not exists!\n"
     ]
    },
    {
     "name": "stderr",
     "output_type": "stream",
     "text": [
      "Representation: cfgcompact. Features: w2v.:   4%|█████▍                                                                                                                                       | 957/25000 [00:38<14:14, 28.15it/s]"
     ]
    },
    {
     "name": "stdout",
     "output_type": "stream",
     "text": [
      "Error! File /home/nonroot/experiment/results/notebook/5opts-5000-2/CAP.extr_tau32-ddk.c_QrVoB3_500-bSum:12_w2v.npz does not exists!\n"
     ]
    },
    {
     "name": "stderr",
     "output_type": "stream",
     "text": [
      "Representation: cfgcompact. Features: w2v.:  24%|█████████████████████████████████▍                                                                                                          | 5961/25000 [04:09<10:05, 31.44it/s]"
     ]
    },
    {
     "name": "stdout",
     "output_type": "stream",
     "text": [
      "Error! File /home/nonroot/experiment/results/notebook/5opts-5000-2/BST.extr_ar5416_attach.c_ar5416SpurMitigate_500-bSum:12_w2v.npz does not exists!\n"
     ]
    },
    {
     "name": "stderr",
     "output_type": "stream",
     "text": [
      "Representation: cfgcompact. Features: w2v.:  30%|█████████████████████████████████████████▊                                                                                                  | 7467/25000 [05:11<10:52, 26.86it/s]"
     ]
    },
    {
     "name": "stdout",
     "output_type": "stream",
     "text": [
      "Error! File /home/nonroot/experiment/results/notebook/5opts-5000-2/CAP.extr_tau32-ddk.c_QrVoB3_500-bSum:0_w2v.npz does not exists!\n"
     ]
    },
    {
     "name": "stderr",
     "output_type": "stream",
     "text": [
      "Representation: cfgcompact. Features: w2v.:  37%|███████████████████████████████████████████████████▍                                                                                        | 9175/25000 [06:22<11:28, 23.00it/s]"
     ]
    },
    {
     "name": "stdout",
     "output_type": "stream",
     "text": [
      "Error! File /home/nonroot/experiment/results/notebook/5opts-5000-2/CAP.extr_tau32-ddk.c_QrVoB3_4211-bCap:0_w2v.npz does not exists!\n"
     ]
    },
    {
     "name": "stderr",
     "output_type": "stream",
     "text": [
      "Representation: cfgcompact. Features: w2v.:  71%|██████████████████████████████████████████████████████████████████████████████████████████████████▎                                        | 17693/25000 [12:22<04:17, 28.37it/s]"
     ]
    },
    {
     "name": "stdout",
     "output_type": "stream",
     "text": [
      "Error! File /home/nonroot/experiment/results/notebook/5opts-5000-2/GEO.extr_tree-vrp.c_extract_range_from_binary_expr_500-bSum:12_w2v.npz does not exists!\n"
     ]
    },
    {
     "name": "stderr",
     "output_type": "stream",
     "text": [
      "Representation: cfgcompact. Features: w2v.:  80%|██████████████████████████████████████████████████████████████████████████████████████████████████████████████▋                            | 19914/25000 [13:57<03:09, 26.88it/s]"
     ]
    },
    {
     "name": "stdout",
     "output_type": "stream",
     "text": [
      "Error! File /home/nonroot/experiment/results/notebook/5opts-5000-2/CAP.extr_tau32-ddk.c_QrVoB3_500-bSum:3_w2v.npz does not exists!\n"
     ]
    },
    {
     "name": "stderr",
     "output_type": "stream",
     "text": [
      "Representation: cfgcompact. Features: w2v.:  80%|███████████████████████████████████████████████████████████████████████████████████████████████████████████████▌                           | 20064/25000 [14:03<03:13, 25.49it/s]"
     ]
    },
    {
     "name": "stdout",
     "output_type": "stream",
     "text": [
      "Error! File /home/nonroot/experiment/results/notebook/5opts-5000-2/CAP.extr_ad714x.c_ad714x_probe_500-bSum:12_w2v.npz does not exists!\n"
     ]
    },
    {
     "name": "stderr",
     "output_type": "stream",
     "text": [
      "Representation: cfgcompact. Features: w2v.:  84%|████████████████████████████████████████████████████████████████████████████████████████████████████████████████████▊                      | 21019/25000 [14:43<02:49, 23.45it/s]"
     ]
    },
    {
     "name": "stdout",
     "output_type": "stream",
     "text": [
      "Error! File /home/nonroot/experiment/results/notebook/5opts-5000-2/CAP.extr_tau32-ddk.c_QrVoB3_4211-bCap:1_w2v.npz does not exists!\n"
     ]
    },
    {
     "name": "stderr",
     "output_type": "stream",
     "text": [
      "Representation: cfgcompact. Features: w2v.: 100%|███████████████████████████████████████████████████████████████████████████████████████████████████████████████████████████████████████████| 25000/25000 [17:32<00:00, 23.75it/s]\n"
     ]
    },
    {
     "name": "stdout",
     "output_type": "stream",
     "text": [
      "Generated Data\n",
      "[2021-08-18 12:56:55.983370] Starting to train with: exp_name=cfgcompact-w2v-gcn-216a9204, net=gcn, net-args={}, data_config={'train_size': 0.9, 'validation_size': 0.1, 'test_size': 0.1, 'train_batch_size': 128, 'validation_batch_size': 16, 'test_batch_size': 16}, train_conf={'epochs': 1000, 'shuffle': True, 'verbose': False}\n"
     ]
    },
    {
     "data": {
      "application/vnd.jupyter.widget-view+json": {
       "model_id": "ea2939c0ed5040bba47baf3bc329b8d5",
       "version_major": 2,
       "version_minor": 0
      },
      "text/plain": [
       "Training:   0%|                                                                                               …"
      ]
     },
     "metadata": {},
     "output_type": "display_data"
    },
    {
     "name": "stdout",
     "output_type": "stream",
     "text": [
      "Train took 8023.787 seconds\n",
      "Max acc train: 0.20018774271011353. Max acc val: 0.20000000298023224\n",
      "Weights saved to: /home/nonroot/experiment/results/notebook/experiments-5classes/cfgcompact-w2v-gcn-216a9204_weights.h5\n"
     ]
    },
    {
     "data": {
      "image/png": "[encoded data removed]",
      "text/plain": [
       "<Figure size 432x288 with 1 Axes>"
      ]
     },
     "metadata": {
      "needs_background": "light"
     },
     "output_type": "display_data"
    },
    {
     "name": "stdout",
     "output_type": "stream",
     "text": [
      "Graph saved to /home/nonroot/experiment/results/notebook/experiments-5classes/cfgcompact-w2v-gcn-216a9204_accuracy.pdf\n",
      "Info saved to /home/nonroot/experiment/results/notebook/experiments-5classes/cfgcompact-w2v-gcn-216a9204_info.yaml\n",
      "Generated Data\n",
      "[2021-08-18 15:11:49.305755] Starting to train with: exp_name=cfgcompact-w2v-dgcnn-b4895431, net=dgcnn, net-args={'k': 35}, data_config={'train_size': 0.9, 'validation_size': 0.1, 'test_size': 0.1, 'train_batch_size': 128, 'validation_batch_size': 16, 'test_batch_size': 16}, train_conf={'epochs': 1000, 'shuffle': True, 'verbose': False}\n"
     ]
    },
    {
     "data": {
      "application/vnd.jupyter.widget-view+json": {
       "model_id": "90e89ede8c98436da996d7a590becec7",
       "version_major": 2,
       "version_minor": 0
      },
      "text/plain": [
       "Training:   0%|                                                                                               …"
      ]
     },
     "metadata": {},
     "output_type": "display_data"
    },
    {
     "name": "stderr",
     "output_type": "stream",
     "text": [
      "/home/nonroot/.local/lib/python3.8/site-packages/tensorflow/python/framework/indexed_slices.py:447: UserWarning: Converting sparse IndexedSlices(IndexedSlices(indices=Tensor(\"gradient_tape/model_5/sort_pooling_2/map/while/gradients/model_5/sort_pooling_2/map/while/GatherV2_grad/Reshape_1:0\", shape=(None,), dtype=int32), values=Tensor(\"gradient_tape/model_5/sort_pooling_2/map/while/gradients/model_5/sort_pooling_2/map/while/GatherV2_grad/Reshape:0\", shape=(None, None), dtype=float32), dense_shape=Tensor(\"gradient_tape/model_5/sort_pooling_2/map/while/gradients/model_5/sort_pooling_2/map/while/GatherV2_grad/Cast:0\", shape=(2,), dtype=int32))) to a dense Tensor of unknown shape. This may consume a large amount of memory.\n",
      "  warnings.warn(\n"
     ]
    }
   ],
   "source": [
    "for graphs, graph_labels, rep_name in graphs_generator:\n",
    "    generator = PaddedGraphGenerator(graphs=graphs)\n",
    "    for net, args in networks.items():            \n",
    "        for data_conf in data_configs:\n",
    "            train_gen, val_gen, test_gen = get_train_test_sets(graphs, graph_labels, **data_conf)\n",
    "            for train_conf in train_configs:\n",
    "                if net == 'gcn':\n",
    "                    model = create_GCN_classification_model(generator, **args)\n",
    "                    model.compile(optimizer=Adam(learning_rate=0.005), loss=binary_crossentropy, metrics=[\"acc\"])\n",
    "                elif net == 'dgcnn':\n",
    "                    model = create_DGCNN_classification_model(generator, **args)\n",
    "                    model.compile(optimizer=Adam(learning_rate=0.0001), loss=binary_crossentropy, metrics=[\"acc\"])\n",
    "                else:\n",
    "                    raise ValueError(f\"Invalid network `{net}`\")\n",
    "                \n",
    "                tqdm_callback = tfa.callbacks.TQDMProgressBar(show_epoch_progress=False)\n",
    "                exp_name = f'{rep_name}-{net}-{str(uuid.uuid4())[:8]}'\n",
    "                \n",
    "                print(f\"[{datetime.datetime.now()}] Starting to train with: exp_name={exp_name}, net={net}, net-args={args}, data_config={data_conf}, train_conf={train_conf}\")\n",
    "                start_time = time.time()\n",
    "                history = model.fit(train_gen, validation_data=val_gen, callbacks=[tqdm_callback], **train_conf)\n",
    "                end_time = time.time()\n",
    "                print(f\"Train took {end_time-start_time:.3f} seconds\")\n",
    "                \n",
    "                max_acc_train = max(history.history['acc'])\n",
    "                max_acc_val = max(history.history['val_acc'])\n",
    "                print(f\"Max acc train: {max_acc_train}. Max acc val: {max_acc_val}\")\n",
    "                \n",
    "                weights_file = os.path.join(output_dir, f\"{exp_name}_weights.h5\")\n",
    "                model.save_weights(weights_file)\n",
    "                print(f\"Weights saved to: {weights_file}\")\n",
    "                \n",
    "                acc_plot_file = os.path.join(output_dir, f'{exp_name}_accuracy.pdf')\n",
    "                generate_plot(history, acc_plot_file)\n",
    "                print(f\"Graph saved to {acc_plot_file}\")\n",
    "                \n",
    "                info_dict = {\n",
    "                    'rep': rep_name,\n",
    "                    'net': net,\n",
    "                    'net-args': args,\n",
    "                    'data_config': data_conf,\n",
    "                    'train_config': train_conf,\n",
    "                    'history': history.history,\n",
    "                    'train_time': end_time-start_time,\n",
    "                    'max_acc_train': max_acc_train,\n",
    "                    'max_acc_val': max_acc_val\n",
    "                }\n",
    "                info_file = os.path.join(output_dir, f'{exp_name}_info.yaml')\n",
    "                with open(info_file, 'wt') as f:\n",
    "                    yaml.dump(info_dict, f)\n",
    "                print(f\"Info saved to {info_file}\")\n",
    "                \n",
    "print(f\"[{datetime.datetime.now()}] FINISHED!\")"
   ]
  },
  {
   "cell_type": "code",
   "execution_count": null,
   "id": "2c4c006b-4dd4-497c-a5de-467e0a6b9d02",
   "metadata": {},
   "outputs": [],
   "source": [
    "print('ok')"
   ]
  },
  {
   "cell_type": "code",
   "execution_count": null,
   "id": "e41996c2-5bda-4165-842a-6072ca674c7c",
   "metadata": {},
   "outputs": [],
   "source": [
    "\n"
   ]
  }
 ],
 "metadata": {
  "kernelspec": {
   "display_name": "Python 3 (ipykernel)",
   "language": "python",
   "name": "python3"
  },
  "language_info": {
   "codemirror_mode": {
    "name": "ipython",
    "version": 3
   },
   "file_extension": ".py",
   "mimetype": "text/x-python",
   "name": "python",
   "nbconvert_exporter": "python",
   "pygments_lexer": "ipython3",
   "version": "3.8.10"
  }
 },
 "nbformat": 4,
 "nbformat_minor": 5
}
